{
 "cells": [
  {
   "cell_type": "code",
   "execution_count": 1,
   "metadata": {
    "execution": {
     "iopub.execute_input": "2023-01-16T16:17:27.349715Z",
     "iopub.status.busy": "2023-01-16T16:17:27.348877Z",
     "iopub.status.idle": "2023-01-16T16:17:30.362761Z",
     "shell.execute_reply": "2023-01-16T16:17:30.361577Z",
     "shell.execute_reply.started": "2023-01-16T16:17:27.349620Z"
    }
   },
   "outputs": [
    {
     "name": "stdout",
     "output_type": "stream",
     "text": [
      "Requirement already satisfied: tensorflow_ranking in /usr/local/lib/python3.9/dist-packages (0.5.1)\n",
      "Requirement already satisfied: six>=1.10.0 in /usr/lib/python3/dist-packages (from tensorflow_ranking) (1.14.0)\n",
      "Requirement already satisfied: absl-py>=0.1.6 in /usr/local/lib/python3.9/dist-packages (from tensorflow_ranking) (1.1.0)\n",
      "Requirement already satisfied: tensorflow-serving-api<3.0.0,>=2.0.0 in /usr/local/lib/python3.9/dist-packages (from tensorflow_ranking) (2.11.0)\n",
      "Requirement already satisfied: numpy>=1.13.3 in /usr/local/lib/python3.9/dist-packages (from tensorflow_ranking) (1.23.1)\n",
      "Requirement already satisfied: protobuf<3.20,>=3.9.2 in /usr/local/lib/python3.9/dist-packages (from tensorflow-serving-api<3.0.0,>=2.0.0->tensorflow_ranking) (3.19.4)\n",
      "Requirement already satisfied: tensorflow<3,>=2.11.0 in /usr/local/lib/python3.9/dist-packages (from tensorflow-serving-api<3.0.0,>=2.0.0->tensorflow_ranking) (2.11.0)\n",
      "Requirement already satisfied: grpcio<2.0,>=1.24.3 in /usr/local/lib/python3.9/dist-packages (from tensorflow-serving-api<3.0.0,>=2.0.0->tensorflow_ranking) (1.47.0)\n",
      "Requirement already satisfied: astunparse>=1.6.0 in /usr/local/lib/python3.9/dist-packages (from tensorflow<3,>=2.11.0->tensorflow-serving-api<3.0.0,>=2.0.0->tensorflow_ranking) (1.6.3)\n",
      "Requirement already satisfied: opt-einsum>=2.3.2 in /usr/local/lib/python3.9/dist-packages (from tensorflow<3,>=2.11.0->tensorflow-serving-api<3.0.0,>=2.0.0->tensorflow_ranking) (3.3.0)\n",
      "Requirement already satisfied: tensorflow-io-gcs-filesystem>=0.23.1 in /usr/local/lib/python3.9/dist-packages (from tensorflow<3,>=2.11.0->tensorflow-serving-api<3.0.0,>=2.0.0->tensorflow_ranking) (0.26.0)\n",
      "Requirement already satisfied: keras<2.12,>=2.11.0 in /usr/local/lib/python3.9/dist-packages (from tensorflow<3,>=2.11.0->tensorflow-serving-api<3.0.0,>=2.0.0->tensorflow_ranking) (2.11.0)\n",
      "Requirement already satisfied: tensorboard<2.12,>=2.11 in /usr/local/lib/python3.9/dist-packages (from tensorflow<3,>=2.11.0->tensorflow-serving-api<3.0.0,>=2.0.0->tensorflow_ranking) (2.11.2)\n",
      "Requirement already satisfied: h5py>=2.9.0 in /usr/local/lib/python3.9/dist-packages (from tensorflow<3,>=2.11.0->tensorflow-serving-api<3.0.0,>=2.0.0->tensorflow_ranking) (3.7.0)\n",
      "Requirement already satisfied: setuptools in /usr/local/lib/python3.9/dist-packages (from tensorflow<3,>=2.11.0->tensorflow-serving-api<3.0.0,>=2.0.0->tensorflow_ranking) (63.1.0)\n",
      "Requirement already satisfied: typing-extensions>=3.6.6 in /usr/local/lib/python3.9/dist-packages (from tensorflow<3,>=2.11.0->tensorflow-serving-api<3.0.0,>=2.0.0->tensorflow_ranking) (4.3.0)\n",
      "Requirement already satisfied: gast<=0.4.0,>=0.2.1 in /usr/local/lib/python3.9/dist-packages (from tensorflow<3,>=2.11.0->tensorflow-serving-api<3.0.0,>=2.0.0->tensorflow_ranking) (0.4.0)\n",
      "Requirement already satisfied: flatbuffers>=2.0 in /usr/local/lib/python3.9/dist-packages (from tensorflow<3,>=2.11.0->tensorflow-serving-api<3.0.0,>=2.0.0->tensorflow_ranking) (23.1.4)\n",
      "Requirement already satisfied: libclang>=13.0.0 in /usr/local/lib/python3.9/dist-packages (from tensorflow<3,>=2.11.0->tensorflow-serving-api<3.0.0,>=2.0.0->tensorflow_ranking) (14.0.1)\n",
      "Requirement already satisfied: wrapt>=1.11.0 in /usr/local/lib/python3.9/dist-packages (from tensorflow<3,>=2.11.0->tensorflow-serving-api<3.0.0,>=2.0.0->tensorflow_ranking) (1.14.1)\n",
      "Requirement already satisfied: google-pasta>=0.1.1 in /usr/local/lib/python3.9/dist-packages (from tensorflow<3,>=2.11.0->tensorflow-serving-api<3.0.0,>=2.0.0->tensorflow_ranking) (0.2.0)\n",
      "Requirement already satisfied: termcolor>=1.1.0 in /usr/local/lib/python3.9/dist-packages (from tensorflow<3,>=2.11.0->tensorflow-serving-api<3.0.0,>=2.0.0->tensorflow_ranking) (1.1.0)\n",
      "Requirement already satisfied: tensorflow-estimator<2.12,>=2.11.0 in /usr/local/lib/python3.9/dist-packages (from tensorflow<3,>=2.11.0->tensorflow-serving-api<3.0.0,>=2.0.0->tensorflow_ranking) (2.11.0)\n",
      "Requirement already satisfied: packaging in /usr/local/lib/python3.9/dist-packages (from tensorflow<3,>=2.11.0->tensorflow-serving-api<3.0.0,>=2.0.0->tensorflow_ranking) (21.3)\n",
      "Requirement already satisfied: wheel<1.0,>=0.23.0 in /usr/local/lib/python3.9/dist-packages (from astunparse>=1.6.0->tensorflow<3,>=2.11.0->tensorflow-serving-api<3.0.0,>=2.0.0->tensorflow_ranking) (0.35.1)\n",
      "Requirement already satisfied: tensorboard-data-server<0.7.0,>=0.6.0 in /usr/local/lib/python3.9/dist-packages (from tensorboard<2.12,>=2.11->tensorflow<3,>=2.11.0->tensorflow-serving-api<3.0.0,>=2.0.0->tensorflow_ranking) (0.6.1)\n",
      "Requirement already satisfied: tensorboard-plugin-wit>=1.6.0 in /usr/local/lib/python3.9/dist-packages (from tensorboard<2.12,>=2.11->tensorflow<3,>=2.11.0->tensorflow-serving-api<3.0.0,>=2.0.0->tensorflow_ranking) (1.8.1)\n",
      "Requirement already satisfied: google-auth-oauthlib<0.5,>=0.4.1 in /usr/local/lib/python3.9/dist-packages (from tensorboard<2.12,>=2.11->tensorflow<3,>=2.11.0->tensorflow-serving-api<3.0.0,>=2.0.0->tensorflow_ranking) (0.4.6)\n",
      "Requirement already satisfied: markdown>=2.6.8 in /usr/local/lib/python3.9/dist-packages (from tensorboard<2.12,>=2.11->tensorflow<3,>=2.11.0->tensorflow-serving-api<3.0.0,>=2.0.0->tensorflow_ranking) (3.3.7)\n",
      "Requirement already satisfied: werkzeug>=1.0.1 in /usr/local/lib/python3.9/dist-packages (from tensorboard<2.12,>=2.11->tensorflow<3,>=2.11.0->tensorflow-serving-api<3.0.0,>=2.0.0->tensorflow_ranking) (2.1.2)\n",
      "Requirement already satisfied: google-auth<3,>=1.6.3 in /usr/local/lib/python3.9/dist-packages (from tensorboard<2.12,>=2.11->tensorflow<3,>=2.11.0->tensorflow-serving-api<3.0.0,>=2.0.0->tensorflow_ranking) (2.9.0)\n",
      "Requirement already satisfied: requests<3,>=2.21.0 in /usr/local/lib/python3.9/dist-packages (from tensorboard<2.12,>=2.11->tensorflow<3,>=2.11.0->tensorflow-serving-api<3.0.0,>=2.0.0->tensorflow_ranking) (2.28.1)\n",
      "Requirement already satisfied: pyparsing!=3.0.5,>=2.0.2 in /usr/local/lib/python3.9/dist-packages (from packaging->tensorflow<3,>=2.11.0->tensorflow-serving-api<3.0.0,>=2.0.0->tensorflow_ranking) (3.0.9)\n",
      "Requirement already satisfied: pyasn1-modules>=0.2.1 in /usr/local/lib/python3.9/dist-packages (from google-auth<3,>=1.6.3->tensorboard<2.12,>=2.11->tensorflow<3,>=2.11.0->tensorflow-serving-api<3.0.0,>=2.0.0->tensorflow_ranking) (0.2.8)\n",
      "Requirement already satisfied: cachetools<6.0,>=2.0.0 in /usr/local/lib/python3.9/dist-packages (from google-auth<3,>=1.6.3->tensorboard<2.12,>=2.11->tensorflow<3,>=2.11.0->tensorflow-serving-api<3.0.0,>=2.0.0->tensorflow_ranking) (5.2.0)\n",
      "Requirement already satisfied: rsa<5,>=3.1.4 in /usr/lib/python3/dist-packages (from google-auth<3,>=1.6.3->tensorboard<2.12,>=2.11->tensorflow<3,>=2.11.0->tensorflow-serving-api<3.0.0,>=2.0.0->tensorflow_ranking) (4.0)\n",
      "Requirement already satisfied: requests-oauthlib>=0.7.0 in /usr/local/lib/python3.9/dist-packages (from google-auth-oauthlib<0.5,>=0.4.1->tensorboard<2.12,>=2.11->tensorflow<3,>=2.11.0->tensorflow-serving-api<3.0.0,>=2.0.0->tensorflow_ranking) (1.3.1)\n",
      "Requirement already satisfied: importlib-metadata>=4.4 in /usr/local/lib/python3.9/dist-packages (from markdown>=2.6.8->tensorboard<2.12,>=2.11->tensorflow<3,>=2.11.0->tensorflow-serving-api<3.0.0,>=2.0.0->tensorflow_ranking) (4.12.0)\n",
      "Requirement already satisfied: certifi>=2017.4.17 in /usr/lib/python3/dist-packages (from requests<3,>=2.21.0->tensorboard<2.12,>=2.11->tensorflow<3,>=2.11.0->tensorflow-serving-api<3.0.0,>=2.0.0->tensorflow_ranking) (2019.11.28)\n",
      "Requirement already satisfied: charset-normalizer<3,>=2 in /usr/local/lib/python3.9/dist-packages (from requests<3,>=2.21.0->tensorboard<2.12,>=2.11->tensorflow<3,>=2.11.0->tensorflow-serving-api<3.0.0,>=2.0.0->tensorflow_ranking) (2.1.0)\n",
      "Requirement already satisfied: idna<4,>=2.5 in /usr/lib/python3/dist-packages (from requests<3,>=2.21.0->tensorboard<2.12,>=2.11->tensorflow<3,>=2.11.0->tensorflow-serving-api<3.0.0,>=2.0.0->tensorflow_ranking) (2.8)\n",
      "Requirement already satisfied: urllib3<1.27,>=1.21.1 in /usr/local/lib/python3.9/dist-packages (from requests<3,>=2.21.0->tensorboard<2.12,>=2.11->tensorflow<3,>=2.11.0->tensorflow-serving-api<3.0.0,>=2.0.0->tensorflow_ranking) (1.26.10)\n",
      "Requirement already satisfied: zipp>=0.5 in /usr/local/lib/python3.9/dist-packages (from importlib-metadata>=4.4->markdown>=2.6.8->tensorboard<2.12,>=2.11->tensorflow<3,>=2.11.0->tensorflow-serving-api<3.0.0,>=2.0.0->tensorflow_ranking) (3.8.1)\n",
      "Requirement already satisfied: pyasn1<0.5.0,>=0.4.6 in /usr/local/lib/python3.9/dist-packages (from pyasn1-modules>=0.2.1->google-auth<3,>=1.6.3->tensorboard<2.12,>=2.11->tensorflow<3,>=2.11.0->tensorflow-serving-api<3.0.0,>=2.0.0->tensorflow_ranking) (0.4.8)\n",
      "Requirement already satisfied: oauthlib>=3.0.0 in /usr/local/lib/python3.9/dist-packages (from requests-oauthlib>=0.7.0->google-auth-oauthlib<0.5,>=0.4.1->tensorboard<2.12,>=2.11->tensorflow<3,>=2.11.0->tensorflow-serving-api<3.0.0,>=2.0.0->tensorflow_ranking) (3.2.0)\n",
      "\u001b[33mWARNING: Running pip as the 'root' user can result in broken permissions and conflicting behaviour with the system package manager. It is recommended to use a virtual environment instead: https://pip.pypa.io/warnings/venv\u001b[0m\u001b[33m\n",
      "\u001b[0m"
     ]
    }
   ],
   "source": [
    "!pip install tensorflow_ranking"
   ]
  },
  {
   "cell_type": "code",
   "execution_count": 2,
   "metadata": {
    "execution": {
     "iopub.execute_input": "2023-01-16T16:17:30.364880Z",
     "iopub.status.busy": "2023-01-16T16:17:30.364584Z",
     "iopub.status.idle": "2023-01-16T16:17:34.075496Z",
     "shell.execute_reply": "2023-01-16T16:17:34.074543Z",
     "shell.execute_reply.started": "2023-01-16T16:17:30.364851Z"
    },
    "gather": {
     "logged": 1668768737295
    }
   },
   "outputs": [
    {
     "name": "stderr",
     "output_type": "stream",
     "text": [
      "2023-01-16 16:17:31.352192: I tensorflow/core/platform/cpu_feature_guard.cc:193] This TensorFlow binary is optimized with oneAPI Deep Neural Network Library (oneDNN) to use the following CPU instructions in performance-critical operations:  AVX2 FMA\n",
      "To enable them in other operations, rebuild TensorFlow with the appropriate compiler flags.\n",
      "2023-01-16 16:17:32.417686: W tensorflow/compiler/xla/stream_executor/platform/default/dso_loader.cc:64] Could not load dynamic library 'libnvinfer.so.7'; dlerror: libnvinfer.so.7: cannot open shared object file: No such file or directory; LD_LIBRARY_PATH: /usr/local/nvidia/lib:/usr/local/nvidia/lib64\n",
      "2023-01-16 16:17:32.417776: W tensorflow/compiler/xla/stream_executor/platform/default/dso_loader.cc:64] Could not load dynamic library 'libnvinfer_plugin.so.7'; dlerror: libnvinfer_plugin.so.7: cannot open shared object file: No such file or directory; LD_LIBRARY_PATH: /usr/local/nvidia/lib:/usr/local/nvidia/lib64\n",
      "2023-01-16 16:17:32.417786: W tensorflow/compiler/tf2tensorrt/utils/py_utils.cc:38] TF-TRT Warning: Cannot dlopen some TensorRT libraries. If you would like to use Nvidia GPU with TensorRT, please make sure the missing libraries mentioned above are installed properly.\n"
     ]
    }
   ],
   "source": [
    "import pandas as pd\n",
    "import numpy as np\n",
    "from matplotlib import pyplot as plt\n",
    "\n",
    "import tensorflow as tf\n",
    "import tensorflow_ranking as tfr\n",
    "from tensorflow import keras\n",
    "from tensorflow.keras import layers\n",
    "from tensorflow.keras.layers import Dense, Flatten, LSTM, Permute, Conv1D, MaxPooling1D, Conv2D, MaxPooling2D, Reshape, Dropout\n",
    "\n",
    "from keras.regularizers import l2, l1\n",
    "\n",
    "\n",
    "from sklearn.decomposition import PCA\n",
    "from sklearn.utils import class_weight\n",
    "from sklearn.metrics import f1_score\n",
    "import sklearn\n",
    "\n",
    "import pickle"
   ]
  },
  {
   "cell_type": "code",
   "execution_count": 3,
   "metadata": {
    "collapsed": false,
    "execution": {
     "iopub.execute_input": "2023-01-16T16:17:34.077428Z",
     "iopub.status.busy": "2023-01-16T16:17:34.076933Z",
     "iopub.status.idle": "2023-01-16T16:17:35.181247Z",
     "shell.execute_reply": "2023-01-16T16:17:35.180405Z",
     "shell.execute_reply.started": "2023-01-16T16:17:34.077403Z"
    },
    "gather": {
     "logged": 1668768749718
    },
    "jupyter": {
     "outputs_hidden": false,
     "source_hidden": false
    },
    "nteract": {
     "transient": {
      "deleting": false
     }
    }
   },
   "outputs": [
    {
     "data": {
      "text/plain": [
       "'/device:GPU:0'"
      ]
     },
     "execution_count": 3,
     "metadata": {},
     "output_type": "execute_result"
    }
   ],
   "source": [
    "device_name = tf.test.gpu_device_name()\n",
    "device_name"
   ]
  },
  {
   "cell_type": "code",
   "execution_count": 4,
   "metadata": {
    "collapsed": false,
    "execution": {
     "iopub.execute_input": "2023-01-16T16:17:35.182906Z",
     "iopub.status.busy": "2023-01-16T16:17:35.182651Z",
     "iopub.status.idle": "2023-01-16T16:17:35.861275Z",
     "shell.execute_reply": "2023-01-16T16:17:35.859937Z",
     "shell.execute_reply.started": "2023-01-16T16:17:35.182885Z"
    },
    "gather": {
     "logged": 1668768803089
    },
    "jupyter": {
     "outputs_hidden": false,
     "source_hidden": false
    },
    "nteract": {
     "transient": {
      "deleting": false
     }
    }
   },
   "outputs": [
    {
     "name": "stdout",
     "output_type": "stream",
     "text": [
      "(34371, 200, 19)\n"
     ]
    }
   ],
   "source": [
    "file_name = \"windowed_raw\" # or offsets_2\n",
    "\n",
    "x_data = np.load(f\"data/processed/x_windowed_filtered.npy\") # pre-filtered data\n",
    "y_user = np.load(f\"data/processed/y_user_{file_name}.npy\")\n",
    "y_intent = np.load(f\"data/processed/y_intent_{file_name}.npy\")\n",
    "y_gesture = np.load(f\"data/processed/y_gesture_type_{file_name}.npy\")\n",
    "\n",
    "print(x_data.shape)\n",
    "#times_to_add = 8\n",
    "\n",
    "#x_data = np.concatenate([x_data] + [x_data + np.random.normal(0,0.1,x_data.shape) for i in range(times_to_add)])\n",
    "#y_intent = np.concatenate([y_intent] + [y_intent for i in range(times_to_add)])"
   ]
  },
  {
   "cell_type": "code",
   "execution_count": 5,
   "metadata": {
    "execution": {
     "iopub.execute_input": "2023-01-16T16:17:35.864213Z",
     "iopub.status.busy": "2023-01-16T16:17:35.862987Z",
     "iopub.status.idle": "2023-01-16T16:17:36.019464Z",
     "shell.execute_reply": "2023-01-16T16:17:36.018513Z",
     "shell.execute_reply.started": "2023-01-16T16:17:35.864165Z"
    }
   },
   "outputs": [
    {
     "data": {
      "text/plain": [
       "<matplotlib.legend.Legend at 0x7fcf6dacfdf0>"
      ]
     },
     "execution_count": 5,
     "metadata": {},
     "output_type": "execute_result"
    },
    {
     "data": {
      "image/png": "[encoded data removed]",
      "text/plain": [
       "<Figure size 432x288 with 1 Axes>"
      ]
     },
     "metadata": {
      "needs_background": "light"
     },
     "output_type": "display_data"
    }
   ],
   "source": [
    "plt.plot(x_data[0,:,0], label='x')\n",
    "plt.plot(x_data[0,:,1], label='y')\n",
    "plt.plot(x_data[0,:,2], label='z')\n",
    "plt.plot(x_data[0,:,16], label='unfiltered norm')\n",
    "plt.plot(x_data[0,:,3], label='filtered norm')\n",
    "plt.legend()"
   ]
  },
  {
   "cell_type": "code",
   "execution_count": 6,
   "metadata": {
    "execution": {
     "iopub.execute_input": "2023-01-16T15:55:19.390180Z",
     "iopub.status.busy": "2023-01-16T15:55:19.389903Z",
     "iopub.status.idle": "2023-01-16T15:55:19.809073Z",
     "shell.execute_reply": "2023-01-16T15:55:19.808164Z",
     "shell.execute_reply.started": "2023-01-16T15:55:19.390159Z"
    }
   },
   "outputs": [
    {
     "ename": "ZeroDivisionError",
     "evalue": "division by zero",
     "output_type": "error",
     "traceback": [
      "\u001b[0;31m---------------------------------------------------------------------------\u001b[0m",
      "\u001b[0;31mZeroDivisionError\u001b[0m                         Traceback (most recent call last)",
      "Input \u001b[0;32mIn [6]\u001b[0m, in \u001b[0;36m<cell line: 6>\u001b[0;34m()\u001b[0m\n\u001b[1;32m      3\u001b[0m \u001b[38;5;28;01mfrom\u001b[39;00m \u001b[38;5;21;01mscipy\u001b[39;00m\u001b[38;5;21;01m.\u001b[39;00m\u001b[38;5;21;01msignal\u001b[39;00m \u001b[38;5;28;01mimport\u001b[39;00m find_peaks\n\u001b[1;32m      4\u001b[0m \u001b[38;5;28;01mfrom\u001b[39;00m \u001b[38;5;21;01mscipy\u001b[39;00m\u001b[38;5;21;01m.\u001b[39;00m\u001b[38;5;21;01mstats\u001b[39;00m \u001b[38;5;28;01mimport\u001b[39;00m kurtosis, skew, iqr\n\u001b[0;32m----> 6\u001b[0m a\u001b[38;5;241m=\u001b[39m\u001b[38;5;241;43m1\u001b[39;49m\u001b[38;5;241;43m/\u001b[39;49m\u001b[38;5;241;43m0\u001b[39;49m\n\u001b[1;32m      8\u001b[0m \u001b[38;5;28;01mdef\u001b[39;00m \u001b[38;5;21mfeature_min\u001b[39m(g_data):\n\u001b[1;32m      9\u001b[0m     \u001b[38;5;28;01mreturn\u001b[39;00m np\u001b[38;5;241m.\u001b[39mamin(g_data, axis\u001b[38;5;241m=\u001b[39m\u001b[38;5;241m0\u001b[39m)\n",
      "\u001b[0;31mZeroDivisionError\u001b[0m: division by zero"
     ]
    }
   ],
   "source": [
    "import csv, math, os, re, statistics, sys\n",
    "import numpy as np\n",
    "from scipy.signal import find_peaks\n",
    "from scipy.stats import kurtosis, skew, iqr\n",
    "\n",
    "a=1/0\n",
    "\n",
    "def feature_min(g_data):\n",
    "    return np.amin(g_data, axis=0)\n",
    "\n",
    "def feature_max(g_data):\t\n",
    "    return np.amax(g_data, axis=0)\n",
    "\n",
    "def feature_mean(g_data):\n",
    "\treturn np.mean(g_data, axis=0)\n",
    "\n",
    "def feature_med(g_data):\n",
    "\treturn np.median(g_data, axis=0)\n",
    "\t\n",
    "def feature_stdev(g_data):\n",
    "\treturn np.std(g_data, axis=0)\n",
    "\n",
    "def feature_var(g_data):\n",
    "\treturn np.var(g_data, axis=0)\n",
    "\n",
    "def feature_iqr(g_data):\n",
    "    return iqr(g_data, axis=0)\n",
    "\n",
    "def feature_kurt(g_data):\n",
    "\treturn kurtosis(g_data, axis=0)\n",
    "\n",
    "def feature_skew(g_data):\n",
    "\treturn skew(g_data, axis=0)\n",
    "\n",
    "def feature_pkcount(g_data, threshold):\n",
    "    channels = g_data.shape[1]\n",
    "    peaks = []\n",
    "    for i in range(channels):\n",
    "        datum = g_data[:, i]\n",
    "        peaks.append(len(find_peaks(datum, prominence = threshold)[0]))\n",
    "    return np.array(peaks)\n",
    "\n",
    "def feature_velo_disp(g_data):\n",
    "    f = []\n",
    "    indices= [[0,1,2], [4,5,6], [12,13,14]]\n",
    "    n = g_data.shape[1] - 1\n",
    "    \n",
    "    for a,b,c in indices:\n",
    "        vx = [0]\n",
    "        dx = [0]\n",
    "        vy = [0]\n",
    "        dy = [0]\n",
    "        vz = [0]\n",
    "        dz = [0]\n",
    "        d = [0]\n",
    "        dt = float(4.0 / n) #sample interval - based on a time slice of 4 seconds\n",
    "        for j in range(n):\n",
    "            vx.append(vx[j] + (g_data[j][a] + g_data[j + 1][a]) / 2 * dt / 10)\n",
    "            dx.append(dx[j] + vx[j + 1] * dt / 10)\n",
    "            vy.append(vy[j] + (g_data[j][b] + g_data[j + 1][b]) / 2 * dt / 10)\n",
    "            dy.append(dy[j] + vy[j + 1] * dt / 10)\n",
    "            vz.append(vz[j] + (g_data[j][c] + g_data[j + 1][c]) / 2 * dt / 10)\n",
    "            dz.append(dz[j] + vz[j + 1] * dt / 10)\n",
    "            d.append(math.sqrt(dx[j+1] **2 + dy[j+1] **2 + dz[j+1] **2 ))\n",
    "        vx.pop(0)\n",
    "        vy.pop(0)\n",
    "        vz.pop(0)\n",
    "\n",
    "        if False:\n",
    "            f_names.append(sensor + '-x-velomean')\n",
    "            f_names.append(sensor + '-y-velomean')\n",
    "            f_names.append(sensor + '-z-velomean')\n",
    "            f_names.append(sensor + '-x-velomax')\n",
    "            f_names.append(sensor + '-y-velomax')\n",
    "            f_names.append(sensor + '-z-velomax')\n",
    "            f_names.append(sensor + '-x-disp')\n",
    "            f_names.append(sensor + '-y-disp')\n",
    "            f_names.append(sensor + '-z-disp')\n",
    "            f_names.append(sensor + '-disptotal')\n",
    "\n",
    "        f.append(sum(vx) / len(vx))\n",
    "        f.append(sum(vy) / len(vy))\n",
    "        f.append(sum(vz) / len(vz))\n",
    "        f.append(max(vx, key = abs))\n",
    "        f.append(max(vy, key = abs))\n",
    "        f.append(max(vz, key = abs))\n",
    "        f.append(dx[len(dx) - 1])\n",
    "        f.append(dy[len(dy) - 1])\n",
    "        f.append(dz[len(dz) - 1])\n",
    "        f.append(d[len(d) - 1])\n",
    "    return np.array(f)\n",
    "\n",
    "def extract_features(g_data):   \n",
    "\tf_data = []\n",
    "\tf_data.append(feature_min(g_data))\n",
    "\tf_data.append(feature_max(g_data))\n",
    "\tf_data.append(feature_mean(g_data))\n",
    "\tf_data.append(feature_med(g_data))\n",
    "\tf_data.append(feature_stdev(g_data))\n",
    "\tf_data.append(feature_var(g_data))\n",
    "\tf_data.append(feature_iqr(g_data))\n",
    "\tf_data.append(feature_kurt( g_data))\n",
    "\tf_data.append(feature_skew(g_data))\n",
    "\tf_data.append(feature_pkcount(g_data, 0.5))\n",
    "\tf_data.append(feature_velo_disp(g_data))\n",
    "\treturn f_data\n",
    "\n",
    "\n",
    "\n",
    "data = x_data\n",
    "\n",
    "features = []\n",
    "\n",
    "for sample in data:\n",
    "    feature = extract_features(sample)\n",
    "    features.append(np.concatenate(feature).flatten())\n",
    "    \n",
    "    "
   ]
  },
  {
   "cell_type": "code",
   "execution_count": 7,
   "metadata": {
    "execution": {
     "iopub.execute_input": "2023-01-16T15:57:22.870907Z",
     "iopub.status.busy": "2023-01-16T15:57:22.870222Z",
     "iopub.status.idle": "2023-01-16T15:57:22.885697Z",
     "shell.execute_reply": "2023-01-16T15:57:22.884638Z",
     "shell.execute_reply.started": "2023-01-16T15:57:22.870880Z"
    }
   },
   "outputs": [
    {
     "ename": "ZeroDivisionError",
     "evalue": "division by zero",
     "output_type": "error",
     "traceback": [
      "\u001b[0;31m---------------------------------------------------------------------------\u001b[0m",
      "\u001b[0;31mZeroDivisionError\u001b[0m                         Traceback (most recent call last)",
      "Input \u001b[0;32mIn [7]\u001b[0m, in \u001b[0;36m<cell line: 1>\u001b[0;34m()\u001b[0m\n\u001b[0;32m----> 1\u001b[0m a\u001b[38;5;241m=\u001b[39m\u001b[38;5;241;43m1\u001b[39;49m\u001b[38;5;241;43m/\u001b[39;49m\u001b[38;5;241;43m0\u001b[39;49m\n\u001b[1;32m      2\u001b[0m feature_array \u001b[38;5;241m=\u001b[39m np\u001b[38;5;241m.\u001b[39marray(features)\n\u001b[1;32m      3\u001b[0m feature_array\u001b[38;5;241m.\u001b[39mshape\n",
      "\u001b[0;31mZeroDivisionError\u001b[0m: division by zero"
     ]
    }
   ],
   "source": [
    "a=1/0\n",
    "feature_array = np.array(features)\n",
    "feature_array.shape\n",
    "\n",
    "np.save(f\"data/processed/x_features.npy\", feature_array)\n",
    "#x_data[0, 0, :]"
   ]
  },
  {
   "cell_type": "code",
   "execution_count": 6,
   "metadata": {
    "execution": {
     "iopub.execute_input": "2023-01-16T16:17:36.022578Z",
     "iopub.status.busy": "2023-01-16T16:17:36.021489Z",
     "iopub.status.idle": "2023-01-16T16:17:36.068527Z",
     "shell.execute_reply": "2023-01-16T16:17:36.067591Z",
     "shell.execute_reply.started": "2023-01-16T16:17:36.022549Z"
    }
   },
   "outputs": [
    {
     "data": {
      "text/plain": [
       "array([-1.27762363e+00, -1.01203843e+01, -9.32511622e+00,  7.14153300e+00,\n",
       "       -3.21892043e+02, -3.33446691e+01, -5.19952418e+01,  5.46717000e-01,\n",
       "       -1.12300189e+00,  3.58216540e-02, -9.77528996e-01,  1.32074689e-02,\n",
       "       -4.92092785e+00, -6.63757818e+00, -4.18630874e+00,  6.72658000e-01,\n",
       "        8.67644634e+00,  9.77635727e-01,  3.63955493e-01,  1.22589501e+00,\n",
       "       -1.51387332e+00,  9.77225137e+00,  1.31771000e+01,  3.77065068e+02,\n",
       "        5.67718525e+01,  3.59403751e+01,  3.88256302e+02,  9.41502798e-01,\n",
       "        3.08808018e-01,  1.10643534e-01,  2.34614370e-01,  8.15873147e+00,\n",
       "        3.62296274e+00,  3.74998648e+00,  1.07429840e+01,  1.20048023e+01,\n",
       "        3.81290534e+02,  1.00447588e+01, -2.18569154e-01, -4.39288120e+00,\n",
       "       -1.40066999e-01,  9.91426909e+00,  4.30835850e+00,  1.71285289e+00,\n",
       "       -3.87232696e+00,  7.33077378e+01, -1.70910532e-01,  1.52305242e-01,\n",
       "       -5.18495282e-01,  1.28010049e-01,  4.01259586e-01, -5.36642330e-01,\n",
       "       -7.92141093e-01,  4.87689757e+00,  9.90469885e+00,  7.29546653e+01,\n",
       "        4.66933265e+00, -7.52980571e-01, -3.94447197e+00, -1.06873902e+00,\n",
       "        9.86316250e+00, -9.11447611e-02,  2.27571140e-01, -6.89477643e-01,\n",
       "        1.13174000e+01,  8.33658209e-02,  2.04146261e-01, -7.13076761e-01,\n",
       "        1.93572173e-01, -2.49282145e-01,  3.88613428e-01, -8.87178365e-01,\n",
       "        4.79538600e+00,  9.84481977e+00,  9.91674539e+00,  4.75464535e+00,\n",
       "        9.65634075e-01,  2.47383794e+00,  8.48587466e+00,  7.37373593e-01,\n",
       "        1.27020771e+02,  1.50233140e+01,  1.56616694e+01,  1.07104548e+02,\n",
       "        6.29827263e-01,  9.58377764e-02,  4.59559642e-01,  8.69716440e-02,\n",
       "        2.97025650e+00,  3.35563049e+00,  2.19256620e+00,  1.99206131e+00,\n",
       "        5.69323348e-01,  1.06392536e+02,  2.04054908e+00,  9.32449167e-01,\n",
       "        6.11987415e+00,  7.20100687e+01,  5.43719815e-01,  1.61342763e+04,\n",
       "        2.25699964e+02,  2.45287890e+02,  1.14713842e+04,  3.96682381e-01,\n",
       "        9.18487938e-03,  2.11195065e-01,  7.56406686e-03,  8.82242368e+00,\n",
       "        1.12602560e+01,  4.80734652e+00,  3.96830826e+00,  3.24129075e-01,\n",
       "        1.13193717e+04,  4.16384057e+00,  2.07728408e+00,  3.70604395e+00,\n",
       "        1.82666747e+01,  4.30222750e-01,  1.14225127e+01,  6.90312316e+00,\n",
       "        7.16629048e+00,  1.09905960e+02,  1.15259191e+00,  1.93651661e-01,\n",
       "        9.93274116e-01,  1.79734381e-01,  4.35270090e+00,  6.12189756e+00,\n",
       "        3.56403149e+00,  2.50664550e+00,  3.32402122e-01,  1.13019084e+02,\n",
       "        2.68507029e+00, -1.56228450e+00, -4.18690787e-01, -1.87878302e+00,\n",
       "        3.61858873e+00,  1.95445851e+00,  4.11889306e+00,  2.12762928e+00,\n",
       "        9.03010817e-01, -1.31034358e+00, -1.75638948e+00, -1.83563543e+00,\n",
       "       -1.75280404e+00, -2.77602794e-01, -1.32286040e+00, -1.01223100e+00,\n",
       "        1.56710862e-01,  3.02172976e+00,  7.01393918e-01, -7.14728148e-02,\n",
       "        5.05821039e-01, -8.05160377e-01,  5.90444827e-02,  6.59121799e-01,\n",
       "        3.65529278e-01,  1.30615753e+00, -1.32819166e+00,  1.48102090e+00,\n",
       "       -2.01571980e-01, -1.02421427e-01,  1.92377359e-01, -3.51659308e-01,\n",
       "        6.15054257e-01, -4.17117106e-01,  3.21427707e-01,  3.59497062e-01,\n",
       "        1.18706840e+00,  1.41809425e+00,  1.50422919e-01,  0.00000000e+00,\n",
       "        2.00000000e+00,  2.00000000e+00,  1.50000000e+01,  7.00000000e+00,\n",
       "        7.00000000e+00,  7.00000000e+00,  3.30000000e+01,  2.00000000e+00,\n",
       "        0.00000000e+00,  0.00000000e+00,  0.00000000e+00,  3.00000000e+00,\n",
       "        2.00000000e+00,  4.00000000e+00,  1.50000000e+01,  3.00000000e+00,\n",
       "        8.00000000e+00,  5.00000000e+00, -5.76764366e-02, -1.41148961e+00,\n",
       "        1.43411923e+00, -1.54109140e-01, -2.95243067e+00,  2.11206601e+00,\n",
       "       -2.30705746e-02, -5.64595845e-01,  5.73647692e-01,  8.05215744e-01,\n",
       "       -2.92159261e+01,  2.37827347e+00,  3.23398923e+00, -6.87325263e+01,\n",
       "        3.60240330e+00,  4.32294334e+00, -1.16863705e+01,  9.51309389e-01,\n",
       "        1.29359569e+00,  1.17961703e+01, -1.55933003e-02, -1.76198909e-01,\n",
       "       -1.76625139e-02, -5.68503600e-02, -2.36235349e-01, -1.90905165e-01,\n",
       "       -6.23732013e-03, -7.04795637e-02, -7.06500555e-03,  7.11068729e-02])"
      ]
     },
     "execution_count": 6,
     "metadata": {},
     "output_type": "execute_result"
    }
   ],
   "source": [
    "feature_array = np.load(f\"data/processed/x_features.npy\")\n",
    "feature_array[0]"
   ]
  },
  {
   "cell_type": "code",
   "execution_count": 7,
   "metadata": {
    "execution": {
     "iopub.execute_input": "2023-01-16T16:17:36.070274Z",
     "iopub.status.busy": "2023-01-16T16:17:36.070007Z",
     "iopub.status.idle": "2023-01-16T16:17:36.197508Z",
     "shell.execute_reply": "2023-01-16T16:17:36.196559Z",
     "shell.execute_reply.started": "2023-01-16T16:17:36.070253Z"
    }
   },
   "outputs": [
    {
     "data": {
      "image/png": "[encoded data removed]",
      "text/plain": [
       "<Figure size 432x288 with 1 Axes>"
      ]
     },
     "metadata": {
      "needs_background": "light"
     },
     "output_type": "display_data"
    }
   ],
   "source": [
    "#plt.plot(x_data[0,:,0], label=\"0\")\n",
    "#plt.plot(x_data[0,:,1], label=\"1\")\n",
    "plt.plot((x_data[0,:,0]**2 + x_data[0,:,1]**2 + x_data[0,:,2]**2)**0.5, label=\"norm\")\n",
    "plt.plot(x_data[0,:,3], label=\"unfiltered norm\")\n",
    "plt.legend()\n",
    "plt.show()"
   ]
  },
  {
   "cell_type": "code",
   "execution_count": 8,
   "metadata": {
    "execution": {
     "iopub.execute_input": "2023-01-16T16:17:41.648449Z",
     "iopub.status.busy": "2023-01-16T16:17:41.647995Z",
     "iopub.status.idle": "2023-01-16T16:44:32.021451Z",
     "shell.execute_reply": "2023-01-16T16:44:32.020796Z",
     "shell.execute_reply.started": "2023-01-16T16:17:41.648431Z"
    }
   },
   "outputs": [
    {
     "name": "stdout",
     "output_type": "stream",
     "text": [
      "auth_user is 0\n",
      "percentile is 0\n",
      "percentile is 20\n",
      "percentile is 40\n",
      "percentile is 60\n",
      "percentile is 80\n",
      "auth_user is 1\n",
      "percentile is 0\n",
      "percentile is 20\n",
      "percentile is 40\n",
      "percentile is 60\n",
      "percentile is 80\n",
      "auth_user is 2\n",
      "percentile is 0\n",
      "percentile is 20\n",
      "percentile is 40\n",
      "percentile is 60\n",
      "percentile is 80\n",
      "auth_user is 3\n",
      "percentile is 0\n",
      "percentile is 20\n",
      "percentile is 40\n",
      "percentile is 60\n",
      "percentile is 80\n",
      "auth_user is 4\n",
      "percentile is 0\n",
      "percentile is 20\n",
      "percentile is 40\n",
      "percentile is 60\n",
      "percentile is 80\n"
     ]
    },
    {
     "name": "stderr",
     "output_type": "stream",
     "text": [
      "/tmp/ipykernel_114/1891983039.py:283: RuntimeWarning: More than 20 figures have been opened. Figures created through the pyplot interface (`matplotlib.pyplot.figure`) are retained until explicitly closed and may consume too much memory. (To control this warning, see the rcParam `figure.max_open_warning`).\n",
      "  fig = plt.figure(facecolor=(1, 1, 1))\n"
     ]
    },
    {
     "name": "stdout",
     "output_type": "stream",
     "text": [
      "auth_user is 5\n",
      "percentile is 0\n",
      "percentile is 20\n",
      "percentile is 40\n",
      "percentile is 60\n",
      "percentile is 80\n",
      "auth_user is 6\n",
      "percentile is 0\n",
      "percentile is 20\n",
      "percentile is 40\n",
      "percentile is 60\n",
      "percentile is 80\n",
      "auth_user is 7\n",
      "percentile is 0\n",
      "percentile is 20\n",
      "percentile is 40\n",
      "percentile is 60\n",
      "percentile is 80\n",
      "auth_user is 8\n",
      "percentile is 0\n",
      "percentile is 20\n",
      "percentile is 40\n",
      "percentile is 60\n",
      "percentile is 80\n",
      "auth_user is 9\n",
      "percentile is 0\n",
      "percentile is 20\n",
      "percentile is 40\n",
      "percentile is 60\n",
      "percentile is 80\n",
      "auth_user is 10\n",
      "percentile is 0\n",
      "percentile is 20\n",
      "percentile is 40\n",
      "percentile is 60\n",
      "percentile is 80\n",
      "auth_user is 11\n",
      "percentile is 0\n",
      "percentile is 20\n",
      "percentile is 40\n",
      "percentile is 60\n",
      "percentile is 80\n",
      "auth_user is 12\n",
      "percentile is 0\n",
      "percentile is 20\n",
      "percentile is 40\n",
      "percentile is 60\n",
      "percentile is 80\n",
      "auth_user is 13\n",
      "percentile is 0\n",
      "percentile is 20\n",
      "percentile is 40\n",
      "percentile is 60\n",
      "percentile is 80\n",
      "auth_user is 14\n",
      "percentile is 0\n",
      "percentile is 20\n",
      "percentile is 40\n",
      "percentile is 60\n",
      "percentile is 80\n",
      "auth_user is 15\n",
      "percentile is 0\n",
      "percentile is 20\n",
      "percentile is 40\n",
      "percentile is 60\n",
      "percentile is 80\n"
     ]
    },
    {
     "data": {
      "text/plain": [
       "<Figure size 432x288 with 0 Axes>"
      ]
     },
     "metadata": {},
     "output_type": "display_data"
    },
    {
     "data": {
      "text/plain": [
       "<Figure size 432x288 with 0 Axes>"
      ]
     },
     "metadata": {},
     "output_type": "display_data"
    },
    {
     "data": {
      "text/plain": [
       "<Figure size 432x288 with 0 Axes>"
      ]
     },
     "metadata": {},
     "output_type": "display_data"
    },
    {
     "data": {
      "text/plain": [
       "<Figure size 432x288 with 0 Axes>"
      ]
     },
     "metadata": {},
     "output_type": "display_data"
    },
    {
     "data": {
      "text/plain": [
       "<Figure size 432x288 with 0 Axes>"
      ]
     },
     "metadata": {},
     "output_type": "display_data"
    },
    {
     "data": {
      "text/plain": [
       "<Figure size 432x288 with 0 Axes>"
      ]
     },
     "metadata": {},
     "output_type": "display_data"
    },
    {
     "data": {
      "text/plain": [
       "<Figure size 432x288 with 0 Axes>"
      ]
     },
     "metadata": {},
     "output_type": "display_data"
    },
    {
     "data": {
      "text/plain": [
       "<Figure size 432x288 with 0 Axes>"
      ]
     },
     "metadata": {},
     "output_type": "display_data"
    },
    {
     "data": {
      "text/plain": [
       "<Figure size 432x288 with 0 Axes>"
      ]
     },
     "metadata": {},
     "output_type": "display_data"
    },
    {
     "data": {
      "text/plain": [
       "<Figure size 432x288 with 0 Axes>"
      ]
     },
     "metadata": {},
     "output_type": "display_data"
    },
    {
     "data": {
      "text/plain": [
       "<Figure size 432x288 with 0 Axes>"
      ]
     },
     "metadata": {},
     "output_type": "display_data"
    },
    {
     "data": {
      "text/plain": [
       "<Figure size 432x288 with 0 Axes>"
      ]
     },
     "metadata": {},
     "output_type": "display_data"
    },
    {
     "data": {
      "text/plain": [
       "<Figure size 432x288 with 0 Axes>"
      ]
     },
     "metadata": {},
     "output_type": "display_data"
    },
    {
     "data": {
      "text/plain": [
       "<Figure size 432x288 with 0 Axes>"
      ]
     },
     "metadata": {},
     "output_type": "display_data"
    },
    {
     "data": {
      "text/plain": [
       "<Figure size 432x288 with 0 Axes>"
      ]
     },
     "metadata": {},
     "output_type": "display_data"
    },
    {
     "data": {
      "text/plain": [
       "<Figure size 432x288 with 0 Axes>"
      ]
     },
     "metadata": {},
     "output_type": "display_data"
    },
    {
     "data": {
      "text/plain": [
       "<Figure size 432x288 with 0 Axes>"
      ]
     },
     "metadata": {},
     "output_type": "display_data"
    },
    {
     "data": {
      "text/plain": [
       "<Figure size 432x288 with 0 Axes>"
      ]
     },
     "metadata": {},
     "output_type": "display_data"
    },
    {
     "data": {
      "text/plain": [
       "<Figure size 432x288 with 0 Axes>"
      ]
     },
     "metadata": {},
     "output_type": "display_data"
    },
    {
     "data": {
      "text/plain": [
       "<Figure size 432x288 with 0 Axes>"
      ]
     },
     "metadata": {},
     "output_type": "display_data"
    },
    {
     "data": {
      "text/plain": [
       "<Figure size 432x288 with 0 Axes>"
      ]
     },
     "metadata": {},
     "output_type": "display_data"
    },
    {
     "data": {
      "text/plain": [
       "<Figure size 432x288 with 0 Axes>"
      ]
     },
     "metadata": {},
     "output_type": "display_data"
    },
    {
     "data": {
      "text/plain": [
       "<Figure size 432x288 with 0 Axes>"
      ]
     },
     "metadata": {},
     "output_type": "display_data"
    },
    {
     "data": {
      "text/plain": [
       "<Figure size 432x288 with 0 Axes>"
      ]
     },
     "metadata": {},
     "output_type": "display_data"
    },
    {
     "data": {
      "text/plain": [
       "<Figure size 432x288 with 0 Axes>"
      ]
     },
     "metadata": {},
     "output_type": "display_data"
    },
    {
     "data": {
      "text/plain": [
       "<Figure size 432x288 with 0 Axes>"
      ]
     },
     "metadata": {},
     "output_type": "display_data"
    },
    {
     "data": {
      "text/plain": [
       "<Figure size 432x288 with 0 Axes>"
      ]
     },
     "metadata": {},
     "output_type": "display_data"
    },
    {
     "data": {
      "text/plain": [
       "<Figure size 432x288 with 0 Axes>"
      ]
     },
     "metadata": {},
     "output_type": "display_data"
    },
    {
     "data": {
      "text/plain": [
       "<Figure size 432x288 with 0 Axes>"
      ]
     },
     "metadata": {},
     "output_type": "display_data"
    },
    {
     "data": {
      "text/plain": [
       "<Figure size 432x288 with 0 Axes>"
      ]
     },
     "metadata": {},
     "output_type": "display_data"
    },
    {
     "data": {
      "text/plain": [
       "<Figure size 432x288 with 0 Axes>"
      ]
     },
     "metadata": {},
     "output_type": "display_data"
    },
    {
     "data": {
      "text/plain": [
       "<Figure size 432x288 with 0 Axes>"
      ]
     },
     "metadata": {},
     "output_type": "display_data"
    },
    {
     "data": {
      "text/plain": [
       "<Figure size 432x288 with 0 Axes>"
      ]
     },
     "metadata": {},
     "output_type": "display_data"
    },
    {
     "data": {
      "text/plain": [
       "<Figure size 432x288 with 0 Axes>"
      ]
     },
     "metadata": {},
     "output_type": "display_data"
    },
    {
     "data": {
      "text/plain": [
       "<Figure size 432x288 with 0 Axes>"
      ]
     },
     "metadata": {},
     "output_type": "display_data"
    },
    {
     "data": {
      "text/plain": [
       "<Figure size 432x288 with 0 Axes>"
      ]
     },
     "metadata": {},
     "output_type": "display_data"
    },
    {
     "data": {
      "text/plain": [
       "<Figure size 432x288 with 0 Axes>"
      ]
     },
     "metadata": {},
     "output_type": "display_data"
    },
    {
     "data": {
      "text/plain": [
       "<Figure size 432x288 with 0 Axes>"
      ]
     },
     "metadata": {},
     "output_type": "display_data"
    },
    {
     "data": {
      "text/plain": [
       "<Figure size 432x288 with 0 Axes>"
      ]
     },
     "metadata": {},
     "output_type": "display_data"
    },
    {
     "data": {
      "text/plain": [
       "<Figure size 432x288 with 0 Axes>"
      ]
     },
     "metadata": {},
     "output_type": "display_data"
    },
    {
     "data": {
      "text/plain": [
       "<Figure size 432x288 with 0 Axes>"
      ]
     },
     "metadata": {},
     "output_type": "display_data"
    },
    {
     "data": {
      "text/plain": [
       "<Figure size 432x288 with 0 Axes>"
      ]
     },
     "metadata": {},
     "output_type": "display_data"
    },
    {
     "data": {
      "text/plain": [
       "<Figure size 432x288 with 0 Axes>"
      ]
     },
     "metadata": {},
     "output_type": "display_data"
    },
    {
     "data": {
      "text/plain": [
       "<Figure size 432x288 with 0 Axes>"
      ]
     },
     "metadata": {},
     "output_type": "display_data"
    },
    {
     "data": {
      "text/plain": [
       "<Figure size 432x288 with 0 Axes>"
      ]
     },
     "metadata": {},
     "output_type": "display_data"
    },
    {
     "data": {
      "text/plain": [
       "<Figure size 432x288 with 0 Axes>"
      ]
     },
     "metadata": {},
     "output_type": "display_data"
    },
    {
     "data": {
      "text/plain": [
       "<Figure size 432x288 with 0 Axes>"
      ]
     },
     "metadata": {},
     "output_type": "display_data"
    },
    {
     "data": {
      "text/plain": [
       "<Figure size 432x288 with 0 Axes>"
      ]
     },
     "metadata": {},
     "output_type": "display_data"
    },
    {
     "data": {
      "text/plain": [
       "<Figure size 432x288 with 0 Axes>"
      ]
     },
     "metadata": {},
     "output_type": "display_data"
    },
    {
     "data": {
      "text/plain": [
       "<Figure size 432x288 with 0 Axes>"
      ]
     },
     "metadata": {},
     "output_type": "display_data"
    },
    {
     "data": {
      "text/plain": [
       "<Figure size 432x288 with 0 Axes>"
      ]
     },
     "metadata": {},
     "output_type": "display_data"
    },
    {
     "data": {
      "text/plain": [
       "<Figure size 432x288 with 0 Axes>"
      ]
     },
     "metadata": {},
     "output_type": "display_data"
    },
    {
     "data": {
      "text/plain": [
       "<Figure size 432x288 with 0 Axes>"
      ]
     },
     "metadata": {},
     "output_type": "display_data"
    },
    {
     "data": {
      "text/plain": [
       "<Figure size 432x288 with 0 Axes>"
      ]
     },
     "metadata": {},
     "output_type": "display_data"
    },
    {
     "data": {
      "text/plain": [
       "<Figure size 432x288 with 0 Axes>"
      ]
     },
     "metadata": {},
     "output_type": "display_data"
    },
    {
     "data": {
      "text/plain": [
       "<Figure size 432x288 with 0 Axes>"
      ]
     },
     "metadata": {},
     "output_type": "display_data"
    },
    {
     "data": {
      "text/plain": [
       "<Figure size 432x288 with 0 Axes>"
      ]
     },
     "metadata": {},
     "output_type": "display_data"
    },
    {
     "data": {
      "text/plain": [
       "<Figure size 432x288 with 0 Axes>"
      ]
     },
     "metadata": {},
     "output_type": "display_data"
    },
    {
     "data": {
      "text/plain": [
       "<Figure size 432x288 with 0 Axes>"
      ]
     },
     "metadata": {},
     "output_type": "display_data"
    },
    {
     "data": {
      "text/plain": [
       "<Figure size 432x288 with 0 Axes>"
      ]
     },
     "metadata": {},
     "output_type": "display_data"
    },
    {
     "data": {
      "text/plain": [
       "<Figure size 432x288 with 0 Axes>"
      ]
     },
     "metadata": {},
     "output_type": "display_data"
    },
    {
     "data": {
      "text/plain": [
       "<Figure size 432x288 with 0 Axes>"
      ]
     },
     "metadata": {},
     "output_type": "display_data"
    },
    {
     "data": {
      "text/plain": [
       "<Figure size 432x288 with 0 Axes>"
      ]
     },
     "metadata": {},
     "output_type": "display_data"
    },
    {
     "data": {
      "text/plain": [
       "<Figure size 432x288 with 0 Axes>"
      ]
     },
     "metadata": {},
     "output_type": "display_data"
    },
    {
     "data": {
      "text/plain": [
       "<Figure size 432x288 with 0 Axes>"
      ]
     },
     "metadata": {},
     "output_type": "display_data"
    },
    {
     "data": {
      "text/plain": [
       "<Figure size 432x288 with 0 Axes>"
      ]
     },
     "metadata": {},
     "output_type": "display_data"
    },
    {
     "data": {
      "text/plain": [
       "<Figure size 432x288 with 0 Axes>"
      ]
     },
     "metadata": {},
     "output_type": "display_data"
    },
    {
     "data": {
      "text/plain": [
       "<Figure size 432x288 with 0 Axes>"
      ]
     },
     "metadata": {},
     "output_type": "display_data"
    },
    {
     "data": {
      "text/plain": [
       "<Figure size 432x288 with 0 Axes>"
      ]
     },
     "metadata": {},
     "output_type": "display_data"
    },
    {
     "data": {
      "text/plain": [
       "<Figure size 432x288 with 0 Axes>"
      ]
     },
     "metadata": {},
     "output_type": "display_data"
    },
    {
     "data": {
      "text/plain": [
       "<Figure size 432x288 with 0 Axes>"
      ]
     },
     "metadata": {},
     "output_type": "display_data"
    },
    {
     "data": {
      "text/plain": [
       "<Figure size 432x288 with 0 Axes>"
      ]
     },
     "metadata": {},
     "output_type": "display_data"
    },
    {
     "data": {
      "text/plain": [
       "<Figure size 432x288 with 0 Axes>"
      ]
     },
     "metadata": {},
     "output_type": "display_data"
    },
    {
     "data": {
      "text/plain": [
       "<Figure size 432x288 with 0 Axes>"
      ]
     },
     "metadata": {},
     "output_type": "display_data"
    },
    {
     "data": {
      "text/plain": [
       "<Figure size 432x288 with 0 Axes>"
      ]
     },
     "metadata": {},
     "output_type": "display_data"
    },
    {
     "data": {
      "text/plain": [
       "<Figure size 432x288 with 0 Axes>"
      ]
     },
     "metadata": {},
     "output_type": "display_data"
    },
    {
     "data": {
      "text/plain": [
       "<Figure size 432x288 with 0 Axes>"
      ]
     },
     "metadata": {},
     "output_type": "display_data"
    },
    {
     "data": {
      "text/plain": [
       "<Figure size 432x288 with 0 Axes>"
      ]
     },
     "metadata": {},
     "output_type": "display_data"
    },
    {
     "data": {
      "text/plain": [
       "<Figure size 432x288 with 0 Axes>"
      ]
     },
     "metadata": {},
     "output_type": "display_data"
    },
    {
     "data": {
      "text/plain": [
       "<Figure size 432x288 with 0 Axes>"
      ]
     },
     "metadata": {},
     "output_type": "display_data"
    }
   ],
   "source": [
    "import datetime, csv, os, re, sys\n",
    "import matplotlib.pyplot as plt\n",
    "import numpy as np\n",
    "from sklearn.ensemble import RandomForestClassifier\n",
    "from sklearn.metrics import auc, f1_score, precision_score, precision_recall_curve, recall_score, roc_curve\n",
    "from sklearn.model_selection import StratifiedKFold\n",
    "\n",
    "\n",
    "#configs\n",
    "maxprewindowsize = 4\n",
    "classifier = 'rfc'\n",
    "\n",
    "folds = 10\n",
    "\n",
    "\n",
    "def get_average(l):\n",
    "\treturn 0 if 0 == len(l) else sum(l) / len(l)\n",
    "\n",
    "def get_eer(scores_legit, scores_adv):\n",
    "\tscores_legit = sorted(scores_legit)\n",
    "\tscores_adv = sorted(scores_adv)\n",
    "\t\n",
    "\t#treat each legitimate sample distance as a possible threshold, determine the point where FRR crosses FAR\n",
    "\tfor c, threshold in enumerate(scores_legit):\n",
    "\t\tfrr = c * 1.0 / len(scores_legit)\n",
    "\t\tadv_index = next((x[0] for x in enumerate(scores_adv) if x[1] > threshold), len(scores_adv))\n",
    "\t\tfar = 1 - (adv_index * 1.0 / len(scores_adv))\n",
    "\t\tif frr >= far:\n",
    "\t\t\treturn threshold, far\n",
    "\tprint(\"Failure\")\n",
    "\n",
    "def get_eer_recogblind(scores_legit, scores_adv_typed, total_w, total_b, total_i):\n",
    "\tscores_legit = sorted(scores_legit)\n",
    "\tscores_adv_typed = sorted(scores_adv_typed, key = lambda x:x[0])\n",
    "\t\n",
    "\t#treat each legitimate sample distance as a possible threshold, determine the point where FRR crosses FAR\n",
    "\tfor c, threshold in enumerate(scores_legit):\n",
    "\t\tfrr = c * 1.0 / len(scores_legit)\n",
    "\t\tadv_index = next((x[0] for x in enumerate(scores_adv_typed) if x[1][0] > threshold), len(scores_adv_typed))\n",
    "\t\tfar = 1 - (adv_index * 1.0 / len(scores_adv))\n",
    "\t\tif frr >= far:\n",
    "\t\t\trejectrate_w = 0 if 0 == total_w else len([i for i in scores_adv_typed if 'W' == i[1] and i[0] >= threshold]) / total_w\n",
    "\t\t\trejectrate_b = 0 if 0 == total_b else len([i for i in scores_adv_typed if 'B' == i[1] and i[0] >= threshold]) / total_b\n",
    "\t\t\trejectrate_i = 0 if 0 == total_i else len([i for i in scores_adv_typed if 'I' == i[1] and i[0] >= threshold]) / total_i\n",
    "\t\t\treturn threshold, far, rejectrate_w, rejectrate_b, rejectrate_i\n",
    "\n",
    "def get_far_when_zero_frr(scores_legit, scores_adv):\n",
    "\tscores_legit = sorted(scores_legit)\n",
    "\tscores_adv = sorted(scores_adv)\n",
    "\t\n",
    "\t#treat each legitimate sample distance as a possible threshold, determine the point with the lowest FAR that satisfies the condition that FRR = 0\n",
    "\tfor c, threshold in enumerate(scores_legit):\n",
    "\t\tfrr = c * 1.0 / len(scores_legit)\n",
    "\t\tadv_index = next((x[0] for x in enumerate(scores_adv) if x[1] > threshold), len(scores_adv))\n",
    "\t\tfar = 1 - (adv_index * 1.0 / len(scores_adv))\n",
    "\t\tif frr > 0.001:\n",
    "\t\t\treturn threshold, far\n",
    "\n",
    "def plot_threshold_by_far_frr(scores_legit, scores_adv, far_theta):\n",
    "\tscores_legit = sorted(scores_legit)\n",
    "\tscores_adv = sorted(scores_adv)\n",
    "\t\n",
    "\tfrr = []\n",
    "\tfar = []\n",
    "\tthresholds = []\n",
    "\tfor c, threshold in enumerate(scores_legit):\n",
    "\t\tfrr.append((c * 1.0 / len(scores_legit)) * 100)\n",
    "\t\tadv_index = next((x[0] for x in enumerate(scores_adv) if x[1] > threshold), len(scores_adv))\n",
    "\t\tfar.append((1 - (adv_index * 1.0 / len(scores_adv))) * 100)\n",
    "\t\tthresholds.append(threshold)\n",
    "\tplt.figure(figsize = (6, 6))\n",
    "\tplt.rcParams.update({'font.size': fontsize_legends})\n",
    "\tplt.plot(thresholds, far, 'tab:blue', label = 'FAR')\n",
    "\tplt.plot(thresholds, frr, 'tab:orange', label = 'FRR')\n",
    "\tplt.ylabel('error rate (%)')\n",
    "\tplt.xlabel(r'decision threshold, $\\theta$')\n",
    "\tplt.axvline(x = far_theta, c = 'red')\n",
    "\tplt.legend(loc = 'best')\n",
    "\tplt.tight_layout(pad = 0.05)\n",
    "\tplt.show()\n",
    "\n",
    "def plot_threshold_by_precision_recall(labels_test, labels_scores):\n",
    "\tp, r, thresholds = precision_recall_curve(labels_test, labels_scores)\n",
    "\tplt.figure(figsize = (6, 6))\n",
    "\tplt.rcParams.update({'font.size': fontsize_legends})\n",
    "\tplt.title('Precision and Recall Scores as a Function of the Decision Threshold', fontsize = 12)\n",
    "\tplt.plot(thresholds, p[:-1], 'tab:blue', label = 'precision')\n",
    "\tplt.plot(thresholds, r[:-1], 'tab:orange', label = 'recall')\n",
    "\tplt.ylabel('score')\n",
    "\tplt.xlabel(r'decision threshold, $\\theta$')\n",
    "\tplt.legend(loc = 'best')\n",
    "\tplt.tight_layout(pad = 0.05)\n",
    "\tplt.show()\n",
    "\n",
    "def plot_roc_curve(labels_test, labels_scores):\n",
    "\tfpr, tpr, auc_thresholds = roc_curve(labels_test, labels_scores)\n",
    "\tprint('AUC of ROC = ' + str(auc(fpr, tpr)))\n",
    "\tplt.figure(figsize = (6, 6))\n",
    "\tplt.rcParams.update({'font.size': fontsize_legends})\n",
    "\tplt.title('ROC Curve', fontsize = 12)\n",
    "\tplt.plot(fpr, tpr, 'tab:orange', label = 'recall optimized')\n",
    "\tplt.plot([0, 1], [0, 1], 'k--')\n",
    "\tplt.axis([-0.005, 1, 0, 1.005])\n",
    "\tplt.xticks(np.arange(0, 1, 0.05), rotation = 90)\n",
    "\tplt.xlabel('false positive rate')\n",
    "\tplt.ylabel('true positive rate (recall)')\n",
    "\tplt.legend(loc = 'best')\n",
    "\tplt.tight_layout(pad = 0.05)\n",
    "\tplt.show()\n",
    "\n",
    "def get_ascending_userID_list_string():\n",
    "\tfor u in userIDs:\n",
    "\t\tif not 'user' in u and len(u) != 7:\n",
    "\t\t\tsys.exit('ERROR: userID not valid: ' + str(u))\n",
    "\tIDs = [int(u[4:]) for u in userIDs]\n",
    "\tIDs.sort(reverse = False)\n",
    "\treturn ','.join([f'{i:03}' for i in IDs])\n",
    "\n",
    "def get_descending_feature_list_string(weights, labels, truncate = 0):\n",
    "\tindicies = [i for i in range(len(weights))]\n",
    "\tfor i in range(len(indicies)):\n",
    "\t\tfor j in range(len(indicies)):\n",
    "\t\t\tif i != j and weights[indicies[i]] > weights[indicies[j]]:\n",
    "\t\t\t\ttemp = indicies[i]\n",
    "\t\t\t\tindicies[i] = indicies[j]\n",
    "\t\t\t\tindicies[j] = temp\n",
    "\tif truncate != 0:\n",
    "\t\tdel indicies[truncate:]\n",
    "\treturn '\\n'.join([str('%.6f' % weights[i]) + ' (' + labels[i] + ')' for i in indicies])\n",
    "\n",
    "def write_verbose(f, s):\n",
    "\toutfilename = f + '-verbose.txt'\n",
    "\toutfile = open(outfilename, 'a')\n",
    "\toutfile.write(s + '\\n')\n",
    "\toutfile.close()\n",
    "\n",
    "\n",
    "    \n",
    "output = []\n",
    "\n",
    "\n",
    "\n",
    "#auth_user = 3\n",
    "\n",
    "\n",
    "repetitions = 10\n",
    "\n",
    "for auth_user in range(16):\n",
    "    output.append({\"fm\":[], \"prec\":[], \"rec\":[], \"eer\":[], \"far\":[]})\n",
    "    print(f\"auth_user is {auth_user}\")\n",
    "\n",
    "    for percentile in range(0, 100, 20):\n",
    "        \n",
    "        \n",
    "        a_precisions = []\n",
    "        a_recalls = []\n",
    "        a_fmeasures = []\n",
    "        a_pr_stdev = []\n",
    "        a_re_stdev = []\n",
    "        a_fm_stdev = []\n",
    "        a_eers = []\n",
    "        a_eer_thetas = []\n",
    "        a_fars = []\n",
    "        a_far_thetas = []\n",
    "        a_ee_stdev = []\n",
    "        a_ee_th_stdev = []\n",
    "        a_fa_stdev = []\n",
    "        a_fa_th_stdev = []\n",
    "\n",
    "        print(f\"percentile is {percentile}\")\n",
    "        perc = (percentile) / 100\n",
    "\n",
    "\n",
    "\n",
    "\n",
    "        auth_gesture_map = (y_intent == 1) & (y_user.argmax(axis=1) == auth_user)\n",
    "\n",
    "        total_auth_gestures = sum(auth_gesture_map)\n",
    "\n",
    "        # test mapping is the last third of gestures\n",
    "        final_third = int(total_auth_gestures * (2/3))\n",
    "\n",
    "        train_data_map = np.zeros(len(feature_array))\n",
    "        test_data_map = np.zeros(len(feature_array))\n",
    "\n",
    "        auth_indices_to_remove = []\n",
    "\n",
    "        for user in range(16):\n",
    "            user_train_data_map = ((y_intent == 1) & (y_user.argmax(axis=1) == user))\n",
    "            total = sum(user_train_data_map)\n",
    "\n",
    "            threshold = int(total * (2/3))\n",
    "\n",
    "            count = 0\n",
    "            ii = 0\n",
    "            while count < threshold:\n",
    "\n",
    "                if user_train_data_map[ii] == 1:\n",
    "                    count += 1\n",
    "                    if user == auth_user:    \n",
    "                        auth_indices_to_remove.append(ii)\n",
    "                ii += 1\n",
    "            user_train_data_map[ii:] = 0\n",
    "\n",
    "            train_data_map = (user_train_data_map + train_data_map)\n",
    "\n",
    "        test_data_map = (y_intent == 1) * (1-train_data_map)\n",
    "        \n",
    "\n",
    "\n",
    "        auth_indices_to_remove = np.array(auth_indices_to_remove)\n",
    "        indices_to_remove = np.random.choice(auth_indices_to_remove, replace=False,\n",
    "                               size=int(len(auth_indices_to_remove) * perc))\n",
    "\n",
    "\n",
    "        to_remove = np.ones(len(train_data_map))\n",
    "        to_remove[indices_to_remove] = 0\n",
    "\n",
    "        train_data_map = train_data_map * (to_remove)\n",
    "\n",
    "\n",
    "        train_data_map = train_data_map.astype(bool)\n",
    "        test_data_map = test_data_map.astype(bool)\n",
    "\n",
    "        #############\n",
    "\n",
    "        data_train = feature_array[train_data_map]\n",
    "\n",
    "        labels_train = (y_user.argmax(axis=1) == auth_user)[train_data_map].astype(int)\n",
    "        \n",
    "        data_test = feature_array[test_data_map]\n",
    "        labels_test = (y_user.argmax(axis=1) == auth_user)[test_data_map].astype(int)\n",
    "\n",
    "        \n",
    "\n",
    "        for repetition in range(repetitions):\n",
    "            model = RandomForestClassifier(n_estimators = 100, random_state = repetition).fit(data_train, labels_train)\n",
    "            #, class_weight=\"balanced\"\n",
    "            \n",
    "\n",
    "            labels_pred = model.predict(data_test)\n",
    "\n",
    "\n",
    "            #get precision, recall, and F-measure scores\n",
    "            precision = precision_score(labels_test, labels_pred, average = 'macro', labels = np.unique(labels_pred))\n",
    "            recall = recall_score(labels_test, labels_pred, average = 'macro', labels = np.unique(labels_pred))\n",
    "            fmeasure = f1_score(labels_test, labels_pred, average = 'macro', labels = np.unique(labels_pred)) # macro vs binary\n",
    "            a_precisions.append(precision)\n",
    "            a_recalls.append(recall)\n",
    "            a_fmeasures.append(fmeasure)\n",
    "\n",
    "            #print(precision)\n",
    "            #print(recall)\n",
    "\n",
    "            #get EER and find the decision threshold and FAR when optimised for FRR\n",
    "            labels_scores = model.predict_proba(data_test)[:, 1]\n",
    "            scores_legit = [labels_scores[i] for i in range(len(labels_test)) if 1 == labels_test[i]]\n",
    "            scores_adv = [labels_scores[i] for i in range(len(labels_test)) if 0 == labels_test[i]]\n",
    "            eer_theta, eer = get_eer(scores_legit, scores_adv)\n",
    "            #print(f\"eer is {eer}\")\n",
    "            a_eers.append(eer)\n",
    "            a_eer_thetas.append(eer_theta)\n",
    "            far_theta, far = get_far_when_zero_frr(scores_legit, scores_adv)\n",
    "            a_fars.append(far)\n",
    "            a_far_thetas.append(far_theta)\n",
    "\n",
    "\n",
    "        a_pr_stdev = np.std(a_precisions, ddof = 1)\n",
    "        a_re_stdev = np.std(a_recalls, ddof = 1)\n",
    "        a_fm_stdev = np.std(a_fmeasures, ddof = 1)\n",
    "        a_ee_stdev = np.std(a_eers, ddof = 1)\n",
    "        a_ee_th_stdev = np.std(a_eer_thetas, ddof = 1)\n",
    "        a_fa_stdev = np.std(a_fars, ddof = 1)\n",
    "        a_fa_th_stdev = np.std(a_far_thetas, ddof = 1)\n",
    "\n",
    "        output[auth_user][\"fm\"].append(get_average(a_fmeasures))\n",
    "        output[auth_user][\"prec\"].append(get_average(a_precisions))\n",
    "        output[auth_user][\"rec\"].append(get_average(a_recalls))\n",
    "        output[auth_user][\"eer\"].append(get_average(a_eers))\n",
    "        output[auth_user][\"far\"].append(get_average(a_fars))\n",
    "\n",
    "    for stat in output[auth_user]:\n",
    "        fig = plt.figure(facecolor=(1, 1, 1))\n",
    "        ax = fig.add_axes([0,0,1,1])\n",
    "        ax.set_title(f\"{auth_user}_{stat}\")\n",
    "        ax.set_xlabel(\"% auth data in use\")\n",
    "        ax.plot(100 - np.array(range(0,100, 20)), np.array(output[auth_user][stat]))\n",
    "        fig.savefig(f\"images/{auth_user}_{stat}_replication_against_percentage_data.jpg\", bbox_inches='tight', dpi=150)\n",
    "        #plt.show()\n",
    "        plt.clf()\n",
    "\n",
    "    import pickle\n",
    "\n",
    "    with open('watch_auth_stats_partial_data_replication.pickle', 'wb') as handle:\n",
    "        pickle.dump(output, handle, protocol=pickle.HIGHEST_PROTOCOL)"
   ]
  },
  {
   "cell_type": "code",
   "execution_count": 23,
   "metadata": {
    "execution": {
     "iopub.execute_input": "2023-01-16T14:14:55.507171Z",
     "iopub.status.busy": "2023-01-16T14:14:55.504322Z",
     "iopub.status.idle": "2023-01-16T14:14:55.595074Z",
     "shell.execute_reply": "2023-01-16T14:14:55.594289Z",
     "shell.execute_reply.started": "2023-01-16T14:14:55.507131Z"
    }
   },
   "outputs": [
    {
     "name": "stdout",
     "output_type": "stream",
     "text": [
      "209\n",
      "206\n",
      "261\n",
      "194\n",
      "923\n",
      "225\n",
      "206\n",
      "223\n",
      "139\n",
      "136\n",
      "219\n",
      "271\n",
      "231\n",
      "254\n",
      "244\n",
      "254\n"
     ]
    }
   ],
   "source": [
    "for user in range(16):\n",
    "    print(sum((y_intent == 1) & (y_user.argmax(axis=1) == user)))"
   ]
  },
  {
   "cell_type": "code",
   "execution_count": 23,
   "metadata": {
    "execution": {
     "iopub.execute_input": "2023-01-15T17:40:35.622490Z",
     "iopub.status.busy": "2023-01-15T17:40:35.621946Z",
     "iopub.status.idle": "2023-01-15T17:40:35.645797Z",
     "shell.execute_reply": "2023-01-15T17:40:35.644842Z",
     "shell.execute_reply.started": "2023-01-15T17:40:35.622460Z"
    }
   },
   "outputs": [
    {
     "ename": "NameError",
     "evalue": "name 'labels_pred' is not defined",
     "output_type": "error",
     "traceback": [
      "\u001b[0;31m---------------------------------------------------------------------------\u001b[0m",
      "\u001b[0;31mNameError\u001b[0m                                 Traceback (most recent call last)",
      "Input \u001b[0;32mIn [23]\u001b[0m, in \u001b[0;36m<cell line: 1>\u001b[0;34m()\u001b[0m\n\u001b[0;32m----> 1\u001b[0m precision \u001b[38;5;241m=\u001b[39m precision_score(labels_test, \u001b[43mlabels_pred\u001b[49m, average \u001b[38;5;241m=\u001b[39m \u001b[38;5;124m'\u001b[39m\u001b[38;5;124mmacro\u001b[39m\u001b[38;5;124m'\u001b[39m, labels \u001b[38;5;241m=\u001b[39m np\u001b[38;5;241m.\u001b[39munique(labels_pred))\n\u001b[1;32m      2\u001b[0m recall \u001b[38;5;241m=\u001b[39m recall_score(labels_test, labels_pred, average \u001b[38;5;241m=\u001b[39m \u001b[38;5;124m'\u001b[39m\u001b[38;5;124mmacro\u001b[39m\u001b[38;5;124m'\u001b[39m, labels \u001b[38;5;241m=\u001b[39m np\u001b[38;5;241m.\u001b[39munique(labels_pred))\n\u001b[1;32m      3\u001b[0m fmeasure \u001b[38;5;241m=\u001b[39m f1_score(labels_test, labels_pred, average \u001b[38;5;241m=\u001b[39m \u001b[38;5;124m'\u001b[39m\u001b[38;5;124mmacro\u001b[39m\u001b[38;5;124m'\u001b[39m, labels \u001b[38;5;241m=\u001b[39m np\u001b[38;5;241m.\u001b[39munique(labels_pred))\n",
      "\u001b[0;31mNameError\u001b[0m: name 'labels_pred' is not defined"
     ]
    }
   ],
   "source": [
    "precision = precision_score(labels_test, labels_pred, average = 'macro', labels = np.unique(labels_pred))\n",
    "recall = recall_score(labels_test, labels_pred, average = 'macro', labels = np.unique(labels_pred))\n",
    "fmeasure = f1_score(labels_test, labels_pred, average = 'macro', labels = np.unique(labels_pred))\n",
    "\n",
    "\n",
    "print(precision)\n",
    "print(recall)\n",
    "print(fmeasure)\n",
    "\n",
    "print(np.unique(labels_test,return_counts=True))\n",
    "print(np.unique(labels_pred,return_counts=True))"
   ]
  },
  {
   "cell_type": "markdown",
   "metadata": {
    "nteract": {
     "transient": {
      "deleting": false
     }
    }
   },
   "source": [
    "## VAE with multiple outputs from latent space"
   ]
  },
  {
   "cell_type": "code",
   "execution_count": 12,
   "metadata": {
    "collapsed": false,
    "execution": {
     "iopub.execute_input": "2023-01-15T12:04:09.740517Z",
     "iopub.status.busy": "2023-01-15T12:04:09.740250Z",
     "iopub.status.idle": "2023-01-15T12:04:09.749121Z",
     "shell.execute_reply": "2023-01-15T12:04:09.747451Z",
     "shell.execute_reply.started": "2023-01-15T12:04:09.740492Z"
    },
    "gather": {
     "logged": 1668768846482
    },
    "jupyter": {
     "outputs_hidden": false,
     "source_hidden": false
    },
    "nteract": {
     "transient": {
      "deleting": false
     }
    }
   },
   "outputs": [],
   "source": [
    "class Sampling(layers.Layer):\n",
    "    \"\"\"Uses (z_mean, z_log_var) to sample z.\"\"\"\n",
    "\n",
    "    def call(self, inputs):\n",
    "        z_mean, z_log_var = inputs\n",
    "        batch = tf.shape(z_mean)[0]\n",
    "        dim = tf.shape(z_mean)[1]\n",
    "        epsilon = tf.keras.backend.random_normal(shape=(batch, dim))\n",
    "        return z_mean + tf.exp(0.5 * z_log_var) * epsilon"
   ]
  },
  {
   "cell_type": "code",
   "execution_count": 13,
   "metadata": {
    "collapsed": false,
    "execution": {
     "iopub.execute_input": "2023-01-15T12:04:09.751552Z",
     "iopub.status.busy": "2023-01-15T12:04:09.751193Z",
     "iopub.status.idle": "2023-01-15T12:04:09.774899Z",
     "shell.execute_reply": "2023-01-15T12:04:09.773528Z",
     "shell.execute_reply.started": "2023-01-15T12:04:09.751508Z"
    },
    "gather": {
     "logged": 1668768846964
    },
    "jupyter": {
     "outputs_hidden": false,
     "source_hidden": false
    },
    "nteract": {
     "transient": {
      "deleting": false
     }
    }
   },
   "outputs": [],
   "source": [
    "class VAE(keras.Model):\n",
    "    def __init__(self, encoder, decoder, _classifier = None, _auth = None, beta = 0.001, **kwargs):\n",
    "        super(VAE, self).__init__(**kwargs)\n",
    "        self.encoder = encoder\n",
    "        self.decoder = decoder\n",
    "\n",
    "        self.classifier = _classifier\n",
    "        self.auth = _auth\n",
    "        #self.classifier = keras.models.load_model(f'data/models/{model_name}.hdf5')\n",
    "\n",
    "        self.total_loss_tracker = keras.metrics.Mean(name=\"total_loss\")\n",
    "        self.reconstruction_loss_tracker = keras.metrics.Mean(\n",
    "            name=\"reconstruction_loss\"\n",
    "        )\n",
    "        self.feature_loss_tracker = keras.metrics.Mean(\n",
    "            name=\"feature_loss\"\n",
    "        )\n",
    "        self.classification_loss_tracker = keras.metrics.Mean(\n",
    "            name=\"classification_loss\"\n",
    "        )\n",
    "        self.reencoding_loss_tracker = keras.metrics.Mean(\n",
    "            name=\"reencoding_loss\"\n",
    "        )\n",
    "        self.auth_loss_tracker = keras.metrics.Mean(name=\"auth_loss\")\n",
    "        self.kl_loss_tracker = keras.metrics.Mean(name=\"kl_loss\")\n",
    "        \n",
    "        self.beta = beta\n",
    "\n",
    "    def save_model(self, folder, tag):\n",
    "        \n",
    "        with open(f'data/models/{folder}/enc_{tag}.pickle', 'wb') as f:\n",
    "            # Pickle the 'data' dictionary using the highest protocol available.\n",
    "            pickle.dump(self.encoder, f)\n",
    "\n",
    "        with open(f'data/models/{folder}/dec_{tag}.pickle', 'wb') as f:\n",
    "            # Pickle the 'data' dictionary using the highest protocol available.\n",
    "            pickle.dump(self.decoder, f)\n",
    "\n",
    "        with open(f'data/models/{folder}/auth_{tag}.pickle', 'wb') as f:\n",
    "            # Pickle the 'data' dictionary using the highest protocol available.\n",
    "            pickle.dump(self.auth, f)\n",
    "    \n",
    "    def load_model(self, folder, tag):\n",
    "        \n",
    "        with tf.keras.utils.custom_object_scope({'Sampling': Sampling}):\n",
    "            with open(f'data/models/{folder}/enc_{tag}.pickle', 'rb') as pickle_file:\n",
    "                self.encoder = pickle.load(pickle_file)\n",
    "            with open(f'data/models/{folder}/dec_{tag}.pickle', 'rb') as pickle_file:\n",
    "                self.decoder = pickle.load(pickle_file)\n",
    "            with open(f'data/models/{folder}/auth_{tag}.pickle', 'rb') as pickle_file:\n",
    "                self.auth = pickle.load(pickle_file)\n",
    "        \n",
    "        \n",
    "    @property\n",
    "    def metrics(self):\n",
    "        return [\n",
    "            self.total_loss_tracker,\n",
    "            self.reconstruction_loss_tracker,\n",
    "            self.feature_loss_tracker,\n",
    "            self.kl_loss_tracker,\n",
    "        ]\n",
    "\n",
    "    def train_step(self, data):\n",
    "        data, y_user_one_hot = data\n",
    "        print(data)\n",
    "        with tf.GradientTape() as tape:\n",
    "            z_mean, z_log_var, z = self.encoder(data)\n",
    "            reconstruction = self.decoder(z)\n",
    "\n",
    "            #data_probability = self.classifier(data)\n",
    "            #reconstruction_probability = self.classifier(reconstruction)\n",
    "            #classification_loss = tf.reduce_mean(abs(data_probability - reconstruction_probability))\n",
    "\n",
    "            reconstruction_loss = tf.reduce_mean(keras.losses.mse(data, reconstruction), axis=1) # * data_probability\n",
    "            \n",
    "            #re_encoded, _, _ = self.encoder(reconstruction)\n",
    "            #reencoding_loss = tf.reduce_mean(keras.losses.mse(z_mean, re_encoded))\n",
    "            \n",
    "            #feature_loss = tf.reduce_mean(keras.losses.MeanAbsolutePercentageError(self.batch_features(data), self.batch_features(reconstruction)))\n",
    "            \n",
    "            feature_loss = 0.5 * (tf.reduce_mean(keras.losses.mse(self.rolling_max(data), self.rolling_max(reconstruction))) + \n",
    "                                          tf.reduce_mean(keras.losses.mse(self.rolling_min(data), self.rolling_min(reconstruction))) )\n",
    "\n",
    "            #reconstruction_loss = tf.reduce_mean(keras.losses.mean_absolute_error(data, reconstruction), axis=1)\n",
    "            \n",
    "            kl_loss = -0.5 * (1 + z_log_var - tf.square(z_mean) - tf.exp(z_log_var))\n",
    "            kl_loss = tf.reduce_mean(tf.reduce_sum(kl_loss, axis=1))\n",
    "            \n",
    "            auth_output = self.auth(z)\n",
    "            \n",
    "            auth_loss = tfr.keras.losses.ApproxMRRLoss()(y_user_one_hot, auth_output) ## TODO - figure out how to get true values in here\n",
    "\n",
    "            sample_loss = 0.5 * reconstruction_loss + 0.5 * feature_loss #+ 0.0 * feature_loss\n",
    "            \n",
    "            total_loss = auth_loss + sample_loss + self.beta * kl_loss #+ classification_loss # + 0.1*feature_loss\n",
    "\n",
    "        grads = tape.gradient(total_loss, self.trainable_weights)\n",
    "        self.optimizer.apply_gradients(zip(grads, self.trainable_weights))\n",
    "        self.total_loss_tracker.update_state(total_loss)\n",
    "        self.reconstruction_loss_tracker.update_state(reconstruction_loss)\n",
    "        self.auth_loss_tracker.update_state(auth_loss)\n",
    "        #self.feature_loss_tracker.update_state(feature_loss)\n",
    "        #self.reencoding_loss_tracker.update_state(reencoding_loss)\n",
    "        #self.classification_loss_tracker.update_state(classification_loss) #\n",
    "        self.kl_loss_tracker.update_state(kl_loss)\n",
    "        return {\n",
    "            \"loss\": self.total_loss_tracker.result(),\n",
    "            \"reconstruction_loss\": self.reconstruction_loss_tracker.result(),\n",
    "            \"classification_loss\": self.classification_loss_tracker.result(),\n",
    "            \"feature_loss\"       : self.feature_loss_tracker.result(),\n",
    "            \"auth_loss\": self.auth_loss_tracker.result(),\n",
    "            \"kl_loss\": self.kl_loss_tracker.result(),\n",
    "        }\n",
    "\n",
    "\n",
    "    def batch_features(self, x):\n",
    "        feature_list = []\n",
    "        #_max = tf.math.reduce_max(x, axis=1)\n",
    "        #_min = tf.math.reduce_min(x, axis=1)\n",
    "        _segment_max = self.rolling_max(x)\n",
    "        _segment_min = self.rolling_min(x)\n",
    "        _range = _segment_max - _segment_min\n",
    "        \n",
    "        _mean = tf.math.reduce_mean(_range, axis=0)\n",
    "        _std = tf.math.reduce_std(_range, axis=0)\n",
    "        \n",
    "        return [ _mean, _std] # _max, _min,\n",
    "\n",
    "\n",
    "    def rolling_max(self, x):\n",
    "        return tf.nn.pool(\n",
    "            x,\n",
    "            (5,),\n",
    "            \"MAX\",\n",
    "            strides=(1,),\n",
    "            padding='VALID'\n",
    "        )\n",
    "    \n",
    "    def rolling_min(self, x):\n",
    "        return -tf.nn.pool(\n",
    "            -x,\n",
    "            (5,),\n",
    "            \"MAX\",\n",
    "            strides=(1,),\n",
    "            padding='VALID'\n",
    "        )\n",
    "        \n",
    "    def rolling_mean(self, x):\n",
    "        return tf.nn.pool(\n",
    "            x,\n",
    "            (5,),\n",
    "            \"MEAN\",\n",
    "            strides=(5,),\n",
    "            padding='VALID'\n",
    "        )\n",
    "        "
   ]
  },
  {
   "cell_type": "code",
   "execution_count": 14,
   "metadata": {
    "collapsed": false,
    "execution": {
     "iopub.execute_input": "2023-01-15T12:04:09.780493Z",
     "iopub.status.busy": "2023-01-15T12:04:09.779475Z",
     "iopub.status.idle": "2023-01-15T12:04:10.304573Z",
     "shell.execute_reply": "2023-01-15T12:04:10.302765Z",
     "shell.execute_reply.started": "2023-01-15T12:04:09.780436Z"
    },
    "gather": {
     "logged": 1668768850233
    },
    "jupyter": {
     "outputs_hidden": false
    },
    "nteract": {
     "transient": {
      "deleting": false
     }
    }
   },
   "outputs": [
    {
     "ename": "NameError",
     "evalue": "name 'unweighted_data' is not defined",
     "output_type": "error",
     "traceback": [
      "\u001b[0;31m---------------------------------------------------------------------------\u001b[0m",
      "\u001b[0;31mNameError\u001b[0m                                 Traceback (most recent call last)",
      "Input \u001b[0;32mIn [14]\u001b[0m, in \u001b[0;36m<cell line: 5>\u001b[0;34m()\u001b[0m\n\u001b[1;32m      1\u001b[0m auth_user \u001b[38;5;241m=\u001b[39m \u001b[38;5;241m15\u001b[39m\n\u001b[1;32m      2\u001b[0m auth_map \u001b[38;5;241m=\u001b[39m (y_intent \u001b[38;5;241m==\u001b[39m \u001b[38;5;241m1\u001b[39m) \u001b[38;5;241m&\u001b[39m (y_user\u001b[38;5;241m.\u001b[39margmax(axis\u001b[38;5;241m=\u001b[39m\u001b[38;5;241m1\u001b[39m) \u001b[38;5;241m!=\u001b[39m auth_user)\n\u001b[0;32m----> 5\u001b[0m weighted_auth_data \u001b[38;5;241m=\u001b[39m np\u001b[38;5;241m.\u001b[39mconcatenate([\u001b[43munweighted_data\u001b[49m[y_user\u001b[38;5;241m.\u001b[39margmax(axis\u001b[38;5;241m=\u001b[39m\u001b[38;5;241m1\u001b[39m) \u001b[38;5;241m!=\u001b[39m auth_user]] \u001b[38;5;241m+\u001b[39m [unweighted_data[auth_map] \u001b[38;5;28;01mfor\u001b[39;00m i \u001b[38;5;129;01min\u001b[39;00m \u001b[38;5;28mrange\u001b[39m(\u001b[38;5;241m20\u001b[39m)])\n\u001b[1;32m      6\u001b[0m weighted_y_auth_data \u001b[38;5;241m=\u001b[39m np\u001b[38;5;241m.\u001b[39mconcatenate([y_user[y_user\u001b[38;5;241m.\u001b[39margmax(axis\u001b[38;5;241m=\u001b[39m\u001b[38;5;241m1\u001b[39m) \u001b[38;5;241m!=\u001b[39m auth_user]] \u001b[38;5;241m+\u001b[39m [y_user[auth_map] \u001b[38;5;28;01mfor\u001b[39;00m i \u001b[38;5;129;01min\u001b[39;00m \u001b[38;5;28mrange\u001b[39m(\u001b[38;5;241m20\u001b[39m)])\n\u001b[1;32m      8\u001b[0m vae \u001b[38;5;241m=\u001b[39m VAE(\u001b[38;5;28;01mNone\u001b[39;00m, \u001b[38;5;28;01mNone\u001b[39;00m, \u001b[38;5;28;01mNone\u001b[39;00m)\n",
      "\u001b[0;31mNameError\u001b[0m: name 'unweighted_data' is not defined"
     ]
    }
   ],
   "source": [
    "auth_user = 15\n",
    "auth_map = (y_intent == 1) & (y_user.argmax(axis=1) != auth_user)\n",
    "\n",
    "\n",
    "weighted_auth_data = np.concatenate([unweighted_data[y_user.argmax(axis=1) != auth_user]] + [unweighted_data[auth_map] for i in range(20)])\n",
    "weighted_y_auth_data = np.concatenate([y_user[y_user.argmax(axis=1) != auth_user]] + [y_user[auth_map] for i in range(20)])\n",
    "\n",
    "vae = VAE(None, None, None)\n",
    "vae.load_model(\"no_15\", \"all_data\")\n",
    "\n",
    "opt = keras.optimizers.Adam()\n",
    "\n"
   ]
  },
  {
   "cell_type": "code",
   "execution_count": null,
   "metadata": {},
   "outputs": [],
   "source": []
  }
 ],
 "metadata": {
  "kernel_info": {
   "name": "python3"
  },
  "kernelspec": {
   "display_name": "Python 3 (ipykernel)",
   "language": "python",
   "name": "python3"
  },
  "language_info": {
   "codemirror_mode": {
    "name": "ipython",
    "version": 3
   },
   "file_extension": ".py",
   "mimetype": "text/x-python",
   "name": "python",
   "nbconvert_exporter": "python",
   "pygments_lexer": "ipython3",
   "version": "3.9.13"
  },
  "microsoft": {
   "host": {
    "AzureML": {
     "notebookHasBeenCompleted": true
    }
   }
  },
  "nteract": {
   "version": "nteract-front-end@1.0.0"
  }
 },
 "nbformat": 4,
 "nbformat_minor": 4
}
