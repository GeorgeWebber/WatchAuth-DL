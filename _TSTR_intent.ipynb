{
 "cells": [
  {
   "cell_type": "code",
   "execution_count": 1,
   "id": "f224f03d-a7ed-480d-bddc-4f6d43f1b917",
   "metadata": {
    "execution": {
     "iopub.execute_input": "2023-04-25T18:26:35.584946Z",
     "iopub.status.busy": "2023-04-25T18:26:35.584053Z",
     "iopub.status.idle": "2023-04-25T18:27:37.919216Z",
     "shell.execute_reply": "2023-04-25T18:27:37.918432Z",
     "shell.execute_reply.started": "2023-04-25T18:26:35.584844Z"
    },
    "scrolled": true,
    "tags": []
   },
   "outputs": [
    {
     "name": "stdout",
     "output_type": "stream",
     "text": [
      "Collecting tensorflow_ranking\n",
      "  Downloading tensorflow_ranking-0.5.2-py2.py3-none-any.whl (150 kB)\n",
      "\u001b[2K     \u001b[90m━━━━━━━━━━━━━━━━━━━━━━━━━━━━━━━━━━━━━━\u001b[0m \u001b[32m150.4/150.4 kB\u001b[0m \u001b[31m23.0 MB/s\u001b[0m eta \u001b[36m0:00:00\u001b[0m\n",
      "\u001b[?25hCollecting tensorflow_probability\n",
      "  Downloading tensorflow_probability-0.19.0-py2.py3-none-any.whl (6.7 MB)\n",
      "\u001b[2K     \u001b[90m━━━━━━━━━━━━━━━━━━━━━━━━━━━━━━━━━━━━━━━━\u001b[0m \u001b[32m6.7/6.7 MB\u001b[0m \u001b[31m71.3 MB/s\u001b[0m eta \u001b[36m0:00:00\u001b[0m:00:01\u001b[0m00:01\u001b[0m\n",
      "\u001b[?25hCollecting numba\n",
      "  Downloading numba-0.56.4-cp39-cp39-manylinux2014_x86_64.manylinux_2_17_x86_64.whl (3.5 MB)\n",
      "\u001b[2K     \u001b[90m━━━━━━━━━━━━━━━━━━━━━━━━━━━━━━━━━━━━━━━━\u001b[0m \u001b[32m3.5/3.5 MB\u001b[0m \u001b[31m85.8 MB/s\u001b[0m eta \u001b[36m0:00:00\u001b[0m:00:01\u001b[0m\n",
      "\u001b[?25hRequirement already satisfied: torch in /usr/local/lib/python3.9/dist-packages (1.12.0+cu116)\n",
      "Collecting tensorflow-serving-api<3.0.0,>=2.0.0\n",
      "  Downloading tensorflow_serving_api-2.11.1-py2.py3-none-any.whl (37 kB)\n",
      "Requirement already satisfied: six>=1.10.0 in /usr/lib/python3/dist-packages (from tensorflow_ranking) (1.14.0)\n",
      "Requirement already satisfied: absl-py>=0.1.6 in /usr/local/lib/python3.9/dist-packages (from tensorflow_ranking) (1.1.0)\n",
      "Collecting numpy==1.23.2\n",
      "  Downloading numpy-1.23.2-cp39-cp39-manylinux_2_17_x86_64.manylinux2014_x86_64.whl (17.1 MB)\n",
      "\u001b[2K     \u001b[90m━━━━━━━━━━━━━━━━━━━━━━━━━━━━━━━━━━━━━━━━\u001b[0m \u001b[32m17.1/17.1 MB\u001b[0m \u001b[31m60.7 MB/s\u001b[0m eta \u001b[36m0:00:00\u001b[0m00:01\u001b[0m00:01\u001b[0m\n",
      "\u001b[?25hRequirement already satisfied: cloudpickle>=1.3 in /usr/local/lib/python3.9/dist-packages (from tensorflow_probability) (2.1.0)\n",
      "Collecting dm-tree\n",
      "  Downloading dm_tree-0.1.8-cp39-cp39-manylinux_2_17_x86_64.manylinux2014_x86_64.whl (153 kB)\n",
      "\u001b[2K     \u001b[90m━━━━━━━━━━━━━━━━━━━━━━━━━━━━━━━━━━━━━━\u001b[0m \u001b[32m153.0/153.0 kB\u001b[0m \u001b[31m36.5 MB/s\u001b[0m eta \u001b[36m0:00:00\u001b[0m\n",
      "\u001b[?25hRequirement already satisfied: decorator in /usr/local/lib/python3.9/dist-packages (from tensorflow_probability) (5.1.1)\n",
      "Requirement already satisfied: gast>=0.3.2 in /usr/local/lib/python3.9/dist-packages (from tensorflow_probability) (0.4.0)\n",
      "Requirement already satisfied: setuptools in /usr/local/lib/python3.9/dist-packages (from numba) (63.1.0)\n",
      "Collecting llvmlite<0.40,>=0.39.0dev0\n",
      "  Downloading llvmlite-0.39.1-cp39-cp39-manylinux_2_17_x86_64.manylinux2014_x86_64.whl (34.6 MB)\n",
      "\u001b[2K     \u001b[90m━━━━━━━━━━━━━━━━━━━━━━━━━━━━━━━━━━━━━━━━\u001b[0m \u001b[32m34.6/34.6 MB\u001b[0m \u001b[31m43.1 MB/s\u001b[0m eta \u001b[36m0:00:00\u001b[0m00:01\u001b[0m00:01\u001b[0m\n",
      "\u001b[?25hRequirement already satisfied: typing-extensions in /usr/local/lib/python3.9/dist-packages (from torch) (4.3.0)\n",
      "Requirement already satisfied: protobuf<3.20,>=3.9.2 in /usr/local/lib/python3.9/dist-packages (from tensorflow-serving-api<3.0.0,>=2.0.0->tensorflow_ranking) (3.19.4)\n",
      "Collecting tensorflow<3,>=2.11.1\n",
      "  Downloading tensorflow-2.12.0-cp39-cp39-manylinux_2_17_x86_64.manylinux2014_x86_64.whl (585.9 MB)\n",
      "\u001b[2K     \u001b[90m━━━━━━━━━━━━━━━━━━━━━━━━━━━━━━━━━━━━━━━\u001b[0m \u001b[32m585.9/585.9 MB\u001b[0m \u001b[31m3.6 MB/s\u001b[0m eta \u001b[36m0:00:00\u001b[0m00:01\u001b[0m00:01\u001b[0m\n",
      "\u001b[?25hRequirement already satisfied: grpcio<2.0,>=1.24.3 in /usr/local/lib/python3.9/dist-packages (from tensorflow-serving-api<3.0.0,>=2.0.0->tensorflow_ranking) (1.47.0)\n",
      "Collecting keras<2.13,>=2.12.0\n",
      "  Downloading keras-2.12.0-py2.py3-none-any.whl (1.7 MB)\n",
      "\u001b[2K     \u001b[90m━━━━━━━━━━━━━━━━━━━━━━━━━━━━━━━━━━━━━━━━\u001b[0m \u001b[32m1.7/1.7 MB\u001b[0m \u001b[31m84.3 MB/s\u001b[0m eta \u001b[36m0:00:00\u001b[0m\n",
      "\u001b[?25hRequirement already satisfied: google-pasta>=0.1.1 in /usr/local/lib/python3.9/dist-packages (from tensorflow<3,>=2.11.1->tensorflow-serving-api<3.0.0,>=2.0.0->tensorflow_ranking) (0.2.0)\n",
      "Requirement already satisfied: astunparse>=1.6.0 in /usr/local/lib/python3.9/dist-packages (from tensorflow<3,>=2.11.1->tensorflow-serving-api<3.0.0,>=2.0.0->tensorflow_ranking) (1.6.3)\n",
      "Requirement already satisfied: packaging in /usr/local/lib/python3.9/dist-packages (from tensorflow<3,>=2.11.1->tensorflow-serving-api<3.0.0,>=2.0.0->tensorflow_ranking) (21.3)\n",
      "Collecting tensorboard<2.13,>=2.12\n",
      "  Downloading tensorboard-2.12.2-py3-none-any.whl (5.6 MB)\n",
      "\u001b[2K     \u001b[90m━━━━━━━━━━━━━━━━━━━━━━━━━━━━━━━━━━━━━━━━\u001b[0m \u001b[32m5.6/5.6 MB\u001b[0m \u001b[31m96.0 MB/s\u001b[0m eta \u001b[36m0:00:00\u001b[0m:00:01\u001b[0m\n",
      "\u001b[?25hRequirement already satisfied: wrapt<1.15,>=1.11.0 in /usr/local/lib/python3.9/dist-packages (from tensorflow<3,>=2.11.1->tensorflow-serving-api<3.0.0,>=2.0.0->tensorflow_ranking) (1.14.1)\n",
      "Collecting tensorflow<3,>=2.11.1\n",
      "  Downloading tensorflow-2.11.1-cp39-cp39-manylinux_2_17_x86_64.manylinux2014_x86_64.whl (588.3 MB)\n",
      "\u001b[2K     \u001b[90m━━━━━━━━━━━━━━━━━━━━━━━━━━━━━━━━━━━━━━━\u001b[0m \u001b[32m588.3/588.3 MB\u001b[0m \u001b[31m3.4 MB/s\u001b[0m eta \u001b[36m0:00:00\u001b[0m00:01\u001b[0m00:01\u001b[0m\n",
      "\u001b[?25hRequirement already satisfied: libclang>=13.0.0 in /usr/local/lib/python3.9/dist-packages (from tensorflow<3,>=2.11.1->tensorflow-serving-api<3.0.0,>=2.0.0->tensorflow_ranking) (14.0.1)\n",
      "Requirement already satisfied: termcolor>=1.1.0 in /usr/local/lib/python3.9/dist-packages (from tensorflow<3,>=2.11.1->tensorflow-serving-api<3.0.0,>=2.0.0->tensorflow_ranking) (1.1.0)\n",
      "Requirement already satisfied: opt-einsum>=2.3.2 in /usr/local/lib/python3.9/dist-packages (from tensorflow<3,>=2.11.1->tensorflow-serving-api<3.0.0,>=2.0.0->tensorflow_ranking) (3.3.0)\n",
      "Collecting flatbuffers>=2.0\n",
      "  Downloading flatbuffers-23.3.3-py2.py3-none-any.whl (26 kB)\n",
      "Requirement already satisfied: tensorflow-io-gcs-filesystem>=0.23.1 in /usr/local/lib/python3.9/dist-packages (from tensorflow<3,>=2.11.1->tensorflow-serving-api<3.0.0,>=2.0.0->tensorflow_ranking) (0.26.0)\n",
      "Requirement already satisfied: h5py>=2.9.0 in /usr/local/lib/python3.9/dist-packages (from tensorflow<3,>=2.11.1->tensorflow-serving-api<3.0.0,>=2.0.0->tensorflow_ranking) (3.7.0)\n",
      "Collecting tensorboard<2.12,>=2.11\n",
      "  Downloading tensorboard-2.11.2-py3-none-any.whl (6.0 MB)\n",
      "\u001b[2K     \u001b[90m━━━━━━━━━━━━━━━━━━━━━━━━━━━━━━━━━━━━━━━━\u001b[0m \u001b[32m6.0/6.0 MB\u001b[0m \u001b[31m84.1 MB/s\u001b[0m eta \u001b[36m0:00:00\u001b[0m:00:01\u001b[0m00:01\u001b[0m\n",
      "\u001b[?25hCollecting tensorflow-estimator<2.12,>=2.11.0\n",
      "  Downloading tensorflow_estimator-2.11.0-py2.py3-none-any.whl (439 kB)\n",
      "\u001b[2K     \u001b[90m━━━━━━━━━━━━━━━━━━━━━━━━━━━━━━━━━━━━━━\u001b[0m \u001b[32m439.2/439.2 kB\u001b[0m \u001b[31m65.1 MB/s\u001b[0m eta \u001b[36m0:00:00\u001b[0m\n",
      "\u001b[?25hCollecting keras<2.12,>=2.11.0\n",
      "  Downloading keras-2.11.0-py2.py3-none-any.whl (1.7 MB)\n",
      "\u001b[2K     \u001b[90m━━━━━━━━━━━━━━━━━━━━━━━━━━━━━━━━━━━━━━━━\u001b[0m \u001b[32m1.7/1.7 MB\u001b[0m \u001b[31m93.9 MB/s\u001b[0m eta \u001b[36m0:00:00\u001b[0m\n",
      "\u001b[?25hRequirement already satisfied: wheel<1.0,>=0.23.0 in /usr/local/lib/python3.9/dist-packages (from astunparse>=1.6.0->tensorflow<3,>=2.11.1->tensorflow-serving-api<3.0.0,>=2.0.0->tensorflow_ranking) (0.35.1)\n",
      "Requirement already satisfied: werkzeug>=1.0.1 in /usr/local/lib/python3.9/dist-packages (from tensorboard<2.12,>=2.11->tensorflow<3,>=2.11.1->tensorflow-serving-api<3.0.0,>=2.0.0->tensorflow_ranking) (2.1.2)\n",
      "Requirement already satisfied: google-auth<3,>=1.6.3 in /usr/local/lib/python3.9/dist-packages (from tensorboard<2.12,>=2.11->tensorflow<3,>=2.11.1->tensorflow-serving-api<3.0.0,>=2.0.0->tensorflow_ranking) (2.9.0)\n",
      "Requirement already satisfied: tensorboard-plugin-wit>=1.6.0 in /usr/local/lib/python3.9/dist-packages (from tensorboard<2.12,>=2.11->tensorflow<3,>=2.11.1->tensorflow-serving-api<3.0.0,>=2.0.0->tensorflow_ranking) (1.8.1)\n",
      "Requirement already satisfied: google-auth-oauthlib<0.5,>=0.4.1 in /usr/local/lib/python3.9/dist-packages (from tensorboard<2.12,>=2.11->tensorflow<3,>=2.11.1->tensorflow-serving-api<3.0.0,>=2.0.0->tensorflow_ranking) (0.4.6)\n",
      "Requirement already satisfied: markdown>=2.6.8 in /usr/local/lib/python3.9/dist-packages (from tensorboard<2.12,>=2.11->tensorflow<3,>=2.11.1->tensorflow-serving-api<3.0.0,>=2.0.0->tensorflow_ranking) (3.3.7)\n",
      "Requirement already satisfied: requests<3,>=2.21.0 in /usr/local/lib/python3.9/dist-packages (from tensorboard<2.12,>=2.11->tensorflow<3,>=2.11.1->tensorflow-serving-api<3.0.0,>=2.0.0->tensorflow_ranking) (2.28.1)\n",
      "Requirement already satisfied: tensorboard-data-server<0.7.0,>=0.6.0 in /usr/local/lib/python3.9/dist-packages (from tensorboard<2.12,>=2.11->tensorflow<3,>=2.11.1->tensorflow-serving-api<3.0.0,>=2.0.0->tensorflow_ranking) (0.6.1)\n",
      "Requirement already satisfied: pyparsing!=3.0.5,>=2.0.2 in /usr/local/lib/python3.9/dist-packages (from packaging->tensorflow<3,>=2.11.1->tensorflow-serving-api<3.0.0,>=2.0.0->tensorflow_ranking) (3.0.9)\n",
      "Requirement already satisfied: cachetools<6.0,>=2.0.0 in /usr/local/lib/python3.9/dist-packages (from google-auth<3,>=1.6.3->tensorboard<2.12,>=2.11->tensorflow<3,>=2.11.1->tensorflow-serving-api<3.0.0,>=2.0.0->tensorflow_ranking) (5.2.0)\n",
      "Requirement already satisfied: pyasn1-modules>=0.2.1 in /usr/local/lib/python3.9/dist-packages (from google-auth<3,>=1.6.3->tensorboard<2.12,>=2.11->tensorflow<3,>=2.11.1->tensorflow-serving-api<3.0.0,>=2.0.0->tensorflow_ranking) (0.2.8)\n",
      "Requirement already satisfied: rsa<5,>=3.1.4 in /usr/lib/python3/dist-packages (from google-auth<3,>=1.6.3->tensorboard<2.12,>=2.11->tensorflow<3,>=2.11.1->tensorflow-serving-api<3.0.0,>=2.0.0->tensorflow_ranking) (4.0)\n",
      "Requirement already satisfied: requests-oauthlib>=0.7.0 in /usr/local/lib/python3.9/dist-packages (from google-auth-oauthlib<0.5,>=0.4.1->tensorboard<2.12,>=2.11->tensorflow<3,>=2.11.1->tensorflow-serving-api<3.0.0,>=2.0.0->tensorflow_ranking) (1.3.1)\n",
      "Requirement already satisfied: importlib-metadata>=4.4 in /usr/local/lib/python3.9/dist-packages (from markdown>=2.6.8->tensorboard<2.12,>=2.11->tensorflow<3,>=2.11.1->tensorflow-serving-api<3.0.0,>=2.0.0->tensorflow_ranking) (4.12.0)\n",
      "Requirement already satisfied: urllib3<1.27,>=1.21.1 in /usr/local/lib/python3.9/dist-packages (from requests<3,>=2.21.0->tensorboard<2.12,>=2.11->tensorflow<3,>=2.11.1->tensorflow-serving-api<3.0.0,>=2.0.0->tensorflow_ranking) (1.26.10)\n",
      "Requirement already satisfied: charset-normalizer<3,>=2 in /usr/local/lib/python3.9/dist-packages (from requests<3,>=2.21.0->tensorboard<2.12,>=2.11->tensorflow<3,>=2.11.1->tensorflow-serving-api<3.0.0,>=2.0.0->tensorflow_ranking) (2.1.0)\n",
      "Requirement already satisfied: certifi>=2017.4.17 in /usr/lib/python3/dist-packages (from requests<3,>=2.21.0->tensorboard<2.12,>=2.11->tensorflow<3,>=2.11.1->tensorflow-serving-api<3.0.0,>=2.0.0->tensorflow_ranking) (2019.11.28)\n",
      "Requirement already satisfied: idna<4,>=2.5 in /usr/lib/python3/dist-packages (from requests<3,>=2.21.0->tensorboard<2.12,>=2.11->tensorflow<3,>=2.11.1->tensorflow-serving-api<3.0.0,>=2.0.0->tensorflow_ranking) (2.8)\n",
      "Requirement already satisfied: zipp>=0.5 in /usr/local/lib/python3.9/dist-packages (from importlib-metadata>=4.4->markdown>=2.6.8->tensorboard<2.12,>=2.11->tensorflow<3,>=2.11.1->tensorflow-serving-api<3.0.0,>=2.0.0->tensorflow_ranking) (3.8.1)\n",
      "Requirement already satisfied: pyasn1<0.5.0,>=0.4.6 in /usr/local/lib/python3.9/dist-packages (from pyasn1-modules>=0.2.1->google-auth<3,>=1.6.3->tensorboard<2.12,>=2.11->tensorflow<3,>=2.11.1->tensorflow-serving-api<3.0.0,>=2.0.0->tensorflow_ranking) (0.4.8)\n",
      "Requirement already satisfied: oauthlib>=3.0.0 in /usr/local/lib/python3.9/dist-packages (from requests-oauthlib>=0.7.0->google-auth-oauthlib<0.5,>=0.4.1->tensorboard<2.12,>=2.11->tensorflow<3,>=2.11.1->tensorflow-serving-api<3.0.0,>=2.0.0->tensorflow_ranking) (3.2.0)\n",
      "Installing collected packages: flatbuffers, dm-tree, tensorflow-estimator, numpy, llvmlite, keras, tensorflow_probability, numba, tensorboard, tensorflow, tensorflow-serving-api, tensorflow_ranking\n",
      "  Attempting uninstall: flatbuffers\n",
      "    Found existing installation: flatbuffers 1.12\n",
      "    Uninstalling flatbuffers-1.12:\n",
      "      Successfully uninstalled flatbuffers-1.12\n",
      "  Attempting uninstall: tensorflow-estimator\n",
      "    Found existing installation: tensorflow-estimator 2.9.0\n",
      "    Uninstalling tensorflow-estimator-2.9.0:\n",
      "      Successfully uninstalled tensorflow-estimator-2.9.0\n",
      "  Attempting uninstall: numpy\n",
      "    Found existing installation: numpy 1.23.1\n",
      "    Uninstalling numpy-1.23.1:\n",
      "      Successfully uninstalled numpy-1.23.1\n",
      "  Attempting uninstall: keras\n",
      "    Found existing installation: keras 2.9.0\n",
      "    Uninstalling keras-2.9.0:\n",
      "      Successfully uninstalled keras-2.9.0\n",
      "  Attempting uninstall: tensorboard\n",
      "    Found existing installation: tensorboard 2.9.1\n",
      "    Uninstalling tensorboard-2.9.1:\n",
      "      Successfully uninstalled tensorboard-2.9.1\n",
      "  Attempting uninstall: tensorflow\n",
      "    Found existing installation: tensorflow 2.9.1\n",
      "    Uninstalling tensorflow-2.9.1:\n",
      "      Successfully uninstalled tensorflow-2.9.1\n",
      "\u001b[31mERROR: pip's dependency resolver does not currently take into account all the packages that are installed. This behaviour is the source of the following dependency conflicts.\n",
      "jaxlib 0.3.8+cuda11.cudnn82 requires flatbuffers<3.0,>=1.12, but you have flatbuffers 23.3.3 which is incompatible.\u001b[0m\u001b[31m\n",
      "\u001b[0mSuccessfully installed dm-tree-0.1.8 flatbuffers-23.3.3 keras-2.11.0 llvmlite-0.39.1 numba-0.56.4 numpy-1.23.2 tensorboard-2.11.2 tensorflow-2.11.1 tensorflow-estimator-2.11.0 tensorflow-serving-api-2.11.1 tensorflow_probability-0.19.0 tensorflow_ranking-0.5.2\n",
      "\u001b[33mWARNING: Running pip as the 'root' user can result in broken permissions and conflicting behaviour with the system package manager. It is recommended to use a virtual environment instead: https://pip.pypa.io/warnings/venv\u001b[0m\u001b[33m\n",
      "\u001b[0m"
     ]
    }
   ],
   "source": [
    " !pip install tensorflow_ranking tensorflow_probability numba torch"
   ]
  },
  {
   "cell_type": "code",
   "execution_count": 2,
   "id": "94b96e04-a793-4531-b483-158d41770b03",
   "metadata": {
    "execution": {
     "iopub.execute_input": "2023-04-25T18:27:37.920765Z",
     "iopub.status.busy": "2023-04-25T18:27:37.920520Z",
     "iopub.status.idle": "2023-04-25T18:27:45.952118Z",
     "shell.execute_reply": "2023-04-25T18:27:45.951291Z",
     "shell.execute_reply.started": "2023-04-25T18:27:37.920743Z"
    },
    "tags": []
   },
   "outputs": [
    {
     "name": "stderr",
     "output_type": "stream",
     "text": [
      "2023-04-25 18:27:39.803448: I tensorflow/core/platform/cpu_feature_guard.cc:193] This TensorFlow binary is optimized with oneAPI Deep Neural Network Library (oneDNN) to use the following CPU instructions in performance-critical operations:  AVX2 FMA\n",
      "To enable them in other operations, rebuild TensorFlow with the appropriate compiler flags.\n",
      "2023-04-25 18:27:40.857501: W tensorflow/compiler/xla/stream_executor/platform/default/dso_loader.cc:64] Could not load dynamic library 'libnvinfer.so.7'; dlerror: libnvinfer.so.7: cannot open shared object file: No such file or directory; LD_LIBRARY_PATH: /usr/local/nvidia/lib:/usr/local/nvidia/lib64\n",
      "2023-04-25 18:27:40.857633: W tensorflow/compiler/xla/stream_executor/platform/default/dso_loader.cc:64] Could not load dynamic library 'libnvinfer_plugin.so.7'; dlerror: libnvinfer_plugin.so.7: cannot open shared object file: No such file or directory; LD_LIBRARY_PATH: /usr/local/nvidia/lib:/usr/local/nvidia/lib64\n",
      "2023-04-25 18:27:40.857658: W tensorflow/compiler/tf2tensorrt/utils/py_utils.cc:38] TF-TRT Warning: Cannot dlopen some TensorRT libraries. If you would like to use Nvidia GPU with TensorRT, please make sure the missing libraries mentioned above are installed properly.\n"
     ]
    }
   ],
   "source": [
    "import pandas as pd\n",
    "import numpy as np\n",
    "from matplotlib import pyplot as plt\n",
    "\n",
    "import tensorflow as tf\n",
    "import tensorflow_ranking as tfr\n",
    "from tensorflow import keras\n",
    "from tensorflow.keras import layers\n",
    "from tensorflow.keras.layers import Dense, Flatten, LSTM, Permute, Conv1D, MaxPooling1D, Conv2D, MaxPooling2D, Reshape, Dropout\n",
    "\n",
    "from keras.regularizers import l2, l1\n",
    "from keras.optimizers import Adam\n",
    "\n",
    "import torch\n",
    "\n",
    "import sklearn\n",
    "from sklearn.decomposition import PCA\n",
    "from sklearn.utils import class_weight\n",
    "from sklearn.metrics import f1_score\n",
    "from sklearn.utils import shuffle\n",
    "from sklearn.pipeline import make_pipeline\n",
    "from sklearn.preprocessing import StandardScaler\n",
    "from sklearn.svm import SVC\n",
    "\n",
    "from sklearn.ensemble import RandomForestClassifier\n",
    "\n",
    "import pickle\n",
    "\n",
    "from VAE import Sampling, VAE, get_auth_model_from_latent_space, get_decoder, get_encoder\n",
    "from VAE_torch import VAE as VAE_torch, Encoder, Decoder\n",
    "from WAE import WAE\n",
    "from scaler import CustomScaler\n",
    "\n",
    "from featurize import filter as _filter, featurize, FILTER_INDICES\n",
    "FILTER_INDICES = [0,1,2,3,4,5]\n",
    "\n",
    "from visualise import *\n"
   ]
  },
  {
   "cell_type": "code",
   "execution_count": 3,
   "id": "f06d9f03-bd87-4fa9-8b02-9444650f1790",
   "metadata": {
    "execution": {
     "iopub.execute_input": "2023-04-25T18:31:41.979770Z",
     "iopub.status.busy": "2023-04-25T18:31:41.978471Z",
     "iopub.status.idle": "2023-04-25T18:31:45.271995Z",
     "shell.execute_reply": "2023-04-25T18:31:45.270914Z",
     "shell.execute_reply.started": "2023-04-25T18:31:41.979709Z"
    },
    "tags": []
   },
   "outputs": [
    {
     "name": "stdout",
     "output_type": "stream",
     "text": [
      "/device:GPU:0\n",
      "(34255, 200, 6)\n"
     ]
    }
   ],
   "source": [
    "tf.get_logger().setLevel('ERROR')\n",
    "\n",
    "device_name = tf.test.gpu_device_name()\n",
    "print(device_name)\n",
    "\n",
    "file_name = \"raw_with_maps\" # or offsets_2\n",
    "\n",
    "x_data = np.load(f\"data/processed/x_{file_name}_filtered.npy\")[:,:,[0,1,2,4,5,6]]\n",
    "print(x_data.shape)\n",
    "\n",
    "#from featurize import filter as _filter, ORDER, CUTOFF, FILTER_INDICES\n",
    "#x_data = _filter(x_data, FILTER_INDICES, ORDER, CUTOFF)\n",
    "\n",
    "y_user = np.load(f\"data/processed/y_user_{file_name}.npy\")\n",
    "y_intent = np.load(f\"data/processed/y_intent_{file_name}.npy\").astype(int)\n",
    "y_gesture = np.load(f\"data/processed/y_gesture_type_{file_name}.npy\")\n",
    "\n",
    "train_gesture_map = np.load(f\"data/processed/train_gesture_map_{file_name}.npy\").astype(int)\n",
    "test_gesture_map = np.load(f\"data/processed/test_gesture_map_{file_name}.npy\").astype(int)\n",
    "\n",
    "###\n",
    "np.random.seed(42)\n",
    "kFold = sklearn.model_selection.StratifiedKFold(n_splits=10, shuffle=True)\n",
    "val_map = next(kFold.split(x_data[train_gesture_map == 1], y_user[train_gesture_map == 1].argmax(axis=1) ))[1]\n",
    "val_map_all = np.zeros(len(x_data[train_gesture_map == 1]))\n",
    "val_map_all[val_map] = 1\n",
    "val_map = val_map_all == 1\n",
    "\n",
    "\n",
    "\n",
    "_map = (train_gesture_map == 1) & ((y_user.argmax(axis=1) >= 10))\n",
    "\n",
    "user_x = x_data[_map]\n",
    "user_y = y_user.argmax(axis=1)[_map]\n",
    "\n",
    "def show_visuals(vae, is_wae=False, user_x = user_x, user_y=user_y, top_5 = False):\n",
    "    \n",
    "    #plot_standard_devs(vae, vae.scaler.transform(user_x), user_y)\n",
    "    \n",
    "    plot_label_clusters(vae, vae.scaler.transform(user_x), user_y, is_wae=is_wae, top_5=top_5)\n",
    "    visualise(vae, vae.scaler.transform(user_x), user_y, 10, is_wae=is_wae, top_5=top_5)\n",
    "    plot_reconstructed_curves(vae, vae.scaler.transform(user_x), channel=0, is_wae=is_wae)\n",
    "\n",
    "def stitch_histories(history1, history2):\n",
    "    for key in history1:\n",
    "        history1[key] += list(history2[key])\n",
    "    return history1\n"
   ]
  },
  {
   "cell_type": "code",
   "execution_count": 4,
   "id": "6466db09-cb16-41e0-b8e8-e6132722beb6",
   "metadata": {
    "execution": {
     "iopub.execute_input": "2023-04-25T18:31:45.273847Z",
     "iopub.status.busy": "2023-04-25T18:31:45.273591Z",
     "iopub.status.idle": "2023-04-25T18:31:45.420272Z",
     "shell.execute_reply": "2023-04-25T18:31:45.419553Z",
     "shell.execute_reply.started": "2023-04-25T18:31:45.273824Z"
    },
    "tags": []
   },
   "outputs": [
    {
     "data": {
      "text/plain": [
       "[<matplotlib.lines.Line2D at 0x7f525431bcd0>]"
      ]
     },
     "execution_count": 4,
     "metadata": {},
     "output_type": "execute_result"
    },
    {
     "data": {
      "image/png": "[encoded data removed]",
      "text/plain": [
       "<Figure size 432x288 with 1 Axes>"
      ]
     },
     "metadata": {
      "needs_background": "light"
     },
     "output_type": "display_data"
    }
   ],
   "source": [
    "plt.plot(x_data[0,:,-1])"
   ]
  },
  {
   "cell_type": "code",
   "execution_count": null,
   "id": "9bbe612e-cd2c-4fe3-a3ca-8e4e2b7c9cce",
   "metadata": {},
   "outputs": [],
   "source": []
  },
  {
   "cell_type": "code",
   "execution_count": 4,
   "id": "3d543674-ac74-46e8-b6c5-393914e60890",
   "metadata": {},
   "outputs": [],
   "source": [
    "a = 1"
   ]
  },
  {
   "cell_type": "code",
   "execution_count": null,
   "id": "a309d034-0363-47f8-9579-4081b53974c6",
   "metadata": {
    "execution": {
     "iopub.execute_input": "2023-04-25T18:33:52.822235Z",
     "iopub.status.busy": "2023-04-25T18:33:52.821901Z"
    },
    "scrolled": true,
    "tags": []
   },
   "outputs": [
    {
     "name": "stdout",
     "output_type": "stream",
     "text": [
      "Old data\n"
     ]
    },
    {
     "data": {
      "image/png": "[encoded data removed]",
      "text/plain": [
       "<Figure size 432x288 with 1 Axes>"
      ]
     },
     "metadata": {
      "needs_background": "light"
     },
     "output_type": "display_data"
    },
    {
     "name": "stdout",
     "output_type": "stream",
     "text": [
      "F1 score        : 0.8240850059031876\n",
      "AUROC           : 0.9451948438064092\n",
      "EER             : 0.12442396313364056\n",
      "frr_at_eer      : 0.1271889400921659\n",
      "far at zero frr : 0.9990783410138249\n",
      "frr at 'zero' frr : 0.0009216589861751152\n",
      "vae_lbkeogh_mod_stats_beta=1_10\n",
      "New data\n"
     ]
    },
    {
     "data": {
      "image/png": "[encoded data removed]",
      "text/plain": [
       "<Figure size 432x288 with 1 Axes>"
      ]
     },
     "metadata": {
      "needs_background": "light"
     },
     "output_type": "display_data"
    },
    {
     "name": "stdout",
     "output_type": "stream",
     "text": [
      "F1 score        : 0.4941176470588235\n",
      "AUROC           : 0.7358062392490815\n",
      "EER             : 0.24608294930875577\n",
      "frr_at_eer      : 0.27004608294930876\n",
      "far at zero frr : 1.0\n",
      "frr at 'zero' frr : 0.0009216589861751152\n",
      "vae_lbkeogh_mod_stats_beta=0.1_10\n",
      "New data\n"
     ]
    },
    {
     "data": {
      "image/png": "[encoded data removed]",
      "text/plain": [
       "<Figure size 432x288 with 1 Axes>"
      ]
     },
     "metadata": {
      "needs_background": "light"
     },
     "output_type": "display_data"
    },
    {
     "name": "stdout",
     "output_type": "stream",
     "text": [
      "F1 score        : 0.3704256908140403\n",
      "AUROC           : 0.7133823185882054\n",
      "EER             : 0.24516129032258063\n",
      "frr_at_eer      : 0.2764976958525346\n",
      "far at zero frr : 1.0\n",
      "frr at 'zero' frr : 0.0009216589861751152\n",
      "vae_lbkeogh_mod_stats_beta=0.01_10\n",
      "New data\n"
     ]
    },
    {
     "data": {
      "image/png": "[encoded data removed]",
      "text/plain": [
       "<Figure size 432x288 with 1 Axes>"
      ]
     },
     "metadata": {
      "needs_background": "light"
     },
     "output_type": "display_data"
    },
    {
     "name": "stdout",
     "output_type": "stream",
     "text": [
      "F1 score        : 0.6425000000000001\n",
      "AUROC           : 0.7429021639873431\n",
      "EER             : 0.22672811059907835\n",
      "frr_at_eer      : 0.27004608294930876\n",
      "far at zero frr : 0.9990783410138249\n",
      "frr at 'zero' frr : 0.0009216589861751152\n",
      "vae_lbkeogh_mod_stats_beta=0.001_10\n",
      "New data\n"
     ]
    },
    {
     "data": {
      "image/png": "[encoded data removed]",
      "text/plain": [
       "<Figure size 432x288 with 1 Axes>"
      ]
     },
     "metadata": {
      "needs_background": "light"
     },
     "output_type": "display_data"
    },
    {
     "name": "stdout",
     "output_type": "stream",
     "text": [
      "F1 score        : 0.8086021505376344\n",
      "AUROC           : 0.8957161969886811\n",
      "EER             : 0.09493087557603687\n",
      "frr_at_eer      : 0.11612903225806452\n",
      "far at zero frr : 1.0\n",
      "frr at 'zero' frr : 0.0009216589861751152\n",
      "vae_lbkeogh_mod_stats_beta=0.0001_10\n",
      "New data\n"
     ]
    },
    {
     "data": {
      "image/png": "[encoded data removed]",
      "text/plain": [
       "<Figure size 432x288 with 1 Axes>"
      ]
     },
     "metadata": {
      "needs_background": "light"
     },
     "output_type": "display_data"
    },
    {
     "name": "stdout",
     "output_type": "stream",
     "text": [
      "F1 score        : 0.8211169284467714\n",
      "AUROC           : 0.8712336214402514\n",
      "EER             : 0.19631336405529953\n",
      "frr_at_eer      : 0.19723502304147467\n",
      "far at zero frr : 1.0\n",
      "frr at 'zero' frr : 0.0009216589861751152\n",
      "vae_lbkeogh_mod_stats_beta=1e-05_10\n",
      "New data\n"
     ]
    },
    {
     "data": {
      "image/png": "[encoded data removed]",
      "text/plain": [
       "<Figure size 432x288 with 1 Axes>"
      ]
     },
     "metadata": {
      "needs_background": "light"
     },
     "output_type": "display_data"
    },
    {
     "name": "stdout",
     "output_type": "stream",
     "text": [
      "F1 score        : 0.7871416159860989\n",
      "AUROC           : 0.8198687591581899\n",
      "EER             : 0.2368663594470046\n",
      "frr_at_eer      : 0.2368663594470046\n",
      "far at zero frr : 1.0\n",
      "frr at 'zero' frr : 0.0009216589861751152\n",
      "vae_lbkeogh_mod_stats_beta=1e-06_10\n",
      "New data\n"
     ]
    },
    {
     "data": {
      "image/png": "[encoded data removed]",
      "text/plain": [
       "<Figure size 432x288 with 1 Axes>"
      ]
     },
     "metadata": {
      "needs_background": "light"
     },
     "output_type": "display_data"
    },
    {
     "name": "stdout",
     "output_type": "stream",
     "text": [
      "F1 score        : 0.827176220806794\n",
      "AUROC           : 0.902762428592665\n",
      "EER             : 0.19723502304147467\n",
      "frr_at_eer      : 0.19723502304147467\n",
      "far at zero frr : 0.9935483870967742\n",
      "frr at 'zero' frr : 0.0009216589861751152\n",
      "Old data\n"
     ]
    },
    {
     "data": {
      "image/png": "[encoded data removed]",
      "text/plain": [
       "<Figure size 432x288 with 1 Axes>"
      ]
     },
     "metadata": {
      "needs_background": "light"
     },
     "output_type": "display_data"
    },
    {
     "name": "stdout",
     "output_type": "stream",
     "text": [
      "F1 score        : 0.7603669724770642\n",
      "AUROC           : 0.8130004884367898\n",
      "EER             : 0.2571428571428571\n",
      "frr_at_eer      : 0.2571428571428571\n",
      "far at zero frr : 0.9981566820276497\n",
      "frr at 'zero' frr : 0.0009216589861751152\n",
      "vae_lbkeogh_mod_stats_beta=1_10\n",
      "New data\n"
     ]
    },
    {
     "data": {
      "image/png": "[encoded data removed]",
      "text/plain": [
       "<Figure size 432x288 with 1 Axes>"
      ]
     },
     "metadata": {
      "needs_background": "light"
     },
     "output_type": "display_data"
    },
    {
     "name": "stdout",
     "output_type": "stream",
     "text": [
      "F1 score        : 0.3764002987303958\n",
      "AUROC           : 0.7002650300494808\n",
      "EER             : 0.28755760368663597\n",
      "frr_at_eer      : 0.295852534562212\n",
      "far at zero frr : 1.0\n",
      "frr at 'zero' frr : 0.0009216589861751152\n",
      "vae_lbkeogh_mod_stats_beta=0.1_10\n",
      "New data\n"
     ]
    },
    {
     "data": {
      "image/png": "[encoded data removed]",
      "text/plain": [
       "<Figure size 432x288 with 1 Axes>"
      ]
     },
     "metadata": {
      "needs_background": "light"
     },
     "output_type": "display_data"
    },
    {
     "name": "stdout",
     "output_type": "stream",
     "text": [
      "F1 score        : 0.06422836752899198\n",
      "AUROC           : 0.767219945210134\n",
      "EER             : 0.24516129032258063\n",
      "frr_at_eer      : 0.24516129032258063\n",
      "far at zero frr : 1.0\n",
      "frr at 'zero' frr : 0.0009216589861751152\n",
      "vae_lbkeogh_mod_stats_beta=0.01_10\n",
      "New data\n"
     ]
    },
    {
     "data": {
      "image/png": "[encoded data removed]",
      "text/plain": [
       "<Figure size 432x288 with 1 Axes>"
      ]
     },
     "metadata": {
      "needs_background": "light"
     },
     "output_type": "display_data"
    },
    {
     "name": "stdout",
     "output_type": "stream",
     "text": [
      "F1 score        : 0.6471321695760599\n",
      "AUROC           : 0.7576941536239885\n",
      "EER             : 0.24608294930875577\n",
      "frr_at_eer      : 0.24976958525345622\n",
      "far at zero frr : 1.0\n",
      "frr at 'zero' frr : 0.0009216589861751152\n",
      "vae_lbkeogh_mod_stats_beta=0.001_10\n",
      "New data\n"
     ]
    },
    {
     "data": {
      "image/png": "[encoded data removed]",
      "text/plain": [
       "<Figure size 432x288 with 1 Axes>"
      ]
     },
     "metadata": {
      "needs_background": "light"
     },
     "output_type": "display_data"
    },
    {
     "name": "stdout",
     "output_type": "stream",
     "text": [
      "F1 score        : 0.8291644491750931\n",
      "AUROC           : 0.9084699186646562\n",
      "EER             : 0.12995391705069123\n",
      "frr_at_eer      : 0.13179723502304147\n",
      "far at zero frr : 1.0\n",
      "frr at 'zero' frr : 0.0009216589861751152\n",
      "vae_lbkeogh_mod_stats_beta=0.0001_10\n",
      "New data\n"
     ]
    },
    {
     "data": {
      "image/png": "[encoded data removed]",
      "text/plain": [
       "<Figure size 432x288 with 1 Axes>"
      ]
     },
     "metadata": {
      "needs_background": "light"
     },
     "output_type": "display_data"
    },
    {
     "name": "stdout",
     "output_type": "stream",
     "text": [
      "F1 score        : 0.7907184292726462\n",
      "AUROC           : 0.856017753615494\n",
      "EER             : 0.22119815668202766\n",
      "frr_at_eer      : 0.22119815668202766\n",
      "far at zero frr : 1.0\n",
      "frr at 'zero' frr : 0.0009216589861751152\n",
      "vae_lbkeogh_mod_stats_beta=1e-05_10\n",
      "New data\n"
     ]
    },
    {
     "data": {
      "image/png": "[encoded data removed]",
      "text/plain": [
       "<Figure size 432x288 with 1 Axes>"
      ]
     },
     "metadata": {
      "needs_background": "light"
     },
     "output_type": "display_data"
    },
    {
     "name": "stdout",
     "output_type": "stream",
     "text": [
      "F1 score        : 0.8316120341266278\n",
      "AUROC           : 0.8777548896769946\n",
      "EER             : 0.19170506912442398\n",
      "frr_at_eer      : 0.19170506912442398\n",
      "far at zero frr : 0.9898617511520738\n",
      "frr at 'zero' frr : 0.0009216589861751152\n",
      "vae_lbkeogh_mod_stats_beta=1e-06_10\n",
      "New data\n"
     ]
    },
    {
     "data": {
      "image/png": "[encoded data removed]",
      "text/plain": [
       "<Figure size 432x288 with 1 Axes>"
      ]
     },
     "metadata": {
      "needs_background": "light"
     },
     "output_type": "display_data"
    },
    {
     "name": "stdout",
     "output_type": "stream",
     "text": [
      "F1 score        : 0.8341111582520153\n",
      "AUROC           : 0.8552710824183991\n",
      "EER             : 0.21566820276497695\n",
      "frr_at_eer      : 0.21566820276497695\n",
      "far at zero frr : 1.0\n",
      "frr at 'zero' frr : 0.0009216589861751152\n",
      "Old data\n"
     ]
    },
    {
     "data": {
      "image/png": "[encoded data removed]",
      "text/plain": [
       "<Figure size 432x288 with 1 Axes>"
      ]
     },
     "metadata": {
      "needs_background": "light"
     },
     "output_type": "display_data"
    },
    {
     "name": "stdout",
     "output_type": "stream",
     "text": [
      "F1 score        : 0.8029595015576324\n",
      "AUROC           : 0.9365660770031217\n",
      "EER             : 0.15023041474654378\n",
      "frr_at_eer      : 0.15115207373271888\n",
      "far at zero frr : 1.0\n",
      "frr at 'zero' frr : 0.0009216589861751152\n",
      "vae_lbkeogh_mod_stats_beta=1_10\n",
      "New data\n"
     ]
    },
    {
     "data": {
      "image/png": "[encoded data removed]",
      "text/plain": [
       "<Figure size 432x288 with 1 Axes>"
      ]
     },
     "metadata": {
      "needs_background": "light"
     },
     "output_type": "display_data"
    },
    {
     "name": "stdout",
     "output_type": "stream",
     "text": [
      "F1 score        : 0.09467455621301775\n",
      "AUROC           : 0.6991186901399478\n",
      "EER             : 0.25622119815668204\n",
      "frr_at_eer      : 0.2608294930875576\n",
      "far at zero frr : 1.0\n",
      "frr at 'zero' frr : 0.0009216589861751152\n",
      "vae_lbkeogh_mod_stats_beta=0.1_10\n",
      "New data\n"
     ]
    },
    {
     "data": {
      "image/png": "[encoded data removed]",
      "text/plain": [
       "<Figure size 432x288 with 1 Axes>"
      ]
     },
     "metadata": {
      "needs_background": "light"
     },
     "output_type": "display_data"
    },
    {
     "name": "stdout",
     "output_type": "stream",
     "text": [
      "F1 score        : 0.6613201727328809\n",
      "AUROC           : 0.8212941451294358\n",
      "EER             : 0.2543778801843318\n",
      "frr_at_eer      : 0.25806451612903225\n",
      "far at zero frr : 1.0\n",
      "frr at 'zero' frr : 0.0009216589861751152\n",
      "vae_lbkeogh_mod_stats_beta=0.01_10\n",
      "New data\n"
     ]
    },
    {
     "data": {
      "image/png": "[encoded data removed]",
      "text/plain": [
       "<Figure size 432x288 with 1 Axes>"
      ]
     },
     "metadata": {
      "needs_background": "light"
     },
     "output_type": "display_data"
    },
    {
     "name": "stdout",
     "output_type": "stream",
     "text": [
      "F1 score        : 0.5759162303664922\n",
      "AUROC           : 0.7147299794007094\n",
      "EER             : 0.2783410138248848\n",
      "frr_at_eer      : 0.3244239631336406\n",
      "far at zero frr : 1.0\n",
      "frr at 'zero' frr : 0.0009216589861751152\n",
      "vae_lbkeogh_mod_stats_beta=0.001_10\n",
      "New data\n"
     ]
    },
    {
     "data": {
      "image/png": "[encoded data removed]",
      "text/plain": [
       "<Figure size 432x288 with 1 Axes>"
      ]
     },
     "metadata": {
      "needs_background": "light"
     },
     "output_type": "display_data"
    },
    {
     "name": "stdout",
     "output_type": "stream",
     "text": [
      "F1 score        : 0.8372827804107424\n",
      "AUROC           : 0.9244418016946633\n",
      "EER             : 0.13548387096774195\n",
      "frr_at_eer      : 0.13548387096774195\n",
      "far at zero frr : 1.0\n",
      "frr at 'zero' frr : 0.0009216589861751152\n",
      "vae_lbkeogh_mod_stats_beta=0.0001_10\n",
      "New data\n"
     ]
    },
    {
     "data": {
      "image/png": "[encoded data removed]",
      "text/plain": [
       "<Figure size 432x288 with 1 Axes>"
      ]
     },
     "metadata": {
      "needs_background": "light"
     },
     "output_type": "display_data"
    },
    {
     "name": "stdout",
     "output_type": "stream",
     "text": [
      "F1 score        : 0.812384473197782\n",
      "AUROC           : 0.8604833400581876\n",
      "EER             : 0.18525345622119815\n",
      "frr_at_eer      : 0.18617511520737326\n",
      "far at zero frr : 1.0\n",
      "frr at 'zero' frr : 0.0009216589861751152\n",
      "vae_lbkeogh_mod_stats_beta=1e-05_10\n",
      "New data\n"
     ]
    },
    {
     "data": {
      "image/png": "[encoded data removed]",
      "text/plain": [
       "<Figure size 432x288 with 1 Axes>"
      ]
     },
     "metadata": {
      "needs_background": "light"
     },
     "output_type": "display_data"
    },
    {
     "name": "stdout",
     "output_type": "stream",
     "text": [
      "F1 score        : 0.7546296296296297\n",
      "AUROC           : 0.8056089532587231\n",
      "EER             : 0.24147465437788018\n",
      "frr_at_eer      : 0.2423963133640553\n",
      "far at zero frr : 0.9953917050691244\n",
      "frr at 'zero' frr : 0.0009216589861751152\n",
      "vae_lbkeogh_mod_stats_beta=1e-06_10\n",
      "New data\n"
     ]
    },
    {
     "data": {
      "image/png": "[encoded data removed]",
      "text/plain": [
       "<Figure size 432x288 with 1 Axes>"
      ]
     },
     "metadata": {
      "needs_background": "light"
     },
     "output_type": "display_data"
    },
    {
     "name": "stdout",
     "output_type": "stream",
     "text": [
      "F1 score        : 0.8375838926174497\n",
      "AUROC           : 0.8724020471872411\n",
      "EER             : 0.18064516129032257\n",
      "frr_at_eer      : 0.18064516129032257\n",
      "far at zero frr : 1.0\n",
      "frr at 'zero' frr : 0.0009216589861751152\n",
      "Old data\n"
     ]
    },
    {
     "data": {
      "image/png": "[encoded data removed]",
      "text/plain": [
       "<Figure size 432x288 with 1 Axes>"
      ]
     },
     "metadata": {
      "needs_background": "light"
     },
     "output_type": "display_data"
    },
    {
     "name": "stdout",
     "output_type": "stream",
     "text": [
      "F1 score        : 0.7546754675467549\n",
      "AUROC           : 0.8360852853107945\n",
      "EER             : 0.23963133640552994\n",
      "frr_at_eer      : 0.24147465437788018\n",
      "far at zero frr : 1.0\n",
      "frr at 'zero' frr : 0.0009216589861751152\n",
      "vae_lbkeogh_mod_stats_beta=1_10\n",
      "New data\n"
     ]
    }
   ],
   "source": [
    "model_names = [ \"naive_autoencoder_TORCH_softdtw_10\", \"naive_autoencoder_lbkeogh_mod_stats_10\", \"naive_autoencoder_mse_10\",\"naive_autoencoder_lbkeogh_mod_10\",  #  \"naive_autoencoder_lbkeogh_10\",\n",
    "              \"naive_autoencoder_mse_stats_10\"] # \"naive_autoencoder_lbkeogh_stats_10\",\n",
    "# \"naive_autoencoder_TORCH_softdtw_10\",\n",
    "\n",
    "model_names = [ \"naive_autoencoder_TORCH_softdtw_10\"]\n",
    "\n",
    "model_names = [f\"vae_lbkeogh_mod_stats_beta={beta}_10\" for beta in [1, 1e-1, 1e-2, 1e-3, 1e-4, 1e-5, 1e-6]]\n",
    "\n",
    "total_results = [] \n",
    "\n",
    "for rep in range(5):\n",
    "    results_dict = {}\n",
    "\n",
    "    #model_names = [ \"naive_autoencoder_lbkeogh_mod_stats_v2_10\"] #\"naive_autoencoder_TORCH_softdtw\",\n",
    "    #model_names = [\"wae_lbkeogh_mod_beta=0.0001_lsauth_10\"]\n",
    "\n",
    "    val_data_x = x_data[train_gesture_map==1][val_map]\n",
    "    test_length = len(x_data[test_gesture_map == 1])\n",
    "\n",
    "    \n",
    "    old_data_x = np.concatenate([val_data_x, x_data[y_intent == 0][:240]], axis=0)\n",
    "    old_scaler = CustomScaler()\n",
    "    old_scaler.CHANNELS = 6\n",
    "    old_data_x = old_scaler.fit_and_transform(old_data_x)\n",
    "    old_data_y = np.concatenate([np.ones(len(val_data_x)), np.zeros(240)])\n",
    "\n",
    "\n",
    "\n",
    "    old_test_x = np.concatenate([old_scaler.transform(x_data[test_gesture_map == 1]), x_data[y_intent == 0][240:240+test_length]])\n",
    "    old_test_y = np.concatenate([np.ones(test_length), np.zeros(test_length)])\n",
    "\n",
    "    print(\"Old data\")\n",
    "    old_model = get_complex_mix_model()\n",
    "    old_model.compile(loss=\"binary_crossentropy\", optimizer=tf.keras.optimizers.Adam(learning_rate=1e-4))\n",
    "\n",
    "    np.random.seed(1)\n",
    "    classification_kFold = sklearn.model_selection.StratifiedKFold(n_splits=5, shuffle=True)\n",
    "    classification_val_map = next(kFold.split(old_data_x, old_data_y))[1]\n",
    "\n",
    "    classification_val_map_all = np.zeros(len(val_data_x)+240)\n",
    "    classification_val_map_all[classification_val_map] = 1\n",
    "    classification_val_map = classification_val_map_all == 1\n",
    "\n",
    "    early_stopping_callback = tf.keras.callbacks.EarlyStopping(monitor='val_loss', start_from_epoch=10,\n",
    "                                                               patience=25, restore_best_weights=True)\n",
    "\n",
    "    history = old_model.fit(old_data_x[~classification_val_map], old_data_y[~classification_val_map], epochs=300,\n",
    "                            batch_size=32, verbose=0,\n",
    "                            validation_data=(old_data_x[classification_val_map], old_data_y[classification_val_map]),\n",
    "                       callbacks=[early_stopping_callback])\n",
    "\n",
    "    output = np.squeeze(old_model(old_test_x))\n",
    "    pred = np.squeeze(output > 0.5)\n",
    "    results_dict[\"original\"] = show_evaluate_model(old_test_y, pred, output)\n",
    "    old_model = None\n",
    "    del old_model\n",
    "    \n",
    "    for vae_model_name in model_names:\n",
    "        print(vae_model_name)\n",
    "\n",
    "        if \"TORCH\" in vae_model_name:\n",
    "            with open(f'data/models/Gen/enc_{vae_model_name}.pickle', 'rb') as pickle_file:\n",
    "                encoder = pickle.load(pickle_file)\n",
    "            with open(f'data/models/Gen/dec_{vae_model_name}.pickle', 'rb') as pickle_file:\n",
    "                decoder = pickle.load(pickle_file)\n",
    "            vae = VAE_torch(latent_dim=10)\n",
    "            vae.encoder = encoder\n",
    "            vae.decoder = decoder\n",
    "            vae.fit_scaler(np.swapaxes(x_data[test_gesture_map == 0], 1,2))\n",
    "            encoder = None\n",
    "            decoder = None\n",
    "        else:\n",
    "            if \"wae\" in vae_model_name:\n",
    "                vae = WAE(None, None, None, None, scale_included=True)\n",
    "            else:\n",
    "                vae = VAE(None, None, None, None, scale_included=True, loss_func=\"MSE\")\n",
    "            vae.load_model(\"Gen\", vae_model_name)\n",
    "\n",
    "        #show_visuals(vae)\n",
    "\n",
    "        train_data_x = vae.scaler.transform(x_data[train_gesture_map==1][~val_map])\n",
    "        train_data_y = y_user[train_gesture_map==1][~val_map]\n",
    "\n",
    "        val_data_x = vae.scaler.transform(x_data[train_gesture_map==1][val_map])\n",
    "        val_data_y = y_user[train_gesture_map==1][val_map]\n",
    "\n",
    "        if \"TORCH\" in vae_model_name:\n",
    "            val_data_x = np.swapaxes(val_data_x, 1,2)\n",
    "            new_data, _, _ = vae.encoder(torch.Tensor(val_data_x).to(\"cuda\"))\n",
    "            new_data = vae.scaler.inverse_transform(vae.decoder(new_data).detach().cpu().numpy())\n",
    "            new_data = np.swapaxes(new_data, 1,2)\n",
    "            val_data_x = np.swapaxes(val_data_x, 1,2)\n",
    "        elif \"wae\" in vae_model_name:\n",
    "            new_data = vae.encoder(val_data_x)\n",
    "            new_data = vae.scaler.inverse_transform(vae.decoder(new_data).numpy())\n",
    "        else:\n",
    "            new_data, _, _ = vae.encoder(val_data_x)\n",
    "            new_data = vae.scaler.inverse_transform(vae.decoder(new_data).numpy())\n",
    "\n",
    "\n",
    "        new_data_x = np.concatenate([new_data, x_data[y_intent == 0][:240]], axis=0)\n",
    "        new_scaler = CustomScaler()\n",
    "        new_scaler.CHANNELS = 6\n",
    "        new_data_x = new_scaler.fit_and_transform(new_data_x)\n",
    "        new_data_y = np.concatenate([np.ones(len(new_data)), np.zeros(240)])\n",
    "\n",
    "\n",
    "        new_test_x = np.concatenate([new_scaler.transform(x_data[test_gesture_map == 1]), x_data[y_intent == 0][240:240+test_length]])\n",
    "        new_test_y = np.concatenate([np.ones(test_length), np.zeros(test_length)])\n",
    "\n",
    "\n",
    "        print(\"New data\")\n",
    "        new_model = get_complex_mix_model()\n",
    "        new_model.compile(loss=\"binary_crossentropy\", optimizer=tf.keras.optimizers.Adam(learning_rate=1e-4))\n",
    "\n",
    "        np.random.seed(1)\n",
    "        classification_kFold = sklearn.model_selection.StratifiedKFold(n_splits=5, shuffle=True)\n",
    "        classification_val_map = next(kFold.split(new_data_x, new_data_y))[1]\n",
    "\n",
    "        classification_val_map_all = np.zeros(len(new_data_x))\n",
    "        classification_val_map_all[classification_val_map] = 1\n",
    "        classification_val_map = classification_val_map_all == 1\n",
    "\n",
    "        early_stopping_callback = tf.keras.callbacks.EarlyStopping(monitor='val_loss', start_from_epoch=10,\n",
    "                                                                   patience=25, restore_best_weights=True)\n",
    "\n",
    "        history = new_model.fit(new_data_x[~classification_val_map], new_data_y[~classification_val_map], epochs=300,\n",
    "                                batch_size=32, verbose=0,\n",
    "                                validation_data=(new_data_x[classification_val_map], new_data_y[classification_val_map]),\n",
    "                           callbacks=[early_stopping_callback])\n",
    "\n",
    "        output = np.squeeze(new_model(new_test_x))\n",
    "        pred = np.squeeze(output > 0.5)\n",
    "        results_dict[vae_model_name] = show_evaluate_model(new_test_y, pred, output)\n",
    "\n",
    "        new_model = None\n",
    "        del new_model\n",
    "        \n",
    "    total_results.append(results_dict)\n",
    "\n",
    "    import pickle\n",
    "    with open(\"data/stats/Gen/TSTR_intent_vaes_final.pickle\", \"wb\") as file:\n",
    "        pickle.dump(total_results, file)\n",
    "\n",
    "with open(\"data/stats/Gen/TSTR_intent_vaes_final.pickle\", \"wb\") as file:\n",
    "    pickle.dump(total_results, file)\n",
    "    \n",
    "# vaes is also saved down now :-)"
   ]
  },
  {
   "cell_type": "code",
   "execution_count": 8,
   "id": "36886846-620e-454c-a19b-beda5a9c5cea",
   "metadata": {
    "execution": {
     "iopub.execute_input": "2023-04-25T18:32:19.966061Z",
     "iopub.status.busy": "2023-04-25T18:32:19.965235Z",
     "iopub.status.idle": "2023-04-25T18:32:19.973635Z",
     "shell.execute_reply": "2023-04-25T18:32:19.972790Z",
     "shell.execute_reply.started": "2023-04-25T18:32:19.966012Z"
    }
   },
   "outputs": [],
   "source": [
    "with open(\"data/stats/Gen/TSTR_intent_WatchAuth_repeated.pickle\", \"rb\") as file:\n",
    "    total_results_WA = pickle.load(file)\n",
    "    \n",
    "with open(\"data/stats/Gen/TSTR_intent_repeated.pickle\", \"rb\") as file:\n",
    "    total_results_DL = pickle.load(file)\n",
    "\n",
    "\n",
    "with open(\"data/stats/Gen/TSTR_intent_repeated_original.pickle\", \"rb\") as file:\n",
    "    total_results_DL_original = pickle.load(file)\n",
    "    \n",
    "with open(\"data/stats/Gen/TSTR_intent_vaes_final.pickle\", \"rb\") as file:\n",
    "    total_results_vaes = pickle.load(file)\n",
    "    \n",
    "total_results = total_results_vaes"
   ]
  },
  {
   "cell_type": "code",
   "execution_count": 10,
   "id": "c2264e00-6795-46a4-9694-71006e3323d6",
   "metadata": {
    "execution": {
     "iopub.execute_input": "2023-04-25T18:32:27.378940Z",
     "iopub.status.busy": "2023-04-25T18:32:27.377926Z",
     "iopub.status.idle": "2023-04-25T18:32:27.387723Z",
     "shell.execute_reply": "2023-04-25T18:32:27.384486Z",
     "shell.execute_reply.started": "2023-04-25T18:32:27.378902Z"
    }
   },
   "outputs": [
    {
     "name": "stdout",
     "output_type": "stream",
     "text": [
      "original\n",
      "0.1456221198156682\n",
      "vae_lbkeogh_mod_stats_beta=1_10\n",
      "0.2328110599078341\n",
      "vae_lbkeogh_mod_stats_beta=0.1_10\n",
      "0.2792626728110599\n",
      "vae_lbkeogh_mod_stats_beta=0.01_10\n",
      "0.2731797235023042\n",
      "vae_lbkeogh_mod_stats_beta=0.001_10\n",
      "0.1456221198156682\n",
      "vae_lbkeogh_mod_stats_beta=0.0001_10\n",
      "0.20313364055299538\n",
      "vae_lbkeogh_mod_stats_beta=1e-05_10\n",
      "0.20829493087557602\n",
      "vae_lbkeogh_mod_stats_beta=1e-06_10\n",
      "0.20073732718894008\n"
     ]
    }
   ],
   "source": [
    "import pickle\n",
    "model_names = list(total_results[0].keys())\n",
    "\n",
    "#with open(\"data/stats/Gen/TSTR_intent_part_2.pickle\", \"wb\") as file:\n",
    "#    pickle.dump(results_dict, file)\n",
    "#results_dict\n",
    "for model in model_names: # [\"original\"] + \n",
    "    print(model)\n",
    "    stat = \"eer\"\n",
    "    total = 0\n",
    "    for d in total_results:\n",
    "        total += d[model][stat] / 5\n",
    "    print(total)\n"
   ]
  },
  {
   "cell_type": "code",
   "execution_count": 22,
   "id": "c18946ff-c864-44eb-b0c8-4db281490d42",
   "metadata": {
    "scrolled": true,
    "tags": []
   },
   "outputs": [
    {
     "name": "stdout",
     "output_type": "stream",
     "text": [
      "eer\n",
      "original\n",
      "0.1456221198156682\n",
      "vae_lbkeogh_mod_stats_beta=1_10\n",
      "0.2328110599078341\n",
      "vae_lbkeogh_mod_stats_beta=0.1_10\n",
      "0.2792626728110599\n",
      "vae_lbkeogh_mod_stats_beta=0.01_10\n",
      "0.2731797235023042\n",
      "vae_lbkeogh_mod_stats_beta=0.001_10\n",
      "0.1456221198156682\n",
      "vae_lbkeogh_mod_stats_beta=0.0001_10\n",
      "0.20313364055299538\n",
      "vae_lbkeogh_mod_stats_beta=1e-05_10\n",
      "0.20829493087557602\n",
      "vae_lbkeogh_mod_stats_beta=1e-06_10\n",
      "0.20073732718894008\n",
      "far\n",
      "original\n",
      "0.9653456221198157\n",
      "vae_lbkeogh_mod_stats_beta=1_10\n",
      "0.9994470046082948\n",
      "vae_lbkeogh_mod_stats_beta=0.1_10\n",
      "1.0\n",
      "vae_lbkeogh_mod_stats_beta=0.01_10\n",
      "0.9966820276497697\n",
      "vae_lbkeogh_mod_stats_beta=0.001_10\n",
      "0.9968663594470046\n",
      "vae_lbkeogh_mod_stats_beta=0.0001_10\n",
      "0.9959447004608295\n",
      "vae_lbkeogh_mod_stats_beta=1e-05_10\n",
      "1.0\n",
      "vae_lbkeogh_mod_stats_beta=1e-06_10\n",
      "1.0\n",
      "fmeasure\n",
      "original\n",
      "0.8091831631858497\n",
      "vae_lbkeogh_mod_stats_beta=1_10\n",
      "0.3406675986858225\n",
      "vae_lbkeogh_mod_stats_beta=0.1_10\n",
      "0.4551101519151165\n",
      "vae_lbkeogh_mod_stats_beta=0.01_10\n",
      "0.3850526336599442\n",
      "vae_lbkeogh_mod_stats_beta=0.001_10\n",
      "0.7910495281179429\n",
      "vae_lbkeogh_mod_stats_beta=0.0001_10\n",
      "0.8226309211968317\n",
      "vae_lbkeogh_mod_stats_beta=1e-05_10\n",
      "0.792772383406001\n",
      "vae_lbkeogh_mod_stats_beta=1e-06_10\n",
      "0.8164870008132559\n",
      "auroc\n",
      "original\n",
      "0.9316785661194759\n",
      "vae_lbkeogh_mod_stats_beta=1_10\n",
      "0.7641776211004694\n",
      "vae_lbkeogh_mod_stats_beta=0.1_10\n",
      "0.739236679479284\n",
      "vae_lbkeogh_mod_stats_beta=0.01_10\n",
      "0.7317498354180382\n",
      "vae_lbkeogh_mod_stats_beta=0.001_10\n",
      "0.8975262163137887\n",
      "vae_lbkeogh_mod_stats_beta=0.0001_10\n",
      "0.869204697487736\n",
      "vae_lbkeogh_mod_stats_beta=1e-05_10\n",
      "0.8401312408418102\n",
      "vae_lbkeogh_mod_stats_beta=1e-06_10\n",
      "0.8805980165219052\n"
     ]
    }
   ],
   "source": [
    "import pickle\n",
    "#with open(\"data/stats/Gen/TSTR_intent_part_2.pickle\", \"wb\") as file:\n",
    "#    pickle.dump(results_dict, file)\n",
    "#results_dict\n",
    "for stat in [\"eer\", \"far\", \"fmeasure\", \"auroc\"]:\n",
    "    print(stat)\n",
    "    for model in model_names: # \n",
    "        print(model)\n",
    "\n",
    "        total = 0\n",
    "        for d in total_results:\n",
    "            total += d[model][stat] / 5\n",
    "        print(total)"
   ]
  },
  {
   "cell_type": "code",
   "execution_count": 48,
   "id": "d4c28c1c-3056-4e69-af07-bcdf08bafabe",
   "metadata": {
    "scrolled": true,
    "tags": []
   },
   "outputs": [
    {
     "data": {
      "text/plain": [
       "{'original': {'fmeasure': 0.9615745079662606,\n",
       "  'auroc': 0.9893363630571896,\n",
       "  'eer_theta': 0.48,\n",
       "  'eer': 0.03870967741935484,\n",
       "  'frr_at_eer': 0.041474654377880185,\n",
       "  'far_theta': 0.13,\n",
       "  'far': 0.9935483870967742,\n",
       "  'frr_at_zero_frr': 0.0009216589861751152,\n",
       "  'accuracy': 0.9622119815668203},\n",
       " 'naive_autoencoder_mse_10': {'fmeasure': 0.9601126231816048,\n",
       "  'auroc': 0.9886151755186986,\n",
       "  'eer_theta': 0.47,\n",
       "  'eer': 0.04055299539170507,\n",
       "  'frr_at_eer': 0.04331797235023042,\n",
       "  'far_theta': 0.14,\n",
       "  'far': 0.9935483870967742,\n",
       "  'frr_at_zero_frr': 0.0009216589861751152,\n",
       "  'accuracy': 0.9608294930875576},\n",
       " 'naive_autoencoder_lbkeogh_10': {'fmeasure': 0.9773880941393631,\n",
       "  'auroc': 0.9947805219902737,\n",
       "  'eer_theta': 0.51,\n",
       "  'eer': 0.02119815668202765,\n",
       "  'frr_at_eer': 0.023963133640552997,\n",
       "  'far_theta': 0.25,\n",
       "  'far': 0.6820276497695853,\n",
       "  'frr_at_zero_frr': 0.0009216589861751152,\n",
       "  'accuracy': 0.9774193548387097},\n",
       " 'naive_autoencoder_lbkeogh_mod_10': {'fmeasure': 0.9783310281235593,\n",
       "  'auroc': 0.9948094034700248,\n",
       "  'eer_theta': 0.51,\n",
       "  'eer': 0.02119815668202765,\n",
       "  'frr_at_eer': 0.022119815668202765,\n",
       "  'far_theta': 0.23,\n",
       "  'far': 0.8046082949308756,\n",
       "  'frr_at_zero_frr': 0.0009216589861751152,\n",
       "  'accuracy': 0.9783410138248848},\n",
       " 'naive_autoencoder_mse_stats_10': {'fmeasure': 0.9606003752345216,\n",
       "  'auroc': 0.9889061139544267,\n",
       "  'eer_theta': 0.47,\n",
       "  'eer': 0.04055299539170507,\n",
       "  'frr_at_eer': 0.041474654377880185,\n",
       "  'far_theta': 0.14,\n",
       "  'far': 0.9935483870967742,\n",
       "  'frr_at_zero_frr': 0.0009216589861751152,\n",
       "  'accuracy': 0.9612903225806452},\n",
       " 'naive_autoencoder_lbkeogh_stats_10': {'fmeasure': 0.9759704251386321,\n",
       "  'auroc': 0.9947469685064453,\n",
       "  'eer_theta': 0.52,\n",
       "  'eer': 0.020276497695852536,\n",
       "  'frr_at_eer': 0.026728110599078342,\n",
       "  'far_theta': 0.24,\n",
       "  'far': 0.7456221198156682,\n",
       "  'frr_at_zero_frr': 0.0009216589861751152,\n",
       "  'accuracy': 0.976036866359447},\n",
       " 'naive_autoencoder_lbkeogh_mod_stats_10': {'fmeasure': 0.977859778597786,\n",
       "  'auroc': 0.9949767461615239,\n",
       "  'eer_theta': 0.51,\n",
       "  'eer': 0.02119815668202765,\n",
       "  'frr_at_eer': 0.02304147465437788,\n",
       "  'far_theta': 0.24,\n",
       "  'far': 0.7456221198156682,\n",
       "  'frr_at_zero_frr': 0.0009216589861751152,\n",
       "  'accuracy': 0.9778801843317972},\n",
       " 'naive_autoencoder_lbkeogh_mod_stats_v2_10': {'fmeasure': 0.9783310281235593,\n",
       "  'auroc': 0.9950943957187454,\n",
       "  'eer_theta': 0.51,\n",
       "  'eer': 0.02119815668202765,\n",
       "  'frr_at_eer': 0.022119815668202765,\n",
       "  'far_theta': 0.24,\n",
       "  'far': 0.7456221198156682,\n",
       "  'frr_at_zero_frr': 0.0009216589861751152,\n",
       "  'accuracy': 0.9783410138248848},\n",
       " 'naive_autoencoder_lbkeogh_mod_stats_v3_10': {'fmeasure': 0.9773880941393631,\n",
       "  'auroc': 0.9947151139331902,\n",
       "  'eer_theta': 0.51,\n",
       "  'eer': 0.02119815668202765,\n",
       "  'frr_at_eer': 0.023963133640552997,\n",
       "  'far_theta': 0.23,\n",
       "  'far': 0.8046082949308756,\n",
       "  'frr_at_zero_frr': 0.0009216589861751152,\n",
       "  'accuracy': 0.9774193548387097}}"
      ]
     },
     "execution_count": 48,
     "metadata": {},
     "output_type": "execute_result"
    }
   ],
   "source": [
    "\"\"\"data/stats/Gen/TSTR_intent_WatchAuth.pickle\"\"\"\n",
    "with open(\"data/stats/Gen/TSTR_intent_WatchAuth.pickle\", \"rb\") as file:\n",
    "    results_dict1 = pickle.load(file)\n",
    "\n",
    "results_dict1"
   ]
  },
  {
   "cell_type": "code",
   "execution_count": 23,
   "id": "bb459165-6dbd-4c46-9bed-4f3191da0d20",
   "metadata": {
    "scrolled": true,
    "tags": []
   },
   "outputs": [
    {
     "name": "stdout",
     "output_type": "stream",
     "text": [
      "Old data\n"
     ]
    },
    {
     "data": {
      "image/png": "[encoded data removed]",
      "text/plain": [
       "<Figure size 432x288 with 1 Axes>"
      ]
     },
     "metadata": {
      "needs_background": "light"
     },
     "output_type": "display_data"
    },
    {
     "name": "stdout",
     "output_type": "stream",
     "text": [
      "F1 score        : 0.9566854990583804\n",
      "AUROC           : 0.9840378857057912\n",
      "EER             : 0.03963133640552995\n",
      "frr_at_eer      : 0.0423963133640553\n",
      "far at zero frr : 0.9990783410138249\n",
      "frr at 'zero' frr : 0.0009216589861751152\n",
      "vae_lbkeogh_mod_stats_beta=1_10\n"
     ]
    },
    {
     "data": {
      "image/png": "[encoded data removed]",
      "text/plain": [
       "<Figure size 432x288 with 1 Axes>"
      ]
     },
     "metadata": {
      "needs_background": "light"
     },
     "output_type": "display_data"
    },
    {
     "name": "stdout",
     "output_type": "stream",
     "text": [
      "F1 score        : 0.9512541410317085\n",
      "AUROC           : 0.9874259381171824\n",
      "EER             : 0.0423963133640553\n",
      "frr_at_eer      : 0.05161290322580645\n",
      "far at zero frr : 0.96036866359447\n",
      "frr at 'zero' frr : 0.0009216589861751152\n",
      "vae_lbkeogh_mod_stats_beta=0.1_10\n"
     ]
    },
    {
     "data": {
      "image/png": "[encoded data removed]",
      "text/plain": [
       "<Figure size 432x288 with 1 Axes>"
      ]
     },
     "metadata": {
      "needs_background": "light"
     },
     "output_type": "display_data"
    },
    {
     "name": "stdout",
     "output_type": "stream",
     "text": [
      "F1 score        : 0.9517502365184484\n",
      "AUROC           : 0.9879063050818663\n",
      "EER             : 0.0423963133640553\n",
      "frr_at_eer      : 0.04976958525345622\n",
      "far at zero frr : 0.9345622119815669\n",
      "frr at 'zero' frr : 0.0009216589861751152\n",
      "vae_lbkeogh_mod_stats_beta=0.01_10\n"
     ]
    },
    {
     "data": {
      "image/png": "[encoded data removed]",
      "text/plain": [
       "<Figure size 432x288 with 1 Axes>"
      ]
     },
     "metadata": {
      "needs_background": "light"
     },
     "output_type": "display_data"
    },
    {
     "name": "stdout",
     "output_type": "stream",
     "text": [
      "F1 score        : 0.9502605400284225\n",
      "AUROC           : 0.9871749240799337\n",
      "EER             : 0.0423963133640553\n",
      "frr_at_eer      : 0.052534562211981564\n",
      "far at zero frr : 0.976036866359447\n",
      "frr at 'zero' frr : 0.0009216589861751152\n",
      "vae_lbkeogh_mod_stats_beta=0.001_10\n"
     ]
    },
    {
     "data": {
      "image/png": "[encoded data removed]",
      "text/plain": [
       "<Figure size 432x288 with 1 Axes>"
      ]
     },
     "metadata": {
      "needs_background": "light"
     },
     "output_type": "display_data"
    },
    {
     "name": "stdout",
     "output_type": "stream",
     "text": [
      "F1 score        : 0.9561940650023552\n",
      "AUROC           : 0.9876905434390197\n",
      "EER             : 0.0423963133640553\n",
      "frr_at_eer      : 0.0423963133640553\n",
      "far at zero frr : 0.9963133640552996\n",
      "frr at 'zero' frr : 0.0009216589861751152\n",
      "vae_lbkeogh_mod_stats_beta=0.0001_10\n"
     ]
    },
    {
     "data": {
      "image/png": "[encoded data removed]",
      "text/plain": [
       "<Figure size 432x288 with 1 Axes>"
      ]
     },
     "metadata": {
      "needs_background": "light"
     },
     "output_type": "display_data"
    },
    {
     "name": "stdout",
     "output_type": "stream",
     "text": [
      "F1 score        : 0.9547169811320755\n",
      "AUROC           : 0.9846915415489819\n",
      "EER             : 0.0423963133640553\n",
      "frr_at_eer      : 0.04423963133640553\n",
      "far at zero frr : 0.9990783410138249\n",
      "frr at 'zero' frr : 0.0009216589861751152\n",
      "vae_lbkeogh_mod_stats_beta=1e-05_10\n"
     ]
    },
    {
     "data": {
      "image/png": "[encoded data removed]",
      "text/plain": [
       "<Figure size 432x288 with 1 Axes>"
      ]
     },
     "metadata": {
      "needs_background": "light"
     },
     "output_type": "display_data"
    },
    {
     "name": "stdout",
     "output_type": "stream",
     "text": [
      "F1 score        : 0.9581570286788904\n",
      "AUROC           : 0.9856981460638365\n",
      "EER             : 0.03963133640552995\n",
      "frr_at_eer      : 0.04423963133640553\n",
      "far at zero frr : 0.9990783410138249\n",
      "frr at 'zero' frr : 0.0009216589861751152\n",
      "vae_lbkeogh_mod_stats_beta=1e-06_10\n"
     ]
    },
    {
     "data": {
      "image/png": "[encoded data removed]",
      "text/plain": [
       "<Figure size 432x288 with 1 Axes>"
      ]
     },
     "metadata": {
      "needs_background": "light"
     },
     "output_type": "display_data"
    },
    {
     "name": "stdout",
     "output_type": "stream",
     "text": [
      "F1 score        : 0.9547169811320755\n",
      "AUROC           : 0.9843955063815328\n",
      "EER             : 0.0423963133640553\n",
      "frr_at_eer      : 0.04331797235023042\n",
      "far at zero frr : 0.9990783410138249\n",
      "frr at 'zero' frr : 0.0009216589861751152\n",
      "Old data\n"
     ]
    },
    {
     "data": {
      "image/png": "[encoded data removed]",
      "text/plain": [
       "<Figure size 432x288 with 1 Axes>"
      ]
     },
     "metadata": {
      "needs_background": "light"
     },
     "output_type": "display_data"
    },
    {
     "name": "stdout",
     "output_type": "stream",
     "text": [
      "F1 score        : 0.9588652482269503\n",
      "AUROC           : 0.9790371424324152\n",
      "EER             : 0.047926267281105994\n",
      "frr_at_eer      : 0.04976958525345622\n",
      "far at zero frr : 0.9972350230414746\n",
      "frr at 'zero' frr : 0.0009216589861751152\n",
      "vae_lbkeogh_mod_stats_beta=1_10\n"
     ]
    },
    {
     "data": {
      "image/png": "[encoded data removed]",
      "text/plain": [
       "<Figure size 432x288 with 1 Axes>"
      ]
     },
     "metadata": {
      "needs_background": "light"
     },
     "output_type": "display_data"
    },
    {
     "name": "stdout",
     "output_type": "stream",
     "text": [
      "F1 score        : 0.9549121974371143\n",
      "AUROC           : 0.9793467688844528\n",
      "EER             : 0.047926267281105994\n",
      "frr_at_eer      : 0.053456221198156684\n",
      "far at zero frr : 0.9935483870967742\n",
      "frr at 'zero' frr : 0.0009216589861751152\n",
      "vae_lbkeogh_mod_stats_beta=0.1_10\n"
     ]
    },
    {
     "data": {
      "image/png": "[encoded data removed]",
      "text/plain": [
       "<Figure size 432x288 with 1 Axes>"
      ]
     },
     "metadata": {
      "needs_background": "light"
     },
     "output_type": "display_data"
    },
    {
     "name": "stdout",
     "output_type": "stream",
     "text": [
      "F1 score        : 0.9554079696394688\n",
      "AUROC           : 0.9794155747626834\n",
      "EER             : 0.047926267281105994\n",
      "frr_at_eer      : 0.052534562211981564\n",
      "far at zero frr : 0.9935483870967742\n",
      "frr at 'zero' frr : 0.0009216589861751152\n",
      "vae_lbkeogh_mod_stats_beta=0.01_10\n"
     ]
    },
    {
     "data": {
      "image/png": "[encoded data removed]",
      "text/plain": [
       "<Figure size 432x288 with 1 Axes>"
      ]
     },
     "metadata": {
      "needs_background": "light"
     },
     "output_type": "display_data"
    },
    {
     "name": "stdout",
     "output_type": "stream",
     "text": [
      "F1 score        : 0.9549121974371143\n",
      "AUROC           : 0.979023126420183\n",
      "EER             : 0.047926267281105994\n",
      "frr_at_eer      : 0.053456221198156684\n",
      "far at zero frr : 0.9935483870967742\n",
      "frr at 'zero' frr : 0.0009216589861751152\n",
      "vae_lbkeogh_mod_stats_beta=0.001_10\n"
     ]
    },
    {
     "data": {
      "image/png": "[encoded data removed]",
      "text/plain": [
       "<Figure size 432x288 with 1 Axes>"
      ]
     },
     "metadata": {
      "needs_background": "light"
     },
     "output_type": "display_data"
    },
    {
     "name": "stdout",
     "output_type": "stream",
     "text": [
      "F1 score        : 0.9563981042654027\n",
      "AUROC           : 0.979061351908089\n",
      "EER             : 0.047926267281105994\n",
      "frr_at_eer      : 0.053456221198156684\n",
      "far at zero frr : 0.9963133640552996\n",
      "frr at 'zero' frr : 0.0009216589861751152\n",
      "vae_lbkeogh_mod_stats_beta=0.0001_10\n"
     ]
    },
    {
     "data": {
      "image/png": "[encoded data removed]",
      "text/plain": [
       "<Figure size 432x288 with 1 Axes>"
      ]
     },
     "metadata": {
      "needs_background": "light"
     },
     "output_type": "display_data"
    },
    {
     "name": "stdout",
     "output_type": "stream",
     "text": [
      "F1 score        : 0.9563981042654027\n",
      "AUROC           : 0.9770337021385037\n",
      "EER             : 0.047926267281105994\n",
      "frr_at_eer      : 0.05714285714285714\n",
      "far at zero frr : 0.9972350230414746\n",
      "frr at 'zero' frr : 0.0009216589861751152\n",
      "vae_lbkeogh_mod_stats_beta=1e-05_10\n"
     ]
    },
    {
     "data": {
      "image/png": "[encoded data removed]",
      "text/plain": [
       "<Figure size 432x288 with 1 Axes>"
      ]
     },
     "metadata": {
      "needs_background": "light"
     },
     "output_type": "display_data"
    },
    {
     "name": "stdout",
     "output_type": "stream",
     "text": [
      "F1 score        : 0.9568924680246328\n",
      "AUROC           : 0.978609866423156\n",
      "EER             : 0.047926267281105994\n",
      "frr_at_eer      : 0.05161290322580645\n",
      "far at zero frr : 0.9963133640552996\n",
      "frr at 'zero' frr : 0.0009216589861751152\n",
      "vae_lbkeogh_mod_stats_beta=1e-06_10\n"
     ]
    },
    {
     "data": {
      "image/png": "[encoded data removed]",
      "text/plain": [
       "<Figure size 432x288 with 1 Axes>"
      ]
     },
     "metadata": {
      "needs_background": "light"
     },
     "output_type": "display_data"
    },
    {
     "name": "stdout",
     "output_type": "stream",
     "text": [
      "F1 score        : 0.9559032716927454\n",
      "AUROC           : 0.9770001486546753\n",
      "EER             : 0.047926267281105994\n",
      "frr_at_eer      : 0.05622119815668203\n",
      "far at zero frr : 0.9972350230414746\n",
      "frr at 'zero' frr : 0.0009216589861751152\n",
      "Old data\n"
     ]
    },
    {
     "data": {
      "image/png": "[encoded data removed]",
      "text/plain": [
       "<Figure size 432x288 with 1 Axes>"
      ]
     },
     "metadata": {
      "needs_background": "light"
     },
     "output_type": "display_data"
    },
    {
     "name": "stdout",
     "output_type": "stream",
     "text": [
      "F1 score        : 0.9610876699484294\n",
      "AUROC           : 0.9799358661258469\n",
      "EER             : 0.04423963133640553\n",
      "frr_at_eer      : 0.047926267281105994\n",
      "far at zero frr : 1.0\n",
      "frr at 'zero' frr : 0.0009216589861751152\n",
      "vae_lbkeogh_mod_stats_beta=1_10\n"
     ]
    },
    {
     "data": {
      "image/png": "[encoded data removed]",
      "text/plain": [
       "<Figure size 432x288 with 1 Axes>"
      ]
     },
     "metadata": {
      "needs_background": "light"
     },
     "output_type": "display_data"
    },
    {
     "name": "stdout",
     "output_type": "stream",
     "text": [
      "F1 score        : 0.9437559580552909\n",
      "AUROC           : 0.9743498481598675\n",
      "EER             : 0.054377880184331796\n",
      "frr_at_eer      : 0.0663594470046083\n",
      "far at zero frr : 0.9981566820276497\n",
      "frr at 'zero' frr : 0.0009216589861751152\n",
      "vae_lbkeogh_mod_stats_beta=0.1_10\n"
     ]
    },
    {
     "data": {
      "image/png": "[encoded data removed]",
      "text/plain": [
       "<Figure size 432x288 with 1 Axes>"
      ]
     },
     "metadata": {
      "needs_background": "light"
     },
     "output_type": "display_data"
    },
    {
     "name": "stdout",
     "output_type": "stream",
     "text": [
      "F1 score        : 0.9452641599238458\n",
      "AUROC           : 0.9750731593365755\n",
      "EER             : 0.054377880184331796\n",
      "frr_at_eer      : 0.06451612903225806\n",
      "far at zero frr : 0.9981566820276497\n",
      "frr at 'zero' frr : 0.0009216589861751152\n",
      "vae_lbkeogh_mod_stats_beta=0.01_10\n"
     ]
    },
    {
     "data": {
      "image/png": "[encoded data removed]",
      "text/plain": [
       "<Figure size 432x288 with 1 Axes>"
      ]
     },
     "metadata": {
      "needs_background": "light"
     },
     "output_type": "display_data"
    },
    {
     "name": "stdout",
     "output_type": "stream",
     "text": [
      "F1 score        : 0.9422434367541767\n",
      "AUROC           : 0.9737603261908301\n",
      "EER             : 0.054377880184331796\n",
      "frr_at_eer      : 0.06543778801843318\n",
      "far at zero frr : 0.9981566820276497\n",
      "frr at 'zero' frr : 0.0009216589861751152\n",
      "vae_lbkeogh_mod_stats_beta=0.001_10\n"
     ]
    },
    {
     "data": {
      "image/png": "[encoded data removed]",
      "text/plain": [
       "<Figure size 432x288 with 1 Axes>"
      ]
     },
     "metadata": {
      "needs_background": "light"
     },
     "output_type": "display_data"
    },
    {
     "name": "stdout",
     "output_type": "stream",
     "text": [
      "F1 score        : 0.9601126231816048\n",
      "AUROC           : 0.9833060799762152\n",
      "EER             : 0.04423963133640553\n",
      "frr_at_eer      : 0.04608294930875576\n",
      "far at zero frr : 1.0\n",
      "frr at 'zero' frr : 0.0009216589861751152\n",
      "vae_lbkeogh_mod_stats_beta=0.0001_10\n"
     ]
    },
    {
     "data": {
      "image/png": "[encoded data removed]",
      "text/plain": [
       "<Figure size 432x288 with 1 Axes>"
      ]
     },
     "metadata": {
      "needs_background": "light"
     },
     "output_type": "display_data"
    },
    {
     "name": "stdout",
     "output_type": "stream",
     "text": [
      "F1 score        : 0.9532357109116674\n",
      "AUROC           : 0.9777187878273057\n",
      "EER             : 0.04423963133640553\n",
      "frr_at_eer      : 0.05622119815668203\n",
      "far at zero frr : 1.0\n",
      "frr at 'zero' frr : 0.0\n",
      "vae_lbkeogh_mod_stats_beta=1e-05_10\n"
     ]
    },
    {
     "data": {
      "image/png": "[encoded data removed]",
      "text/plain": [
       "<Figure size 432x288 with 1 Axes>"
      ]
     },
     "metadata": {
      "needs_background": "light"
     },
     "output_type": "display_data"
    },
    {
     "name": "stdout",
     "output_type": "stream",
     "text": [
      "F1 score        : 0.9576669802445907\n",
      "AUROC           : 0.9801728641508634\n",
      "EER             : 0.04423963133640553\n",
      "frr_at_eer      : 0.04884792626728111\n",
      "far at zero frr : 1.0\n",
      "frr at 'zero' frr : 0.0\n",
      "vae_lbkeogh_mod_stats_beta=1e-06_10\n"
     ]
    },
    {
     "data": {
      "image/png": "[encoded data removed]",
      "text/plain": [
       "<Figure size 432x288 with 1 Axes>"
      ]
     },
     "metadata": {
      "needs_background": "light"
     },
     "output_type": "display_data"
    },
    {
     "name": "stdout",
     "output_type": "stream",
     "text": [
      "F1 score        : 0.9547169811320755\n",
      "AUROC           : 0.9779281785555013\n",
      "EER             : 0.04423963133640553\n",
      "frr_at_eer      : 0.055299539170506916\n",
      "far at zero frr : 1.0\n",
      "frr at 'zero' frr : 0.0009216589861751152\n",
      "Old data\n"
     ]
    },
    {
     "data": {
      "image/png": "[encoded data removed]",
      "text/plain": [
       "<Figure size 432x288 with 1 Axes>"
      ]
     },
     "metadata": {
      "needs_background": "light"
     },
     "output_type": "display_data"
    },
    {
     "name": "stdout",
     "output_type": "stream",
     "text": [
      "F1 score        : 0.9562737642585551\n",
      "AUROC           : 0.9784752277601988\n",
      "EER             : 0.0423963133640553\n",
      "frr_at_eer      : 0.054377880184331796\n",
      "far at zero frr : 0.9981566820276497\n",
      "frr at 'zero' frr : 0.0009216589861751152\n",
      "vae_lbkeogh_mod_stats_beta=1_10\n"
     ]
    },
    {
     "data": {
      "image/png": "[encoded data removed]",
      "text/plain": [
       "<Figure size 432x288 with 1 Axes>"
      ]
     },
     "metadata": {
      "needs_background": "light"
     },
     "output_type": "display_data"
    },
    {
     "name": "stdout",
     "output_type": "stream",
     "text": [
      "F1 score        : 0.9437229437229437\n",
      "AUROC           : 0.9747219095754848\n",
      "EER             : 0.05622119815668203\n",
      "frr_at_eer      : 0.06728110599078341\n",
      "far at zero frr : 0.9963133640552996\n",
      "frr at 'zero' frr : 0.0\n",
      "vae_lbkeogh_mod_stats_beta=0.1_10\n"
     ]
    },
    {
     "data": {
      "image/png": "[encoded data removed]",
      "text/plain": [
       "<Figure size 432x288 with 1 Axes>"
      ]
     },
     "metadata": {
      "needs_background": "light"
     },
     "output_type": "display_data"
    },
    {
     "name": "stdout",
     "output_type": "stream",
     "text": [
      "F1 score        : 0.9452449567723342\n",
      "AUROC           : 0.9759438510055427\n",
      "EER             : 0.05622119815668203\n",
      "frr_at_eer      : 0.06543778801843318\n",
      "far at zero frr : 0.9935483870967742\n",
      "frr at 'zero' frr : 0.0009216589861751152\n",
      "vae_lbkeogh_mod_stats_beta=0.01_10\n"
     ]
    },
    {
     "data": {
      "image/png": "[encoded data removed]",
      "text/plain": [
       "<Figure size 432x288 with 1 Axes>"
      ]
     },
     "metadata": {
      "needs_background": "light"
     },
     "output_type": "display_data"
    },
    {
     "name": "stdout",
     "output_type": "stream",
     "text": [
      "F1 score        : 0.9437229437229437\n",
      "AUROC           : 0.9748412580432797\n",
      "EER             : 0.05622119815668203\n",
      "frr_at_eer      : 0.06543778801843318\n",
      "far at zero frr : 0.9963133640552996\n",
      "frr at 'zero' frr : 0.0\n",
      "vae_lbkeogh_mod_stats_beta=0.001_10\n"
     ]
    },
    {
     "data": {
      "image/png": "[encoded data removed]",
      "text/plain": [
       "<Figure size 432x288 with 1 Axes>"
      ]
     },
     "metadata": {
      "needs_background": "light"
     },
     "output_type": "display_data"
    },
    {
     "name": "stdout",
     "output_type": "stream",
     "text": [
      "F1 score        : 0.9552806850618458\n",
      "AUROC           : 0.9784098197031155\n",
      "EER             : 0.0423963133640553\n",
      "frr_at_eer      : 0.05622119815668203\n",
      "far at zero frr : 0.9935483870967742\n",
      "frr at 'zero' frr : 0.0009216589861751152\n",
      "vae_lbkeogh_mod_stats_beta=0.0001_10\n"
     ]
    },
    {
     "data": {
      "image/png": "[encoded data removed]",
      "text/plain": [
       "<Figure size 432x288 with 1 Axes>"
      ]
     },
     "metadata": {
      "needs_background": "light"
     },
     "output_type": "display_data"
    },
    {
     "name": "stdout",
     "output_type": "stream",
     "text": [
      "F1 score        : 0.9512893982808023\n",
      "AUROC           : 0.9771207713054004\n",
      "EER             : 0.0423963133640553\n",
      "frr_at_eer      : 0.05806451612903226\n",
      "far at zero frr : 0.9981566820276497\n",
      "frr at 'zero' frr : 0.0009216589861751152\n",
      "vae_lbkeogh_mod_stats_beta=1e-05_10\n"
     ]
    },
    {
     "data": {
      "image/png": "[encoded data removed]",
      "text/plain": [
       "<Figure size 432x288 with 1 Axes>"
      ]
     },
     "metadata": {
      "needs_background": "light"
     },
     "output_type": "display_data"
    },
    {
     "name": "stdout",
     "output_type": "stream",
     "text": [
      "F1 score        : 0.9532888465204957\n",
      "AUROC           : 0.9774822145299329\n",
      "EER             : 0.0423963133640553\n",
      "frr_at_eer      : 0.05622119815668203\n",
      "far at zero frr : 0.9972350230414746\n",
      "frr at 'zero' frr : 0.0009216589861751152\n",
      "vae_lbkeogh_mod_stats_beta=1e-06_10\n"
     ]
    },
    {
     "data": {
      "image/png": "[encoded data removed]",
      "text/plain": [
       "<Figure size 432x288 with 1 Axes>"
      ]
     },
     "metadata": {
      "needs_background": "light"
     },
     "output_type": "display_data"
    },
    {
     "name": "stdout",
     "output_type": "stream",
     "text": [
      "F1 score        : 0.9527896995708155\n",
      "AUROC           : 0.9764543736329079\n",
      "EER             : 0.0423963133640553\n",
      "frr_at_eer      : 0.05714285714285714\n",
      "far at zero frr : 0.9981566820276497\n",
      "frr at 'zero' frr : 0.0009216589861751152\n",
      "Old data\n"
     ]
    },
    {
     "data": {
      "image/png": "[encoded data removed]",
      "text/plain": [
       "<Figure size 432x288 with 1 Axes>"
      ]
     },
     "metadata": {
      "needs_background": "light"
     },
     "output_type": "display_data"
    },
    {
     "name": "stdout",
     "output_type": "stream",
     "text": [
      "F1 score        : 0.9510489510489512\n",
      "AUROC           : 0.9721582535199303\n",
      "EER             : 0.04884792626728111\n",
      "frr_at_eer      : 0.05806451612903226\n",
      "far at zero frr : 0.9981566820276497\n",
      "frr at 'zero' frr : 0.0009216589861751152\n",
      "vae_lbkeogh_mod_stats_beta=1_10\n"
     ]
    },
    {
     "data": {
      "image/png": "[encoded data removed]",
      "text/plain": [
       "<Figure size 432x288 with 1 Axes>"
      ]
     },
     "metadata": {
      "needs_background": "light"
     },
     "output_type": "display_data"
    },
    {
     "name": "stdout",
     "output_type": "stream",
     "text": [
      "F1 score        : 0.9391796322489392\n",
      "AUROC           : 0.9724496166833019\n",
      "EER             : 0.06359447004608294\n",
      "frr_at_eer      : 0.06728110599078341\n",
      "far at zero frr : 0.9843317972350231\n",
      "frr at 'zero' frr : 0.0009216589861751152\n",
      "vae_lbkeogh_mod_stats_beta=0.1_10\n"
     ]
    },
    {
     "data": {
      "image/png": "[encoded data removed]",
      "text/plain": [
       "<Figure size 432x288 with 1 Axes>"
      ]
     },
     "metadata": {
      "needs_background": "light"
     },
     "output_type": "display_data"
    },
    {
     "name": "stdout",
     "output_type": "stream",
     "text": [
      "F1 score        : 0.940677966101695\n",
      "AUROC           : 0.9732663679415574\n",
      "EER             : 0.06359447004608294\n",
      "frr_at_eer      : 0.06359447004608294\n",
      "far at zero frr : 0.9843317972350231\n",
      "frr at 'zero' frr : 0.0009216589861751152\n",
      "vae_lbkeogh_mod_stats_beta=0.01_10\n"
     ]
    },
    {
     "data": {
      "image/png": "[encoded data removed]",
      "text/plain": [
       "<Figure size 432x288 with 1 Axes>"
      ]
     },
     "metadata": {
      "needs_background": "light"
     },
     "output_type": "display_data"
    },
    {
     "name": "stdout",
     "output_type": "stream",
     "text": [
      "F1 score        : 0.939679547596607\n",
      "AUROC           : 0.9720533457920109\n",
      "EER             : 0.06359447004608294\n",
      "frr_at_eer      : 0.0663594470046083\n",
      "far at zero frr : 0.9843317972350231\n",
      "frr at 'zero' frr : 0.0009216589861751152\n",
      "vae_lbkeogh_mod_stats_beta=0.001_10\n"
     ]
    },
    {
     "data": {
      "image/png": "[encoded data removed]",
      "text/plain": [
       "<Figure size 432x288 with 1 Axes>"
      ]
     },
     "metadata": {
      "needs_background": "light"
     },
     "output_type": "display_data"
    },
    {
     "name": "stdout",
     "output_type": "stream",
     "text": [
      "F1 score        : 0.9481065918653576\n",
      "AUROC           : 0.9740729257363716\n",
      "EER             : 0.05806451612903226\n",
      "frr_at_eer      : 0.05806451612903226\n",
      "far at zero frr : 0.9972350230414746\n",
      "frr at 'zero' frr : 0.0009216589861751152\n",
      "vae_lbkeogh_mod_stats_beta=0.0001_10\n"
     ]
    },
    {
     "data": {
      "image/png": "[encoded data removed]",
      "text/plain": [
       "<Figure size 432x288 with 1 Axes>"
      ]
     },
     "metadata": {
      "needs_background": "light"
     },
     "output_type": "display_data"
    },
    {
     "name": "stdout",
     "output_type": "stream",
     "text": [
      "F1 score        : 0.9490892106492292\n",
      "AUROC           : 0.9705863365117119\n",
      "EER             : 0.05806451612903226\n",
      "frr_at_eer      : 0.06267281105990784\n",
      "far at zero frr : 0.9935483870967742\n",
      "frr at 'zero' frr : 0.0009216589861751152\n",
      "vae_lbkeogh_mod_stats_beta=1e-05_10\n"
     ]
    },
    {
     "data": {
      "image/png": "[encoded data removed]",
      "text/plain": [
       "<Figure size 432x288 with 1 Axes>"
      ]
     },
     "metadata": {
      "needs_background": "light"
     },
     "output_type": "display_data"
    },
    {
     "name": "stdout",
     "output_type": "stream",
     "text": [
      "F1 score        : 0.9495798319327731\n",
      "AUROC           : 0.9719981311983691\n",
      "EER             : 0.04884792626728111\n",
      "frr_at_eer      : 0.05714285714285714\n",
      "far at zero frr : 0.9935483870967742\n",
      "frr at 'zero' frr : 0.0009216589861751152\n",
      "vae_lbkeogh_mod_stats_beta=1e-06_10\n"
     ]
    },
    {
     "data": {
      "image/png": "[encoded data removed]",
      "text/plain": [
       "<Figure size 432x288 with 1 Axes>"
      ]
     },
     "metadata": {
      "needs_background": "light"
     },
     "output_type": "display_data"
    },
    {
     "name": "stdout",
     "output_type": "stream",
     "text": [
      "F1 score        : 0.9471221338324753\n",
      "AUROC           : 0.9697283866720466\n",
      "EER             : 0.05806451612903226\n",
      "frr_at_eer      : 0.059907834101382486\n",
      "far at zero frr : 0.9972350230414746\n",
      "frr at 'zero' frr : 0.0009216589861751152\n"
     ]
    }
   ],
   "source": [
    "## Doing WatchAuth instead...\n",
    "\n",
    "model_names = [\"naive_autoencoder_mse_10\", \"naive_autoencoder_lbkeogh_10\",\"naive_autoencoder_lbkeogh_mod_10\",\n",
    "              \"naive_autoencoder_mse_stats_10\", \"naive_autoencoder_lbkeogh_stats_10\",\"naive_autoencoder_lbkeogh_mod_stats_10\",\n",
    "              \"naive_autoencoder_lbkeogh_mod_stats_v2_10\", \"naive_autoencoder_lbkeogh_mod_stats_v3_10\"] # \"TORCH_softdtw\"\n",
    "\n",
    "model_names = [ \"naive_autoencoder_TORCH_softdtw_10\", \"naive_autoencoder_lbkeogh_mod_stats_10\", \"naive_autoencoder_mse_10\",\"naive_autoencoder_lbkeogh_mod_10\",  #  \"naive_autoencoder_lbkeogh_10\",\n",
    "              \"naive_autoencoder_mse_stats_10\"]\n",
    "\n",
    "model_names = [f\"vae_lbkeogh_mod_stats_beta={beta}_10\" for beta in [1, 1e-1, 1e-2, 1e-3, 1e-4, 1e-5, 1e-6]]\n",
    "\n",
    "# \"TORCH_softdtw\", \n",
    "\n",
    "_vae = VAE(None, None, None, None, scale_included=True, loss_func=\"MSE\")\n",
    "\n",
    "total_results = []\n",
    "\n",
    "for rep in range(5):\n",
    "\n",
    "    results_dict = {}\n",
    "\n",
    "    #model_names = [ \"naive_autoencoder_lbkeogh_mod_stats_v2_10\"] #\"naive_autoencoder_TORCH_softdtw\",\n",
    "\n",
    "    val_data_x = x_data[train_gesture_map==1][val_map]\n",
    "    test_length = len(x_data[test_gesture_map == 1])\n",
    "\n",
    "    new_indices = np.random.choice(len(x_data[y_intent==0]), size=240 + test_length, replace=False)\n",
    "    train_zero_data = x_data[y_intent==0][new_indices[:240]]\n",
    "    test_zero_data = x_data[y_intent==0][new_indices[240:]]\n",
    "\n",
    "\n",
    "    old_data_x = np.concatenate([val_data_x, train_zero_data], axis=0)\n",
    "    old_scaler = CustomScaler()\n",
    "    old_scaler.CHANNELS = 6\n",
    "    old_data_x = old_scaler.fit_and_transform(old_data_x)\n",
    "    old_data_y = np.concatenate([np.ones(len(val_data_x)), np.zeros(240)])\n",
    "\n",
    "    old_data_x = _vae.vae_featurize(old_data_x)\n",
    "\n",
    "\n",
    "    old_test_x = np.concatenate([old_scaler.transform(x_data[test_gesture_map == 1]), test_zero_data])\n",
    "    old_test_x = _vae.vae_featurize(old_test_x)\n",
    "    old_test_y = np.concatenate([np.ones(test_length), np.zeros(test_length)])\n",
    "\n",
    "\n",
    "    print(\"Old data\")\n",
    "    model = RandomForestClassifier(n_estimators = 100, random_state = 0, class_weight=\"balanced\").fit(old_data_x, old_data_y)\n",
    "    pred = model.predict(old_test_x)\n",
    "    output = model.predict_proba(old_test_x)[:, 1]\n",
    "\n",
    "    results_dict[\"original\"] = show_evaluate_model(old_test_y, pred, output)\n",
    "    old_model = None\n",
    "    del old_model\n",
    "\n",
    "    for vae_model_name in model_names:\n",
    "        print(vae_model_name)\n",
    "\n",
    "        if \"TORCH\" in vae_model_name:\n",
    "            with open(f'data/models/Gen/enc_{vae_model_name}.pickle', 'rb') as pickle_file:\n",
    "                encoder = pickle.load(pickle_file)\n",
    "            with open(f'data/models/Gen/dec_{vae_model_name}.pickle', 'rb') as pickle_file:\n",
    "                decoder = pickle.load(pickle_file)\n",
    "            vae = VAE_torch(latent_dim=10)\n",
    "            vae.encoder = encoder\n",
    "            vae.decoder = decoder\n",
    "            vae.fit_scaler(np.swapaxes(x_data[test_gesture_map == 0], 1,2))\n",
    "            encoder = None\n",
    "            decoder = None\n",
    "        else:\n",
    "            if \"wae\" in vae_model_name:\n",
    "                vae = WAE(None, None, None, None, scale_included=True)\n",
    "            else:\n",
    "                vae = VAE(None, None, None, None, scale_included=True, loss_func=\"MSE\")\n",
    "            vae.load_model(\"Gen\", vae_model_name)\n",
    "\n",
    "        #show_visuals(vae)\n",
    "\n",
    "        train_data_x = vae.scaler.transform(x_data[train_gesture_map==1][~val_map])\n",
    "        train_data_y = y_user[train_gesture_map==1][~val_map]\n",
    "\n",
    "        val_data_x = vae.scaler.transform(x_data[train_gesture_map==1][val_map])\n",
    "        val_data_y = y_user[train_gesture_map==1][val_map]\n",
    "\n",
    "        if \"TORCH\" in vae_model_name:\n",
    "            val_data_x = np.swapaxes(val_data_x, 1,2)\n",
    "            new_data, _, _ = vae.encoder(torch.Tensor(val_data_x).to(\"cuda\"))\n",
    "            new_data = vae.scaler.inverse_transform(vae.decoder(new_data).detach().cpu().numpy())\n",
    "            new_data = np.swapaxes(new_data, 1,2)\n",
    "            val_data_x = np.swapaxes(val_data_x, 1,2)\n",
    "        elif \"wae\" in vae_model_name:\n",
    "            new_data = vae.encoder(val_data_x)\n",
    "            new_data = vae.scaler.inverse_transform(vae.decoder(new_data).numpy())\n",
    "        else:\n",
    "            new_data, _, _ = vae.encoder(val_data_x)\n",
    "            new_data = vae.scaler.inverse_transform(vae.decoder(new_data).numpy())\n",
    "\n",
    "\n",
    "        #new_data = filter(new_data, [0,1,2,3,4,5], 6, 3.667)\n",
    "\n",
    "        new_data_x = np.concatenate([new_data, train_zero_data], axis=0)\n",
    "        new_scaler = CustomScaler()\n",
    "        new_scaler.CHANNELS = 6\n",
    "        new_data_x = new_scaler.fit_and_transform(new_data_x)\n",
    "        new_data_y = np.concatenate([np.ones(len(val_data_x)), np.zeros(240)])\n",
    "\n",
    "        new_data_x = _vae.vae_featurize(new_data_x)\n",
    "\n",
    "\n",
    "        new_test_x = np.concatenate([new_scaler.transform(x_data[test_gesture_map == 1]), test_zero_data])\n",
    "        new_test_x = _vae.vae_featurize(new_test_x)\n",
    "        new_test_y = np.concatenate([np.ones(test_length), np.zeros(test_length)])\n",
    "\n",
    "        model = RandomForestClassifier(n_estimators = 100, random_state = 0, class_weight=\"balanced\").fit(old_data_x, old_data_y)\n",
    "        pred = model.predict(new_test_x)\n",
    "        output = model.predict_proba(new_test_x)[:, 1]\n",
    "\n",
    "        results_dict[vae_model_name] = show_evaluate_model(new_test_y, pred, output)\n",
    "\n",
    "        new_model = None\n",
    "        del new_model\n",
    "    \n",
    "    total_results.append(results_dict)\n",
    "    \n",
    "    with open(\"data/stats/Gen/TSTR_intent_WatchAuth_vaes_final.pickle\", \"wb\") as file:\n",
    "        pickle.dump(total_results, file)\n",
    "\n",
    "\n",
    "with open(\"data/stats/Gen/TSTR_intent_WatchAuth_vaes_final.pickle\", \"wb\") as file:\n",
    "    pickle.dump(total_results, file)"
   ]
  },
  {
   "cell_type": "code",
   "execution_count": 39,
   "id": "ce30c850-4e10-413c-885e-0a221379c96a",
   "metadata": {},
   "outputs": [],
   "source": [
    "import pickle\n",
    "with open(\"data/stats/Gen/TSTR_intent_WatchAuth.pickle\", \"wb\") as file:\n",
    "    pickle.dump(results_dict, file)"
   ]
  },
  {
   "cell_type": "code",
   "execution_count": 12,
   "id": "35f5f299-101e-43e8-b033-0d5e32fb71fe",
   "metadata": {
    "execution": {
     "iopub.execute_input": "2023-04-25T18:33:43.768279Z",
     "iopub.status.busy": "2023-04-25T18:33:43.767574Z",
     "iopub.status.idle": "2023-04-25T18:33:43.776540Z",
     "shell.execute_reply": "2023-04-25T18:33:43.775667Z",
     "shell.execute_reply.started": "2023-04-25T18:33:43.768251Z"
    },
    "tags": []
   },
   "outputs": [],
   "source": [
    "def get_complex_mix_model():\n",
    "\n",
    "    input_dim = (200,6)\n",
    "    \n",
    "    inputs = keras.Input(shape=input_dim)\n",
    "    x = inputs\n",
    "    y = inputs\n",
    "    \n",
    "    \n",
    "    \n",
    "    last_output_channels = 22\n",
    "    for a in range(4):\n",
    "        x0 = Conv1D(last_output_channels, 1, strides=1, padding=\"same\", activation=\"relu\")(x)\n",
    "        x1 = Conv1D(last_output_channels, 3, strides=1, padding=\"same\", activation=\"relu\")(x)\n",
    "        x2 = Conv1D(last_output_channels, 5, strides=1, padding=\"same\", activation=\"relu\")(x)\n",
    "        x3 = Conv1D(last_output_channels, 10, strides=1, padding=\"same\", activation=\"relu\")(x)\n",
    "        x0 = MaxPooling1D(pool_size=2, strides=None, padding=\"same\")(x0)\n",
    "        x1 = MaxPooling1D(pool_size=2, strides=None, padding=\"same\")(x1)\n",
    "        x2 = MaxPooling1D(pool_size=2, strides=None, padding=\"same\")(x2)\n",
    "        x3 = MaxPooling1D(pool_size=2, strides=None, padding=\"same\")(x3)\n",
    "        x = layers.Concatenate()([x0,x1,x2,x3])\n",
    "        \n",
    "        x = layers.TimeDistributed(Dense(30, activation=\"relu\"))(x) # , kernel_regularizer=keras.regularizers.L1(1e-4)))(x) # \n",
    "        \n",
    "        \n",
    "    x = layers.GRU(32, return_sequences=True)(x)\n",
    "    x = layers.GRU(32, return_sequences=True)(x)\n",
    "    x = layers.GRU(32)(x)\n",
    "\n",
    "    x = Dense(25, activation=\"relu\")(x)\n",
    "    x = Dense(10, activation=\"relu\")(x)\n",
    "    x = Dense(1, activation=\"sigmoid\")(x)\n",
    "    out = x\n",
    "\n",
    "    model = keras.Model(inputs, out, name=\"complex_conv_GRU_classifier\")\n",
    "    \n",
    "    return model"
   ]
  },
  {
   "cell_type": "code",
   "execution_count": 13,
   "id": "8eadbb63-99bf-4206-8350-08d4dd34002e",
   "metadata": {
    "execution": {
     "iopub.execute_input": "2023-04-25T18:33:43.913969Z",
     "iopub.status.busy": "2023-04-25T18:33:43.913112Z",
     "iopub.status.idle": "2023-04-25T18:33:43.925761Z",
     "shell.execute_reply": "2023-04-25T18:33:43.925029Z",
     "shell.execute_reply.started": "2023-04-25T18:33:43.913932Z"
    },
    "tags": []
   },
   "outputs": [
    {
     "data": {
      "text/plain": [
       "(0.56, 0.3625, 0.36619718309859156)"
      ]
     },
     "metadata": {},
     "output_type": "display_data"
    },
    {
     "data": {
      "text/plain": [
       "(0.3, 0.6875, 0.0)"
      ]
     },
     "metadata": {},
     "output_type": "display_data"
    }
   ],
   "source": [
    "def get_eer(scores_legit, scores_adv):\n",
    "    scores_legit = sorted(scores_legit)\n",
    "    scores_adv = sorted(scores_adv)\n",
    "\n",
    "    unique_scores_legit = sorted(set(scores_legit))\n",
    "    \n",
    "    #treat each legitimate sample distance as a possible threshold, determine the point where FRR crosses FAR\n",
    "    for c, threshold in enumerate(unique_scores_legit):\n",
    "        frr = sum(1 if x < threshold else 0 for x in scores_legit) / len(scores_legit)\n",
    "        far = sum(1 if x >= threshold else 0 for x in scores_adv) / len(scores_adv)\n",
    "        if frr >= far:\n",
    "            return threshold, far, frr\n",
    "    print(\"Failure\")\n",
    "\n",
    "def get_far_when_zero_frr(scores_legit, scores_adv):\n",
    "    scores_legit = sorted(scores_legit)\n",
    "    scores_adv = sorted(scores_adv)\n",
    "\n",
    "    unique_scores_legit = sorted(set(scores_legit))\n",
    "    \n",
    "    last_far = 1.0\n",
    "    last_frr = 0.0\n",
    "    last_threshold = 0.0\n",
    "    \n",
    "    #treat each legitimate sample distance as a possible threshold, determine the point with the lowest FAR that satisfies the condition that FRR = 0\n",
    "    for c, threshold in enumerate(unique_scores_legit):\n",
    "        frr = sum(1 if x < threshold else 0 for x in scores_legit) / len(scores_legit)\n",
    "        far = sum(1 if x >= threshold else 0 for x in scores_adv) / len(scores_adv)\n",
    "        if frr > 0.001:\n",
    "            return last_threshold, last_far, last_frr\n",
    "        last_far = far\n",
    "        last_frr = frr\n",
    "        last_threshold = threshold\n",
    "\n",
    "scores_legit = [i / 100 for i in range(30,101)]\n",
    "scores_adv = [i / 100 for i in range(5, 85)]\n",
    "display(get_eer(scores_legit, scores_adv))\n",
    "display(get_far_when_zero_frr(scores_legit, scores_adv))"
   ]
  },
  {
   "cell_type": "code",
   "execution_count": 14,
   "id": "f1d8c7fa-9ead-4a56-ad8a-ba88c7ea8b5d",
   "metadata": {
    "execution": {
     "iopub.execute_input": "2023-04-25T18:33:44.063726Z",
     "iopub.status.busy": "2023-04-25T18:33:44.062959Z",
     "iopub.status.idle": "2023-04-25T18:33:44.071209Z",
     "shell.execute_reply": "2023-04-25T18:33:44.070300Z",
     "shell.execute_reply.started": "2023-04-25T18:33:44.063687Z"
    },
    "tags": []
   },
   "outputs": [],
   "source": [
    "def show_evaluate_model(labels_test, labels_pred, labels_scores, verbose = 1):\n",
    "    \n",
    "\n",
    "    fmeasure = f1_score(labels_test, labels_pred, average = \"binary\", labels = np.unique(labels_pred)) \n",
    "    auroc = sklearn.metrics.roc_auc_score(labels_test, labels_scores, labels = np.unique(labels_pred))\n",
    "\n",
    "    scores_legit = [labels_scores[i] for i in range(len(labels_test)) if 1 == labels_test[i]]\n",
    "    scores_adv = [labels_scores[i] for i in range(len(labels_test)) if 0 == labels_test[i]]\n",
    "\n",
    "    eer_theta, eer, frr_at_eer = get_eer(scores_legit, scores_adv)\n",
    "    far_theta, far, frr_at_zero_frr = get_far_when_zero_frr(scores_legit, scores_adv)\n",
    "    \n",
    "    if verbose:\n",
    "        plt.hist(labels_scores, bins=100)\n",
    "        plt.show()\n",
    "        print(f\"F1 score        : {fmeasure}\")\n",
    "        print(f\"AUROC           : {auroc}\")\n",
    "        print(f\"EER             : {eer}\")\n",
    "        print(f\"frr_at_eer      : {frr_at_eer}\")\n",
    "        print(f\"far at zero frr : {far}\")\n",
    "        print(f\"frr at 'zero' frr : {frr_at_zero_frr}\")\n",
    "\n",
    "    accuracy = sum(labels_test == labels_pred) / len(labels_test)\n",
    "    \n",
    "    return {\"fmeasure\":fmeasure, \"auroc\":auroc, \"eer_theta\":eer_theta, \"eer\":eer, \"frr_at_eer\":frr_at_eer, \n",
    "            \"far_theta\":far_theta, \"far\":far, \"frr_at_zero_frr\":frr_at_zero_frr, \"accuracy\":accuracy}"
   ]
  },
  {
   "cell_type": "code",
   "execution_count": null,
   "id": "4ee013c0-d995-4d08-a8d2-bb87a516250b",
   "metadata": {},
   "outputs": [],
   "source": []
  },
  {
   "cell_type": "code",
   "execution_count": null,
   "id": "03c5ec42-7839-47f7-a0e2-df99c75cd861",
   "metadata": {},
   "outputs": [],
   "source": []
  }
 ],
 "metadata": {
  "kernelspec": {
   "display_name": "Python 3 (ipykernel)",
   "language": "python",
   "name": "python3"
  },
  "language_info": {
   "codemirror_mode": {
    "name": "ipython",
    "version": 3
   },
   "file_extension": ".py",
   "mimetype": "text/x-python",
   "name": "python",
   "nbconvert_exporter": "python",
   "pygments_lexer": "ipython3",
   "version": "3.9.13"
  }
 },
 "nbformat": 4,
 "nbformat_minor": 5
}
