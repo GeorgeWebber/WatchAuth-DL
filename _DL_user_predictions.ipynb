{
 "cells": [
  {
   "cell_type": "code",
   "execution_count": 4,
   "id": "6b68eb40-a8fb-4af5-8115-84d5908bd3bb",
   "metadata": {
    "execution": {
     "iopub.execute_input": "2023-04-13T10:57:14.513778Z",
     "iopub.status.busy": "2023-04-13T10:57:14.513420Z",
     "iopub.status.idle": "2023-04-13T10:57:17.877239Z",
     "shell.execute_reply": "2023-04-13T10:57:17.876250Z",
     "shell.execute_reply.started": "2023-04-13T10:57:14.513755Z"
    },
    "scrolled": true,
    "tags": []
   },
   "outputs": [
    {
     "name": "stdout",
     "output_type": "stream",
     "text": [
      "Requirement already satisfied: tensorflow_ranking in /usr/local/lib/python3.9/dist-packages (0.5.2)\n",
      "Collecting prettytable\n",
      "  Downloading prettytable-3.7.0-py3-none-any.whl (27 kB)\n",
      "Requirement already satisfied: six>=1.10.0 in /usr/lib/python3/dist-packages (from tensorflow_ranking) (1.14.0)\n",
      "Requirement already satisfied: numpy==1.23.2 in /usr/local/lib/python3.9/dist-packages (from tensorflow_ranking) (1.23.2)\n",
      "Requirement already satisfied: tensorflow-serving-api<3.0.0,>=2.0.0 in /usr/local/lib/python3.9/dist-packages (from tensorflow_ranking) (2.11.1)\n",
      "Requirement already satisfied: absl-py>=0.1.6 in /usr/local/lib/python3.9/dist-packages (from tensorflow_ranking) (1.1.0)\n",
      "Requirement already satisfied: wcwidth in /usr/local/lib/python3.9/dist-packages (from prettytable) (0.2.5)\n",
      "Requirement already satisfied: grpcio<2.0,>=1.24.3 in /usr/local/lib/python3.9/dist-packages (from tensorflow-serving-api<3.0.0,>=2.0.0->tensorflow_ranking) (1.47.0)\n",
      "Requirement already satisfied: protobuf<3.20,>=3.9.2 in /usr/local/lib/python3.9/dist-packages (from tensorflow-serving-api<3.0.0,>=2.0.0->tensorflow_ranking) (3.19.4)\n",
      "Requirement already satisfied: tensorflow<3,>=2.11.1 in /usr/local/lib/python3.9/dist-packages (from tensorflow-serving-api<3.0.0,>=2.0.0->tensorflow_ranking) (2.11.1)\n",
      "Requirement already satisfied: astunparse>=1.6.0 in /usr/local/lib/python3.9/dist-packages (from tensorflow<3,>=2.11.1->tensorflow-serving-api<3.0.0,>=2.0.0->tensorflow_ranking) (1.6.3)\n",
      "Requirement already satisfied: libclang>=13.0.0 in /usr/local/lib/python3.9/dist-packages (from tensorflow<3,>=2.11.1->tensorflow-serving-api<3.0.0,>=2.0.0->tensorflow_ranking) (14.0.1)\n",
      "Requirement already satisfied: google-pasta>=0.1.1 in /usr/local/lib/python3.9/dist-packages (from tensorflow<3,>=2.11.1->tensorflow-serving-api<3.0.0,>=2.0.0->tensorflow_ranking) (0.2.0)\n",
      "Requirement already satisfied: typing-extensions>=3.6.6 in /usr/local/lib/python3.9/dist-packages (from tensorflow<3,>=2.11.1->tensorflow-serving-api<3.0.0,>=2.0.0->tensorflow_ranking) (4.3.0)\n",
      "Requirement already satisfied: keras<2.12,>=2.11.0 in /usr/local/lib/python3.9/dist-packages (from tensorflow<3,>=2.11.1->tensorflow-serving-api<3.0.0,>=2.0.0->tensorflow_ranking) (2.11.0)\n",
      "Requirement already satisfied: wrapt>=1.11.0 in /usr/local/lib/python3.9/dist-packages (from tensorflow<3,>=2.11.1->tensorflow-serving-api<3.0.0,>=2.0.0->tensorflow_ranking) (1.14.1)\n",
      "Requirement already satisfied: opt-einsum>=2.3.2 in /usr/local/lib/python3.9/dist-packages (from tensorflow<3,>=2.11.1->tensorflow-serving-api<3.0.0,>=2.0.0->tensorflow_ranking) (3.3.0)\n",
      "Requirement already satisfied: tensorflow-estimator<2.12,>=2.11.0 in /usr/local/lib/python3.9/dist-packages (from tensorflow<3,>=2.11.1->tensorflow-serving-api<3.0.0,>=2.0.0->tensorflow_ranking) (2.11.0)\n",
      "Requirement already satisfied: tensorflow-io-gcs-filesystem>=0.23.1 in /usr/local/lib/python3.9/dist-packages (from tensorflow<3,>=2.11.1->tensorflow-serving-api<3.0.0,>=2.0.0->tensorflow_ranking) (0.26.0)\n",
      "Requirement already satisfied: tensorboard<2.12,>=2.11 in /usr/local/lib/python3.9/dist-packages (from tensorflow<3,>=2.11.1->tensorflow-serving-api<3.0.0,>=2.0.0->tensorflow_ranking) (2.11.2)\n",
      "Requirement already satisfied: setuptools in /usr/local/lib/python3.9/dist-packages (from tensorflow<3,>=2.11.1->tensorflow-serving-api<3.0.0,>=2.0.0->tensorflow_ranking) (63.1.0)\n",
      "Requirement already satisfied: h5py>=2.9.0 in /usr/local/lib/python3.9/dist-packages (from tensorflow<3,>=2.11.1->tensorflow-serving-api<3.0.0,>=2.0.0->tensorflow_ranking) (3.7.0)\n",
      "Requirement already satisfied: gast<=0.4.0,>=0.2.1 in /usr/local/lib/python3.9/dist-packages (from tensorflow<3,>=2.11.1->tensorflow-serving-api<3.0.0,>=2.0.0->tensorflow_ranking) (0.4.0)\n",
      "Requirement already satisfied: packaging in /usr/local/lib/python3.9/dist-packages (from tensorflow<3,>=2.11.1->tensorflow-serving-api<3.0.0,>=2.0.0->tensorflow_ranking) (21.3)\n",
      "Requirement already satisfied: termcolor>=1.1.0 in /usr/local/lib/python3.9/dist-packages (from tensorflow<3,>=2.11.1->tensorflow-serving-api<3.0.0,>=2.0.0->tensorflow_ranking) (1.1.0)\n",
      "Requirement already satisfied: flatbuffers>=2.0 in /usr/local/lib/python3.9/dist-packages (from tensorflow<3,>=2.11.1->tensorflow-serving-api<3.0.0,>=2.0.0->tensorflow_ranking) (23.3.3)\n",
      "Requirement already satisfied: wheel<1.0,>=0.23.0 in /usr/local/lib/python3.9/dist-packages (from astunparse>=1.6.0->tensorflow<3,>=2.11.1->tensorflow-serving-api<3.0.0,>=2.0.0->tensorflow_ranking) (0.35.1)\n",
      "Requirement already satisfied: requests<3,>=2.21.0 in /usr/local/lib/python3.9/dist-packages (from tensorboard<2.12,>=2.11->tensorflow<3,>=2.11.1->tensorflow-serving-api<3.0.0,>=2.0.0->tensorflow_ranking) (2.28.1)\n",
      "Requirement already satisfied: google-auth-oauthlib<0.5,>=0.4.1 in /usr/local/lib/python3.9/dist-packages (from tensorboard<2.12,>=2.11->tensorflow<3,>=2.11.1->tensorflow-serving-api<3.0.0,>=2.0.0->tensorflow_ranking) (0.4.6)\n",
      "Requirement already satisfied: markdown>=2.6.8 in /usr/local/lib/python3.9/dist-packages (from tensorboard<2.12,>=2.11->tensorflow<3,>=2.11.1->tensorflow-serving-api<3.0.0,>=2.0.0->tensorflow_ranking) (3.3.7)\n",
      "Requirement already satisfied: tensorboard-data-server<0.7.0,>=0.6.0 in /usr/local/lib/python3.9/dist-packages (from tensorboard<2.12,>=2.11->tensorflow<3,>=2.11.1->tensorflow-serving-api<3.0.0,>=2.0.0->tensorflow_ranking) (0.6.1)\n",
      "Requirement already satisfied: werkzeug>=1.0.1 in /usr/local/lib/python3.9/dist-packages (from tensorboard<2.12,>=2.11->tensorflow<3,>=2.11.1->tensorflow-serving-api<3.0.0,>=2.0.0->tensorflow_ranking) (2.1.2)\n",
      "Requirement already satisfied: google-auth<3,>=1.6.3 in /usr/local/lib/python3.9/dist-packages (from tensorboard<2.12,>=2.11->tensorflow<3,>=2.11.1->tensorflow-serving-api<3.0.0,>=2.0.0->tensorflow_ranking) (2.9.0)\n",
      "Requirement already satisfied: tensorboard-plugin-wit>=1.6.0 in /usr/local/lib/python3.9/dist-packages (from tensorboard<2.12,>=2.11->tensorflow<3,>=2.11.1->tensorflow-serving-api<3.0.0,>=2.0.0->tensorflow_ranking) (1.8.1)\n",
      "Requirement already satisfied: pyparsing!=3.0.5,>=2.0.2 in /usr/local/lib/python3.9/dist-packages (from packaging->tensorflow<3,>=2.11.1->tensorflow-serving-api<3.0.0,>=2.0.0->tensorflow_ranking) (3.0.9)\n",
      "Requirement already satisfied: cachetools<6.0,>=2.0.0 in /usr/local/lib/python3.9/dist-packages (from google-auth<3,>=1.6.3->tensorboard<2.12,>=2.11->tensorflow<3,>=2.11.1->tensorflow-serving-api<3.0.0,>=2.0.0->tensorflow_ranking) (5.2.0)\n",
      "Requirement already satisfied: rsa<5,>=3.1.4 in /usr/lib/python3/dist-packages (from google-auth<3,>=1.6.3->tensorboard<2.12,>=2.11->tensorflow<3,>=2.11.1->tensorflow-serving-api<3.0.0,>=2.0.0->tensorflow_ranking) (4.0)\n",
      "Requirement already satisfied: pyasn1-modules>=0.2.1 in /usr/local/lib/python3.9/dist-packages (from google-auth<3,>=1.6.3->tensorboard<2.12,>=2.11->tensorflow<3,>=2.11.1->tensorflow-serving-api<3.0.0,>=2.0.0->tensorflow_ranking) (0.2.8)\n",
      "Requirement already satisfied: requests-oauthlib>=0.7.0 in /usr/local/lib/python3.9/dist-packages (from google-auth-oauthlib<0.5,>=0.4.1->tensorboard<2.12,>=2.11->tensorflow<3,>=2.11.1->tensorflow-serving-api<3.0.0,>=2.0.0->tensorflow_ranking) (1.3.1)\n",
      "Requirement already satisfied: importlib-metadata>=4.4 in /usr/local/lib/python3.9/dist-packages (from markdown>=2.6.8->tensorboard<2.12,>=2.11->tensorflow<3,>=2.11.1->tensorflow-serving-api<3.0.0,>=2.0.0->tensorflow_ranking) (4.12.0)\n",
      "Requirement already satisfied: charset-normalizer<3,>=2 in /usr/local/lib/python3.9/dist-packages (from requests<3,>=2.21.0->tensorboard<2.12,>=2.11->tensorflow<3,>=2.11.1->tensorflow-serving-api<3.0.0,>=2.0.0->tensorflow_ranking) (2.1.0)\n",
      "Requirement already satisfied: certifi>=2017.4.17 in /usr/lib/python3/dist-packages (from requests<3,>=2.21.0->tensorboard<2.12,>=2.11->tensorflow<3,>=2.11.1->tensorflow-serving-api<3.0.0,>=2.0.0->tensorflow_ranking) (2019.11.28)\n",
      "Requirement already satisfied: urllib3<1.27,>=1.21.1 in /usr/local/lib/python3.9/dist-packages (from requests<3,>=2.21.0->tensorboard<2.12,>=2.11->tensorflow<3,>=2.11.1->tensorflow-serving-api<3.0.0,>=2.0.0->tensorflow_ranking) (1.26.10)\n",
      "Requirement already satisfied: idna<4,>=2.5 in /usr/lib/python3/dist-packages (from requests<3,>=2.21.0->tensorboard<2.12,>=2.11->tensorflow<3,>=2.11.1->tensorflow-serving-api<3.0.0,>=2.0.0->tensorflow_ranking) (2.8)\n",
      "Requirement already satisfied: zipp>=0.5 in /usr/local/lib/python3.9/dist-packages (from importlib-metadata>=4.4->markdown>=2.6.8->tensorboard<2.12,>=2.11->tensorflow<3,>=2.11.1->tensorflow-serving-api<3.0.0,>=2.0.0->tensorflow_ranking) (3.8.1)\n",
      "Requirement already satisfied: pyasn1<0.5.0,>=0.4.6 in /usr/local/lib/python3.9/dist-packages (from pyasn1-modules>=0.2.1->google-auth<3,>=1.6.3->tensorboard<2.12,>=2.11->tensorflow<3,>=2.11.1->tensorflow-serving-api<3.0.0,>=2.0.0->tensorflow_ranking) (0.4.8)\n",
      "Requirement already satisfied: oauthlib>=3.0.0 in /usr/local/lib/python3.9/dist-packages (from requests-oauthlib>=0.7.0->google-auth-oauthlib<0.5,>=0.4.1->tensorboard<2.12,>=2.11->tensorflow<3,>=2.11.1->tensorflow-serving-api<3.0.0,>=2.0.0->tensorflow_ranking) (3.2.0)\n",
      "Installing collected packages: prettytable\n",
      "Successfully installed prettytable-3.7.0\n",
      "\u001b[33mWARNING: Running pip as the 'root' user can result in broken permissions and conflicting behaviour with the system package manager. It is recommended to use a virtual environment instead: https://pip.pypa.io/warnings/venv\u001b[0m\u001b[33m\n",
      "\u001b[0m"
     ]
    }
   ],
   "source": [
    "!pip install tensorflow_ranking prettytable"
   ]
  },
  {
   "cell_type": "code",
   "execution_count": 5,
   "id": "ffd758b6-9ea2-4b5e-be76-95a25bdd8150",
   "metadata": {
    "execution": {
     "iopub.execute_input": "2023-04-13T10:57:17.879270Z",
     "iopub.status.busy": "2023-04-13T10:57:17.879013Z",
     "iopub.status.idle": "2023-04-13T10:57:21.583836Z",
     "shell.execute_reply": "2023-04-13T10:57:21.582563Z",
     "shell.execute_reply.started": "2023-04-13T10:57:17.879245Z"
    }
   },
   "outputs": [
    {
     "name": "stderr",
     "output_type": "stream",
     "text": [
      "2023-04-13 10:57:18.862642: I tensorflow/core/platform/cpu_feature_guard.cc:193] This TensorFlow binary is optimized with oneAPI Deep Neural Network Library (oneDNN) to use the following CPU instructions in performance-critical operations:  AVX2 FMA\n",
      "To enable them in other operations, rebuild TensorFlow with the appropriate compiler flags.\n",
      "2023-04-13 10:57:19.867685: W tensorflow/compiler/xla/stream_executor/platform/default/dso_loader.cc:64] Could not load dynamic library 'libnvinfer.so.7'; dlerror: libnvinfer.so.7: cannot open shared object file: No such file or directory; LD_LIBRARY_PATH: /usr/local/nvidia/lib:/usr/local/nvidia/lib64\n",
      "2023-04-13 10:57:19.867785: W tensorflow/compiler/xla/stream_executor/platform/default/dso_loader.cc:64] Could not load dynamic library 'libnvinfer_plugin.so.7'; dlerror: libnvinfer_plugin.so.7: cannot open shared object file: No such file or directory; LD_LIBRARY_PATH: /usr/local/nvidia/lib:/usr/local/nvidia/lib64\n",
      "2023-04-13 10:57:19.867795: W tensorflow/compiler/tf2tensorrt/utils/py_utils.cc:38] TF-TRT Warning: Cannot dlopen some TensorRT libraries. If you would like to use Nvidia GPU with TensorRT, please make sure the missing libraries mentioned above are installed properly.\n"
     ]
    }
   ],
   "source": [
    "import pandas as pd\n",
    "import numpy as np\n",
    "from matplotlib import pyplot as plt\n",
    "\n",
    "import tensorflow as tf\n",
    "import tensorflow_ranking as tfr\n",
    "from tensorflow import keras\n",
    "from tensorflow.keras import layers\n",
    "from tensorflow.keras.layers import Dense, ConvLSTM1D, Flatten, LSTM, Permute, Conv1D, MaxPooling1D, Conv2D, MaxPooling2D, Reshape, SpatialDropout1D, Dropout, TimeDistributed\n",
    "\n",
    "from keras.regularizers import l2, l1\n",
    "\n",
    "\n",
    "from sklearn.decomposition import PCA\n",
    "from sklearn.utils import class_weight, shuffle\n",
    "from sklearn.metrics import f1_score\n",
    "from sklearn.ensemble import RandomForestClassifier\n",
    "from sklearn.pipeline import Pipeline\n",
    "from sklearn.preprocessing import StandardScaler\n",
    "import sklearn\n",
    "\n",
    "import pickle\n",
    "\n",
    "from featurize import featurize_acc_gyr\n",
    "\n",
    "from scaler import CustomScaler"
   ]
  },
  {
   "cell_type": "code",
   "execution_count": 6,
   "id": "0080ba46-4227-4466-b8db-fa951e50f390",
   "metadata": {
    "execution": {
     "iopub.execute_input": "2023-04-13T10:57:21.585563Z",
     "iopub.status.busy": "2023-04-13T10:57:21.585069Z",
     "iopub.status.idle": "2023-04-13T10:57:25.304766Z",
     "shell.execute_reply": "2023-04-13T10:57:25.303617Z",
     "shell.execute_reply.started": "2023-04-13T10:57:21.585538Z"
    },
    "tags": []
   },
   "outputs": [],
   "source": [
    "file_name = \"raw_with_maps\"\n",
    "\n",
    "x_data = np.load(f\"data/processed/x_{file_name}_filtered.npy\")[:,:,[0,1,2,4,5,6]] # pre-filtered data is \"windowed_filtered\"\n",
    "feature_x_data = np.load(f\"data/processed/x_{file_name}_features_acc_gyr.npy\")\n",
    "y_user = np.load(f\"data/processed/y_user_{file_name}.npy\")\n",
    "y_intent = np.load(f\"data/processed/y_intent_{file_name}.npy\")\n",
    "y_gesture = np.load(f\"data/processed/y_gesture_type_{file_name}.npy\")\n",
    "\n",
    "train_gesture_map = np.load(f\"data/processed/train_gesture_map_{file_name}.npy\")\n",
    "test_gesture_map = np.load(f\"data/processed/test_gesture_map_{file_name}.npy\")"
   ]
  },
  {
   "cell_type": "code",
   "execution_count": 7,
   "id": "97a5d09c-f984-41f5-8b9a-0f5c3cacda66",
   "metadata": {
    "execution": {
     "iopub.execute_input": "2023-04-13T10:57:25.307721Z",
     "iopub.status.busy": "2023-04-13T10:57:25.306988Z",
     "iopub.status.idle": "2023-04-13T10:57:25.312209Z",
     "shell.execute_reply": "2023-04-13T10:57:25.311213Z",
     "shell.execute_reply.started": "2023-04-13T10:57:25.307693Z"
    }
   },
   "outputs": [],
   "source": [
    "#new_features = featurize_acc_gyr(np.load(f\"data/processed/x_{file_name}_filtered.npy\")[:,:,:8], filter_indices = [0,1,2,4,5,6])"
   ]
  },
  {
   "cell_type": "code",
   "execution_count": 8,
   "id": "ba161769-b253-4357-8385-cd1bb8f3f419",
   "metadata": {
    "execution": {
     "iopub.execute_input": "2023-04-13T10:57:25.313265Z",
     "iopub.status.busy": "2023-04-13T10:57:25.313041Z",
     "iopub.status.idle": "2023-04-13T10:57:25.319101Z",
     "shell.execute_reply": "2023-04-13T10:57:25.317518Z",
     "shell.execute_reply.started": "2023-04-13T10:57:25.313245Z"
    }
   },
   "outputs": [],
   "source": [
    "#np.save(f\"data/processed/x_{file_name}_features_acc_gyr.npy\", new_features)"
   ]
  },
  {
   "cell_type": "markdown",
   "id": "0cb6d0ff-b1c6-4d5d-b824-c30a0a105d9a",
   "metadata": {},
   "source": [
    "## RF approach"
   ]
  },
  {
   "cell_type": "code",
   "execution_count": 9,
   "id": "b8cdac1e-bf11-44c7-a982-5226091b0c2f",
   "metadata": {
    "execution": {
     "iopub.execute_input": "2023-04-13T10:57:25.320602Z",
     "iopub.status.busy": "2023-04-13T10:57:25.320344Z",
     "iopub.status.idle": "2023-04-13T10:57:25.338848Z",
     "shell.execute_reply": "2023-04-13T10:57:25.338027Z",
     "shell.execute_reply.started": "2023-04-13T10:57:25.320581Z"
    }
   },
   "outputs": [
    {
     "data": {
      "text/plain": [
       "(0.56, 0.3625, 0.36619718309859156)"
      ]
     },
     "metadata": {},
     "output_type": "display_data"
    },
    {
     "data": {
      "text/plain": [
       "(0.3, 0.6875, 0.0)"
      ]
     },
     "metadata": {},
     "output_type": "display_data"
    }
   ],
   "source": [
    "def get_eer(scores_legit, scores_adv):\n",
    "    scores_legit = sorted(scores_legit)\n",
    "    scores_adv = sorted(scores_adv)\n",
    "\n",
    "    unique_scores_legit = sorted(set(scores_legit))\n",
    "    \n",
    "    #treat each legitimate sample distance as a possible threshold, determine the point where FRR crosses FAR\n",
    "    for c, threshold in enumerate(unique_scores_legit):\n",
    "        frr = sum(1 if x < threshold else 0 for x in scores_legit) / len(scores_legit)\n",
    "        far = sum(1 if x >= threshold else 0 for x in scores_adv) / len(scores_adv)\n",
    "        if frr >= far:\n",
    "            return threshold, far, frr\n",
    "    print(\"Failure\")\n",
    "\n",
    "def get_far_when_zero_frr(scores_legit, scores_adv):\n",
    "    scores_legit = sorted(scores_legit)\n",
    "    scores_adv = sorted(scores_adv)\n",
    "\n",
    "    unique_scores_legit = sorted(set(scores_legit))\n",
    "    \n",
    "    last_far = 1.0\n",
    "    last_frr = 0.0\n",
    "    last_threshold = 0.0\n",
    "    \n",
    "    #treat each legitimate sample distance as a possible threshold, determine the point with the lowest FAR that satisfies the condition that FRR = 0\n",
    "    for c, threshold in enumerate(unique_scores_legit):\n",
    "        frr = sum(1 if x < threshold else 0 for x in scores_legit) / len(scores_legit)\n",
    "        far = sum(1 if x >= threshold else 0 for x in scores_adv) / len(scores_adv)\n",
    "        if frr > 0.001:\n",
    "            return last_threshold, last_far, last_frr\n",
    "        last_far = far\n",
    "        last_frr = frr\n",
    "        last_threshold = threshold\n",
    "\n",
    "scores_legit = [i / 100 for i in range(30,101)]\n",
    "scores_adv = [i / 100 for i in range(5, 85)]\n",
    "display(get_eer(scores_legit, scores_adv))\n",
    "display(get_far_when_zero_frr(scores_legit, scores_adv))"
   ]
  },
  {
   "cell_type": "code",
   "execution_count": 71,
   "id": "26654a2a-48e4-49c0-b773-2f23c5f98cf4",
   "metadata": {
    "execution": {
     "iopub.execute_input": "2023-04-13T12:20:24.957921Z",
     "iopub.status.busy": "2023-04-13T12:20:24.956691Z",
     "iopub.status.idle": "2023-04-13T12:20:24.964908Z",
     "shell.execute_reply": "2023-04-13T12:20:24.964125Z",
     "shell.execute_reply.started": "2023-04-13T12:20:24.957886Z"
    }
   },
   "outputs": [],
   "source": [
    "def show_evaluate_model(labels_test, labels_pred, labels_scores, verbose = 1):\n",
    "    \n",
    "\n",
    "    fmeasure = f1_score(labels_test, labels_pred, average = \"binary\", labels = np.unique(labels_pred)) \n",
    "    auroc = sklearn.metrics.roc_auc_score(labels_test, labels_scores, labels = np.unique(labels_pred))\n",
    "\n",
    "    scores_legit = [labels_scores[i] for i in range(len(labels_test)) if 1 == labels_test[i]]\n",
    "    scores_adv = [labels_scores[i] for i in range(len(labels_test)) if 0 == labels_test[i]]\n",
    "\n",
    "    eer_theta, eer, frr_at_eer = get_eer(scores_legit, scores_adv)\n",
    "    far_theta, far, frr_at_zero_frr = get_far_when_zero_frr(scores_legit, scores_adv)\n",
    "    \n",
    "    if verbose:\n",
    "        plt.hist(labels_scores, bins=100)\n",
    "        plt.show()\n",
    "        print(f\"F1 score        : {fmeasure}\")\n",
    "        print(f\"AUROC           : {auroc}\")\n",
    "        print(f\"EER             : {eer}\")\n",
    "        print(f\"frr_at_eer      : {frr_at_eer}\")\n",
    "        print(f\"far at zero frr : {far}\")\n",
    "        print(f\"frr at 'zero' frr : {frr_at_zero_frr}\")\n",
    "\n",
    "    accuracy = sum(labels_test == labels_pred) / len(labels_test)\n",
    "    \n",
    "    return {\"fmeasure\":fmeasure, \"auroc\":auroc, \"eer_theta\":eer_theta, \"eer\":eer, \"frr_at_eer\":frr_at_eer, \n",
    "            \"far_theta\":far_theta, \"far\":far, \"frr_at_zero_frr\":frr_at_zero_frr, \"accuracy\":accuracy}"
   ]
  },
  {
   "cell_type": "code",
   "execution_count": 29,
   "id": "8f65b23c-8da6-4d58-aa70-ac1d1c068bfa",
   "metadata": {
    "execution": {
     "iopub.execute_input": "2023-04-13T11:01:26.466486Z",
     "iopub.status.busy": "2023-04-13T11:01:26.465343Z",
     "iopub.status.idle": "2023-04-13T11:01:26.490912Z",
     "shell.execute_reply": "2023-04-13T11:01:26.490060Z",
     "shell.execute_reply.started": "2023-04-13T11:01:26.466441Z"
    }
   },
   "outputs": [
    {
     "data": {
      "text/plain": [
       "'\\nshuffled_data_train, shuffled_labels_train = shuffle(data_train, labels_train, random_state=0)\\n\\nscaler = CustomScaler()\\nscaler.CHANNELS = 6\\nshuffled_data_train = scaler.fit_and_transform(shuffled_data_train)\\n\\nnp.unique(shuffled_labels_train, return_counts=True)\\n'"
      ]
     },
     "execution_count": 29,
     "metadata": {},
     "output_type": "execute_result"
    }
   ],
   "source": [
    "auth_user = 0\n",
    "\n",
    "_map = (train_gesture_map == 1)\n",
    "_test_map = (test_gesture_map == 1)\n",
    "\n",
    "data_train = x_data[_map]\n",
    "feature_data_train = feature_x_data[_map]\n",
    "labels_train = (y_user.argmax(axis=1) == auth_user)[_map].astype(int) #\n",
    "\n",
    "\"\"\"\n",
    "shuffled_data_train, shuffled_labels_train = shuffle(data_train, labels_train, random_state=0)\n",
    "\n",
    "scaler = CustomScaler()\n",
    "scaler.CHANNELS = 6\n",
    "shuffled_data_train = scaler.fit_and_transform(shuffled_data_train)\n",
    "\n",
    "np.unique(shuffled_labels_train, return_counts=True)\n",
    "\"\"\""
   ]
  },
  {
   "cell_type": "code",
   "execution_count": 40,
   "id": "c23777c2-e144-46bc-8a3b-bf137cdbb565",
   "metadata": {
    "execution": {
     "iopub.execute_input": "2023-04-13T11:05:43.361276Z",
     "iopub.status.busy": "2023-04-13T11:05:43.360426Z",
     "iopub.status.idle": "2023-04-13T11:05:51.240770Z",
     "shell.execute_reply": "2023-04-13T11:05:51.239867Z",
     "shell.execute_reply.started": "2023-04-13T11:05:43.361243Z"
    },
    "tags": []
   },
   "outputs": [],
   "source": [
    "from sklearn.ensemble import RandomForestClassifier\n",
    "from sklearn.pipeline import Pipeline\n",
    "from sklearn.preprocessing import StandardScaler\n",
    "\n",
    "shuffled_data_train, shuffled_labels_train = shuffle(feature_data_train, labels_train, random_state=0)\n",
    "\n",
    "standard_scaler = StandardScaler()\n",
    "shuffled_data_train = standard_scaler.fit_transform(shuffled_data_train)\n",
    "\n",
    "#kFold = sklearn.model_selection.StratifiedKFold(n_splits=5)\n",
    "#val_map = next(kFold.split(shuffled_data_train, shuffled_labels_train))[1]\n",
    "\n",
    "wa_model = RandomForestClassifier(n_estimators = 700, random_state = 0, class_weight={0:1,1:1}).fit(shuffled_data_train, shuffled_labels_train)\n",
    "\n",
    "\n",
    "\n"
   ]
  },
  {
   "cell_type": "code",
   "execution_count": 41,
   "id": "5e093c83-379a-4bec-b576-d49a5cb4f73d",
   "metadata": {
    "execution": {
     "iopub.execute_input": "2023-04-13T11:05:51.909403Z",
     "iopub.status.busy": "2023-04-13T11:05:51.909042Z",
     "iopub.status.idle": "2023-04-13T11:05:51.915890Z",
     "shell.execute_reply": "2023-04-13T11:05:51.914828Z",
     "shell.execute_reply.started": "2023-04-13T11:05:51.909379Z"
    }
   },
   "outputs": [
    {
     "name": "stdout",
     "output_type": "stream",
     "text": [
      "81692\n"
     ]
    }
   ],
   "source": [
    "count = 0\n",
    "for tree_in_forest in wa_model.estimators_:\n",
    "    count += tree_in_forest.tree_.node_count\n",
    "print(count)"
   ]
  },
  {
   "cell_type": "code",
   "execution_count": 42,
   "id": "83900649-0b49-450e-89af-174db62fdddc",
   "metadata": {
    "execution": {
     "iopub.execute_input": "2023-04-13T11:05:56.032046Z",
     "iopub.status.busy": "2023-04-13T11:05:56.031696Z",
     "iopub.status.idle": "2023-04-13T11:05:56.523346Z",
     "shell.execute_reply": "2023-04-13T11:05:56.522282Z",
     "shell.execute_reply.started": "2023-04-13T11:05:56.032020Z"
    },
    "tags": []
   },
   "outputs": [
    {
     "data": {
      "image/png": "[encoded data removed]",
      "text/plain": [
       "<Figure size 432x288 with 1 Axes>"
      ]
     },
     "metadata": {
      "needs_background": "light"
     },
     "output_type": "display_data"
    },
    {
     "name": "stdout",
     "output_type": "stream",
     "text": [
      "F1 score        : 0.7693719806763285\n",
      "AUROC           : 0.9663396792360431\n",
      "EER             : 0.08129285014691479\n",
      "frr_at_eer      : 0.109375\n",
      "far at zero frr : 0.41625857002938293\n",
      "frr at 'zero' frr : 0.0\n"
     ]
    },
    {
     "data": {
      "text/plain": [
       "{'fmeasure': 0.7693719806763285,\n",
       " 'auroc': 0.9663396792360431,\n",
       " 'eer_theta': 0.13285714285714287,\n",
       " 'eer': 0.08129285014691479,\n",
       " 'frr_at_eer': 0.109375,\n",
       " 'far_theta': 0.011428571428571429,\n",
       " 'far': 0.41625857002938293,\n",
       " 'frr_at_zero_frr': 0.0,\n",
       " 'accuracy': 0.9594470046082949}"
      ]
     },
     "execution_count": 42,
     "metadata": {},
     "output_type": "execute_result"
    }
   ],
   "source": [
    "labels_pred = wa_model.predict(standard_scaler.transform(feature_x_data[_test_map]))\n",
    "labels_scores = wa_model.predict_proba(standard_scaler.transform(feature_x_data[_test_map]))[:, 1]\n",
    "\n",
    "labels_test = (y_user.argmax(axis=1) == auth_user)[_test_map].astype(int)\n",
    "\n",
    "#stat_dict = {\"labels_pred\": labels_pred, \"labels_scores\":labels_scores, \"labels_test\":labels_test}\n",
    "#with open(f'data/stats/auth/RF_user={auth_user}.pickle', 'wb') as f:\n",
    "#    pickle.dump(stat_dict, f)\n",
    "\n",
    "show_evaluate_model(labels_test, labels_pred, labels_scores)"
   ]
  },
  {
   "cell_type": "code",
   "execution_count": 8,
   "id": "1d0b4d73-aa41-49e7-a5be-992d10c90b51",
   "metadata": {
    "execution": {
     "iopub.execute_input": "2023-03-10T16:22:24.699721Z",
     "iopub.status.busy": "2023-03-10T16:22:24.699371Z",
     "iopub.status.idle": "2023-03-10T16:22:30.407806Z",
     "shell.execute_reply": "2023-03-10T16:22:30.407166Z",
     "shell.execute_reply.started": "2023-03-10T16:22:24.699698Z"
    },
    "scrolled": true,
    "tags": []
   },
   "outputs": [
    {
     "name": "stdout",
     "output_type": "stream",
     "text": [
      "Model: \"MLP_classifier\"\n",
      "_________________________________________________________________\n",
      " Layer (type)                Output Shape              Param #   \n",
      "=================================================================\n",
      " input_1 (InputLayer)        [(None, 200, 6)]          0         \n",
      "                                                                 \n",
      " flatten (Flatten)           (None, 1200)              0         \n",
      "                                                                 \n",
      " dense (Dense)               (None, 50)                60050     \n",
      "                                                                 \n",
      " dense_1 (Dense)             (None, 50)                2550      \n",
      "                                                                 \n",
      " dense_2 (Dense)             (None, 50)                2550      \n",
      "                                                                 \n",
      " dense_3 (Dense)             (None, 50)                2550      \n",
      "                                                                 \n",
      " dense_4 (Dense)             (None, 50)                2550      \n",
      "                                                                 \n",
      " dense_5 (Dense)             (None, 50)                2550      \n",
      "                                                                 \n",
      " dense_6 (Dense)             (None, 1)                 51        \n",
      "                                                                 \n",
      "=================================================================\n",
      "Total params: 72,851\n",
      "Trainable params: 72,851\n",
      "Non-trainable params: 0\n",
      "_________________________________________________________________\n"
     ]
    },
    {
     "name": "stderr",
     "output_type": "stream",
     "text": [
      "2023-03-10 16:22:24.805185: W tensorflow/compiler/xla/stream_executor/platform/default/dso_loader.cc:64] Could not load dynamic library 'libcuda.so.1'; dlerror: libcuda.so.1: cannot open shared object file: No such file or directory; LD_LIBRARY_PATH: /usr/local/nvidia/lib:/usr/local/nvidia/lib64\n",
      "2023-03-10 16:22:24.806726: W tensorflow/compiler/xla/stream_executor/cuda/cuda_driver.cc:265] failed call to cuInit: UNKNOWN ERROR (303)\n"
     ]
    },
    {
     "name": "stdout",
     "output_type": "stream",
     "text": [
      "Model: \"GRU_classifier\"\n",
      "_________________________________________________________________\n",
      " Layer (type)                Output Shape              Param #   \n",
      "=================================================================\n",
      " input_2 (InputLayer)        [(None, 200, 6)]          0         \n",
      "                                                                 \n",
      " gru (GRU)                   (None, 200, 68)           15504     \n",
      "                                                                 \n",
      " gru_1 (GRU)                 (None, 200, 68)           28152     \n",
      "                                                                 \n",
      " gru_2 (GRU)                 (None, 68)                28152     \n",
      "                                                                 \n",
      " dense_7 (Dense)             (None, 25)                1725      \n",
      "                                                                 \n",
      " dense_8 (Dense)             (None, 10)                260       \n",
      "                                                                 \n",
      " dense_9 (Dense)             (None, 1)                 11        \n",
      "                                                                 \n",
      "=================================================================\n",
      "Total params: 73,804\n",
      "Trainable params: 73,804\n",
      "Non-trainable params: 0\n",
      "_________________________________________________________________\n",
      "Model: \"simple_conv_classifier\"\n",
      "_________________________________________________________________\n",
      " Layer (type)                Output Shape              Param #   \n",
      "=================================================================\n",
      " input_3 (InputLayer)        [(None, 200, 6)]          0         \n",
      "                                                                 \n",
      " conv1d (Conv1D)             (None, 200, 138)          552       \n",
      "                                                                 \n",
      " max_pooling1d (MaxPooling1D  (None, 100, 138)         0         \n",
      " )                                                               \n",
      "                                                                 \n",
      " conv1d_1 (Conv1D)           (None, 100, 138)          9660      \n",
      "                                                                 \n",
      " max_pooling1d_1 (MaxPooling  (None, 50, 138)          0         \n",
      " 1D)                                                             \n",
      "                                                                 \n",
      " conv1d_2 (Conv1D)           (None, 50, 138)           9660      \n",
      "                                                                 \n",
      " max_pooling1d_2 (MaxPooling  (None, 25, 138)          0         \n",
      " 1D)                                                             \n",
      "                                                                 \n",
      " conv1d_3 (Conv1D)           (None, 25, 138)           9660      \n",
      "                                                                 \n",
      " max_pooling1d_3 (MaxPooling  (None, 13, 138)          0         \n",
      " 1D)                                                             \n",
      "                                                                 \n",
      " conv1d_4 (Conv1D)           (None, 13, 138)           9660      \n",
      "                                                                 \n",
      " max_pooling1d_4 (MaxPooling  (None, 7, 138)           0         \n",
      " 1D)                                                             \n",
      "                                                                 \n",
      " conv1d_5 (Conv1D)           (None, 7, 138)            9660      \n",
      "                                                                 \n",
      " max_pooling1d_5 (MaxPooling  (None, 4, 138)           0         \n",
      " 1D)                                                             \n",
      "                                                                 \n",
      " conv1d_6 (Conv1D)           (None, 4, 138)            9660      \n",
      "                                                                 \n",
      " max_pooling1d_6 (MaxPooling  (None, 2, 138)           0         \n",
      " 1D)                                                             \n",
      "                                                                 \n",
      " conv1d_7 (Conv1D)           (None, 2, 138)            9660      \n",
      "                                                                 \n",
      " max_pooling1d_7 (MaxPooling  (None, 1, 138)           0         \n",
      " 1D)                                                             \n",
      "                                                                 \n",
      " flatten_1 (Flatten)         (None, 138)               0         \n",
      "                                                                 \n",
      " dense_10 (Dense)            (None, 25)                3475      \n",
      "                                                                 \n",
      " dense_11 (Dense)            (None, 10)                260       \n",
      "                                                                 \n",
      " dense_12 (Dense)            (None, 1)                 11        \n",
      "                                                                 \n",
      "=================================================================\n",
      "Total params: 71,918\n",
      "Trainable params: 71,918\n",
      "Non-trainable params: 0\n",
      "_________________________________________________________________\n",
      "Model: \"simple_conv_gru_classifier\"\n",
      "_________________________________________________________________\n",
      " Layer (type)                Output Shape              Param #   \n",
      "=================================================================\n",
      " input_4 (InputLayer)        [(None, 200, 6)]          0         \n",
      "                                                                 \n",
      " conv1d_8 (Conv1D)           (None, 200, 138)          552       \n",
      "                                                                 \n",
      " max_pooling1d_8 (MaxPooling  (None, 100, 138)         0         \n",
      " 1D)                                                             \n",
      "                                                                 \n",
      " conv1d_9 (Conv1D)           (None, 100, 138)          9660      \n",
      "                                                                 \n",
      " max_pooling1d_9 (MaxPooling  (None, 50, 138)          0         \n",
      " 1D)                                                             \n",
      "                                                                 \n",
      " conv1d_10 (Conv1D)          (None, 50, 138)           9660      \n",
      "                                                                 \n",
      " max_pooling1d_10 (MaxPoolin  (None, 25, 138)          0         \n",
      " g1D)                                                            \n",
      "                                                                 \n",
      " conv1d_11 (Conv1D)          (None, 25, 138)           9660      \n",
      "                                                                 \n",
      " max_pooling1d_11 (MaxPoolin  (None, 13, 138)          0         \n",
      " g1D)                                                            \n",
      "                                                                 \n",
      " conv1d_12 (Conv1D)          (None, 13, 138)           9660      \n",
      "                                                                 \n",
      " max_pooling1d_12 (MaxPoolin  (None, 7, 138)           0         \n",
      " g1D)                                                            \n",
      "                                                                 \n",
      " gru_3 (GRU)                 (None, 7, 32)             16512     \n",
      "                                                                 \n",
      " gru_4 (GRU)                 (None, 7, 32)             6336      \n",
      "                                                                 \n",
      " gru_5 (GRU)                 (None, 32)                6336      \n",
      "                                                                 \n",
      " dense_13 (Dense)            (None, 25)                825       \n",
      "                                                                 \n",
      " dense_14 (Dense)            (None, 10)                260       \n",
      "                                                                 \n",
      " dense_15 (Dense)            (None, 1)                 11        \n",
      "                                                                 \n",
      "=================================================================\n",
      "Total params: 69,472\n",
      "Trainable params: 69,472\n",
      "Non-trainable params: 0\n",
      "_________________________________________________________________\n",
      "Model: \"complex_conv_GRU_classifier\"\n",
      "__________________________________________________________________________________________________\n",
      " Layer (type)                   Output Shape         Param #     Connected to                     \n",
      "==================================================================================================\n",
      " input_5 (InputLayer)           [(None, 200, 6)]     0           []                               \n",
      "                                                                                                  \n",
      " conv1d_13 (Conv1D)             (None, 200, 22)      154         ['input_5[0][0]']                \n",
      "                                                                                                  \n",
      " conv1d_14 (Conv1D)             (None, 200, 22)      418         ['input_5[0][0]']                \n",
      "                                                                                                  \n",
      " conv1d_15 (Conv1D)             (None, 200, 22)      682         ['input_5[0][0]']                \n",
      "                                                                                                  \n",
      " conv1d_16 (Conv1D)             (None, 200, 22)      1342        ['input_5[0][0]']                \n",
      "                                                                                                  \n",
      " max_pooling1d_13 (MaxPooling1D  (None, 100, 22)     0           ['conv1d_13[0][0]']              \n",
      " )                                                                                                \n",
      "                                                                                                  \n",
      " max_pooling1d_14 (MaxPooling1D  (None, 100, 22)     0           ['conv1d_14[0][0]']              \n",
      " )                                                                                                \n",
      "                                                                                                  \n",
      " max_pooling1d_15 (MaxPooling1D  (None, 100, 22)     0           ['conv1d_15[0][0]']              \n",
      " )                                                                                                \n",
      "                                                                                                  \n",
      " max_pooling1d_16 (MaxPooling1D  (None, 100, 22)     0           ['conv1d_16[0][0]']              \n",
      " )                                                                                                \n",
      "                                                                                                  \n",
      " concatenate (Concatenate)      (None, 100, 88)      0           ['max_pooling1d_13[0][0]',       \n",
      "                                                                  'max_pooling1d_14[0][0]',       \n",
      "                                                                  'max_pooling1d_15[0][0]',       \n",
      "                                                                  'max_pooling1d_16[0][0]']       \n",
      "                                                                                                  \n",
      " time_distributed (TimeDistribu  (None, 100, 30)     2670        ['concatenate[0][0]']            \n",
      " ted)                                                                                             \n",
      "                                                                                                  \n",
      " conv1d_17 (Conv1D)             (None, 100, 22)      682         ['time_distributed[0][0]']       \n",
      "                                                                                                  \n",
      " conv1d_18 (Conv1D)             (None, 100, 22)      2002        ['time_distributed[0][0]']       \n",
      "                                                                                                  \n",
      " conv1d_19 (Conv1D)             (None, 100, 22)      3322        ['time_distributed[0][0]']       \n",
      "                                                                                                  \n",
      " conv1d_20 (Conv1D)             (None, 100, 22)      6622        ['time_distributed[0][0]']       \n",
      "                                                                                                  \n",
      " max_pooling1d_17 (MaxPooling1D  (None, 50, 22)      0           ['conv1d_17[0][0]']              \n",
      " )                                                                                                \n",
      "                                                                                                  \n",
      " max_pooling1d_18 (MaxPooling1D  (None, 50, 22)      0           ['conv1d_18[0][0]']              \n",
      " )                                                                                                \n",
      "                                                                                                  \n",
      " max_pooling1d_19 (MaxPooling1D  (None, 50, 22)      0           ['conv1d_19[0][0]']              \n",
      " )                                                                                                \n",
      "                                                                                                  \n",
      " max_pooling1d_20 (MaxPooling1D  (None, 50, 22)      0           ['conv1d_20[0][0]']              \n",
      " )                                                                                                \n",
      "                                                                                                  \n",
      " concatenate_1 (Concatenate)    (None, 50, 88)       0           ['max_pooling1d_17[0][0]',       \n",
      "                                                                  'max_pooling1d_18[0][0]',       \n",
      "                                                                  'max_pooling1d_19[0][0]',       \n",
      "                                                                  'max_pooling1d_20[0][0]']       \n",
      "                                                                                                  \n",
      " time_distributed_1 (TimeDistri  (None, 50, 30)      2670        ['concatenate_1[0][0]']          \n",
      " buted)                                                                                           \n",
      "                                                                                                  \n",
      " conv1d_21 (Conv1D)             (None, 50, 22)       682         ['time_distributed_1[0][0]']     \n",
      "                                                                                                  \n",
      " conv1d_22 (Conv1D)             (None, 50, 22)       2002        ['time_distributed_1[0][0]']     \n",
      "                                                                                                  \n",
      " conv1d_23 (Conv1D)             (None, 50, 22)       3322        ['time_distributed_1[0][0]']     \n",
      "                                                                                                  \n",
      " conv1d_24 (Conv1D)             (None, 50, 22)       6622        ['time_distributed_1[0][0]']     \n",
      "                                                                                                  \n",
      " max_pooling1d_21 (MaxPooling1D  (None, 25, 22)      0           ['conv1d_21[0][0]']              \n",
      " )                                                                                                \n",
      "                                                                                                  \n",
      " max_pooling1d_22 (MaxPooling1D  (None, 25, 22)      0           ['conv1d_22[0][0]']              \n",
      " )                                                                                                \n",
      "                                                                                                  \n",
      " max_pooling1d_23 (MaxPooling1D  (None, 25, 22)      0           ['conv1d_23[0][0]']              \n",
      " )                                                                                                \n",
      "                                                                                                  \n",
      " max_pooling1d_24 (MaxPooling1D  (None, 25, 22)      0           ['conv1d_24[0][0]']              \n",
      " )                                                                                                \n",
      "                                                                                                  \n",
      " concatenate_2 (Concatenate)    (None, 25, 88)       0           ['max_pooling1d_21[0][0]',       \n",
      "                                                                  'max_pooling1d_22[0][0]',       \n",
      "                                                                  'max_pooling1d_23[0][0]',       \n",
      "                                                                  'max_pooling1d_24[0][0]']       \n",
      "                                                                                                  \n",
      " time_distributed_2 (TimeDistri  (None, 25, 30)      2670        ['concatenate_2[0][0]']          \n",
      " buted)                                                                                           \n",
      "                                                                                                  \n",
      " conv1d_25 (Conv1D)             (None, 25, 22)       682         ['time_distributed_2[0][0]']     \n",
      "                                                                                                  \n",
      " conv1d_26 (Conv1D)             (None, 25, 22)       2002        ['time_distributed_2[0][0]']     \n",
      "                                                                                                  \n",
      " conv1d_27 (Conv1D)             (None, 25, 22)       3322        ['time_distributed_2[0][0]']     \n",
      "                                                                                                  \n",
      " conv1d_28 (Conv1D)             (None, 25, 22)       6622        ['time_distributed_2[0][0]']     \n",
      "                                                                                                  \n",
      " max_pooling1d_25 (MaxPooling1D  (None, 13, 22)      0           ['conv1d_25[0][0]']              \n",
      " )                                                                                                \n",
      "                                                                                                  \n",
      " max_pooling1d_26 (MaxPooling1D  (None, 13, 22)      0           ['conv1d_26[0][0]']              \n",
      " )                                                                                                \n",
      "                                                                                                  \n",
      " max_pooling1d_27 (MaxPooling1D  (None, 13, 22)      0           ['conv1d_27[0][0]']              \n",
      " )                                                                                                \n",
      "                                                                                                  \n",
      " max_pooling1d_28 (MaxPooling1D  (None, 13, 22)      0           ['conv1d_28[0][0]']              \n",
      " )                                                                                                \n",
      "                                                                                                  \n",
      " concatenate_3 (Concatenate)    (None, 13, 88)       0           ['max_pooling1d_25[0][0]',       \n",
      "                                                                  'max_pooling1d_26[0][0]',       \n",
      "                                                                  'max_pooling1d_27[0][0]',       \n",
      "                                                                  'max_pooling1d_28[0][0]']       \n",
      "                                                                                                  \n",
      " time_distributed_3 (TimeDistri  (None, 13, 30)      2670        ['concatenate_3[0][0]']          \n",
      " buted)                                                                                           \n",
      "                                                                                                  \n",
      " gru_6 (GRU)                    (None, 13, 32)       6144        ['time_distributed_3[0][0]']     \n",
      "                                                                                                  \n",
      " gru_7 (GRU)                    (None, 13, 32)       6336        ['gru_6[0][0]']                  \n",
      "                                                                                                  \n",
      " gru_8 (GRU)                    (None, 32)           6336        ['gru_7[0][0]']                  \n",
      "                                                                                                  \n",
      " dense_20 (Dense)               (None, 25)           825         ['gru_8[0][0]']                  \n",
      "                                                                                                  \n",
      " dense_21 (Dense)               (None, 10)           260         ['dense_20[0][0]']               \n",
      "                                                                                                  \n",
      " dense_22 (Dense)               (None, 1)            11          ['dense_21[0][0]']               \n",
      "                                                                                                  \n",
      "==================================================================================================\n",
      "Total params: 71,072\n",
      "Trainable params: 71,072\n",
      "Non-trainable params: 0\n",
      "__________________________________________________________________________________________________\n"
     ]
    }
   ],
   "source": [
    "class SplitLayer(tf.keras.layers.Layer):\n",
    "    def __init__(self, layers):\n",
    "        super(SplitLayer, self).__init__()\n",
    "        self.layers = layers\n",
    "\n",
    "    def call(self, inputs):\n",
    "        return tf.gather(inputs,indices=self.layers,axis=-1)\n",
    "\n",
    "def get_mlp_model(input_dim=(200,6), outputs=1):\n",
    "    inputs = keras.Input(shape=input_dim)\n",
    "    x = inputs\n",
    "    \n",
    "    x = Flatten()(x)\n",
    "    x = Dense(50, activation=\"relu\")(x)\n",
    "    x = Dense(50, activation=\"relu\")(x)\n",
    "    x = Dense(50, activation=\"relu\")(x)\n",
    "    x = Dense(50, activation=\"relu\")(x)\n",
    "    x = Dense(50, activation=\"relu\")(x)\n",
    "    x = Dense(50, activation=\"relu\")(x)\n",
    "    #x = Dropout(0.1)(x)\n",
    "    if outputs == 1:\n",
    "        x = Dense(1, activation=\"sigmoid\")(x)\n",
    "    else:\n",
    "        x = Dense(outputs, activation=\"softmax\")(x)\n",
    "    \n",
    "    out = x\n",
    "    \n",
    "    model = keras.Model(inputs, out, name=\"MLP_classifier\")\n",
    "    \n",
    "    return model\n",
    "    \n",
    "def get_gru_model(input_dim=(200,6)):\n",
    "    inputs = keras.Input(shape=input_dim)\n",
    "    x = inputs\n",
    "    \n",
    "    x = layers.GRU(68, return_sequences=True)(x)\n",
    "    x = layers.GRU(68, return_sequences=True)(x)\n",
    "    x = layers.GRU(68)(x)\n",
    "    \n",
    "    x = Dense(25, activation=\"relu\")(x)\n",
    "    x = Dense(10, activation=\"relu\")(x)\n",
    "    x = Dense(1, activation=\"sigmoid\")(x)\n",
    "    out = x\n",
    "    model = keras.Model(inputs, x, name=\"GRU_classifier\")\n",
    "    return model\n",
    "\n",
    "def get_conv_model():\n",
    "    # requires input dim with 6 channels for dimensions\n",
    "    input_dim = (200,6)\n",
    "    \n",
    "    inputs = keras.Input(shape=input_dim)\n",
    "    x = inputs\n",
    "    \n",
    "    xs = []\n",
    "    last_output_channels = 23\n",
    "    for a in range(8):\n",
    "        x = Conv1D(last_output_channels * 6, 3, strides=1, groups=input_dim[1], padding=\"same\", activation=\"relu\")(x)\n",
    "        x = MaxPooling1D(pool_size=2, strides=None, padding=\"same\")(x)\n",
    "    \n",
    "    x = Flatten()(x)\n",
    "\n",
    "    x = Dense(25, activation=\"relu\")(x)\n",
    "    x = Dense(10, activation=\"relu\")(x)\n",
    "    x = Dense(1, activation=\"sigmoid\")(x)\n",
    "    out = x\n",
    "\n",
    "    model = keras.Model(inputs, out, name=\"simple_conv_classifier\")\n",
    "    \n",
    "    return model\n",
    "\n",
    "def get_simple_mix_model():\n",
    "    # requires input dim with 6 channels for dimensions\n",
    "    input_dim = (200,6)\n",
    "    \n",
    "    inputs = keras.Input(shape=input_dim)\n",
    "    x = inputs\n",
    "    \n",
    "    xs = []\n",
    "    last_output_channels = 23\n",
    "    for a in range(5):\n",
    "        x = Conv1D(last_output_channels * 6, 3, strides=1, groups=input_dim[1], padding=\"same\", activation=\"relu\")(x)\n",
    "        x = MaxPooling1D(pool_size=2, strides=None, padding=\"same\")(x)\n",
    "    \n",
    "    x = layers.GRU(32, return_sequences=True)(x)\n",
    "    x = layers.GRU(32, return_sequences=True)(x)\n",
    "    x = layers.GRU(32)(x)\n",
    "\n",
    "    x = Dense(25, activation=\"relu\")(x)\n",
    "    x = Dense(10, activation=\"relu\")(x)\n",
    "    x = Dense(1, activation=\"sigmoid\")(x)\n",
    "    out = x\n",
    "\n",
    "    model = keras.Model(inputs, out, name=\"simple_conv_gru_classifier\")\n",
    "    \n",
    "    return model\n",
    "\n",
    "def get_complex_mix_model():\n",
    "\n",
    "    input_dim = (200,6)\n",
    "    \n",
    "    inputs = keras.Input(shape=input_dim)\n",
    "    x = inputs\n",
    "    y = inputs\n",
    "    \n",
    "    \n",
    "    \n",
    "    last_output_channels = 22\n",
    "    for a in range(4):\n",
    "        x0 = Conv1D(last_output_channels, 1, strides=1, padding=\"same\", activation=\"relu\")(x)\n",
    "        x1 = Conv1D(last_output_channels, 3, strides=1, padding=\"same\", activation=\"relu\")(x)\n",
    "        x2 = Conv1D(last_output_channels, 5, strides=1, padding=\"same\", activation=\"relu\")(x)\n",
    "        x3 = Conv1D(last_output_channels, 10, strides=1, padding=\"same\", activation=\"relu\")(x)\n",
    "        x0 = MaxPooling1D(pool_size=2, strides=None, padding=\"same\")(x0)\n",
    "        x1 = MaxPooling1D(pool_size=2, strides=None, padding=\"same\")(x1)\n",
    "        x2 = MaxPooling1D(pool_size=2, strides=None, padding=\"same\")(x2)\n",
    "        x3 = MaxPooling1D(pool_size=2, strides=None, padding=\"same\")(x3)\n",
    "        x = layers.Concatenate()([x0,x1,x2,x3])\n",
    "        \n",
    "        x = layers.TimeDistributed(Dense(30, activation=\"relu\"))(x) # , kernel_regularizer=keras.regularizers.L1(1e-4)))(x) # \n",
    "        \n",
    "        \n",
    "    x = layers.GRU(32, return_sequences=True)(x)\n",
    "    x = layers.GRU(32, return_sequences=True)(x)\n",
    "    x = layers.GRU(32)(x)\n",
    "\n",
    "    x = Dense(25, activation=\"relu\")(x)\n",
    "    x = Dense(10, activation=\"relu\")(x)\n",
    "    x = Dense(1, activation=\"sigmoid\")(x)\n",
    "    out = x\n",
    "\n",
    "    model = keras.Model(inputs, out, name=\"complex_conv_GRU_classifier\")\n",
    "    \n",
    "    return model\n",
    "\n",
    "\n",
    "get_mlp_model().summary()\n",
    "get_gru_model().summary()\n",
    "get_conv_model().summary()\n",
    "get_simple_mix_model().summary()\n",
    "get_complex_mix_model().summary()"
   ]
  },
  {
   "cell_type": "code",
   "execution_count": 10,
   "id": "9393f3c3-c11c-4238-97db-b29759277d21",
   "metadata": {
    "execution": {
     "iopub.execute_input": "2023-03-08T15:56:20.719847Z",
     "iopub.status.busy": "2023-03-08T15:56:20.719517Z",
     "iopub.status.idle": "2023-03-08T15:56:20.833296Z",
     "shell.execute_reply": "2023-03-08T15:56:20.831965Z",
     "shell.execute_reply.started": "2023-03-08T15:56:20.719818Z"
    },
    "tags": []
   },
   "outputs": [
    {
     "data": {
      "text/plain": [
       "(array([0, 1]), array([2254,  145]))"
      ]
     },
     "execution_count": 10,
     "metadata": {},
     "output_type": "execute_result"
    }
   ],
   "source": [
    "shuffled_data_train, shuffled_labels_train = shuffle(data_train, labels_train, random_state=0)\n",
    "\n",
    "scaler = CustomScaler()\n",
    "scaler.CHANNELS = 6\n",
    "shuffled_data_train = scaler.fit_and_transform(shuffled_data_train)\n",
    "\n",
    "np.unique(shuffled_labels_train, return_counts=True)"
   ]
  },
  {
   "cell_type": "code",
   "execution_count": 15,
   "id": "8f225f9b-aacd-4f50-9f3e-1b73e0eb464f",
   "metadata": {
    "execution": {
     "iopub.execute_input": "2023-03-08T16:00:28.846221Z",
     "iopub.status.busy": "2023-03-08T16:00:28.845755Z",
     "iopub.status.idle": "2023-03-08T16:02:03.285136Z",
     "shell.execute_reply": "2023-03-08T16:02:03.284095Z",
     "shell.execute_reply.started": "2023-03-08T16:00:28.846185Z"
    },
    "scrolled": true,
    "tags": []
   },
   "outputs": [
    {
     "name": "stdout",
     "output_type": "stream",
     "text": [
      "Model: \"complex_conv_GRU_classifier\"\n",
      "__________________________________________________________________________________________________\n",
      " Layer (type)                   Output Shape         Param #     Connected to                     \n",
      "==================================================================================================\n",
      " input_7 (InputLayer)           [(None, 200, 6)]     0           []                               \n",
      "                                                                                                  \n",
      " conv1d_34 (Conv1D)             (None, 200, 22)      154         ['input_7[0][0]']                \n",
      "                                                                                                  \n",
      " conv1d_35 (Conv1D)             (None, 200, 22)      418         ['input_7[0][0]']                \n",
      "                                                                                                  \n",
      " conv1d_36 (Conv1D)             (None, 200, 22)      682         ['input_7[0][0]']                \n",
      "                                                                                                  \n",
      " conv1d_37 (Conv1D)             (None, 200, 22)      1342        ['input_7[0][0]']                \n",
      "                                                                                                  \n",
      " max_pooling1d_34 (MaxPooling1D  (None, 100, 22)     0           ['conv1d_34[0][0]']              \n",
      " )                                                                                                \n",
      "                                                                                                  \n",
      " max_pooling1d_35 (MaxPooling1D  (None, 100, 22)     0           ['conv1d_35[0][0]']              \n",
      " )                                                                                                \n",
      "                                                                                                  \n",
      " max_pooling1d_36 (MaxPooling1D  (None, 100, 22)     0           ['conv1d_36[0][0]']              \n",
      " )                                                                                                \n",
      "                                                                                                  \n",
      " max_pooling1d_37 (MaxPooling1D  (None, 100, 22)     0           ['conv1d_37[0][0]']              \n",
      " )                                                                                                \n",
      "                                                                                                  \n",
      " concatenate_4 (Concatenate)    (None, 100, 88)      0           ['max_pooling1d_34[0][0]',       \n",
      "                                                                  'max_pooling1d_35[0][0]',       \n",
      "                                                                  'max_pooling1d_36[0][0]',       \n",
      "                                                                  'max_pooling1d_37[0][0]']       \n",
      "                                                                                                  \n",
      " time_distributed_4 (TimeDistri  (None, 100, 30)     2670        ['concatenate_4[0][0]']          \n",
      " buted)                                                                                           \n",
      "                                                                                                  \n",
      " conv1d_38 (Conv1D)             (None, 100, 22)      682         ['time_distributed_4[0][0]']     \n",
      "                                                                                                  \n",
      " conv1d_39 (Conv1D)             (None, 100, 22)      2002        ['time_distributed_4[0][0]']     \n",
      "                                                                                                  \n",
      " conv1d_40 (Conv1D)             (None, 100, 22)      3322        ['time_distributed_4[0][0]']     \n",
      "                                                                                                  \n",
      " conv1d_41 (Conv1D)             (None, 100, 22)      6622        ['time_distributed_4[0][0]']     \n",
      "                                                                                                  \n",
      " max_pooling1d_38 (MaxPooling1D  (None, 50, 22)      0           ['conv1d_38[0][0]']              \n",
      " )                                                                                                \n",
      "                                                                                                  \n",
      " max_pooling1d_39 (MaxPooling1D  (None, 50, 22)      0           ['conv1d_39[0][0]']              \n",
      " )                                                                                                \n",
      "                                                                                                  \n",
      " max_pooling1d_40 (MaxPooling1D  (None, 50, 22)      0           ['conv1d_40[0][0]']              \n",
      " )                                                                                                \n",
      "                                                                                                  \n",
      " max_pooling1d_41 (MaxPooling1D  (None, 50, 22)      0           ['conv1d_41[0][0]']              \n",
      " )                                                                                                \n",
      "                                                                                                  \n",
      " concatenate_5 (Concatenate)    (None, 50, 88)       0           ['max_pooling1d_38[0][0]',       \n",
      "                                                                  'max_pooling1d_39[0][0]',       \n",
      "                                                                  'max_pooling1d_40[0][0]',       \n",
      "                                                                  'max_pooling1d_41[0][0]']       \n",
      "                                                                                                  \n",
      " time_distributed_5 (TimeDistri  (None, 50, 30)      2670        ['concatenate_5[0][0]']          \n",
      " buted)                                                                                           \n",
      "                                                                                                  \n",
      " conv1d_42 (Conv1D)             (None, 50, 22)       682         ['time_distributed_5[0][0]']     \n",
      "                                                                                                  \n",
      " conv1d_43 (Conv1D)             (None, 50, 22)       2002        ['time_distributed_5[0][0]']     \n",
      "                                                                                                  \n",
      " conv1d_44 (Conv1D)             (None, 50, 22)       3322        ['time_distributed_5[0][0]']     \n",
      "                                                                                                  \n",
      " conv1d_45 (Conv1D)             (None, 50, 22)       6622        ['time_distributed_5[0][0]']     \n",
      "                                                                                                  \n",
      " max_pooling1d_42 (MaxPooling1D  (None, 25, 22)      0           ['conv1d_42[0][0]']              \n",
      " )                                                                                                \n",
      "                                                                                                  \n",
      " max_pooling1d_43 (MaxPooling1D  (None, 25, 22)      0           ['conv1d_43[0][0]']              \n",
      " )                                                                                                \n",
      "                                                                                                  \n",
      " max_pooling1d_44 (MaxPooling1D  (None, 25, 22)      0           ['conv1d_44[0][0]']              \n",
      " )                                                                                                \n",
      "                                                                                                  \n",
      " max_pooling1d_45 (MaxPooling1D  (None, 25, 22)      0           ['conv1d_45[0][0]']              \n",
      " )                                                                                                \n",
      "                                                                                                  \n",
      " concatenate_6 (Concatenate)    (None, 25, 88)       0           ['max_pooling1d_42[0][0]',       \n",
      "                                                                  'max_pooling1d_43[0][0]',       \n",
      "                                                                  'max_pooling1d_44[0][0]',       \n",
      "                                                                  'max_pooling1d_45[0][0]']       \n",
      "                                                                                                  \n",
      " time_distributed_6 (TimeDistri  (None, 25, 30)      2670        ['concatenate_6[0][0]']          \n",
      " buted)                                                                                           \n",
      "                                                                                                  \n",
      " conv1d_46 (Conv1D)             (None, 25, 22)       682         ['time_distributed_6[0][0]']     \n",
      "                                                                                                  \n",
      " conv1d_47 (Conv1D)             (None, 25, 22)       2002        ['time_distributed_6[0][0]']     \n",
      "                                                                                                  \n",
      " conv1d_48 (Conv1D)             (None, 25, 22)       3322        ['time_distributed_6[0][0]']     \n",
      "                                                                                                  \n",
      " conv1d_49 (Conv1D)             (None, 25, 22)       6622        ['time_distributed_6[0][0]']     \n",
      "                                                                                                  \n",
      " max_pooling1d_46 (MaxPooling1D  (None, 13, 22)      0           ['conv1d_46[0][0]']              \n",
      " )                                                                                                \n",
      "                                                                                                  \n",
      " max_pooling1d_47 (MaxPooling1D  (None, 13, 22)      0           ['conv1d_47[0][0]']              \n",
      " )                                                                                                \n",
      "                                                                                                  \n",
      " max_pooling1d_48 (MaxPooling1D  (None, 13, 22)      0           ['conv1d_48[0][0]']              \n",
      " )                                                                                                \n",
      "                                                                                                  \n",
      " max_pooling1d_49 (MaxPooling1D  (None, 13, 22)      0           ['conv1d_49[0][0]']              \n",
      " )                                                                                                \n",
      "                                                                                                  \n",
      " concatenate_7 (Concatenate)    (None, 13, 88)       0           ['max_pooling1d_46[0][0]',       \n",
      "                                                                  'max_pooling1d_47[0][0]',       \n",
      "                                                                  'max_pooling1d_48[0][0]',       \n",
      "                                                                  'max_pooling1d_49[0][0]']       \n",
      "                                                                                                  \n",
      " time_distributed_7 (TimeDistri  (None, 13, 30)      2670        ['concatenate_7[0][0]']          \n",
      " buted)                                                                                           \n",
      "                                                                                                  \n",
      " gru_12 (GRU)                   (None, 13, 32)       6144        ['time_distributed_7[0][0]']     \n",
      "                                                                                                  \n",
      " gru_13 (GRU)                   (None, 13, 32)       6336        ['gru_12[0][0]']                 \n",
      "                                                                                                  \n",
      " gru_14 (GRU)                   (None, 32)           6336        ['gru_13[0][0]']                 \n",
      "                                                                                                  \n",
      " dense_30 (Dense)               (None, 25)           825         ['gru_14[0][0]']                 \n",
      "                                                                                                  \n",
      " dense_31 (Dense)               (None, 10)           260         ['dense_30[0][0]']               \n",
      "                                                                                                  \n",
      " dense_32 (Dense)               (None, 1)            11          ['dense_31[0][0]']               \n",
      "                                                                                                  \n",
      "==================================================================================================\n",
      "Total params: 71,072\n",
      "Trainable params: 71,072\n",
      "Non-trainable params: 0\n",
      "__________________________________________________________________________________________________\n",
      "(array([0, 1]), array([451,  29]))\n",
      "(array([0, 1]), array([1803,  116]))\n",
      "Epoch 1/3000\n",
      "2/2 [==============================] - 21s 5s/step - loss: 3.1504 - val_loss: 0.7005\n",
      "Epoch 2/3000\n",
      "2/2 [==============================] - 0s 89ms/step - loss: 3.1431 - val_loss: 0.7029\n",
      "Epoch 3/3000\n",
      "2/2 [==============================] - 0s 103ms/step - loss: 3.1350 - val_loss: 0.7055\n",
      "Epoch 4/3000\n",
      "2/2 [==============================] - 0s 94ms/step - loss: 3.1263 - val_loss: 0.7085\n",
      "Epoch 5/3000\n",
      "2/2 [==============================] - 0s 96ms/step - loss: 3.1177 - val_loss: 0.7119\n",
      "Epoch 6/3000\n",
      "2/2 [==============================] - 0s 93ms/step - loss: 3.1072 - val_loss: 0.7156\n",
      "Epoch 7/3000\n",
      "2/2 [==============================] - 0s 99ms/step - loss: 3.0959 - val_loss: 0.7198\n",
      "Epoch 8/3000\n",
      "2/2 [==============================] - 0s 88ms/step - loss: 3.0830 - val_loss: 0.7246\n",
      "Epoch 9/3000\n",
      "2/2 [==============================] - 0s 91ms/step - loss: 3.0681 - val_loss: 0.7302\n",
      "Epoch 10/3000\n",
      "2/2 [==============================] - 0s 87ms/step - loss: 3.0525 - val_loss: 0.7367\n",
      "Epoch 11/3000\n",
      "2/2 [==============================] - 0s 89ms/step - loss: 3.0330 - val_loss: 0.7439\n",
      "Epoch 12/3000\n",
      "2/2 [==============================] - 0s 96ms/step - loss: 3.0125 - val_loss: 0.7522\n",
      "Epoch 13/3000\n",
      "2/2 [==============================] - 0s 88ms/step - loss: 2.9918 - val_loss: 0.7615\n",
      "Epoch 14/3000\n",
      "2/2 [==============================] - 0s 90ms/step - loss: 2.9652 - val_loss: 0.7722\n",
      "Epoch 15/3000\n",
      "2/2 [==============================] - 0s 86ms/step - loss: 2.9378 - val_loss: 0.7847\n",
      "Epoch 16/3000\n",
      "2/2 [==============================] - 0s 92ms/step - loss: 2.9052 - val_loss: 0.7995\n",
      "Epoch 17/3000\n",
      "2/2 [==============================] - 0s 87ms/step - loss: 2.8712 - val_loss: 0.8170\n",
      "Epoch 18/3000\n",
      "2/2 [==============================] - 0s 90ms/step - loss: 2.8295 - val_loss: 0.8373\n",
      "Epoch 19/3000\n",
      "2/2 [==============================] - 0s 87ms/step - loss: 2.7798 - val_loss: 0.8606\n",
      "Epoch 20/3000\n",
      "2/2 [==============================] - 0s 86ms/step - loss: 2.7285 - val_loss: 0.8862\n",
      "Epoch 21/3000\n",
      "2/2 [==============================] - 0s 98ms/step - loss: 2.6845 - val_loss: 0.9145\n",
      "Epoch 22/3000\n",
      "2/2 [==============================] - 0s 98ms/step - loss: 2.6298 - val_loss: 0.9434\n",
      "Epoch 23/3000\n",
      "2/2 [==============================] - 0s 98ms/step - loss: 2.5843 - val_loss: 0.9726\n",
      "Epoch 24/3000\n",
      "2/2 [==============================] - 0s 97ms/step - loss: 2.5417 - val_loss: 1.0020\n",
      "Epoch 25/3000\n",
      "2/2 [==============================] - 0s 98ms/step - loss: 2.5025 - val_loss: 1.0311\n",
      "Epoch 26/3000\n",
      "2/2 [==============================] - 0s 99ms/step - loss: 2.4642 - val_loss: 1.0592\n",
      "Epoch 27/3000\n",
      "2/2 [==============================] - 0s 92ms/step - loss: 2.4341 - val_loss: 1.0867\n",
      "Epoch 28/3000\n",
      "2/2 [==============================] - 0s 89ms/step - loss: 2.4043 - val_loss: 1.1126\n",
      "Epoch 29/3000\n",
      "2/2 [==============================] - 0s 92ms/step - loss: 2.3808 - val_loss: 1.1373\n",
      "Epoch 30/3000\n",
      "2/2 [==============================] - 0s 94ms/step - loss: 2.3596 - val_loss: 1.1599\n",
      "Epoch 31/3000\n",
      "2/2 [==============================] - 0s 97ms/step - loss: 2.3379 - val_loss: 1.1795\n",
      "Epoch 32/3000\n",
      "2/2 [==============================] - 0s 92ms/step - loss: 2.3195 - val_loss: 1.1962\n",
      "Epoch 33/3000\n",
      "2/2 [==============================] - 0s 102ms/step - loss: 2.3008 - val_loss: 1.2091\n",
      "Epoch 34/3000\n",
      "2/2 [==============================] - 0s 94ms/step - loss: 2.2842 - val_loss: 1.2185\n",
      "Epoch 35/3000\n",
      "2/2 [==============================] - 0s 91ms/step - loss: 2.2674 - val_loss: 1.2244\n",
      "Epoch 36/3000\n",
      "2/2 [==============================] - 0s 88ms/step - loss: 2.2508 - val_loss: 1.2269\n",
      "Epoch 37/3000\n",
      "2/2 [==============================] - 0s 89ms/step - loss: 2.2318 - val_loss: 1.2245\n",
      "Epoch 38/3000\n",
      "2/2 [==============================] - 0s 83ms/step - loss: 2.2124 - val_loss: 1.2179\n",
      "Epoch 39/3000\n",
      "2/2 [==============================] - 0s 85ms/step - loss: 2.1916 - val_loss: 1.2079\n",
      "Epoch 40/3000\n",
      "2/2 [==============================] - 0s 85ms/step - loss: 2.1707 - val_loss: 1.1949\n",
      "Epoch 41/3000\n",
      "2/2 [==============================] - 0s 89ms/step - loss: 2.1481 - val_loss: 1.1795\n",
      "Epoch 42/3000\n",
      "2/2 [==============================] - 0s 88ms/step - loss: 2.1239 - val_loss: 1.1627\n",
      "Epoch 43/3000\n",
      "2/2 [==============================] - 0s 92ms/step - loss: 2.1003 - val_loss: 1.1450\n",
      "Epoch 44/3000\n",
      "2/2 [==============================] - 0s 83ms/step - loss: 2.0764 - val_loss: 1.1272\n",
      "Epoch 45/3000\n",
      "2/2 [==============================] - 0s 91ms/step - loss: 2.0523 - val_loss: 1.1095\n",
      "Epoch 46/3000\n",
      "2/2 [==============================] - 0s 90ms/step - loss: 2.0288 - val_loss: 1.0926\n",
      "Epoch 47/3000\n",
      "2/2 [==============================] - 0s 88ms/step - loss: 2.0037 - val_loss: 1.0738\n",
      "Epoch 48/3000\n",
      "2/2 [==============================] - 0s 87ms/step - loss: 1.9772 - val_loss: 1.0559\n",
      "Epoch 49/3000\n",
      "2/2 [==============================] - 0s 88ms/step - loss: 1.9510 - val_loss: 1.0376\n",
      "Epoch 50/3000\n",
      "2/2 [==============================] - 0s 88ms/step - loss: 1.9226 - val_loss: 1.0191\n",
      "Epoch 51/3000\n",
      "2/2 [==============================] - 0s 85ms/step - loss: 1.8936 - val_loss: 0.9993\n",
      "Epoch 52/3000\n",
      "2/2 [==============================] - 0s 88ms/step - loss: 1.8627 - val_loss: 0.9808\n",
      "Epoch 53/3000\n",
      "2/2 [==============================] - 0s 83ms/step - loss: 1.8311 - val_loss: 0.9613\n",
      "Epoch 54/3000\n",
      "2/2 [==============================] - 0s 84ms/step - loss: 1.7969 - val_loss: 0.9410\n",
      "Epoch 55/3000\n",
      "2/2 [==============================] - 0s 92ms/step - loss: 1.7620 - val_loss: 0.9227\n",
      "Epoch 56/3000\n",
      "2/2 [==============================] - 0s 88ms/step - loss: 1.7240 - val_loss: 0.9056\n",
      "Epoch 57/3000\n",
      "2/2 [==============================] - 0s 84ms/step - loss: 1.6865 - val_loss: 0.8920\n",
      "Epoch 58/3000\n",
      "2/2 [==============================] - 0s 83ms/step - loss: 1.6489 - val_loss: 0.8840\n",
      "Epoch 59/3000\n",
      "2/2 [==============================] - 0s 92ms/step - loss: 1.6083 - val_loss: 0.8746\n",
      "Epoch 60/3000\n",
      "2/2 [==============================] - 0s 88ms/step - loss: 1.5712 - val_loss: 0.8679\n",
      "Epoch 61/3000\n",
      "2/2 [==============================] - 0s 88ms/step - loss: 1.5366 - val_loss: 0.8658\n",
      "Epoch 62/3000\n",
      "2/2 [==============================] - 0s 86ms/step - loss: 1.5025 - val_loss: 0.8628\n",
      "Epoch 63/3000\n",
      "2/2 [==============================] - 0s 89ms/step - loss: 1.4633 - val_loss: 0.8609\n",
      "Epoch 64/3000\n",
      "2/2 [==============================] - 0s 93ms/step - loss: 1.4252 - val_loss: 0.8590\n",
      "Epoch 65/3000\n",
      "2/2 [==============================] - 0s 90ms/step - loss: 1.3883 - val_loss: 0.8523\n",
      "Epoch 66/3000\n",
      "2/2 [==============================] - 0s 87ms/step - loss: 1.3531 - val_loss: 0.8467\n",
      "Epoch 67/3000\n",
      "2/2 [==============================] - 0s 85ms/step - loss: 1.3200 - val_loss: 0.8447\n",
      "Epoch 68/3000\n",
      "2/2 [==============================] - 0s 97ms/step - loss: 1.2890 - val_loss: 0.8389\n",
      "Epoch 69/3000\n",
      "2/2 [==============================] - 0s 87ms/step - loss: 1.2606 - val_loss: 0.8327\n",
      "Epoch 70/3000\n",
      "2/2 [==============================] - 0s 96ms/step - loss: 1.2324 - val_loss: 0.8307\n",
      "Epoch 71/3000\n",
      "2/2 [==============================] - 0s 91ms/step - loss: 1.2085 - val_loss: 0.8282\n",
      "Epoch 72/3000\n",
      "2/2 [==============================] - 0s 89ms/step - loss: 1.1870 - val_loss: 0.8330\n",
      "Epoch 73/3000\n",
      "2/2 [==============================] - 0s 88ms/step - loss: 1.1628 - val_loss: 0.8276\n",
      "Epoch 74/3000\n",
      "2/2 [==============================] - 0s 88ms/step - loss: 1.1420 - val_loss: 0.8256\n",
      "Epoch 75/3000\n",
      "2/2 [==============================] - 0s 85ms/step - loss: 1.1238 - val_loss: 0.8293\n",
      "Epoch 76/3000\n",
      "2/2 [==============================] - 0s 83ms/step - loss: 1.1024 - val_loss: 0.8231\n",
      "Epoch 77/3000\n",
      "2/2 [==============================] - 0s 86ms/step - loss: 1.0828 - val_loss: 0.8129\n",
      "Epoch 78/3000\n",
      "2/2 [==============================] - 0s 85ms/step - loss: 1.0641 - val_loss: 0.8025\n",
      "Epoch 79/3000\n",
      "2/2 [==============================] - 0s 85ms/step - loss: 1.0467 - val_loss: 0.7954\n",
      "Epoch 80/3000\n",
      "2/2 [==============================] - 0s 86ms/step - loss: 1.0301 - val_loss: 0.7911\n",
      "Epoch 81/3000\n",
      "2/2 [==============================] - 0s 85ms/step - loss: 1.0141 - val_loss: 0.7850\n",
      "Epoch 82/3000\n",
      "2/2 [==============================] - 0s 85ms/step - loss: 1.0009 - val_loss: 0.7828\n",
      "Epoch 83/3000\n",
      "2/2 [==============================] - 0s 86ms/step - loss: 0.9858 - val_loss: 0.7728\n",
      "Epoch 84/3000\n",
      "2/2 [==============================] - 0s 85ms/step - loss: 0.9727 - val_loss: 0.7668\n",
      "Epoch 85/3000\n",
      "2/2 [==============================] - 0s 97ms/step - loss: 0.9604 - val_loss: 0.7608\n",
      "Epoch 86/3000\n",
      "2/2 [==============================] - 0s 87ms/step - loss: 0.9475 - val_loss: 0.7617\n",
      "Epoch 87/3000\n",
      "2/2 [==============================] - 0s 84ms/step - loss: 0.9349 - val_loss: 0.7528\n",
      "Epoch 88/3000\n",
      "2/2 [==============================] - 0s 90ms/step - loss: 0.9230 - val_loss: 0.7418\n",
      "Epoch 89/3000\n",
      "2/2 [==============================] - 0s 92ms/step - loss: 0.9100 - val_loss: 0.7274\n",
      "Epoch 90/3000\n",
      "2/2 [==============================] - 0s 92ms/step - loss: 0.8990 - val_loss: 0.7237\n",
      "Epoch 91/3000\n",
      "2/2 [==============================] - 0s 94ms/step - loss: 0.8863 - val_loss: 0.7225\n",
      "Epoch 92/3000\n",
      "2/2 [==============================] - 0s 91ms/step - loss: 0.8754 - val_loss: 0.7247\n",
      "Epoch 93/3000\n",
      "2/2 [==============================] - 0s 85ms/step - loss: 0.8643 - val_loss: 0.7096\n",
      "Epoch 94/3000\n",
      "2/2 [==============================] - 0s 86ms/step - loss: 0.8520 - val_loss: 0.6974\n",
      "Epoch 95/3000\n",
      "2/2 [==============================] - 0s 96ms/step - loss: 0.8413 - val_loss: 0.6930\n",
      "Epoch 96/3000\n",
      "2/2 [==============================] - 0s 85ms/step - loss: 0.8291 - val_loss: 0.6814\n",
      "Epoch 97/3000\n",
      "2/2 [==============================] - 0s 93ms/step - loss: 0.8176 - val_loss: 0.6743\n",
      "Epoch 98/3000\n",
      "2/2 [==============================] - 0s 86ms/step - loss: 0.8069 - val_loss: 0.6709\n",
      "Epoch 99/3000\n",
      "2/2 [==============================] - 0s 89ms/step - loss: 0.7953 - val_loss: 0.6586\n",
      "Epoch 100/3000\n",
      "2/2 [==============================] - 0s 88ms/step - loss: 0.7838 - val_loss: 0.6540\n",
      "Epoch 101/3000\n",
      "2/2 [==============================] - 0s 128ms/step - loss: 0.7728 - val_loss: 0.6453\n",
      "Epoch 102/3000\n",
      "2/2 [==============================] - 0s 111ms/step - loss: 0.7626 - val_loss: 0.6430\n",
      "Epoch 103/3000\n",
      "2/2 [==============================] - 0s 102ms/step - loss: 0.7511 - val_loss: 0.6275\n",
      "Epoch 104/3000\n",
      "2/2 [==============================] - 0s 98ms/step - loss: 0.7411 - val_loss: 0.6172\n",
      "Epoch 105/3000\n",
      "2/2 [==============================] - 0s 103ms/step - loss: 0.7314 - val_loss: 0.6121\n",
      "Epoch 106/3000\n",
      "2/2 [==============================] - 0s 104ms/step - loss: 0.7205 - val_loss: 0.6121\n",
      "Epoch 107/3000\n",
      "2/2 [==============================] - 0s 105ms/step - loss: 0.7106 - val_loss: 0.6044\n",
      "Epoch 108/3000\n",
      "2/2 [==============================] - 0s 101ms/step - loss: 0.7012 - val_loss: 0.5918\n",
      "Epoch 109/3000\n",
      "2/2 [==============================] - 0s 105ms/step - loss: 0.6915 - val_loss: 0.5778\n",
      "Epoch 110/3000\n",
      "2/2 [==============================] - 0s 94ms/step - loss: 0.6833 - val_loss: 0.5908\n",
      "Epoch 111/3000\n",
      "2/2 [==============================] - 0s 102ms/step - loss: 0.6720 - val_loss: 0.5725\n",
      "Epoch 112/3000\n",
      "2/2 [==============================] - 0s 107ms/step - loss: 0.6612 - val_loss: 0.5568\n",
      "Epoch 113/3000\n",
      "2/2 [==============================] - 0s 92ms/step - loss: 0.6531 - val_loss: 0.5624\n",
      "Epoch 114/3000\n",
      "2/2 [==============================] - 0s 92ms/step - loss: 0.6441 - val_loss: 0.5610\n",
      "Epoch 115/3000\n",
      "2/2 [==============================] - 0s 113ms/step - loss: 0.6358 - val_loss: 0.5437\n",
      "Epoch 116/3000\n",
      "2/2 [==============================] - 0s 114ms/step - loss: 0.6268 - val_loss: 0.5418\n",
      "Epoch 117/3000\n",
      "2/2 [==============================] - 0s 88ms/step - loss: 0.6181 - val_loss: 0.5429\n",
      "Epoch 118/3000\n",
      "2/2 [==============================] - 0s 104ms/step - loss: 0.6111 - val_loss: 0.5353\n",
      "Epoch 119/3000\n",
      "2/2 [==============================] - 0s 107ms/step - loss: 0.6034 - val_loss: 0.5269\n",
      "Epoch 120/3000\n",
      "2/2 [==============================] - 0s 107ms/step - loss: 0.5962 - val_loss: 0.5170\n",
      "Epoch 121/3000\n",
      "2/2 [==============================] - 0s 94ms/step - loss: 0.5891 - val_loss: 0.5191\n",
      "Epoch 122/3000\n",
      "2/2 [==============================] - 0s 108ms/step - loss: 0.5818 - val_loss: 0.5157\n",
      "Epoch 123/3000\n",
      "2/2 [==============================] - 0s 112ms/step - loss: 0.5756 - val_loss: 0.5076\n",
      "Epoch 124/3000\n",
      "2/2 [==============================] - 0s 117ms/step - loss: 0.5690 - val_loss: 0.4977\n",
      "Epoch 125/3000\n",
      "2/2 [==============================] - 0s 104ms/step - loss: 0.5620 - val_loss: 0.5018\n",
      "Epoch 126/3000\n",
      "2/2 [==============================] - 0s 106ms/step - loss: 0.5556 - val_loss: 0.4926\n",
      "Epoch 127/3000\n",
      "2/2 [==============================] - 0s 115ms/step - loss: 0.5492 - val_loss: 0.4809\n",
      "Epoch 128/3000\n",
      "2/2 [==============================] - 0s 107ms/step - loss: 0.5430 - val_loss: 0.4780\n",
      "Epoch 129/3000\n",
      "2/2 [==============================] - 0s 101ms/step - loss: 0.5367 - val_loss: 0.4771\n",
      "Epoch 130/3000\n",
      "2/2 [==============================] - 0s 111ms/step - loss: 0.5310 - val_loss: 0.4732\n",
      "Epoch 131/3000\n",
      "2/2 [==============================] - 0s 102ms/step - loss: 0.5253 - val_loss: 0.4604\n",
      "Epoch 132/3000\n",
      "2/2 [==============================] - 0s 100ms/step - loss: 0.5193 - val_loss: 0.4511\n",
      "Epoch 133/3000\n",
      "2/2 [==============================] - 0s 83ms/step - loss: 0.5142 - val_loss: 0.4517\n",
      "Epoch 134/3000\n",
      "2/2 [==============================] - 0s 90ms/step - loss: 0.5095 - val_loss: 0.4617\n",
      "Epoch 135/3000\n",
      "2/2 [==============================] - 0s 104ms/step - loss: 0.5042 - val_loss: 0.4370\n",
      "Epoch 136/3000\n",
      "2/2 [==============================] - 0s 106ms/step - loss: 0.4975 - val_loss: 0.4275\n",
      "Epoch 137/3000\n",
      "2/2 [==============================] - 0s 87ms/step - loss: 0.4898 - val_loss: 0.4359\n",
      "Epoch 138/3000\n",
      "2/2 [==============================] - 0s 101ms/step - loss: 0.4807 - val_loss: 0.4205\n",
      "Epoch 139/3000\n",
      "2/2 [==============================] - 0s 102ms/step - loss: 0.4709 - val_loss: 0.4019\n",
      "Epoch 140/3000\n",
      "2/2 [==============================] - 0s 114ms/step - loss: 0.4613 - val_loss: 0.3942\n",
      "Epoch 141/3000\n",
      "2/2 [==============================] - 0s 107ms/step - loss: 0.4513 - val_loss: 0.3922\n",
      "Epoch 142/3000\n",
      "2/2 [==============================] - 0s 101ms/step - loss: 0.4425 - val_loss: 0.3833\n",
      "Epoch 143/3000\n",
      "2/2 [==============================] - 0s 115ms/step - loss: 0.4338 - val_loss: 0.3628\n",
      "Epoch 144/3000\n",
      "2/2 [==============================] - 0s 102ms/step - loss: 0.4243 - val_loss: 0.3578\n",
      "Epoch 145/3000\n",
      "2/2 [==============================] - 0s 103ms/step - loss: 0.4144 - val_loss: 0.3566\n",
      "Epoch 146/3000\n",
      "2/2 [==============================] - 0s 97ms/step - loss: 0.4067 - val_loss: 0.3444\n",
      "Epoch 147/3000\n",
      "2/2 [==============================] - 0s 101ms/step - loss: 0.3979 - val_loss: 0.3300\n",
      "Epoch 148/3000\n",
      "2/2 [==============================] - 0s 106ms/step - loss: 0.3898 - val_loss: 0.3220\n",
      "Epoch 149/3000\n",
      "2/2 [==============================] - 0s 101ms/step - loss: 0.3823 - val_loss: 0.3164\n",
      "Epoch 150/3000\n",
      "2/2 [==============================] - 0s 98ms/step - loss: 0.3743 - val_loss: 0.3120\n",
      "Epoch 151/3000\n",
      "2/2 [==============================] - 0s 104ms/step - loss: 0.3673 - val_loss: 0.3043\n",
      "Epoch 152/3000\n",
      "2/2 [==============================] - 0s 106ms/step - loss: 0.3607 - val_loss: 0.2931\n",
      "Epoch 153/3000\n",
      "2/2 [==============================] - 0s 103ms/step - loss: 0.3544 - val_loss: 0.2878\n",
      "Epoch 154/3000\n",
      "2/2 [==============================] - 0s 108ms/step - loss: 0.3477 - val_loss: 0.2824\n",
      "Epoch 155/3000\n",
      "2/2 [==============================] - 0s 111ms/step - loss: 0.3419 - val_loss: 0.2758\n",
      "Epoch 156/3000\n",
      "2/2 [==============================] - 0s 103ms/step - loss: 0.3361 - val_loss: 0.2695\n",
      "Epoch 157/3000\n",
      "2/2 [==============================] - 0s 101ms/step - loss: 0.3302 - val_loss: 0.2648\n",
      "Epoch 158/3000\n",
      "2/2 [==============================] - 0s 110ms/step - loss: 0.3251 - val_loss: 0.2590\n",
      "Epoch 159/3000\n",
      "2/2 [==============================] - 0s 118ms/step - loss: 0.3196 - val_loss: 0.2537\n",
      "Epoch 160/3000\n",
      "2/2 [==============================] - 0s 107ms/step - loss: 0.3150 - val_loss: 0.2499\n",
      "Epoch 161/3000\n",
      "2/2 [==============================] - 0s 113ms/step - loss: 0.3099 - val_loss: 0.2451\n",
      "Epoch 162/3000\n",
      "2/2 [==============================] - 0s 125ms/step - loss: 0.3055 - val_loss: 0.2374\n",
      "Epoch 163/3000\n",
      "2/2 [==============================] - 0s 118ms/step - loss: 0.3011 - val_loss: 0.2347\n",
      "Epoch 164/3000\n",
      "2/2 [==============================] - 0s 105ms/step - loss: 0.2967 - val_loss: 0.2291\n",
      "Epoch 165/3000\n",
      "2/2 [==============================] - 0s 110ms/step - loss: 0.2923 - val_loss: 0.2254\n",
      "Epoch 166/3000\n",
      "2/2 [==============================] - 0s 99ms/step - loss: 0.2892 - val_loss: 0.2231\n",
      "Epoch 167/3000\n",
      "2/2 [==============================] - 0s 109ms/step - loss: 0.2847 - val_loss: 0.2146\n",
      "Epoch 168/3000\n",
      "2/2 [==============================] - 0s 111ms/step - loss: 0.2813 - val_loss: 0.2133\n",
      "Epoch 169/3000\n",
      "2/2 [==============================] - 0s 127ms/step - loss: 0.2775 - val_loss: 0.2098\n",
      "Epoch 170/3000\n",
      "2/2 [==============================] - 0s 121ms/step - loss: 0.2737 - val_loss: 0.2048\n",
      "Epoch 171/3000\n",
      "2/2 [==============================] - 0s 108ms/step - loss: 0.2712 - val_loss: 0.2001\n",
      "Epoch 172/3000\n",
      "2/2 [==============================] - 0s 99ms/step - loss: 0.2675 - val_loss: 0.2018\n",
      "Epoch 173/3000\n",
      "2/2 [==============================] - 0s 107ms/step - loss: 0.2651 - val_loss: 0.1987\n",
      "Epoch 174/3000\n",
      "2/2 [==============================] - 0s 121ms/step - loss: 0.2615 - val_loss: 0.1882\n",
      "Epoch 175/3000\n",
      "2/2 [==============================] - 0s 112ms/step - loss: 0.2583 - val_loss: 0.1840\n",
      "Epoch 176/3000\n",
      "2/2 [==============================] - 0s 104ms/step - loss: 0.2556 - val_loss: 0.1836\n",
      "Epoch 177/3000\n",
      "2/2 [==============================] - 0s 87ms/step - loss: 0.2524 - val_loss: 0.1840\n",
      "Epoch 178/3000\n",
      "2/2 [==============================] - 0s 112ms/step - loss: 0.2497 - val_loss: 0.1795\n",
      "Epoch 179/3000\n",
      "2/2 [==============================] - 0s 102ms/step - loss: 0.2471 - val_loss: 0.1730\n",
      "Epoch 180/3000\n",
      "2/2 [==============================] - 0s 106ms/step - loss: 0.2448 - val_loss: 0.1723\n",
      "Epoch 181/3000\n",
      "2/2 [==============================] - 0s 102ms/step - loss: 0.2418 - val_loss: 0.1739\n",
      "Epoch 182/3000\n",
      "2/2 [==============================] - 0s 116ms/step - loss: 0.2399 - val_loss: 0.1657\n",
      "Epoch 183/3000\n",
      "2/2 [==============================] - 0s 119ms/step - loss: 0.2367 - val_loss: 0.1641\n",
      "Epoch 184/3000\n",
      "2/2 [==============================] - 0s 106ms/step - loss: 0.2342 - val_loss: 0.1631\n",
      "Epoch 185/3000\n",
      "2/2 [==============================] - 0s 114ms/step - loss: 0.2318 - val_loss: 0.1596\n",
      "Epoch 186/3000\n",
      "2/2 [==============================] - 0s 101ms/step - loss: 0.2297 - val_loss: 0.1561\n",
      "Epoch 187/3000\n",
      "2/2 [==============================] - 0s 123ms/step - loss: 0.2276 - val_loss: 0.1551\n",
      "Epoch 188/3000\n",
      "2/2 [==============================] - 0s 110ms/step - loss: 0.2256 - val_loss: 0.1550\n",
      "Epoch 189/3000\n",
      "2/2 [==============================] - 0s 109ms/step - loss: 0.2237 - val_loss: 0.1502\n",
      "Epoch 190/3000\n",
      "2/2 [==============================] - 0s 108ms/step - loss: 0.2212 - val_loss: 0.1471\n",
      "Epoch 191/3000\n",
      "2/2 [==============================] - 0s 98ms/step - loss: 0.2199 - val_loss: 0.1458\n",
      "Epoch 192/3000\n",
      "2/2 [==============================] - 0s 104ms/step - loss: 0.2179 - val_loss: 0.1423\n",
      "Epoch 193/3000\n",
      "2/2 [==============================] - 0s 106ms/step - loss: 0.2165 - val_loss: 0.1418\n",
      "Epoch 194/3000\n",
      "2/2 [==============================] - 0s 87ms/step - loss: 0.2147 - val_loss: 0.1431\n",
      "Epoch 195/3000\n",
      "2/2 [==============================] - 0s 103ms/step - loss: 0.2132 - val_loss: 0.1370\n",
      "Epoch 196/3000\n",
      "2/2 [==============================] - 0s 101ms/step - loss: 0.2103 - val_loss: 0.1338\n",
      "Epoch 197/3000\n",
      "2/2 [==============================] - 0s 110ms/step - loss: 0.2098 - val_loss: 0.1333\n",
      "Epoch 198/3000\n",
      "2/2 [==============================] - 0s 106ms/step - loss: 0.2073 - val_loss: 0.1329\n",
      "Epoch 199/3000\n",
      "2/2 [==============================] - 0s 99ms/step - loss: 0.2057 - val_loss: 0.1311\n",
      "Epoch 200/3000\n",
      "2/2 [==============================] - 0s 103ms/step - loss: 0.2040 - val_loss: 0.1287\n",
      "Epoch 201/3000\n",
      "2/2 [==============================] - 0s 101ms/step - loss: 0.2017 - val_loss: 0.1274\n",
      "Epoch 202/3000\n",
      "2/2 [==============================] - 0s 102ms/step - loss: 0.2006 - val_loss: 0.1267\n",
      "Epoch 203/3000\n",
      "2/2 [==============================] - 0s 103ms/step - loss: 0.1996 - val_loss: 0.1267\n",
      "Epoch 204/3000\n",
      "2/2 [==============================] - 0s 99ms/step - loss: 0.1967 - val_loss: 0.1242\n",
      "Epoch 205/3000\n",
      "2/2 [==============================] - 0s 85ms/step - loss: 0.1978 - val_loss: 0.1247\n",
      "Epoch 206/3000\n",
      "2/2 [==============================] - 0s 87ms/step - loss: 0.2004 - val_loss: 0.1321\n",
      "Epoch 207/3000\n",
      "2/2 [==============================] - 0s 99ms/step - loss: 0.1954 - val_loss: 0.1226\n",
      "Epoch 208/3000\n",
      "2/2 [==============================] - 0s 104ms/step - loss: 0.1960 - val_loss: 0.1206\n",
      "Epoch 209/3000\n",
      "2/2 [==============================] - 0s 83ms/step - loss: 0.1903 - val_loss: 0.1400\n",
      "Epoch 210/3000\n",
      "2/2 [==============================] - 0s 87ms/step - loss: 0.1991 - val_loss: 0.1211\n",
      "Epoch 211/3000\n",
      "2/2 [==============================] - 0s 99ms/step - loss: 0.1878 - val_loss: 0.1202\n",
      "Epoch 212/3000\n",
      "2/2 [==============================] - 0s 87ms/step - loss: 0.1925 - val_loss: 0.1215\n",
      "Epoch 213/3000\n",
      "2/2 [==============================] - 0s 87ms/step - loss: 0.1883 - val_loss: 0.1266\n",
      "Epoch 214/3000\n",
      "2/2 [==============================] - 0s 100ms/step - loss: 0.1880 - val_loss: 0.1157\n",
      "Epoch 215/3000\n",
      "2/2 [==============================] - 0s 87ms/step - loss: 0.1830 - val_loss: 0.1173\n",
      "Epoch 216/3000\n",
      "2/2 [==============================] - 0s 97ms/step - loss: 0.1861 - val_loss: 0.1146\n",
      "Epoch 217/3000\n",
      "2/2 [==============================] - 0s 85ms/step - loss: 0.1823 - val_loss: 0.1165\n",
      "Epoch 218/3000\n",
      "2/2 [==============================] - 0s 103ms/step - loss: 0.1819 - val_loss: 0.1137\n",
      "Epoch 219/3000\n",
      "2/2 [==============================] - 0s 84ms/step - loss: 0.1801 - val_loss: 0.1153\n",
      "Epoch 220/3000\n",
      "2/2 [==============================] - 0s 85ms/step - loss: 0.1796 - val_loss: 0.1146\n",
      "Epoch 221/3000\n",
      "2/2 [==============================] - 0s 104ms/step - loss: 0.1771 - val_loss: 0.1124\n",
      "Epoch 222/3000\n",
      "2/2 [==============================] - 0s 112ms/step - loss: 0.1781 - val_loss: 0.1117\n",
      "Epoch 223/3000\n",
      "2/2 [==============================] - 0s 86ms/step - loss: 0.1762 - val_loss: 0.1132\n",
      "Epoch 224/3000\n",
      "2/2 [==============================] - 0s 84ms/step - loss: 0.1766 - val_loss: 0.1122\n",
      "Epoch 225/3000\n",
      "2/2 [==============================] - 0s 97ms/step - loss: 0.1745 - val_loss: 0.1097\n",
      "Epoch 226/3000\n",
      "2/2 [==============================] - 0s 96ms/step - loss: 0.1742 - val_loss: 0.1092\n",
      "Epoch 227/3000\n",
      "2/2 [==============================] - 0s 87ms/step - loss: 0.1728 - val_loss: 0.1096\n",
      "Epoch 228/3000\n",
      "2/2 [==============================] - 0s 94ms/step - loss: 0.1723 - val_loss: 0.1097\n",
      "Epoch 229/3000\n",
      "2/2 [==============================] - 0s 107ms/step - loss: 0.1720 - val_loss: 0.1083\n",
      "Epoch 230/3000\n",
      "2/2 [==============================] - 0s 103ms/step - loss: 0.1710 - val_loss: 0.1069\n",
      "Epoch 231/3000\n",
      "2/2 [==============================] - 0s 104ms/step - loss: 0.1703 - val_loss: 0.1064\n",
      "Epoch 232/3000\n",
      "2/2 [==============================] - 0s 97ms/step - loss: 0.1697 - val_loss: 0.1065\n",
      "Epoch 233/3000\n",
      "2/2 [==============================] - 0s 94ms/step - loss: 0.1690 - val_loss: 0.1066\n",
      "Epoch 234/3000\n",
      "2/2 [==============================] - 0s 103ms/step - loss: 0.1687 - val_loss: 0.1058\n",
      "Epoch 235/3000\n",
      "2/2 [==============================] - 0s 104ms/step - loss: 0.1681 - val_loss: 0.1044\n",
      "Epoch 236/3000\n",
      "2/2 [==============================] - 0s 105ms/step - loss: 0.1675 - val_loss: 0.1038\n",
      "Epoch 237/3000\n",
      "2/2 [==============================] - 0s 105ms/step - loss: 0.1671 - val_loss: 0.1032\n",
      "Epoch 238/3000\n",
      "2/2 [==============================] - 0s 83ms/step - loss: 0.1665 - val_loss: 0.1034\n",
      "Epoch 239/3000\n",
      "2/2 [==============================] - 0s 103ms/step - loss: 0.1660 - val_loss: 0.1028\n",
      "Epoch 240/3000\n",
      "2/2 [==============================] - 0s 103ms/step - loss: 0.1656 - val_loss: 0.1016\n",
      "Epoch 241/3000\n",
      "2/2 [==============================] - 0s 102ms/step - loss: 0.1653 - val_loss: 0.1007\n",
      "Epoch 242/3000\n",
      "2/2 [==============================] - 0s 102ms/step - loss: 0.1647 - val_loss: 0.1003\n",
      "Epoch 243/3000\n",
      "2/2 [==============================] - 0s 106ms/step - loss: 0.1642 - val_loss: 0.1001\n",
      "Epoch 244/3000\n",
      "2/2 [==============================] - 0s 99ms/step - loss: 0.1638 - val_loss: 0.0999\n",
      "Epoch 245/3000\n",
      "2/2 [==============================] - 0s 104ms/step - loss: 0.1634 - val_loss: 0.0993\n",
      "Epoch 246/3000\n",
      "2/2 [==============================] - 0s 102ms/step - loss: 0.1632 - val_loss: 0.0985\n",
      "Epoch 247/3000\n",
      "2/2 [==============================] - 0s 102ms/step - loss: 0.1628 - val_loss: 0.0980\n",
      "Epoch 248/3000\n",
      "2/2 [==============================] - 0s 103ms/step - loss: 0.1623 - val_loss: 0.0977\n",
      "Epoch 249/3000\n",
      "2/2 [==============================] - 0s 99ms/step - loss: 0.1619 - val_loss: 0.0977\n",
      "Epoch 250/3000\n",
      "2/2 [==============================] - 0s 108ms/step - loss: 0.1616 - val_loss: 0.0975\n",
      "Epoch 251/3000\n",
      "2/2 [==============================] - 0s 106ms/step - loss: 0.1612 - val_loss: 0.0969\n",
      "Epoch 252/3000\n",
      "2/2 [==============================] - 0s 98ms/step - loss: 0.1610 - val_loss: 0.0963\n",
      "Epoch 253/3000\n",
      "2/2 [==============================] - 0s 114ms/step - loss: 0.1607 - val_loss: 0.0958\n",
      "Epoch 254/3000\n",
      "2/2 [==============================] - 0s 105ms/step - loss: 0.1603 - val_loss: 0.0956\n",
      "Epoch 255/3000\n",
      "2/2 [==============================] - 0s 100ms/step - loss: 0.1600 - val_loss: 0.0954\n",
      "Epoch 256/3000\n",
      "2/2 [==============================] - 0s 127ms/step - loss: 0.1596 - val_loss: 0.0953\n",
      "Epoch 257/3000\n",
      "2/2 [==============================] - 0s 103ms/step - loss: 0.1593 - val_loss: 0.0949\n",
      "Epoch 258/3000\n",
      "2/2 [==============================] - 0s 105ms/step - loss: 0.1591 - val_loss: 0.0943\n",
      "Epoch 259/3000\n",
      "2/2 [==============================] - 0s 107ms/step - loss: 0.1588 - val_loss: 0.0939\n",
      "Epoch 260/3000\n",
      "2/2 [==============================] - 0s 108ms/step - loss: 0.1584 - val_loss: 0.0937\n",
      "Epoch 261/3000\n",
      "2/2 [==============================] - 0s 114ms/step - loss: 0.1582 - val_loss: 0.0934\n",
      "Epoch 262/3000\n",
      "2/2 [==============================] - 0s 105ms/step - loss: 0.1579 - val_loss: 0.0933\n",
      "Epoch 263/3000\n",
      "2/2 [==============================] - 0s 104ms/step - loss: 0.1575 - val_loss: 0.0928\n",
      "Epoch 264/3000\n",
      "2/2 [==============================] - 0s 103ms/step - loss: 0.1573 - val_loss: 0.0925\n",
      "Epoch 265/3000\n",
      "2/2 [==============================] - 0s 98ms/step - loss: 0.1570 - val_loss: 0.0922\n",
      "Epoch 266/3000\n",
      "2/2 [==============================] - 0s 87ms/step - loss: 0.1567 - val_loss: 0.0933\n",
      "Epoch 267/3000\n",
      "2/2 [==============================] - 0s 90ms/step - loss: 0.1562 - val_loss: 0.0928\n",
      "Epoch 268/3000\n",
      "2/2 [==============================] - 0s 103ms/step - loss: 0.1559 - val_loss: 0.0918\n",
      "Epoch 269/3000\n",
      "2/2 [==============================] - 0s 100ms/step - loss: 0.1555 - val_loss: 0.0913\n",
      "Epoch 270/3000\n",
      "2/2 [==============================] - 0s 99ms/step - loss: 0.1552 - val_loss: 0.0913\n",
      "Epoch 271/3000\n",
      "2/2 [==============================] - 0s 104ms/step - loss: 0.1548 - val_loss: 0.0908\n",
      "Epoch 272/3000\n",
      "2/2 [==============================] - 0s 109ms/step - loss: 0.1543 - val_loss: 0.0901\n",
      "Epoch 273/3000\n",
      "2/2 [==============================] - 0s 102ms/step - loss: 0.1539 - val_loss: 0.0897\n",
      "Epoch 274/3000\n",
      "2/2 [==============================] - 0s 101ms/step - loss: 0.1536 - val_loss: 0.0895\n",
      "Epoch 275/3000\n",
      "2/2 [==============================] - 0s 98ms/step - loss: 0.1533 - val_loss: 0.0893\n",
      "Epoch 276/3000\n",
      "2/2 [==============================] - 0s 105ms/step - loss: 0.1530 - val_loss: 0.0890\n",
      "Epoch 277/3000\n",
      "2/2 [==============================] - 0s 111ms/step - loss: 0.1528 - val_loss: 0.0888\n",
      "Epoch 278/3000\n",
      "2/2 [==============================] - 0s 100ms/step - loss: 0.1526 - val_loss: 0.0886\n",
      "Epoch 279/3000\n",
      "2/2 [==============================] - 0s 99ms/step - loss: 0.1525 - val_loss: 0.0885\n",
      "Epoch 280/3000\n",
      "2/2 [==============================] - 0s 106ms/step - loss: 0.1522 - val_loss: 0.0882\n",
      "Epoch 281/3000\n",
      "2/2 [==============================] - 0s 101ms/step - loss: 0.1519 - val_loss: 0.0880\n",
      "Epoch 282/3000\n",
      "2/2 [==============================] - 0s 107ms/step - loss: 0.1517 - val_loss: 0.0879\n",
      "Epoch 283/3000\n",
      "2/2 [==============================] - 0s 107ms/step - loss: 0.1514 - val_loss: 0.0878\n",
      "Epoch 284/3000\n",
      "2/2 [==============================] - 0s 101ms/step - loss: 0.1513 - val_loss: 0.0877\n",
      "Epoch 285/3000\n",
      "2/2 [==============================] - 0s 100ms/step - loss: 0.1511 - val_loss: 0.0875\n",
      "Epoch 286/3000\n",
      "2/2 [==============================] - 0s 107ms/step - loss: 0.1509 - val_loss: 0.0874\n",
      "Epoch 287/3000\n",
      "2/2 [==============================] - 0s 108ms/step - loss: 0.1507 - val_loss: 0.0873\n",
      "Epoch 288/3000\n",
      "2/2 [==============================] - 0s 103ms/step - loss: 0.1506 - val_loss: 0.0872\n",
      "Epoch 289/3000\n",
      "2/2 [==============================] - 0s 103ms/step - loss: 0.1504 - val_loss: 0.0870\n",
      "Epoch 290/3000\n",
      "2/2 [==============================] - 0s 102ms/step - loss: 0.1502 - val_loss: 0.0868\n",
      "Epoch 291/3000\n",
      "2/2 [==============================] - 0s 100ms/step - loss: 0.1501 - val_loss: 0.0867\n",
      "Epoch 292/3000\n",
      "2/2 [==============================] - 0s 106ms/step - loss: 0.1499 - val_loss: 0.0865\n",
      "Epoch 293/3000\n",
      "2/2 [==============================] - 0s 113ms/step - loss: 0.1498 - val_loss: 0.0864\n",
      "Epoch 294/3000\n",
      "2/2 [==============================] - 0s 101ms/step - loss: 0.1496 - val_loss: 0.0864\n",
      "Epoch 295/3000\n",
      "2/2 [==============================] - 0s 123ms/step - loss: 0.1495 - val_loss: 0.0862\n",
      "Epoch 296/3000\n",
      "2/2 [==============================] - 0s 100ms/step - loss: 0.1493 - val_loss: 0.0861\n",
      "Epoch 297/3000\n",
      "2/2 [==============================] - 0s 101ms/step - loss: 0.1491 - val_loss: 0.0860\n",
      "Epoch 298/3000\n",
      "2/2 [==============================] - 0s 104ms/step - loss: 0.1491 - val_loss: 0.0859\n",
      "Epoch 299/3000\n",
      "2/2 [==============================] - 0s 104ms/step - loss: 0.1489 - val_loss: 0.0857\n",
      "Epoch 300/3000\n",
      "2/2 [==============================] - 0s 98ms/step - loss: 0.1488 - val_loss: 0.0856\n",
      "Epoch 301/3000\n",
      "2/2 [==============================] - 0s 99ms/step - loss: 0.1486 - val_loss: 0.0855\n",
      "Epoch 302/3000\n",
      "2/2 [==============================] - 0s 99ms/step - loss: 0.1485 - val_loss: 0.0855\n",
      "Epoch 303/3000\n",
      "2/2 [==============================] - 0s 99ms/step - loss: 0.1484 - val_loss: 0.0853\n",
      "Epoch 304/3000\n",
      "2/2 [==============================] - 0s 99ms/step - loss: 0.1482 - val_loss: 0.0853\n",
      "Epoch 305/3000\n",
      "2/2 [==============================] - 0s 101ms/step - loss: 0.1481 - val_loss: 0.0852\n",
      "Epoch 306/3000\n",
      "2/2 [==============================] - 0s 108ms/step - loss: 0.1480 - val_loss: 0.0851\n",
      "Epoch 307/3000\n",
      "2/2 [==============================] - 0s 99ms/step - loss: 0.1479 - val_loss: 0.0850\n",
      "Epoch 308/3000\n",
      "2/2 [==============================] - 0s 102ms/step - loss: 0.1478 - val_loss: 0.0849\n",
      "Epoch 309/3000\n",
      "2/2 [==============================] - 0s 104ms/step - loss: 0.1477 - val_loss: 0.0848\n",
      "Epoch 310/3000\n",
      "2/2 [==============================] - 0s 101ms/step - loss: 0.1475 - val_loss: 0.0847\n",
      "Epoch 311/3000\n",
      "2/2 [==============================] - 0s 111ms/step - loss: 0.1474 - val_loss: 0.0845\n",
      "Epoch 312/3000\n",
      "2/2 [==============================] - 0s 107ms/step - loss: 0.1473 - val_loss: 0.0845\n",
      "Epoch 313/3000\n",
      "2/2 [==============================] - 0s 104ms/step - loss: 0.1473 - val_loss: 0.0844\n",
      "Epoch 314/3000\n",
      "2/2 [==============================] - 0s 107ms/step - loss: 0.1471 - val_loss: 0.0843\n",
      "Epoch 315/3000\n",
      "2/2 [==============================] - 0s 100ms/step - loss: 0.1470 - val_loss: 0.0843\n",
      "Epoch 316/3000\n",
      "2/2 [==============================] - 0s 102ms/step - loss: 0.1469 - val_loss: 0.0842\n",
      "Epoch 317/3000\n",
      "2/2 [==============================] - 0s 103ms/step - loss: 0.1468 - val_loss: 0.0841\n",
      "Epoch 318/3000\n",
      "2/2 [==============================] - 0s 99ms/step - loss: 0.1467 - val_loss: 0.0840\n",
      "Epoch 319/3000\n",
      "2/2 [==============================] - 0s 106ms/step - loss: 0.1466 - val_loss: 0.0840\n",
      "Epoch 320/3000\n",
      "2/2 [==============================] - 0s 100ms/step - loss: 0.1465 - val_loss: 0.0838\n",
      "Epoch 321/3000\n",
      "2/2 [==============================] - 0s 102ms/step - loss: 0.1464 - val_loss: 0.0837\n",
      "Epoch 322/3000\n",
      "2/2 [==============================] - 0s 97ms/step - loss: 0.1463 - val_loss: 0.0837\n",
      "Epoch 323/3000\n",
      "2/2 [==============================] - 0s 106ms/step - loss: 0.1462 - val_loss: 0.0836\n",
      "Epoch 324/3000\n",
      "2/2 [==============================] - 0s 92ms/step - loss: 0.1461 - val_loss: 0.0836\n",
      "Epoch 325/3000\n",
      "2/2 [==============================] - 0s 100ms/step - loss: 0.1460 - val_loss: 0.0837\n",
      "Epoch 326/3000\n",
      "2/2 [==============================] - 0s 109ms/step - loss: 0.1460 - val_loss: 0.0836\n",
      "Epoch 327/3000\n",
      "2/2 [==============================] - 0s 103ms/step - loss: 0.1458 - val_loss: 0.0836\n",
      "Epoch 328/3000\n",
      "2/2 [==============================] - 0s 103ms/step - loss: 0.1458 - val_loss: 0.0835\n",
      "Epoch 329/3000\n",
      "2/2 [==============================] - 0s 105ms/step - loss: 0.1457 - val_loss: 0.0835\n",
      "Epoch 330/3000\n",
      "2/2 [==============================] - 0s 85ms/step - loss: 0.1456 - val_loss: 0.0835\n",
      "Epoch 331/3000\n",
      "2/2 [==============================] - 0s 86ms/step - loss: 0.1455 - val_loss: 0.0835\n",
      "Epoch 332/3000\n",
      "2/2 [==============================] - 0s 90ms/step - loss: 0.1455 - val_loss: 0.0835\n",
      "Epoch 333/3000\n",
      "2/2 [==============================] - 0s 108ms/step - loss: 0.1454 - val_loss: 0.0834\n",
      "Epoch 334/3000\n",
      "2/2 [==============================] - 0s 102ms/step - loss: 0.1453 - val_loss: 0.0834\n",
      "Epoch 335/3000\n",
      "2/2 [==============================] - 0s 101ms/step - loss: 0.1452 - val_loss: 0.0834\n",
      "Epoch 336/3000\n",
      "2/2 [==============================] - 0s 104ms/step - loss: 0.1451 - val_loss: 0.0833\n",
      "Epoch 337/3000\n",
      "2/2 [==============================] - 0s 84ms/step - loss: 0.1450 - val_loss: 0.0834\n",
      "Epoch 338/3000\n",
      "2/2 [==============================] - 0s 84ms/step - loss: 0.1449 - val_loss: 0.0834\n",
      "Epoch 339/3000\n",
      "2/2 [==============================] - 0s 96ms/step - loss: 0.1449 - val_loss: 0.0834\n",
      "Epoch 340/3000\n",
      "2/2 [==============================] - 0s 88ms/step - loss: 0.1448 - val_loss: 0.0834\n",
      "Epoch 341/3000\n",
      "2/2 [==============================] - 0s 84ms/step - loss: 0.1447 - val_loss: 0.0833\n",
      "Epoch 342/3000\n",
      "2/2 [==============================] - 0s 85ms/step - loss: 0.1447 - val_loss: 0.0834\n",
      "Epoch 343/3000\n",
      "2/2 [==============================] - 0s 99ms/step - loss: 0.1446 - val_loss: 0.0834\n",
      "Epoch 344/3000\n",
      "2/2 [==============================] - 0s 87ms/step - loss: 0.1445 - val_loss: 0.0834\n",
      "Epoch 345/3000\n",
      "2/2 [==============================] - 0s 84ms/step - loss: 0.1444 - val_loss: 0.0835\n",
      "Epoch 346/3000\n",
      "2/2 [==============================] - 0s 90ms/step - loss: 0.1444 - val_loss: 0.0834\n",
      "Epoch 347/3000\n",
      "2/2 [==============================] - 0s 95ms/step - loss: 0.1443 - val_loss: 0.0835\n",
      "Epoch 348/3000\n",
      "2/2 [==============================] - 0s 92ms/step - loss: 0.1442 - val_loss: 0.0835\n",
      "Epoch 349/3000\n",
      "2/2 [==============================] - 0s 85ms/step - loss: 0.1441 - val_loss: 0.0835\n",
      "Epoch 350/3000\n",
      "2/2 [==============================] - 0s 84ms/step - loss: 0.1441 - val_loss: 0.0836\n",
      "Epoch 351/3000\n",
      "2/2 [==============================] - 0s 85ms/step - loss: 0.1440 - val_loss: 0.0836\n",
      "Epoch 352/3000\n",
      "2/2 [==============================] - 0s 85ms/step - loss: 0.1439 - val_loss: 0.0836\n",
      "Epoch 353/3000\n",
      "2/2 [==============================] - 0s 86ms/step - loss: 0.1439 - val_loss: 0.0836\n",
      "Epoch 354/3000\n",
      "2/2 [==============================] - 0s 91ms/step - loss: 0.1438 - val_loss: 0.0835\n",
      "Epoch 355/3000\n",
      "2/2 [==============================] - 0s 87ms/step - loss: 0.1437 - val_loss: 0.0836\n",
      "Epoch 356/3000\n",
      "2/2 [==============================] - 0s 85ms/step - loss: 0.1436 - val_loss: 0.0837\n",
      "Epoch 357/3000\n",
      "2/2 [==============================] - 0s 82ms/step - loss: 0.1436 - val_loss: 0.0838\n",
      "Epoch 358/3000\n",
      "2/2 [==============================] - 0s 87ms/step - loss: 0.1435 - val_loss: 0.0839\n",
      "Epoch 359/3000\n",
      "2/2 [==============================] - 0s 88ms/step - loss: 0.1434 - val_loss: 0.0840\n",
      "Epoch 360/3000\n",
      "2/2 [==============================] - 0s 92ms/step - loss: 0.1433 - val_loss: 0.0841\n",
      "Epoch 361/3000\n",
      "2/2 [==============================] - 0s 87ms/step - loss: 0.1433 - val_loss: 0.0841\n",
      "Epoch 362/3000\n",
      "2/2 [==============================] - 0s 89ms/step - loss: 0.1432 - val_loss: 0.0842\n",
      "Epoch 363/3000\n",
      "2/2 [==============================] - 0s 98ms/step - loss: 0.1431 - val_loss: 0.0843\n",
      "Epoch 364/3000\n",
      "2/2 [==============================] - 0s 86ms/step - loss: 0.1431 - val_loss: 0.0842\n",
      "Epoch 365/3000\n",
      "2/2 [==============================] - 0s 103ms/step - loss: 0.1430 - val_loss: 0.0843\n",
      "Epoch 366/3000\n",
      "2/2 [==============================] - 0s 88ms/step - loss: 0.1429 - val_loss: 0.0842\n",
      "Epoch 367/3000\n",
      "2/2 [==============================] - 0s 95ms/step - loss: 0.1428 - val_loss: 0.0843\n",
      "Epoch 368/3000\n",
      "2/2 [==============================] - 0s 87ms/step - loss: 0.1428 - val_loss: 0.0844\n",
      "Epoch 369/3000\n",
      "2/2 [==============================] - 0s 84ms/step - loss: 0.1427 - val_loss: 0.0846\n",
      "Epoch 370/3000\n",
      "2/2 [==============================] - 0s 85ms/step - loss: 0.1426 - val_loss: 0.0847\n",
      "Epoch 371/3000\n",
      "2/2 [==============================] - 0s 84ms/step - loss: 0.1425 - val_loss: 0.0849\n",
      "Epoch 372/3000\n",
      "2/2 [==============================] - 0s 84ms/step - loss: 0.1425 - val_loss: 0.0850\n",
      "Epoch 373/3000\n",
      "2/2 [==============================] - 0s 93ms/step - loss: 0.1424 - val_loss: 0.0852\n",
      "Epoch 374/3000\n",
      "2/2 [==============================] - 0s 93ms/step - loss: 0.1423 - val_loss: 0.0852\n",
      "Epoch 375/3000\n",
      "2/2 [==============================] - 0s 90ms/step - loss: 0.1422 - val_loss: 0.0852\n",
      "Epoch 376/3000\n",
      "2/2 [==============================] - 0s 94ms/step - loss: 0.1422 - val_loss: 0.0852\n",
      "Epoch 377/3000\n",
      "2/2 [==============================] - 0s 93ms/step - loss: 0.1421 - val_loss: 0.0853\n",
      "Epoch 378/3000\n",
      "2/2 [==============================] - 0s 90ms/step - loss: 0.1420 - val_loss: 0.0853\n",
      "Epoch 379/3000\n",
      "2/2 [==============================] - 0s 90ms/step - loss: 0.1419 - val_loss: 0.0857\n",
      "Epoch 380/3000\n",
      "2/2 [==============================] - 0s 88ms/step - loss: 0.1418 - val_loss: 0.0861\n",
      "Epoch 381/3000\n",
      "2/2 [==============================] - 0s 91ms/step - loss: 0.1417 - val_loss: 0.0863\n",
      "Epoch 382/3000\n",
      "2/2 [==============================] - 0s 100ms/step - loss: 0.1417 - val_loss: 0.0863\n",
      "Epoch 383/3000\n",
      "2/2 [==============================] - 0s 99ms/step - loss: 0.1416 - val_loss: 0.0866\n",
      "Epoch 384/3000\n",
      "2/2 [==============================] - 0s 93ms/step - loss: 0.1415 - val_loss: 0.0866\n",
      "Epoch 385/3000\n",
      "2/2 [==============================] - 0s 107ms/step - loss: 0.1414 - val_loss: 0.0865\n",
      "Epoch 386/3000\n",
      "2/2 [==============================] - 0s 112ms/step - loss: 0.1413 - val_loss: 0.0865\n",
      "Epoch 387/3000\n",
      "2/2 [==============================] - 0s 89ms/step - loss: 0.1412 - val_loss: 0.0867\n",
      "Epoch 388/3000\n",
      "2/2 [==============================] - 0s 92ms/step - loss: 0.1411 - val_loss: 0.0872\n",
      "Epoch 389/3000\n",
      "2/2 [==============================] - 0s 95ms/step - loss: 0.1410 - val_loss: 0.0875\n",
      "Epoch 390/3000\n",
      "2/2 [==============================] - 0s 87ms/step - loss: 0.1409 - val_loss: 0.0876\n",
      "Epoch 391/3000\n",
      "2/2 [==============================] - 0s 85ms/step - loss: 0.1408 - val_loss: 0.0879\n",
      "Epoch 392/3000\n",
      "2/2 [==============================] - 0s 83ms/step - loss: 0.1407 - val_loss: 0.0879\n",
      "Epoch 393/3000\n",
      "2/2 [==============================] - 0s 87ms/step - loss: 0.1406 - val_loss: 0.0880\n",
      "Epoch 394/3000\n",
      "2/2 [==============================] - 0s 88ms/step - loss: 0.1405 - val_loss: 0.0885\n",
      "Epoch 395/3000\n",
      "2/2 [==============================] - 0s 94ms/step - loss: 0.1404 - val_loss: 0.0887\n",
      "Epoch 396/3000\n",
      "2/2 [==============================] - 0s 87ms/step - loss: 0.1402 - val_loss: 0.0888\n",
      "Epoch 397/3000\n",
      "2/2 [==============================] - 0s 86ms/step - loss: 0.1401 - val_loss: 0.0888\n",
      "Epoch 398/3000\n",
      "2/2 [==============================] - 0s 102ms/step - loss: 0.1401 - val_loss: 0.0888\n",
      "Epoch 399/3000\n",
      "2/2 [==============================] - 0s 86ms/step - loss: 0.1399 - val_loss: 0.0889\n",
      "Epoch 400/3000\n",
      "2/2 [==============================] - 0s 87ms/step - loss: 0.1398 - val_loss: 0.0893\n",
      "Epoch 401/3000\n",
      "2/2 [==============================] - 0s 88ms/step - loss: 0.1397 - val_loss: 0.0894\n",
      "Epoch 402/3000\n",
      "2/2 [==============================] - 0s 86ms/step - loss: 0.1395 - val_loss: 0.0899\n",
      "Epoch 403/3000\n",
      "2/2 [==============================] - 0s 88ms/step - loss: 0.1394 - val_loss: 0.0903\n",
      "Epoch 404/3000\n",
      "2/2 [==============================] - 0s 96ms/step - loss: 0.1393 - val_loss: 0.0904\n",
      "Epoch 405/3000\n",
      "2/2 [==============================] - 0s 82ms/step - loss: 0.1392 - val_loss: 0.0906\n",
      "Epoch 406/3000\n",
      "2/2 [==============================] - 0s 92ms/step - loss: 0.1390 - val_loss: 0.0907\n",
      "Epoch 407/3000\n",
      "2/2 [==============================] - 0s 110ms/step - loss: 0.1389 - val_loss: 0.0910\n",
      "Epoch 408/3000\n",
      "2/2 [==============================] - 0s 96ms/step - loss: 0.1388 - val_loss: 0.0911\n",
      "Epoch 409/3000\n",
      "2/2 [==============================] - 0s 93ms/step - loss: 0.1386 - val_loss: 0.0911\n",
      "Epoch 410/3000\n",
      "2/2 [==============================] - 0s 93ms/step - loss: 0.1385 - val_loss: 0.0911\n",
      "Epoch 411/3000\n",
      "2/2 [==============================] - 0s 95ms/step - loss: 0.1383 - val_loss: 0.0910\n",
      "Epoch 412/3000\n",
      "2/2 [==============================] - 0s 94ms/step - loss: 0.1381 - val_loss: 0.0914\n",
      "Epoch 413/3000\n",
      "2/2 [==============================] - 0s 90ms/step - loss: 0.1380 - val_loss: 0.0920\n",
      "Epoch 414/3000\n",
      "2/2 [==============================] - 0s 86ms/step - loss: 0.1378 - val_loss: 0.0923\n",
      "Epoch 415/3000\n",
      "2/2 [==============================] - 0s 84ms/step - loss: 0.1376 - val_loss: 0.0925\n",
      "Epoch 416/3000\n",
      "2/2 [==============================] - 0s 84ms/step - loss: 0.1375 - val_loss: 0.0925\n",
      "Epoch 417/3000\n",
      "2/2 [==============================] - 0s 83ms/step - loss: 0.1373 - val_loss: 0.0923\n",
      "Epoch 418/3000\n",
      "2/2 [==============================] - 0s 88ms/step - loss: 0.1371 - val_loss: 0.0923\n",
      "Epoch 419/3000\n",
      "2/2 [==============================] - 0s 85ms/step - loss: 0.1369 - val_loss: 0.0926\n",
      "Epoch 420/3000\n",
      "2/2 [==============================] - 0s 85ms/step - loss: 0.1368 - val_loss: 0.0925\n",
      "Epoch 421/3000\n",
      "2/2 [==============================] - 0s 87ms/step - loss: 0.1366 - val_loss: 0.0925\n",
      "Epoch 422/3000\n",
      "2/2 [==============================] - 0s 86ms/step - loss: 0.1363 - val_loss: 0.0927\n",
      "Epoch 423/3000\n",
      "2/2 [==============================] - 0s 89ms/step - loss: 0.1362 - val_loss: 0.0924\n",
      "Epoch 424/3000\n",
      "2/2 [==============================] - 0s 86ms/step - loss: 0.1359 - val_loss: 0.0924\n",
      "Epoch 425/3000\n",
      "2/2 [==============================] - 0s 98ms/step - loss: 0.1358 - val_loss: 0.0925\n",
      "Epoch 426/3000\n",
      "2/2 [==============================] - 0s 90ms/step - loss: 0.1355 - val_loss: 0.0928\n",
      "Epoch 427/3000\n",
      "2/2 [==============================] - 0s 95ms/step - loss: 0.1353 - val_loss: 0.0929\n",
      "Epoch 428/3000\n",
      "2/2 [==============================] - 0s 103ms/step - loss: 0.1350 - val_loss: 0.0927\n",
      "Epoch 429/3000\n",
      "2/2 [==============================] - 0s 91ms/step - loss: 0.1350 - val_loss: 0.0923\n",
      "Epoch 430/3000\n",
      "2/2 [==============================] - 0s 106ms/step - loss: 0.1347 - val_loss: 0.0923\n",
      "Epoch 431/3000\n",
      "2/2 [==============================] - 0s 91ms/step - loss: 0.1344 - val_loss: 0.0928\n",
      "Epoch 432/3000\n",
      "2/2 [==============================] - 0s 93ms/step - loss: 0.1341 - val_loss: 0.0934\n",
      "Epoch 433/3000\n",
      "2/2 [==============================] - 0s 100ms/step - loss: 0.1338 - val_loss: 0.0939\n",
      "Epoch 434/3000\n",
      "2/2 [==============================] - 0s 100ms/step - loss: 0.1336 - val_loss: 0.0935\n",
      "Epoch 435/3000\n",
      "2/2 [==============================] - 0s 96ms/step - loss: 0.1335 - val_loss: 0.0927\n",
      "Epoch 436/3000\n",
      "2/2 [==============================] - 0s 99ms/step - loss: 0.1331 - val_loss: 0.0926\n",
      "Epoch 437/3000\n",
      "2/2 [==============================] - 0s 90ms/step - loss: 0.1329 - val_loss: 0.0923\n",
      "Epoch 438/3000\n",
      "2/2 [==============================] - 0s 95ms/step - loss: 0.1326 - val_loss: 0.0925\n",
      "Epoch 439/3000\n",
      "2/2 [==============================] - 0s 91ms/step - loss: 0.1323 - val_loss: 0.0928\n",
      "Epoch 440/3000\n",
      "2/2 [==============================] - 0s 91ms/step - loss: 0.1322 - val_loss: 0.0926\n",
      "Epoch 441/3000\n",
      "2/2 [==============================] - 0s 92ms/step - loss: 0.1318 - val_loss: 0.0926\n",
      "Epoch 442/3000\n",
      "2/2 [==============================] - 0s 90ms/step - loss: 0.1315 - val_loss: 0.0926\n",
      "Epoch 443/3000\n",
      "2/2 [==============================] - 0s 89ms/step - loss: 0.1312 - val_loss: 0.0922\n",
      "Epoch 444/3000\n",
      "2/2 [==============================] - 0s 85ms/step - loss: 0.1311 - val_loss: 0.0919\n",
      "Epoch 445/3000\n",
      "2/2 [==============================] - 0s 83ms/step - loss: 0.1307 - val_loss: 0.0923\n",
      "Epoch 446/3000\n",
      "2/2 [==============================] - 0s 85ms/step - loss: 0.1304 - val_loss: 0.0926\n",
      "Epoch 447/3000\n",
      "2/2 [==============================] - 0s 90ms/step - loss: 0.1301 - val_loss: 0.0929\n",
      "Epoch 448/3000\n",
      "2/2 [==============================] - 0s 83ms/step - loss: 0.1297 - val_loss: 0.0929\n",
      "Epoch 449/3000\n",
      "2/2 [==============================] - 0s 90ms/step - loss: 0.1295 - val_loss: 0.0923\n",
      "Epoch 450/3000\n",
      "2/2 [==============================] - 0s 83ms/step - loss: 0.1291 - val_loss: 0.0915\n",
      "Epoch 451/3000\n",
      "2/2 [==============================] - 0s 85ms/step - loss: 0.1287 - val_loss: 0.0911\n",
      "Epoch 452/3000\n",
      "2/2 [==============================] - 0s 95ms/step - loss: 0.1285 - val_loss: 0.0911\n",
      "Epoch 453/3000\n",
      "2/2 [==============================] - 0s 96ms/step - loss: 0.1281 - val_loss: 0.0915\n",
      "Epoch 454/3000\n",
      "2/2 [==============================] - 0s 97ms/step - loss: 0.1277 - val_loss: 0.0919\n",
      "Epoch 455/3000\n",
      "2/2 [==============================] - 0s 87ms/step - loss: 0.1273 - val_loss: 0.0922\n",
      "Epoch 456/3000\n",
      "2/2 [==============================] - 0s 96ms/step - loss: 0.1270 - val_loss: 0.0920\n",
      "Epoch 457/3000\n",
      "2/2 [==============================] - 0s 94ms/step - loss: 0.1266 - val_loss: 0.0913\n",
      "Epoch 458/3000\n",
      "2/2 [==============================] - 0s 102ms/step - loss: 0.1262 - val_loss: 0.0907\n",
      "Epoch 459/3000\n",
      "2/2 [==============================] - 0s 98ms/step - loss: 0.1258 - val_loss: 0.0908\n",
      "Epoch 460/3000\n",
      "2/2 [==============================] - 0s 95ms/step - loss: 0.1254 - val_loss: 0.0910\n",
      "Epoch 461/3000\n",
      "2/2 [==============================] - 0s 91ms/step - loss: 0.1249 - val_loss: 0.0914\n",
      "Epoch 462/3000\n",
      "2/2 [==============================] - 0s 93ms/step - loss: 0.1247 - val_loss: 0.0918\n",
      "Epoch 463/3000\n",
      "2/2 [==============================] - 0s 93ms/step - loss: 0.1243 - val_loss: 0.0920\n",
      "Epoch 464/3000\n",
      "2/2 [==============================] - 0s 101ms/step - loss: 0.1238 - val_loss: 0.0921\n",
      "Epoch 465/3000\n",
      "2/2 [==============================] - 0s 88ms/step - loss: 0.1232 - val_loss: 0.0918\n",
      "Epoch 466/3000\n",
      "2/2 [==============================] - 0s 89ms/step - loss: 0.1229 - val_loss: 0.0917\n",
      "Epoch 467/3000\n",
      "2/2 [==============================] - 0s 91ms/step - loss: 0.1225 - val_loss: 0.0916\n",
      "Epoch 468/3000\n",
      "2/2 [==============================] - 0s 97ms/step - loss: 0.1218 - val_loss: 0.0912\n",
      "Epoch 469/3000\n",
      "2/2 [==============================] - 0s 96ms/step - loss: 0.1216 - val_loss: 0.0912\n",
      "Epoch 470/3000\n",
      "2/2 [==============================] - 0s 86ms/step - loss: 0.1210 - val_loss: 0.0909\n",
      "Epoch 471/3000\n",
      "2/2 [==============================] - 0s 86ms/step - loss: 0.1205 - val_loss: 0.0904\n",
      "Epoch 472/3000\n",
      "2/2 [==============================] - 0s 89ms/step - loss: 0.1201 - val_loss: 0.0900\n",
      "Epoch 473/3000\n",
      "2/2 [==============================] - 0s 90ms/step - loss: 0.1195 - val_loss: 0.0895\n",
      "Epoch 474/3000\n",
      "2/2 [==============================] - 0s 84ms/step - loss: 0.1192 - val_loss: 0.0894\n",
      "Epoch 475/3000\n",
      "2/2 [==============================] - 0s 84ms/step - loss: 0.1186 - val_loss: 0.0892\n",
      "Epoch 476/3000\n",
      "2/2 [==============================] - 0s 85ms/step - loss: 0.1180 - val_loss: 0.0886\n",
      "Epoch 477/3000\n",
      "2/2 [==============================] - 0s 85ms/step - loss: 0.1176 - val_loss: 0.0884\n",
      "Epoch 478/3000\n",
      "2/2 [==============================] - 0s 85ms/step - loss: 0.1170 - val_loss: 0.0881\n",
      "Epoch 479/3000\n",
      "2/2 [==============================] - 0s 88ms/step - loss: 0.1166 - val_loss: 0.0879\n",
      "Epoch 480/3000\n",
      "2/2 [==============================] - 0s 93ms/step - loss: 0.1160 - val_loss: 0.0878\n",
      "Epoch 481/3000\n",
      "2/2 [==============================] - 0s 90ms/step - loss: 0.1154 - val_loss: 0.0877\n",
      "Epoch 482/3000\n",
      "2/2 [==============================] - 0s 90ms/step - loss: 0.1148 - val_loss: 0.0878\n",
      "Epoch 483/3000\n",
      "2/2 [==============================] - 0s 86ms/step - loss: 0.1141 - val_loss: 0.0873\n",
      "Epoch 484/3000\n",
      "2/2 [==============================] - 0s 86ms/step - loss: 0.1135 - val_loss: 0.0869\n",
      "Epoch 485/3000\n",
      "2/2 [==============================] - 0s 95ms/step - loss: 0.1129 - val_loss: 0.0867\n",
      "Epoch 486/3000\n",
      "2/2 [==============================] - 0s 119ms/step - loss: 0.1122 - val_loss: 0.0875\n"
     ]
    },
    {
     "data": {
      "text/plain": [
       "\"\\nfor i in range(10):\\n    \\n\\n    history = model.fit(shuffled_data_train[~val_map], shuffled_labels_train[~val_map], epochs=100,\\n                        batch_size=1024, verbose=1,\\n                        validation_data=(shuffled_data_train[val_map], shuffled_labels_train[val_map]),\\n                       class_weight={0:1, 1:60}, )\\n                       #callbacks=[early_stopping_callback])\\n\\n    plt.plot(history.history['loss'])\\n    plt.plot(history.history['val_loss'])\\n    plt.title('model loss')\\n    plt.ylabel('loss')\\n    plt.xlabel('epoch')\\n    plt.legend(['train', 'val'], loc='upper left')\\n    plt.show()\\n\\n    plt.clf()\\n    \\n    labels_scores = model.predict(scaler.transform(x_data[_test_map])).squeeze()\\n\\n    #labels_scores = model.predict(shuffled_data_train[~val_map]).squeeze()\\n    labels_pred = (labels_scores >= 0.5).astype(int)\\n\\n    labels_test = (y_user.argmax(axis=1) == auth_user)[_test_map].astype(int)\\n\\n    show_evaluate_model(labels_test, labels_pred, labels_scores)\\n\""
      ]
     },
     "execution_count": 15,
     "metadata": {},
     "output_type": "execute_result"
    }
   ],
   "source": [
    "#model = get_mlp_model()\n",
    "#model = get_gru_model()\n",
    "#model = get_conv_model()\n",
    "#model = get_simple_mix_model()\n",
    "model = get_complex_mix_model()\n",
    "model.summary()\n",
    "\n",
    "model.compile(loss=\"binary_crossentropy\", optimizer=tf.keras.optimizers.Adam(learning_rate=1e-4))\n",
    "\n",
    "\n",
    "\n",
    "kFold = sklearn.model_selection.StratifiedKFold(n_splits=5)\n",
    "val_map = next(kFold.split(shuffled_data_train, shuffled_labels_train))[1]\n",
    "\n",
    "\n",
    "val_map_all = np.zeros(len(shuffled_labels_train))\n",
    "val_map_all[val_map] = 1\n",
    "\n",
    "val_map = val_map_all == 1\n",
    "\n",
    "early_stopping_callback = tf.keras.callbacks.EarlyStopping(monitor='val_loss', start_from_epoch=100,\n",
    "                                                           patience=150, restore_best_weights=True)\n",
    "\n",
    "print(np.unique(shuffled_labels_train[val_map], return_counts=True))\n",
    "print(np.unique(shuffled_labels_train[~val_map], return_counts=True))\n",
    "\n",
    "\n",
    "history = model.fit(shuffled_data_train[~val_map], shuffled_labels_train[~val_map], epochs=3000,\n",
    "                        batch_size=1024, verbose=1,\n",
    "                        validation_data=(shuffled_data_train[val_map], shuffled_labels_train[val_map]),\n",
    "                       class_weight={0:1, 1:15*4}, \n",
    "                   callbacks=[early_stopping_callback])\n",
    "                       #)\n",
    "\n",
    "\n",
    "#with open(f'data/models/DL/ConvLSTM_user={auth_user}.pickle', 'wb') as f:\n",
    "#    pickle.dump(model, f)#\n",
    "\n",
    "#with open(f'data/stats/auth/ConvLSTM_user={auth_user}_history.pickle', 'wb') as f:\n",
    "#    pickle.dump(history, f)\n",
    "    \n",
    "\"\"\"\n",
    "with tf.keras.utils.custom_object_scope({\"SplitLayer\":SplitLayer}):\n",
    "    with open(f'data/models/DL/ConvLSTM_user={auth_user}.pickle', 'rb') as pickle_file:\n",
    "        self.encoder = pickle.load(pickle_file)\n",
    "\"\"\"\n",
    "\n",
    "\n",
    "\n",
    "\"\"\"\n",
    "for i in range(10):\n",
    "    \n",
    "\n",
    "    history = model.fit(shuffled_data_train[~val_map], shuffled_labels_train[~val_map], epochs=100,\n",
    "                        batch_size=1024, verbose=1,\n",
    "                        validation_data=(shuffled_data_train[val_map], shuffled_labels_train[val_map]),\n",
    "                       class_weight={0:1, 1:60}, )\n",
    "                       #callbacks=[early_stopping_callback])\n",
    "\n",
    "    plt.plot(history.history['loss'])\n",
    "    plt.plot(history.history['val_loss'])\n",
    "    plt.title('model loss')\n",
    "    plt.ylabel('loss')\n",
    "    plt.xlabel('epoch')\n",
    "    plt.legend(['train', 'val'], loc='upper left')\n",
    "    plt.show()\n",
    "\n",
    "    plt.clf()\n",
    "    \n",
    "    labels_scores = model.predict(scaler.transform(x_data[_test_map])).squeeze()\n",
    "\n",
    "    #labels_scores = model.predict(shuffled_data_train[~val_map]).squeeze()\n",
    "    labels_pred = (labels_scores >= 0.5).astype(int)\n",
    "\n",
    "    labels_test = (y_user.argmax(axis=1) == auth_user)[_test_map].astype(int)\n",
    "\n",
    "    show_evaluate_model(labels_test, labels_pred, labels_scores)\n",
    "\"\"\"\n"
   ]
  },
  {
   "cell_type": "code",
   "execution_count": 18,
   "id": "80ecc786-94f8-4b4b-ad96-d64a01fcf84a",
   "metadata": {
    "execution": {
     "iopub.execute_input": "2023-03-08T16:02:19.037074Z",
     "iopub.status.busy": "2023-03-08T16:02:19.036288Z",
     "iopub.status.idle": "2023-03-08T16:02:19.205893Z",
     "shell.execute_reply": "2023-03-08T16:02:19.204402Z",
     "shell.execute_reply.started": "2023-03-08T16:02:19.037043Z"
    }
   },
   "outputs": [
    {
     "data": {
      "image/png": "[encoded data removed]",
      "text/plain": [
       "<Figure size 432x288 with 1 Axes>"
      ]
     },
     "metadata": {
      "needs_background": "light"
     },
     "output_type": "display_data"
    },
    {
     "data": {
      "text/plain": [
       "<Figure size 432x288 with 0 Axes>"
      ]
     },
     "metadata": {},
     "output_type": "display_data"
    }
   ],
   "source": [
    "plt.plot(history.history['loss'])\n",
    "plt.plot(history.history['val_loss'])\n",
    "plt.title('model loss')\n",
    "plt.ylabel('loss')\n",
    "plt.xlabel('epoch')\n",
    "plt.legend(['train', 'val'], loc='upper left')\n",
    "plt.show()\n",
    "\n",
    "plt.clf()"
   ]
  },
  {
   "cell_type": "code",
   "execution_count": 19,
   "id": "a95d4335-2dd7-498e-8bee-794081cfeebc",
   "metadata": {
    "execution": {
     "iopub.execute_input": "2023-03-08T16:02:26.386697Z",
     "iopub.status.busy": "2023-03-08T16:02:26.386344Z",
     "iopub.status.idle": "2023-03-08T16:02:27.034665Z",
     "shell.execute_reply": "2023-03-08T16:02:27.033901Z",
     "shell.execute_reply.started": "2023-03-08T16:02:26.386663Z"
    },
    "tags": []
   },
   "outputs": [
    {
     "name": "stdout",
     "output_type": "stream",
     "text": [
      "34/34 [==============================] - 0s 7ms/step\n"
     ]
    },
    {
     "data": {
      "image/png": "[encoded data removed]",
      "text/plain": [
       "<Figure size 432x288 with 1 Axes>"
      ]
     },
     "metadata": {
      "needs_background": "light"
     },
     "output_type": "display_data"
    },
    {
     "name": "stdout",
     "output_type": "stream",
     "text": [
      "F1 score        : 0.8823529411764706\n",
      "AUROC           : 0.9952558765915769\n",
      "EER             : 0.01665034280117532\n",
      "frr_at_eer      : 0.03125\n",
      "far at zero frr : 0.04603330068560235\n",
      "frr at 'zero' frr : 0.0\n"
     ]
    },
    {
     "data": {
      "text/plain": [
       "{'fmeasure': 0.8823529411764706,\n",
       " 'auroc': 0.9952558765915769,\n",
       " 'eer_theta': 0.07608458,\n",
       " 'eer': 0.01665034280117532,\n",
       " 'frr_at_eer': 0.03125,\n",
       " 'far_theta': 0.043404665,\n",
       " 'far': 0.04603330068560235,\n",
       " 'frr_at_zero_frr': 0.0,\n",
       " 'accuracy': 0.9852534562211982}"
      ]
     },
     "execution_count": 19,
     "metadata": {},
     "output_type": "execute_result"
    }
   ],
   "source": [
    "labels_scores = model.predict(scaler.transform(x_data[_test_map])).squeeze()\n",
    "\n",
    "#labels_scores = model.predict(shuffled_data_train[~val_map]).squeeze()\n",
    "labels_pred = (labels_scores >= 0.5).astype(int)\n",
    "\n",
    "labels_test = (y_user.argmax(axis=1) == auth_user)[_test_map].astype(int)\n",
    "\n",
    "#stat_dict = {\"labels_pred\": labels_pred, \"labels_scores\":labels_scores, \"labels_test\":labels_test}\n",
    "#with open(f'data/stats/auth/ConvMixing_user={auth_user}.pickle', 'wb') as f:\n",
    "#    pickle.dump(stat_dict, f)\n",
    "\n",
    "show_evaluate_model(labels_test, labels_pred, labels_scores)"
   ]
  },
  {
   "cell_type": "markdown",
   "id": "3adb0196-a58f-42c5-9355-4ff14ebd8356",
   "metadata": {},
   "source": [
    "## Running all models"
   ]
  },
  {
   "cell_type": "code",
   "execution_count": 16,
   "id": "27b48b1c-84c9-4fb5-b928-ddde33b18bc7",
   "metadata": {
    "execution": {
     "iopub.execute_input": "2023-04-13T10:57:53.112994Z",
     "iopub.status.busy": "2023-04-13T10:57:53.112638Z",
     "iopub.status.idle": "2023-04-13T10:57:53.119851Z",
     "shell.execute_reply": "2023-04-13T10:57:53.118481Z",
     "shell.execute_reply.started": "2023-04-13T10:57:53.112968Z"
    }
   },
   "outputs": [],
   "source": [
    "def save_stats_dict(labels_pred, labels_scores, labels_test, handle):\n",
    "    stat_dict = {\"labels_pred\": labels_pred, \"labels_scores\":labels_scores, \"labels_test\":labels_test}\n",
    "    with open(f'data/stats/auth/{handle}.pickle', 'wb') as f:\n",
    "        pickle.dump(stat_dict, f)\n",
    "        \n",
    "from contextlib import contextmanager\n",
    "import sys, os\n",
    "\n",
    "@contextmanager\n",
    "def suppress_stdout():\n",
    "    with open(os.devnull, \"w\") as devnull:\n",
    "        old_stdout = sys.stdout\n",
    "        sys.stdout = devnull\n",
    "        try:  \n",
    "            yield\n",
    "        finally:\n",
    "            sys.stdout = old_stdout"
   ]
  },
  {
   "cell_type": "code",
   "execution_count": null,
   "id": "4127e99d-feea-4850-82b0-8b2a4945a6b9",
   "metadata": {},
   "outputs": [],
   "source": []
  },
  {
   "cell_type": "code",
   "execution_count": 57,
   "id": "8e0a70b6-795f-4a3b-8225-588d43fd2da8",
   "metadata": {
    "execution": {
     "iopub.execute_input": "2023-04-13T11:35:04.437406Z",
     "iopub.status.busy": "2023-04-13T11:35:04.437053Z",
     "iopub.status.idle": "2023-04-13T11:40:58.571001Z",
     "shell.execute_reply": "2023-04-13T11:40:58.570415Z",
     "shell.execute_reply.started": "2023-04-13T11:35:04.437382Z"
    }
   },
   "outputs": [
    {
     "name": "stdout",
     "output_type": "stream",
     "text": [
      "################   0   ####################\n",
      "(array([0, 1]), array([2254,   10]))\n",
      "RF\n"
     ]
    },
    {
     "data": {
      "image/png": "[encoded data removed]",
      "text/plain": [
       "<Figure size 432x288 with 1 Axes>"
      ]
     },
     "metadata": {
      "needs_background": "light"
     },
     "output_type": "display_data"
    },
    {
     "name": "stdout",
     "output_type": "stream",
     "text": [
      "F1 score        : 0.9696106362773029\n",
      "AUROC           : 0.9275449926542605\n",
      "EER             : 0.12928501469147893\n",
      "frr_at_eer      : 0.15625\n",
      "far at zero frr : 1.0\n",
      "frr at 'zero' frr : 0.0\n",
      "################   1   ####################\n",
      "(array([0, 1]), array([2262,   10]))\n",
      "RF\n"
     ]
    },
    {
     "data": {
      "image/png": "[encoded data removed]",
      "text/plain": [
       "<Figure size 432x288 with 1 Axes>"
      ]
     },
     "metadata": {
      "needs_background": "light"
     },
     "output_type": "display_data"
    },
    {
     "name": "stdout",
     "output_type": "stream",
     "text": [
      "F1 score        : 0.9715639810426541\n",
      "AUROC           : 0.8433658536585366\n",
      "EER             : 0.17365853658536584\n",
      "frr_at_eer      : 0.23333333333333334\n",
      "far at zero frr : 1.0\n",
      "frr at 'zero' frr : 0.0\n",
      "################   2   ####################\n",
      "(array([0, 1]), array([2248,   10]))\n",
      "RF\n"
     ]
    },
    {
     "data": {
      "image/png": "[encoded data removed]",
      "text/plain": [
       "<Figure size 432x288 with 1 Axes>"
      ]
     },
     "metadata": {
      "needs_background": "light"
     },
     "output_type": "display_data"
    },
    {
     "name": "stdout",
     "output_type": "stream",
     "text": [
      "F1 score        : 0.9671584959543075\n",
      "AUROC           : 0.6875142645212827\n",
      "EER             : 0.32677165354330706\n",
      "frr_at_eer      : 0.36231884057971014\n",
      "far at zero frr : 1.0\n",
      "frr at 'zero' frr : 0.0\n",
      "################   3   ####################\n",
      "(array([0, 1]), array([2279,   10]))\n",
      "RF\n"
     ]
    },
    {
     "data": {
      "image/png": "[encoded data removed]",
      "text/plain": [
       "<Figure size 432x288 with 1 Axes>"
      ]
     },
     "metadata": {
      "needs_background": "light"
     },
     "output_type": "display_data"
    },
    {
     "name": "stdout",
     "output_type": "stream",
     "text": [
      "F1 score        : 0.9744801512287335\n",
      "AUROC           : 0.9309731652117684\n",
      "EER             : 0.09602327837051407\n",
      "frr_at_eer      : 0.12962962962962962\n",
      "far at zero frr : 1.0\n",
      "frr at 'zero' frr : 0.0\n",
      "################   4   ####################\n",
      "(array([0, 1]), array([2180,   10]))\n",
      "RF\n"
     ]
    },
    {
     "data": {
      "image/png": "[encoded data removed]",
      "text/plain": [
       "<Figure size 432x288 with 1 Axes>"
      ]
     },
     "metadata": {
      "needs_background": "light"
     },
     "output_type": "display_data"
    },
    {
     "name": "stdout",
     "output_type": "stream",
     "text": [
      "F1 score        : 0.9496611810261375\n",
      "AUROC           : 0.8998127891476515\n",
      "EER             : 0.1488277268093782\n",
      "frr_at_eer      : 0.16346153846153846\n",
      "far at zero frr : 1.0\n",
      "frr at 'zero' frr : 0.0\n",
      "################   5   ####################\n",
      "(array([0, 1]), array([2248,   10]))\n",
      "RF\n"
     ]
    },
    {
     "data": {
      "image/png": "[encoded data removed]",
      "text/plain": [
       "<Figure size 432x288 with 1 Axes>"
      ]
     },
     "metadata": {
      "needs_background": "light"
     },
     "output_type": "display_data"
    },
    {
     "name": "stdout",
     "output_type": "stream",
     "text": [
      "F1 score        : 0.49764810875735593\n",
      "AUROC           : 0.9213159746657285\n",
      "EER             : 0.1270935960591133\n",
      "frr_at_eer      : 0.12857142857142856\n",
      "far at zero frr : 1.0\n",
      "frr at 'zero' frr : 0.0\n",
      "################   6   ####################\n",
      "(array([0, 1]), array([2253,   10]))\n",
      "RF\n"
     ]
    },
    {
     "data": {
      "image/png": "[encoded data removed]",
      "text/plain": [
       "<Figure size 432x288 with 1 Axes>"
      ]
     },
     "metadata": {
      "needs_background": "light"
     },
     "output_type": "display_data"
    },
    {
     "name": "stdout",
     "output_type": "stream",
     "text": [
      "F1 score        : 0.9700996677740864\n",
      "AUROC           : 0.8818531979001647\n",
      "EER             : 0.1888454011741683\n",
      "frr_at_eer      : 0.19047619047619047\n",
      "far at zero frr : 1.0\n",
      "frr at 'zero' frr : 0.0\n",
      "################   7   ####################\n",
      "(array([0, 1]), array([2245,   10]))\n",
      "RF\n"
     ]
    },
    {
     "data": {
      "image/png": "[encoded data removed]",
      "text/plain": [
       "<Figure size 432x288 with 1 Axes>"
      ]
     },
     "metadata": {
      "needs_background": "light"
     },
     "output_type": "display_data"
    },
    {
     "name": "stdout",
     "output_type": "stream",
     "text": [
      "F1 score        : 0.9666666666666666\n",
      "AUROC           : 0.8915482054890922\n",
      "EER             : 0.1605911330049261\n",
      "frr_at_eer      : 0.17142857142857143\n",
      "far at zero frr : 1.0\n",
      "frr at 'zero' frr : 0.0\n",
      "################   8   ####################\n",
      "(array([0, 1]), array([2311,   10]))\n",
      "RF\n"
     ]
    },
    {
     "data": {
      "image/png": "[encoded data removed]",
      "text/plain": [
       "<Figure size 432x288 with 1 Axes>"
      ]
     },
     "metadata": {
      "needs_background": "light"
     },
     "output_type": "display_data"
    },
    {
     "name": "stdout",
     "output_type": "stream",
     "text": [
      "F1 score        : 0.9826535396155649\n",
      "AUROC           : 0.9199762739839077\n",
      "EER             : 0.10877862595419847\n",
      "frr_at_eer      : 0.13513513513513514\n",
      "far at zero frr : 1.0\n",
      "frr at 'zero' frr : 0.0\n",
      "################   9   ####################\n",
      "(array([0, 1]), array([2314,   10]))\n",
      "RF\n"
     ]
    },
    {
     "data": {
      "image/png": "[encoded data removed]",
      "text/plain": [
       "<Figure size 432x288 with 1 Axes>"
      ]
     },
     "metadata": {
      "needs_background": "light"
     },
     "output_type": "display_data"
    },
    {
     "name": "stdout",
     "output_type": "stream",
     "text": [
      "F1 score        : 0.9836065573770492\n",
      "AUROC           : 0.8791836734693877\n",
      "EER             : 0.14857142857142858\n",
      "frr_at_eer      : 0.17142857142857143\n",
      "far at zero frr : 1.0\n",
      "frr at 'zero' frr : 0.0\n",
      "################   10   ####################\n",
      "(array([0, 1]), array([2245,   10]))\n",
      "RF\n"
     ]
    },
    {
     "data": {
      "image/png": "[encoded data removed]",
      "text/plain": [
       "<Figure size 432x288 with 1 Axes>"
      ]
     },
     "metadata": {
      "needs_background": "light"
     },
     "output_type": "display_data"
    },
    {
     "name": "stdout",
     "output_type": "stream",
     "text": [
      "F1 score        : 0.967649857278782\n",
      "AUROC           : 0.7086297645902019\n",
      "EER             : 0.3215339233038348\n",
      "frr_at_eer      : 0.38235294117647056\n",
      "far at zero frr : 1.0\n",
      "frr at 'zero' frr : 0.0\n",
      "################   11   ####################\n",
      "(array([0, 1]), array([2211,   10]))\n",
      "RF\n"
     ]
    },
    {
     "data": {
      "image/png": "[encoded data removed]",
      "text/plain": [
       "<Figure size 432x288 with 1 Axes>"
      ]
     },
     "metadata": {
      "needs_background": "light"
     },
     "output_type": "display_data"
    },
    {
     "name": "stdout",
     "output_type": "stream",
     "text": [
      "F1 score        : 0.9592326139088729\n",
      "AUROC           : 0.9357941176470588\n",
      "EER             : 0.117\n",
      "frr_at_eer      : 0.12941176470588237\n",
      "far at zero frr : 1.0\n",
      "frr at 'zero' frr : 0.0\n",
      "################   12   ####################\n",
      "(array([0, 1]), array([2239,   10]))\n",
      "RF\n"
     ]
    },
    {
     "data": {
      "image/png": "[encoded data removed]",
      "text/plain": [
       "<Figure size 432x288 with 1 Axes>"
      ]
     },
     "metadata": {
      "needs_background": "light"
     },
     "output_type": "display_data"
    },
    {
     "name": "stdout",
     "output_type": "stream",
     "text": [
      "F1 score        : 0.4963379409944295\n",
      "AUROC           : 0.9166847149277166\n",
      "EER             : 0.13043478260869565\n",
      "frr_at_eer      : 0.1643835616438356\n",
      "far at zero frr : 1.0\n",
      "frr at 'zero' frr : 0.0\n",
      "################   13   ####################\n",
      "(array([0, 1]), array([2236,   10]))\n",
      "RF\n"
     ]
    },
    {
     "data": {
      "image/png": "[encoded data removed]",
      "text/plain": [
       "<Figure size 432x288 with 1 Axes>"
      ]
     },
     "metadata": {
      "needs_background": "light"
     },
     "output_type": "display_data"
    },
    {
     "name": "stdout",
     "output_type": "stream",
     "text": [
      "F1 score        : 0.4954883627406625\n",
      "AUROC           : 0.9788580858085809\n",
      "EER             : 0.05247524752475247\n",
      "frr_at_eer      : 0.06666666666666667\n",
      "far at zero frr : 1.0\n",
      "frr at 'zero' frr : 0.0\n",
      "################   14   ####################\n",
      "(array([0, 1]), array([2230,   10]))\n",
      "RF\n"
     ]
    },
    {
     "data": {
      "image/png": "[encoded data removed]",
      "text/plain": [
       "<Figure size 432x288 with 1 Axes>"
      ]
     },
     "metadata": {
      "needs_background": "light"
     },
     "output_type": "display_data"
    },
    {
     "name": "stdout",
     "output_type": "stream",
     "text": [
      "F1 score        : 0.9617224880382775\n",
      "AUROC           : 0.8838495024875622\n",
      "EER             : 0.14925373134328357\n",
      "frr_at_eer      : 0.2125\n",
      "far at zero frr : 1.0\n",
      "frr at 'zero' frr : 0.0\n",
      "################   15   ####################\n",
      "(array([0, 1]), array([2230,   10]))\n",
      "RF\n"
     ]
    },
    {
     "data": {
      "image/png": "[encoded data removed]",
      "text/plain": [
       "<Figure size 432x288 with 1 Axes>"
      ]
     },
     "metadata": {
      "needs_background": "light"
     },
     "output_type": "display_data"
    },
    {
     "name": "stdout",
     "output_type": "stream",
     "text": [
      "F1 score        : 0.962715105162524\n",
      "AUROC           : 0.8149173732589821\n",
      "EER             : 0.21648460774577954\n",
      "frr_at_eer      : 0.3076923076923077\n",
      "far at zero frr : 1.0\n",
      "frr at 'zero' frr : 0.0\n",
      "################   0   ####################\n",
      "(array([0, 1]), array([2254,   10]))\n",
      "RF\n"
     ]
    },
    {
     "data": {
      "image/png": "[encoded data removed]",
      "text/plain": [
       "<Figure size 432x288 with 1 Axes>"
      ]
     },
     "metadata": {
      "needs_background": "light"
     },
     "output_type": "display_data"
    },
    {
     "name": "stdout",
     "output_type": "stream",
     "text": [
      "F1 score        : 0.5004202448382971\n",
      "AUROC           : 0.9476922135161607\n",
      "EER             : 0.0940254652301665\n",
      "frr_at_eer      : 0.109375\n",
      "far at zero frr : 1.0\n",
      "frr at 'zero' frr : 0.0\n",
      "################   1   ####################\n",
      "(array([0, 1]), array([2262,   10]))\n",
      "RF\n"
     ]
    },
    {
     "data": {
      "image/png": "[encoded data removed]",
      "text/plain": [
       "<Figure size 432x288 with 1 Axes>"
      ]
     },
     "metadata": {
      "needs_background": "light"
     },
     "output_type": "display_data"
    },
    {
     "name": "stdout",
     "output_type": "stream",
     "text": [
      "F1 score        : 0.9715639810426541\n",
      "AUROC           : 0.9063739837398375\n",
      "EER             : 0.11902439024390243\n",
      "frr_at_eer      : 0.16666666666666666\n",
      "far at zero frr : 1.0\n",
      "frr at 'zero' frr : 0.0\n",
      "################   2   ####################\n",
      "(array([0, 1]), array([2248,   10]))\n",
      "RF\n"
     ]
    },
    {
     "data": {
      "image/png": "[encoded data removed]",
      "text/plain": [
       "<Figure size 432x288 with 1 Axes>"
      ]
     },
     "metadata": {
      "needs_background": "light"
     },
     "output_type": "display_data"
    },
    {
     "name": "stdout",
     "output_type": "stream",
     "text": [
      "F1 score        : 0.9671584959543075\n",
      "AUROC           : 0.7911888052036973\n",
      "EER             : 0.2106299212598425\n",
      "frr_at_eer      : 0.3188405797101449\n",
      "far at zero frr : 1.0\n",
      "frr at 'zero' frr : 0.0\n",
      "################   3   ####################\n",
      "(array([0, 1]), array([2279,   10]))\n",
      "RF\n"
     ]
    },
    {
     "data": {
      "image/png": "[encoded data removed]",
      "text/plain": [
       "<Figure size 432x288 with 1 Axes>"
      ]
     },
     "metadata": {
      "needs_background": "light"
     },
     "output_type": "display_data"
    },
    {
     "name": "stdout",
     "output_type": "stream",
     "text": [
      "F1 score        : 0.9744801512287335\n",
      "AUROC           : 0.9207439738477565\n",
      "EER             : 0.14064015518913675\n",
      "frr_at_eer      : 0.16666666666666666\n",
      "far at zero frr : 1.0\n",
      "frr at 'zero' frr : 0.0\n",
      "################   4   ####################\n",
      "(array([0, 1]), array([2180,   10]))\n",
      "RF\n"
     ]
    },
    {
     "data": {
      "image/png": "[encoded data removed]",
      "text/plain": [
       "<Figure size 432x288 with 1 Axes>"
      ]
     },
     "metadata": {
      "needs_background": "light"
     },
     "output_type": "display_data"
    },
    {
     "name": "stdout",
     "output_type": "stream",
     "text": [
      "F1 score        : 0.9496611810261375\n",
      "AUROC           : 0.9410922920097232\n",
      "EER             : 0.14271151885830785\n",
      "frr_at_eer      : 0.14423076923076922\n",
      "far at zero frr : 1.0\n",
      "frr at 'zero' frr : 0.0\n",
      "################   5   ####################\n",
      "(array([0, 1]), array([2248,   10]))\n",
      "RF\n"
     ]
    },
    {
     "data": {
      "image/png": "[encoded data removed]",
      "text/plain": [
       "<Figure size 432x288 with 1 Axes>"
      ]
     },
     "metadata": {
      "needs_background": "light"
     },
     "output_type": "display_data"
    },
    {
     "name": "stdout",
     "output_type": "stream",
     "text": [
      "F1 score        : 0.9666666666666666\n",
      "AUROC           : 0.7818508092892329\n",
      "EER             : 0.1665024630541872\n",
      "frr_at_eer      : 0.32857142857142857\n",
      "far at zero frr : 1.0\n",
      "frr at 'zero' frr : 0.0\n",
      "################   6   ####################\n",
      "(array([0, 1]), array([2253,   10]))\n",
      "RF\n"
     ]
    },
    {
     "data": {
      "image/png": "[encoded data removed]",
      "text/plain": [
       "<Figure size 432x288 with 1 Axes>"
      ]
     },
     "metadata": {
      "needs_background": "light"
     },
     "output_type": "display_data"
    },
    {
     "name": "stdout",
     "output_type": "stream",
     "text": [
      "F1 score        : 0.9700996677740864\n",
      "AUROC           : 0.9487854502531606\n",
      "EER             : 0.11937377690802348\n",
      "frr_at_eer      : 0.12698412698412698\n",
      "far at zero frr : 1.0\n",
      "frr at 'zero' frr : 0.0\n",
      "################   7   ####################\n",
      "(array([0, 1]), array([2245,   10]))\n",
      "RF\n"
     ]
    },
    {
     "data": {
      "image/png": "[encoded data removed]",
      "text/plain": [
       "<Figure size 432x288 with 1 Axes>"
      ]
     },
     "metadata": {
      "needs_background": "light"
     },
     "output_type": "display_data"
    },
    {
     "name": "stdout",
     "output_type": "stream",
     "text": [
      "F1 score        : 0.9666666666666666\n",
      "AUROC           : 0.8829697396199858\n",
      "EER             : 0.17438423645320197\n",
      "frr_at_eer      : 0.24285714285714285\n",
      "far at zero frr : 1.0\n",
      "frr at 'zero' frr : 0.0\n",
      "################   8   ####################\n",
      "(array([0, 1]), array([2311,   10]))\n",
      "RF\n"
     ]
    },
    {
     "data": {
      "image/png": "[encoded data removed]",
      "text/plain": [
       "<Figure size 432x288 with 1 Axes>"
      ]
     },
     "metadata": {
      "needs_background": "light"
     },
     "output_type": "display_data"
    },
    {
     "name": "stdout",
     "output_type": "stream",
     "text": [
      "F1 score        : 0.9826535396155649\n",
      "AUROC           : 0.9579121105838664\n",
      "EER             : 0.10591603053435114\n",
      "frr_at_eer      : 0.13513513513513514\n",
      "far at zero frr : 0.36354961832061067\n",
      "frr at 'zero' frr : 0.0\n",
      "################   9   ####################\n",
      "(array([0, 1]), array([2314,   10]))\n",
      "RF\n"
     ]
    },
    {
     "data": {
      "image/png": "[encoded data removed]",
      "text/plain": [
       "<Figure size 432x288 with 1 Axes>"
      ]
     },
     "metadata": {
      "needs_background": "light"
     },
     "output_type": "display_data"
    },
    {
     "name": "stdout",
     "output_type": "stream",
     "text": [
      "F1 score        : 0.9836065573770492\n",
      "AUROC           : 0.9353469387755102\n",
      "EER             : 0.10666666666666667\n",
      "frr_at_eer      : 0.17142857142857143\n",
      "far at zero frr : 1.0\n",
      "frr at 'zero' frr : 0.0\n",
      "################   10   ####################\n",
      "(array([0, 1]), array([2245,   10]))\n",
      "RF\n"
     ]
    },
    {
     "data": {
      "image/png": "[encoded data removed]",
      "text/plain": [
       "<Figure size 432x288 with 1 Axes>"
      ]
     },
     "metadata": {
      "needs_background": "light"
     },
     "output_type": "display_data"
    },
    {
     "name": "stdout",
     "output_type": "stream",
     "text": [
      "F1 score        : 0.967649857278782\n",
      "AUROC           : 0.7828387992365087\n",
      "EER             : 0.2713864306784661\n",
      "frr_at_eer      : 0.3088235294117647\n",
      "far at zero frr : 1.0\n",
      "frr at 'zero' frr : 0.0\n",
      "################   11   ####################\n",
      "(array([0, 1]), array([2211,   10]))\n",
      "RF\n"
     ]
    },
    {
     "data": {
      "image/png": "[encoded data removed]",
      "text/plain": [
       "<Figure size 432x288 with 1 Axes>"
      ]
     },
     "metadata": {
      "needs_background": "light"
     },
     "output_type": "display_data"
    },
    {
     "name": "stdout",
     "output_type": "stream",
     "text": [
      "F1 score        : 0.9592326139088729\n",
      "AUROC           : 0.9293235294117648\n",
      "EER             : 0.133\n",
      "frr_at_eer      : 0.17647058823529413\n",
      "far at zero frr : 1.0\n",
      "frr at 'zero' frr : 0.0\n",
      "################   12   ####################\n",
      "(array([0, 1]), array([2239,   10]))\n",
      "RF\n"
     ]
    },
    {
     "data": {
      "image/png": "[encoded data removed]",
      "text/plain": [
       "<Figure size 432x288 with 1 Axes>"
      ]
     },
     "metadata": {
      "needs_background": "light"
     },
     "output_type": "display_data"
    },
    {
     "name": "stdout",
     "output_type": "stream",
     "text": [
      "F1 score        : 0.9651883643299952\n",
      "AUROC           : 0.9185188694569278\n",
      "EER             : 0.11264822134387352\n",
      "frr_at_eer      : 0.1780821917808219\n",
      "far at zero frr : 1.0\n",
      "frr at 'zero' frr : 0.0\n",
      "################   13   ####################\n",
      "(array([0, 1]), array([2236,   10]))\n",
      "RF\n"
     ]
    },
    {
     "data": {
      "image/png": "[encoded data removed]",
      "text/plain": [
       "<Figure size 432x288 with 1 Axes>"
      ]
     },
     "metadata": {
      "needs_background": "light"
     },
     "output_type": "display_data"
    },
    {
     "name": "stdout",
     "output_type": "stream",
     "text": [
      "F1 score        : 0.5336553886760015\n",
      "AUROC           : 0.9555247524752475\n",
      "EER             : 0.0900990099009901\n",
      "frr_at_eer      : 0.12\n",
      "far at zero frr : 1.0\n",
      "frr at 'zero' frr : 0.0\n",
      "################   14   ####################\n",
      "(array([0, 1]), array([2230,   10]))\n",
      "RF\n"
     ]
    },
    {
     "data": {
      "image/png": "[encoded data removed]",
      "text/plain": [
       "<Figure size 432x288 with 1 Axes>"
      ]
     },
     "metadata": {
      "needs_background": "light"
     },
     "output_type": "display_data"
    },
    {
     "name": "stdout",
     "output_type": "stream",
     "text": [
      "F1 score        : 0.9617224880382775\n",
      "AUROC           : 0.9426616915422885\n",
      "EER             : 0.1253731343283582\n",
      "frr_at_eer      : 0.15\n",
      "far at zero frr : 1.0\n",
      "frr at 'zero' frr : 0.0\n",
      "################   15   ####################\n",
      "(array([0, 1]), array([2230,   10]))\n",
      "RF\n"
     ]
    },
    {
     "data": {
      "image/png": "[encoded data removed]",
      "text/plain": [
       "<Figure size 432x288 with 1 Axes>"
      ]
     },
     "metadata": {
      "needs_background": "light"
     },
     "output_type": "display_data"
    },
    {
     "name": "stdout",
     "output_type": "stream",
     "text": [
      "F1 score        : 0.4942459849021424\n",
      "AUROC           : 0.8625709775163598\n",
      "EER             : 0.21946375372393248\n",
      "frr_at_eer      : 0.2564102564102564\n",
      "far at zero frr : 1.0\n",
      "frr at 'zero' frr : 0.0\n",
      "################   0   ####################\n",
      "(array([0, 1]), array([2254,   10]))\n",
      "RF\n"
     ]
    },
    {
     "data": {
      "image/png": "[encoded data removed]",
      "text/plain": [
       "<Figure size 432x288 with 1 Axes>"
      ]
     },
     "metadata": {
      "needs_background": "light"
     },
     "output_type": "display_data"
    },
    {
     "name": "stdout",
     "output_type": "stream",
     "text": [
      "F1 score        : 0.9696106362773029\n",
      "AUROC           : 0.9735400342801176\n",
      "EER             : 0.07737512242899118\n",
      "frr_at_eer      : 0.078125\n",
      "far at zero frr : 0.21449559255631734\n",
      "frr at 'zero' frr : 0.0\n",
      "################   1   ####################\n",
      "(array([0, 1]), array([2262,   10]))\n",
      "RF\n"
     ]
    },
    {
     "data": {
      "image/png": "[encoded data removed]",
      "text/plain": [
       "<Figure size 432x288 with 1 Axes>"
      ]
     },
     "metadata": {
      "needs_background": "light"
     },
     "output_type": "display_data"
    },
    {
     "name": "stdout",
     "output_type": "stream",
     "text": [
      "F1 score        : 0.9715639810426541\n",
      "AUROC           : 0.818089430894309\n",
      "EER             : 0.18341463414634146\n",
      "frr_at_eer      : 0.26666666666666666\n",
      "far at zero frr : 1.0\n",
      "frr at 'zero' frr : 0.0\n",
      "################   2   ####################\n",
      "(array([0, 1]), array([2248,   10]))\n",
      "RF\n"
     ]
    },
    {
     "data": {
      "image/png": "[encoded data removed]",
      "text/plain": [
       "<Figure size 432x288 with 1 Axes>"
      ]
     },
     "metadata": {
      "needs_background": "light"
     },
     "output_type": "display_data"
    },
    {
     "name": "stdout",
     "output_type": "stream",
     "text": [
      "F1 score        : 0.9671584959543075\n",
      "AUROC           : 0.7269128723040054\n",
      "EER             : 0.26476377952755903\n",
      "frr_at_eer      : 0.34782608695652173\n",
      "far at zero frr : 1.0\n",
      "frr at 'zero' frr : 0.0\n",
      "################   3   ####################\n",
      "(array([0, 1]), array([2279,   10]))\n",
      "RF\n"
     ]
    },
    {
     "data": {
      "image/png": "[encoded data removed]",
      "text/plain": [
       "<Figure size 432x288 with 1 Axes>"
      ]
     },
     "metadata": {
      "needs_background": "light"
     },
     "output_type": "display_data"
    },
    {
     "name": "stdout",
     "output_type": "stream",
     "text": [
      "F1 score        : 0.9744801512287335\n",
      "AUROC           : 0.8932625642130977\n",
      "EER             : 0.1600387972841901\n",
      "frr_at_eer      : 0.18518518518518517\n",
      "far at zero frr : 0.5373423860329777\n",
      "frr at 'zero' frr : 0.0\n",
      "################   4   ####################\n",
      "(array([0, 1]), array([2180,   10]))\n",
      "RF\n"
     ]
    },
    {
     "data": {
      "image/png": "[encoded data removed]",
      "text/plain": [
       "<Figure size 432x288 with 1 Axes>"
      ]
     },
     "metadata": {
      "needs_background": "light"
     },
     "output_type": "display_data"
    },
    {
     "name": "stdout",
     "output_type": "stream",
     "text": [
      "F1 score        : 0.9496611810261375\n",
      "AUROC           : 0.8892074413863406\n",
      "EER             : 0.13149847094801223\n",
      "frr_at_eer      : 0.17307692307692307\n",
      "far at zero frr : 1.0\n",
      "frr at 'zero' frr : 0.0\n",
      "################   5   ####################\n",
      "(array([0, 1]), array([2248,   10]))\n",
      "RF\n"
     ]
    },
    {
     "data": {
      "image/png": "[encoded data removed]",
      "text/plain": [
       "<Figure size 432x288 with 1 Axes>"
      ]
     },
     "metadata": {
      "needs_background": "light"
     },
     "output_type": "display_data"
    },
    {
     "name": "stdout",
     "output_type": "stream",
     "text": [
      "F1 score        : 0.9666666666666666\n",
      "AUROC           : 0.9618578465869106\n",
      "EER             : 0.08275862068965517\n",
      "frr_at_eer      : 0.08571428571428572\n",
      "far at zero frr : 1.0\n",
      "frr at 'zero' frr : 0.0\n",
      "################   6   ####################\n",
      "(array([0, 1]), array([2253,   10]))\n",
      "RF\n"
     ]
    },
    {
     "data": {
      "image/png": "[encoded data removed]",
      "text/plain": [
       "<Figure size 432x288 with 1 Axes>"
      ]
     },
     "metadata": {
      "needs_background": "light"
     },
     "output_type": "display_data"
    },
    {
     "name": "stdout",
     "output_type": "stream",
     "text": [
      "F1 score        : 0.9700996677740864\n",
      "AUROC           : 0.9510685552759917\n",
      "EER             : 0.11643835616438356\n",
      "frr_at_eer      : 0.12698412698412698\n",
      "far at zero frr : 0.4726027397260274\n",
      "frr at 'zero' frr : 0.0\n",
      "################   7   ####################\n",
      "(array([0, 1]), array([2245,   10]))\n",
      "RF\n"
     ]
    },
    {
     "data": {
      "image/png": "[encoded data removed]",
      "text/plain": [
       "<Figure size 432x288 with 1 Axes>"
      ]
     },
     "metadata": {
      "needs_background": "light"
     },
     "output_type": "display_data"
    },
    {
     "name": "stdout",
     "output_type": "stream",
     "text": [
      "F1 score        : 0.5115718673869293\n",
      "AUROC           : 0.7961154116819141\n",
      "EER             : 0.22857142857142856\n",
      "frr_at_eer      : 0.3\n",
      "far at zero frr : 1.0\n",
      "frr at 'zero' frr : 0.0\n",
      "################   8   ####################\n",
      "(array([0, 1]), array([2311,   10]))\n",
      "RF\n"
     ]
    },
    {
     "data": {
      "image/png": "[encoded data removed]",
      "text/plain": [
       "<Figure size 432x288 with 1 Axes>"
      ]
     },
     "metadata": {
      "needs_background": "light"
     },
     "output_type": "display_data"
    },
    {
     "name": "stdout",
     "output_type": "stream",
     "text": [
      "F1 score        : 0.9826535396155649\n",
      "AUROC           : 0.9340700433257685\n",
      "EER             : 0.11259541984732824\n",
      "frr_at_eer      : 0.16216216216216217\n",
      "far at zero frr : 1.0\n",
      "frr at 'zero' frr : 0.0\n",
      "################   9   ####################\n",
      "(array([0, 1]), array([2314,   10]))\n",
      "RF\n"
     ]
    },
    {
     "data": {
      "image/png": "[encoded data removed]",
      "text/plain": [
       "<Figure size 432x288 with 1 Axes>"
      ]
     },
     "metadata": {
      "needs_background": "light"
     },
     "output_type": "display_data"
    },
    {
     "name": "stdout",
     "output_type": "stream",
     "text": [
      "F1 score        : 0.9836065573770492\n",
      "AUROC           : 0.899170068027211\n",
      "EER             : 0.15047619047619049\n",
      "frr_at_eer      : 0.17142857142857143\n",
      "far at zero frr : 0.4819047619047619\n",
      "frr at 'zero' frr : 0.0\n",
      "################   10   ####################\n",
      "(array([0, 1]), array([2245,   10]))\n",
      "RF\n"
     ]
    },
    {
     "data": {
      "image/png": "[encoded data removed]",
      "text/plain": [
       "<Figure size 432x288 with 1 Axes>"
      ]
     },
     "metadata": {
      "needs_background": "light"
     },
     "output_type": "display_data"
    },
    {
     "name": "stdout",
     "output_type": "stream",
     "text": [
      "F1 score        : 0.967649857278782\n",
      "AUROC           : 0.8740167158308751\n",
      "EER             : 0.19469026548672566\n",
      "frr_at_eer      : 0.20588235294117646\n",
      "far at zero frr : 1.0\n",
      "frr at 'zero' frr : 0.0\n",
      "################   11   ####################\n",
      "(array([0, 1]), array([2211,   10]))\n",
      "RF\n"
     ]
    },
    {
     "data": {
      "image/png": "[encoded data removed]",
      "text/plain": [
       "<Figure size 432x288 with 1 Axes>"
      ]
     },
     "metadata": {
      "needs_background": "light"
     },
     "output_type": "display_data"
    },
    {
     "name": "stdout",
     "output_type": "stream",
     "text": [
      "F1 score        : 0.9592326139088729\n",
      "AUROC           : 0.9013176470588236\n",
      "EER             : 0.119\n",
      "frr_at_eer      : 0.17647058823529413\n",
      "far at zero frr : 1.0\n",
      "frr at 'zero' frr : 0.0\n",
      "################   12   ####################\n",
      "(array([0, 1]), array([2239,   10]))\n",
      "RF\n"
     ]
    },
    {
     "data": {
      "image/png": "[encoded data removed]",
      "text/plain": [
       "<Figure size 432x288 with 1 Axes>"
      ]
     },
     "metadata": {
      "needs_background": "light"
     },
     "output_type": "display_data"
    },
    {
     "name": "stdout",
     "output_type": "stream",
     "text": [
      "F1 score        : 0.4963379409944295\n",
      "AUROC           : 0.9551410471601061\n",
      "EER             : 0.09189723320158102\n",
      "frr_at_eer      : 0.1095890410958904\n",
      "far at zero frr : 1.0\n",
      "frr at 'zero' frr : 0.0\n",
      "################   13   ####################\n",
      "(array([0, 1]), array([2236,   10]))\n",
      "RF\n"
     ]
    },
    {
     "data": {
      "image/png": "[encoded data removed]",
      "text/plain": [
       "<Figure size 432x288 with 1 Axes>"
      ]
     },
     "metadata": {
      "needs_background": "light"
     },
     "output_type": "display_data"
    },
    {
     "name": "stdout",
     "output_type": "stream",
     "text": [
      "F1 score        : 0.964200477326969\n",
      "AUROC           : 0.977075907590759\n",
      "EER             : 0.061386138613861385\n",
      "frr_at_eer      : 0.09333333333333334\n",
      "far at zero frr : 1.0\n",
      "frr at 'zero' frr : 0.0\n",
      "################   14   ####################\n",
      "(array([0, 1]), array([2230,   10]))\n",
      "RF\n"
     ]
    },
    {
     "data": {
      "image/png": "[encoded data removed]",
      "text/plain": [
       "<Figure size 432x288 with 1 Axes>"
      ]
     },
     "metadata": {
      "needs_background": "light"
     },
     "output_type": "display_data"
    },
    {
     "name": "stdout",
     "output_type": "stream",
     "text": [
      "F1 score        : 0.9617224880382775\n",
      "AUROC           : 0.9630721393034827\n",
      "EER             : 0.09253731343283582\n",
      "frr_at_eer      : 0.1125\n",
      "far at zero frr : 0.3482587064676617\n",
      "frr at 'zero' frr : 0.0\n",
      "################   15   ####################\n",
      "(array([0, 1]), array([2230,   10]))\n",
      "RF\n"
     ]
    },
    {
     "data": {
      "image/png": "[encoded data removed]",
      "text/plain": [
       "<Figure size 432x288 with 1 Axes>"
      ]
     },
     "metadata": {
      "needs_background": "light"
     },
     "output_type": "display_data"
    },
    {
     "name": "stdout",
     "output_type": "stream",
     "text": [
      "F1 score        : 0.962715105162524\n",
      "AUROC           : 0.8882247345504546\n",
      "EER             : 0.1926514399205561\n",
      "frr_at_eer      : 0.21794871794871795\n",
      "far at zero frr : 0.5342601787487586\n",
      "frr at 'zero' frr : 0.0\n",
      "################   0   ####################\n",
      "(array([0, 1]), array([2254,   10]))\n",
      "RF\n"
     ]
    },
    {
     "data": {
      "image/png": "[encoded data removed]",
      "text/plain": [
       "<Figure size 432x288 with 1 Axes>"
      ]
     },
     "metadata": {
      "needs_background": "light"
     },
     "output_type": "display_data"
    },
    {
     "name": "stdout",
     "output_type": "stream",
     "text": [
      "F1 score        : 0.9696106362773029\n",
      "AUROC           : 0.9430781709108718\n",
      "EER             : 0.10381978452497552\n",
      "frr_at_eer      : 0.140625\n",
      "far at zero frr : 1.0\n",
      "frr at 'zero' frr : 0.0\n",
      "################   1   ####################\n",
      "(array([0, 1]), array([2262,   10]))\n",
      "RF\n"
     ]
    },
    {
     "data": {
      "image/png": "[encoded data removed]",
      "text/plain": [
       "<Figure size 432x288 with 1 Axes>"
      ]
     },
     "metadata": {
      "needs_background": "light"
     },
     "output_type": "display_data"
    },
    {
     "name": "stdout",
     "output_type": "stream",
     "text": [
      "F1 score        : 0.9715639810426541\n",
      "AUROC           : 0.9415121951219512\n",
      "EER             : 0.10829268292682927\n",
      "frr_at_eer      : 0.11666666666666667\n",
      "far at zero frr : 1.0\n",
      "frr at 'zero' frr : 0.0\n",
      "################   2   ####################\n",
      "(array([0, 1]), array([2248,   10]))\n",
      "RF\n"
     ]
    },
    {
     "data": {
      "image/png": "[encoded data removed]",
      "text/plain": [
       "<Figure size 432x288 with 1 Axes>"
      ]
     },
     "metadata": {
      "needs_background": "light"
     },
     "output_type": "display_data"
    },
    {
     "name": "stdout",
     "output_type": "stream",
     "text": [
      "F1 score        : 0.9671584959543075\n",
      "AUROC           : 0.6904028300810225\n",
      "EER             : 0.2952755905511811\n",
      "frr_at_eer      : 0.4057971014492754\n",
      "far at zero frr : 1.0\n",
      "frr at 'zero' frr : 0.0\n",
      "################   3   ####################\n",
      "(array([0, 1]), array([2279,   10]))\n",
      "RF\n"
     ]
    },
    {
     "data": {
      "image/png": "[encoded data removed]",
      "text/plain": [
       "<Figure size 432x288 with 1 Axes>"
      ]
     },
     "metadata": {
      "needs_background": "light"
     },
     "output_type": "display_data"
    },
    {
     "name": "stdout",
     "output_type": "stream",
     "text": [
      "F1 score        : 0.9744801512287335\n",
      "AUROC           : 0.945710744692316\n",
      "EER             : 0.10184287099903007\n",
      "frr_at_eer      : 0.1111111111111111\n",
      "far at zero frr : 1.0\n",
      "frr at 'zero' frr : 0.0\n",
      "################   4   ####################\n",
      "(array([0, 1]), array([2180,   10]))\n",
      "RF\n"
     ]
    },
    {
     "data": {
      "image/png": "[encoded data removed]",
      "text/plain": [
       "<Figure size 432x288 with 1 Axes>"
      ]
     },
     "metadata": {
      "needs_background": "light"
     },
     "output_type": "display_data"
    },
    {
     "name": "stdout",
     "output_type": "stream",
     "text": [
      "F1 score        : 0.9496611810261375\n",
      "AUROC           : 0.9100260722967145\n",
      "EER             : 0.1345565749235474\n",
      "frr_at_eer      : 0.17307692307692307\n",
      "far at zero frr : 1.0\n",
      "frr at 'zero' frr : 0.0\n",
      "################   5   ####################\n",
      "(array([0, 1]), array([2248,   10]))\n",
      "RF\n"
     ]
    },
    {
     "data": {
      "image/png": "[encoded data removed]",
      "text/plain": [
       "<Figure size 432x288 with 1 Axes>"
      ]
     },
     "metadata": {
      "needs_background": "light"
     },
     "output_type": "display_data"
    },
    {
     "name": "stdout",
     "output_type": "stream",
     "text": [
      "F1 score        : 0.9666666666666666\n",
      "AUROC           : 0.9623152709359607\n",
      "EER             : 0.09852216748768473\n",
      "frr_at_eer      : 0.14285714285714285\n",
      "far at zero frr : 0.3536945812807882\n",
      "frr at 'zero' frr : 0.0\n",
      "################   6   ####################\n",
      "(array([0, 1]), array([2253,   10]))\n",
      "RF\n"
     ]
    },
    {
     "data": {
      "image/png": "[encoded data removed]",
      "text/plain": [
       "<Figure size 432x288 with 1 Axes>"
      ]
     },
     "metadata": {
      "needs_background": "light"
     },
     "output_type": "display_data"
    },
    {
     "name": "stdout",
     "output_type": "stream",
     "text": [
      "F1 score        : 0.9700996677740864\n",
      "AUROC           : 0.9250302860870376\n",
      "EER             : 0.14481409001956946\n",
      "frr_at_eer      : 0.15873015873015872\n",
      "far at zero frr : 1.0\n",
      "frr at 'zero' frr : 0.0\n",
      "################   7   ####################\n",
      "(array([0, 1]), array([2245,   10]))\n",
      "RF\n"
     ]
    },
    {
     "data": {
      "image/png": "[encoded data removed]",
      "text/plain": [
       "<Figure size 432x288 with 1 Axes>"
      ]
     },
     "metadata": {
      "needs_background": "light"
     },
     "output_type": "display_data"
    },
    {
     "name": "stdout",
     "output_type": "stream",
     "text": [
      "F1 score        : 0.9666666666666666\n",
      "AUROC           : 0.8710978184377198\n",
      "EER             : 0.1891625615763547\n",
      "frr_at_eer      : 0.2\n",
      "far at zero frr : 1.0\n",
      "frr at 'zero' frr : 0.0\n",
      "################   8   ####################\n",
      "(array([0, 1]), array([2311,   10]))\n",
      "RF\n"
     ]
    },
    {
     "data": {
      "image/png": "[encoded data removed]",
      "text/plain": [
       "<Figure size 432x288 with 1 Axes>"
      ]
     },
     "metadata": {
      "needs_background": "light"
     },
     "output_type": "display_data"
    },
    {
     "name": "stdout",
     "output_type": "stream",
     "text": [
      "F1 score        : 0.9826535396155649\n",
      "AUROC           : 0.8932587167319991\n",
      "EER             : 0.1650763358778626\n",
      "frr_at_eer      : 0.1891891891891892\n",
      "far at zero frr : 1.0\n",
      "frr at 'zero' frr : 0.0\n",
      "################   9   ####################\n",
      "(array([0, 1]), array([2314,   10]))\n",
      "RF\n"
     ]
    },
    {
     "data": {
      "image/png": "[encoded data removed]",
      "text/plain": [
       "<Figure size 432x288 with 1 Axes>"
      ]
     },
     "metadata": {
      "needs_background": "light"
     },
     "output_type": "display_data"
    },
    {
     "name": "stdout",
     "output_type": "stream",
     "text": [
      "F1 score        : 0.9836065573770492\n",
      "AUROC           : 0.9302993197278913\n",
      "EER             : 0.12\n",
      "frr_at_eer      : 0.17142857142857143\n",
      "far at zero frr : 0.35904761904761906\n",
      "frr at 'zero' frr : 0.0\n",
      "################   10   ####################\n",
      "(array([0, 1]), array([2245,   10]))\n",
      "RF\n"
     ]
    },
    {
     "data": {
      "image/png": "[encoded data removed]",
      "text/plain": [
       "<Figure size 432x288 with 1 Axes>"
      ]
     },
     "metadata": {
      "needs_background": "light"
     },
     "output_type": "display_data"
    },
    {
     "name": "stdout",
     "output_type": "stream",
     "text": [
      "F1 score        : 0.967649857278782\n",
      "AUROC           : 0.723444097402973\n",
      "EER             : 0.3048180924287119\n",
      "frr_at_eer      : 0.3382352941176471\n",
      "far at zero frr : 1.0\n",
      "frr at 'zero' frr : 0.0\n",
      "################   11   ####################\n",
      "(array([0, 1]), array([2211,   10]))\n",
      "RF\n"
     ]
    },
    {
     "data": {
      "image/png": "[encoded data removed]",
      "text/plain": [
       "<Figure size 432x288 with 1 Axes>"
      ]
     },
     "metadata": {
      "needs_background": "light"
     },
     "output_type": "display_data"
    },
    {
     "name": "stdout",
     "output_type": "stream",
     "text": [
      "F1 score        : 0.9592326139088729\n",
      "AUROC           : 0.9203941176470589\n",
      "EER             : 0.141\n",
      "frr_at_eer      : 0.15294117647058825\n",
      "far at zero frr : 1.0\n",
      "frr at 'zero' frr : 0.0\n",
      "################   12   ####################\n",
      "(array([0, 1]), array([2239,   10]))\n",
      "RF\n"
     ]
    },
    {
     "data": {
      "image/png": "[encoded data removed]",
      "text/plain": [
       "<Figure size 432x288 with 1 Axes>"
      ]
     },
     "metadata": {
      "needs_background": "light"
     },
     "output_type": "display_data"
    },
    {
     "name": "stdout",
     "output_type": "stream",
     "text": [
      "F1 score        : 0.9651883643299952\n",
      "AUROC           : 0.9230399588499647\n",
      "EER             : 0.14624505928853754\n",
      "frr_at_eer      : 0.1506849315068493\n",
      "far at zero frr : 1.0\n",
      "frr at 'zero' frr : 0.0\n",
      "################   13   ####################\n",
      "(array([0, 1]), array([2236,   10]))\n",
      "RF\n"
     ]
    },
    {
     "data": {
      "image/png": "[encoded data removed]",
      "text/plain": [
       "<Figure size 432x288 with 1 Axes>"
      ]
     },
     "metadata": {
      "needs_background": "light"
     },
     "output_type": "display_data"
    },
    {
     "name": "stdout",
     "output_type": "stream",
     "text": [
      "F1 score        : 0.4954883627406625\n",
      "AUROC           : 0.990039603960396\n",
      "EER             : 0.048514851485148516\n",
      "frr_at_eer      : 0.05333333333333334\n",
      "far at zero frr : 0.12376237623762376\n",
      "frr at 'zero' frr : 0.0\n",
      "################   14   ####################\n",
      "(array([0, 1]), array([2230,   10]))\n",
      "RF\n"
     ]
    },
    {
     "data": {
      "image/png": "[encoded data removed]",
      "text/plain": [
       "<Figure size 432x288 with 1 Axes>"
      ]
     },
     "metadata": {
      "needs_background": "light"
     },
     "output_type": "display_data"
    },
    {
     "name": "stdout",
     "output_type": "stream",
     "text": [
      "F1 score        : 0.9617224880382775\n",
      "AUROC           : 0.9263121890547265\n",
      "EER             : 0.15223880597014924\n",
      "frr_at_eer      : 0.1625\n",
      "far at zero frr : 1.0\n",
      "frr at 'zero' frr : 0.0\n",
      "################   15   ####################\n",
      "(array([0, 1]), array([2230,   10]))\n",
      "RF\n"
     ]
    },
    {
     "data": {
      "image/png": "[encoded data removed]",
      "text/plain": [
       "<Figure size 432x288 with 1 Axes>"
      ]
     },
     "metadata": {
      "needs_background": "light"
     },
     "output_type": "display_data"
    },
    {
     "name": "stdout",
     "output_type": "stream",
     "text": [
      "F1 score        : 0.962715105162524\n",
      "AUROC           : 0.76587604715708\n",
      "EER             : 0.3098311817279047\n",
      "frr_at_eer      : 0.32051282051282054\n",
      "far at zero frr : 1.0\n",
      "frr at 'zero' frr : 0.0\n",
      "################   0   ####################\n",
      "(array([0, 1]), array([2254,   10]))\n",
      "RF\n"
     ]
    },
    {
     "data": {
      "image/png": "[encoded data removed]",
      "text/plain": [
       "<Figure size 432x288 with 1 Axes>"
      ]
     },
     "metadata": {
      "needs_background": "light"
     },
     "output_type": "display_data"
    },
    {
     "name": "stdout",
     "output_type": "stream",
     "text": [
      "F1 score        : 0.9696106362773029\n",
      "AUROC           : 0.8972744245837414\n",
      "EER             : 0.12830558276199805\n",
      "frr_at_eer      : 0.15625\n",
      "far at zero frr : 1.0\n",
      "frr at 'zero' frr : 0.0\n",
      "################   1   ####################\n",
      "(array([0, 1]), array([2262,   10]))\n",
      "RF\n"
     ]
    },
    {
     "data": {
      "image/png": "[encoded data removed]",
      "text/plain": [
       "<Figure size 432x288 with 1 Axes>"
      ]
     },
     "metadata": {
      "needs_background": "light"
     },
     "output_type": "display_data"
    },
    {
     "name": "stdout",
     "output_type": "stream",
     "text": [
      "F1 score        : 0.9715639810426541\n",
      "AUROC           : 0.9158780487804878\n",
      "EER             : 0.144390243902439\n",
      "frr_at_eer      : 0.18333333333333332\n",
      "far at zero frr : 1.0\n",
      "frr at 'zero' frr : 0.0\n",
      "################   2   ####################\n",
      "(array([0, 1]), array([2248,   10]))\n",
      "RF\n"
     ]
    },
    {
     "data": {
      "image/png": "[encoded data removed]",
      "text/plain": [
       "<Figure size 432x288 with 1 Axes>"
      ]
     },
     "metadata": {
      "needs_background": "light"
     },
     "output_type": "display_data"
    },
    {
     "name": "stdout",
     "output_type": "stream",
     "text": [
      "F1 score        : 0.9671584959543075\n",
      "AUROC           : 0.6825002852904256\n",
      "EER             : 0.34744094488188976\n",
      "frr_at_eer      : 0.34782608695652173\n",
      "far at zero frr : 1.0\n",
      "frr at 'zero' frr : 0.0\n",
      "################   3   ####################\n",
      "(array([0, 1]), array([2279,   10]))\n",
      "RF\n"
     ]
    },
    {
     "data": {
      "image/png": "[encoded data removed]",
      "text/plain": [
       "<Figure size 432x288 with 1 Axes>"
      ]
     },
     "metadata": {
      "needs_background": "light"
     },
     "output_type": "display_data"
    },
    {
     "name": "stdout",
     "output_type": "stream",
     "text": [
      "F1 score        : 0.9744801512287335\n",
      "AUROC           : 0.9042730897726048\n",
      "EER             : 0.16197866149369544\n",
      "frr_at_eer      : 0.18518518518518517\n",
      "far at zero frr : 1.0\n",
      "frr at 'zero' frr : 0.0\n",
      "################   4   ####################\n",
      "(array([0, 1]), array([2180,   10]))\n",
      "RF\n"
     ]
    },
    {
     "data": {
      "image/png": "[encoded data removed]",
      "text/plain": [
       "<Figure size 432x288 with 1 Axes>"
      ]
     },
     "metadata": {
      "needs_background": "light"
     },
     "output_type": "display_data"
    },
    {
     "name": "stdout",
     "output_type": "stream",
     "text": [
      "F1 score        : 0.9496611810261375\n",
      "AUROC           : 0.9496883086332628\n",
      "EER             : 0.11518858307849134\n",
      "frr_at_eer      : 0.11538461538461539\n",
      "far at zero frr : 1.0\n",
      "frr at 'zero' frr : 0.0\n",
      "################   5   ####################\n",
      "(array([0, 1]), array([2248,   10]))\n",
      "RF\n"
     ]
    },
    {
     "data": {
      "image/png": "[encoded data removed]",
      "text/plain": [
       "<Figure size 432x288 with 1 Axes>"
      ]
     },
     "metadata": {
      "needs_background": "light"
     },
     "output_type": "display_data"
    },
    {
     "name": "stdout",
     "output_type": "stream",
     "text": [
      "F1 score        : 0.9666666666666666\n",
      "AUROC           : 0.8544968332160451\n",
      "EER             : 0.1477832512315271\n",
      "frr_at_eer      : 0.2\n",
      "far at zero frr : 1.0\n",
      "frr at 'zero' frr : 0.0\n",
      "################   6   ####################\n",
      "(array([0, 1]), array([2253,   10]))\n",
      "RF\n"
     ]
    },
    {
     "data": {
      "image/png": "[encoded data removed]",
      "text/plain": [
       "<Figure size 432x288 with 1 Axes>"
      ]
     },
     "metadata": {
      "needs_background": "light"
     },
     "output_type": "display_data"
    },
    {
     "name": "stdout",
     "output_type": "stream",
     "text": [
      "F1 score        : 0.9700996677740864\n",
      "AUROC           : 0.9214270182959029\n",
      "EER             : 0.13405088062622308\n",
      "frr_at_eer      : 0.15873015873015872\n",
      "far at zero frr : 1.0\n",
      "frr at 'zero' frr : 0.0\n",
      "################   7   ####################\n",
      "(array([0, 1]), array([2245,   10]))\n",
      "RF\n"
     ]
    },
    {
     "data": {
      "image/png": "[encoded data removed]",
      "text/plain": [
       "<Figure size 432x288 with 1 Axes>"
      ]
     },
     "metadata": {
      "needs_background": "light"
     },
     "output_type": "display_data"
    },
    {
     "name": "stdout",
     "output_type": "stream",
     "text": [
      "F1 score        : 0.5115718673869293\n",
      "AUROC           : 0.8628219563687544\n",
      "EER             : 0.15862068965517243\n",
      "frr_at_eer      : 0.2714285714285714\n",
      "far at zero frr : 1.0\n",
      "frr at 'zero' frr : 0.0\n",
      "################   8   ####################\n",
      "(array([0, 1]), array([2311,   10]))\n",
      "RF\n"
     ]
    },
    {
     "data": {
      "image/png": "[encoded data removed]",
      "text/plain": [
       "<Figure size 432x288 with 1 Axes>"
      ]
     },
     "metadata": {
      "needs_background": "light"
     },
     "output_type": "display_data"
    },
    {
     "name": "stdout",
     "output_type": "stream",
     "text": [
      "F1 score        : 0.9826535396155649\n",
      "AUROC           : 0.9048122550030948\n",
      "EER             : 0.1364503816793893\n",
      "frr_at_eer      : 0.16216216216216217\n",
      "far at zero frr : 1.0\n",
      "frr at 'zero' frr : 0.0\n",
      "################   9   ####################\n",
      "(array([0, 1]), array([2314,   10]))\n",
      "RF\n"
     ]
    },
    {
     "data": {
      "image/png": "[encoded data removed]",
      "text/plain": [
       "<Figure size 432x288 with 1 Axes>"
      ]
     },
     "metadata": {
      "needs_background": "light"
     },
     "output_type": "display_data"
    },
    {
     "name": "stdout",
     "output_type": "stream",
     "text": [
      "F1 score        : 0.9836065573770492\n",
      "AUROC           : 0.9349115646258502\n",
      "EER             : 0.14\n",
      "frr_at_eer      : 0.14285714285714285\n",
      "far at zero frr : 0.21428571428571427\n",
      "frr at 'zero' frr : 0.0\n",
      "################   10   ####################\n",
      "(array([0, 1]), array([2245,   10]))\n",
      "RF\n"
     ]
    },
    {
     "data": {
      "image/png": "[encoded data removed]",
      "text/plain": [
       "<Figure size 432x288 with 1 Axes>"
      ]
     },
     "metadata": {
      "needs_background": "light"
     },
     "output_type": "display_data"
    },
    {
     "name": "stdout",
     "output_type": "stream",
     "text": [
      "F1 score        : 0.967649857278782\n",
      "AUROC           : 0.854314882295101\n",
      "EER             : 0.1887905604719764\n",
      "frr_at_eer      : 0.22058823529411764\n",
      "far at zero frr : 1.0\n",
      "frr at 'zero' frr : 0.0\n",
      "################   11   ####################\n",
      "(array([0, 1]), array([2211,   10]))\n",
      "RF\n"
     ]
    },
    {
     "data": {
      "image/png": "[encoded data removed]",
      "text/plain": [
       "<Figure size 432x288 with 1 Axes>"
      ]
     },
     "metadata": {
      "needs_background": "light"
     },
     "output_type": "display_data"
    },
    {
     "name": "stdout",
     "output_type": "stream",
     "text": [
      "F1 score        : 0.9592326139088729\n",
      "AUROC           : 0.9285588235294118\n",
      "EER             : 0.115\n",
      "frr_at_eer      : 0.16470588235294117\n",
      "far at zero frr : 1.0\n",
      "frr at 'zero' frr : 0.0\n",
      "################   12   ####################\n",
      "(array([0, 1]), array([2239,   10]))\n",
      "RF\n"
     ]
    },
    {
     "data": {
      "image/png": "[encoded data removed]",
      "text/plain": [
       "<Figure size 432x288 with 1 Axes>"
      ]
     },
     "metadata": {
      "needs_background": "light"
     },
     "output_type": "display_data"
    },
    {
     "name": "stdout",
     "output_type": "stream",
     "text": [
      "F1 score        : 0.9651883643299952\n",
      "AUROC           : 0.9512629270669771\n",
      "EER             : 0.0958498023715415\n",
      "frr_at_eer      : 0.1095890410958904\n",
      "far at zero frr : 1.0\n",
      "frr at 'zero' frr : 0.0\n",
      "################   13   ####################\n",
      "(array([0, 1]), array([2236,   10]))\n",
      "RF\n"
     ]
    },
    {
     "data": {
      "image/png": "[encoded data removed]",
      "text/plain": [
       "<Figure size 432x288 with 1 Axes>"
      ]
     },
     "metadata": {
      "needs_background": "light"
     },
     "output_type": "display_data"
    },
    {
     "name": "stdout",
     "output_type": "stream",
     "text": [
      "F1 score        : 0.964200477326969\n",
      "AUROC           : 0.946052805280528\n",
      "EER             : 0.10198019801980197\n",
      "frr_at_eer      : 0.13333333333333333\n",
      "far at zero frr : 1.0\n",
      "frr at 'zero' frr : 0.0\n",
      "################   14   ####################\n",
      "(array([0, 1]), array([2230,   10]))\n",
      "RF\n"
     ]
    },
    {
     "data": {
      "image/png": "[encoded data removed]",
      "text/plain": [
       "<Figure size 432x288 with 1 Axes>"
      ]
     },
     "metadata": {
      "needs_background": "light"
     },
     "output_type": "display_data"
    },
    {
     "name": "stdout",
     "output_type": "stream",
     "text": [
      "F1 score        : 0.9617224880382775\n",
      "AUROC           : 0.9607276119402984\n",
      "EER             : 0.09751243781094528\n",
      "frr_at_eer      : 0.1125\n",
      "far at zero frr : 0.281592039800995\n",
      "frr at 'zero' frr : 0.0\n",
      "################   15   ####################\n",
      "(array([0, 1]), array([2230,   10]))\n",
      "RF\n"
     ]
    },
    {
     "data": {
      "image/png": "[encoded data removed]",
      "text/plain": [
       "<Figure size 432x288 with 1 Axes>"
      ]
     },
     "metadata": {
      "needs_background": "light"
     },
     "output_type": "display_data"
    },
    {
     "name": "stdout",
     "output_type": "stream",
     "text": [
      "F1 score        : 0.962715105162524\n",
      "AUROC           : 0.8842334428233137\n",
      "EER             : 0.21052631578947367\n",
      "frr_at_eer      : 0.21794871794871795\n",
      "far at zero frr : 0.5908639523336644\n",
      "frr at 'zero' frr : 0.0\n"
     ]
    }
   ],
   "source": [
    "limit_data=True\n",
    "limit_data_string = \"_limit_10\" if limit_data else \"\"   # limit_bal_longer = 40* weighting, split into 4, limit_10 = 10%\n",
    "limit_terminals = False\n",
    "save = True\n",
    "if limit_terminals:\n",
    "    limit_data_string += \"_terminals\"\n",
    "if limit_data:\n",
    "    weight_boost = 40   # 40 for limit 10, 40 for limit 20\n",
    "else:\n",
    "    weight_boost = 4\n",
    "RF_CLASSIFIERS = 1000\n",
    "\n",
    "class_weights = {0:1, 1:15 * weight_boost}\n",
    "\n",
    "for repetition in range(5):\n",
    "    for auth_user in range(16):\n",
    "        print(f\"################   {auth_user}   ####################\")\n",
    "\n",
    "        if limit_terminals:\n",
    "            _map = (train_gesture_map == 1) & ((y_gesture.argmax(axis=1) == 3) )\n",
    "            _test_map = (test_gesture_map == 1) & (y_gesture.argmax(axis=1) != 3)\n",
    "        else:\n",
    "            _map = (train_gesture_map == 1)\n",
    "            _test_map = (test_gesture_map == 1)           \n",
    "\n",
    "        data_train = x_data[_map]\n",
    "        feature_data_train = feature_x_data[_map]\n",
    "        data_test = x_data[_test_map]\n",
    "        feature_data_test = feature_x_data[_test_map]\n",
    "        labels_train = (y_user.argmax(axis=1) == auth_user)[_map].astype(int)\n",
    "        labels_test = (y_user.argmax(axis=1) == auth_user)[_test_map].astype(int)\n",
    "\n",
    "        ## Train and run RF model  ##\n",
    "        \n",
    "            \n",
    "        \n",
    "        standard_scaler = StandardScaler()\n",
    "        \n",
    "        if limit_data:\n",
    "            np.random.seed(repetition)\n",
    "            positive_data_indices = np.random.choice(np.nonzero(labels_train)[0], size=10, replace=False)\n",
    "            val_map_all = np.zeros(len(labels_train))\n",
    "            val_map_all[positive_data_indices] = 1\n",
    "            \n",
    "            limit_map = (val_map_all==1) | (labels_train == 0)\n",
    "            \n",
    "            shuffled_data_train, shuffled_labels_train = shuffle(feature_data_train[limit_map], labels_train[limit_map], random_state=repetition)\n",
    "        else:\n",
    "            shuffled_data_train, shuffled_labels_train = shuffle(feature_data_train, labels_train, random_state=repetition)\n",
    "        \n",
    "        print(np.unique(shuffled_labels_train, return_counts=True))\n",
    "        \n",
    "        shuffled_data_train = standard_scaler.fit_transform(shuffled_data_train)\n",
    "\n",
    "        wa_model = RandomForestClassifier(n_estimators = RF_CLASSIFIERS, random_state = repetition, class_weight={0:1,1:1}).fit(shuffled_data_train, shuffled_labels_train)\n",
    "\n",
    "        labels_pred = wa_model.predict(standard_scaler.transform(feature_data_test))\n",
    "        labels_scores = wa_model.predict_proba(standard_scaler.transform(feature_data_test))[:, 1]\n",
    "\n",
    "        if save: # \n",
    "            save_stats_dict(labels_pred, labels_scores, labels_test, f\"RF{RF_CLASSIFIERS}_user={auth_user}_rep={repetition}{limit_data_string}\")\n",
    "\n",
    "        print(\"RF\")\n",
    "        show_evaluate_model(labels_test, labels_pred, labels_scores, verbose=1)\n",
    "        \n",
    "        \n",
    "####################################\n",
    "        \n",
    "        ## Train and run DL models  ## \n",
    "        \"\"\"\n",
    "        if limit_data:\n",
    "            np.random.seed(repetition)\n",
    "            positive_data_indices = np.random.choice(np.nonzero(labels_train)[0], size=10, replace=False)\n",
    "            val_map_all = np.zeros(len(labels_train))\n",
    "            val_map_all[positive_data_indices] = 1\n",
    "            \n",
    "            limit_map = (val_map_all==1) | (labels_train == 0)\n",
    "            \n",
    "            shuffled_data_train, shuffled_labels_train = shuffle(data_train[limit_map], labels_train[limit_map], random_state=repetition)\n",
    "        else:\n",
    "            shuffled_data_train, shuffled_labels_train = shuffle(data_train, labels_train, random_state=repetition)\n",
    "        \n",
    "        \n",
    "        \n",
    "        scaler = CustomScaler()\n",
    "        scaler.CHANNELS = 6\n",
    "        shuffled_data_train = scaler.fit_and_transform(shuffled_data_train)\n",
    "                       #)\n",
    "        kFold = sklearn.model_selection.StratifiedKFold(n_splits=5)\n",
    "        val_map = next(kFold.split(shuffled_data_train, shuffled_labels_train))[1]\n",
    "\n",
    "        val_map_all = np.zeros(len(shuffled_labels_train))\n",
    "        val_map_all[val_map] = 1\n",
    "\n",
    "        val_map = val_map_all == 1\n",
    "        \n",
    "        print(np.unique(shuffled_labels_train[~val_map], return_counts=True))\n",
    "\n",
    "        early_stopping_callback = tf.keras.callbacks.EarlyStopping(monitor='val_loss', start_from_epoch=300,\n",
    "                                                                   patience=150, restore_best_weights=True)\n",
    "\n",
    "        for model_name in [\"MLP\", \"GRU\", \"Conv\", \"simpleMix\", \"complexMix\"]:\n",
    "            \n",
    "            if model_name == \"MLP\":\n",
    "                model = get_mlp_model()\n",
    "            elif model_name == \"GRU\":\n",
    "                model = get_gru_model()\n",
    "            elif model_name == \"Conv\":\n",
    "                model = get_conv_model()\n",
    "            elif model_name == \"simpleMix\":\n",
    "                model = get_simple_mix_model()\n",
    "            elif model_name == \"complexMix\":\n",
    "                model = get_complex_mix_model()\n",
    "            else:\n",
    "                assert False, \"Not a valid model string\"\n",
    "\n",
    "            model.compile(loss=\"binary_crossentropy\", optimizer=tf.keras.optimizers.Adam(learning_rate=1e-4))\n",
    "\n",
    "            history = model.fit(shuffled_data_train[~val_map], shuffled_labels_train[~val_map], epochs=1500,\n",
    "                        batch_size=1024, verbose=0,\n",
    "                        validation_data=(shuffled_data_train[val_map], shuffled_labels_train[val_map]),\n",
    "                       class_weight=class_weights, \n",
    "                   callbacks=[early_stopping_callback])\n",
    "\n",
    "            \n",
    "            plt.plot(history.history['loss'])\n",
    "            plt.plot(history.history['val_loss'])\n",
    "            plt.title('model loss')\n",
    "            plt.ylabel('loss')\n",
    "            plt.xlabel('epoch')\n",
    "            plt.legend(['train', 'val'], loc='upper left')\n",
    "            plt.show()\n",
    "\n",
    "            plt.clf()\n",
    "            \n",
    "\n",
    "            with suppress_stdout():\n",
    "\n",
    "                with open(f'data/models/DL/{model_name}_user={auth_user}_rep={repetition}{limit_data_string}.pickle', 'wb') as f:\n",
    "                    pickle.dump(model, f)\n",
    "\n",
    "                with open(f'data/stats/auth/{model_name}_user={auth_user}_history_rep={repetition}{limit_data_string}.pickle', 'wb') as f:\n",
    "                    pickle.dump(history.history, f)\n",
    "\n",
    "\n",
    "            labels_scores = model.predict(scaler.transform(data_test)).squeeze()\n",
    "            labels_pred = (labels_scores >= 0.5).astype(int)\n",
    "\n",
    "            if save:\n",
    "                save_stats_dict(labels_pred, labels_scores, labels_test, f\"{model_name}_user={auth_user}_rep={repetition}{limit_data_string}\")\n",
    "            print(model_name)\n",
    "            show_evaluate_model(labels_test, labels_pred, labels_scores, verbose=1)\n",
    "        \"\"\""
   ]
  },
  {
   "cell_type": "code",
   "execution_count": 58,
   "id": "39aad3e3-6103-4c57-8d77-b4ce366b71a0",
   "metadata": {
    "execution": {
     "iopub.execute_input": "2023-04-13T11:40:58.572960Z",
     "iopub.status.busy": "2023-04-13T11:40:58.572326Z",
     "iopub.status.idle": "2023-04-13T11:40:58.576812Z",
     "shell.execute_reply": "2023-04-13T11:40:58.576165Z",
     "shell.execute_reply.started": "2023-04-13T11:40:58.572934Z"
    }
   },
   "outputs": [
    {
     "name": "stdout",
     "output_type": "stream",
     "text": [
      "Done\n"
     ]
    }
   ],
   "source": [
    "print(\"Done\")"
   ]
  },
  {
   "cell_type": "markdown",
   "id": "104a9bf3-d78d-48d8-bcdd-7cbe3b4cc981",
   "metadata": {},
   "source": [
    "# Accessing saved results"
   ]
  },
  {
   "cell_type": "code",
   "execution_count": 30,
   "id": "ce9fdc84-45c7-4bed-968d-7834922a1aeb",
   "metadata": {
    "execution": {
     "iopub.execute_input": "2023-04-13T11:01:34.643878Z",
     "iopub.status.busy": "2023-04-13T11:01:34.643065Z",
     "iopub.status.idle": "2023-04-13T11:01:34.658984Z",
     "shell.execute_reply": "2023-04-13T11:01:34.658106Z",
     "shell.execute_reply.started": "2023-04-13T11:01:34.643847Z"
    }
   },
   "outputs": [
    {
     "data": {
      "text/plain": [
       "{'fmeasure': 0.5919940937207834,\n",
       " 'auroc': 0.8198961542850621,\n",
       " 'eer_theta': 0.0036525303,\n",
       " 'eer': 0.2440944881889764,\n",
       " 'frr_at_eer': 0.2463768115942029,\n",
       " 'far_theta': 1.969508e-06,\n",
       " 'far': 0.9124015748031497,\n",
       " 'frr_at_zero_frr': 0.0,\n",
       " 'accuracy': 0.8995391705069125}"
      ]
     },
     "execution_count": 30,
     "metadata": {},
     "output_type": "execute_result"
    }
   ],
   "source": [
    "handle = \"complexConv_user=2_rep=5\"\n",
    "with open(f'data/stats/auth/{handle}.pickle', 'rb') as f:\n",
    "    labels_dict = pickle.load(f)\n",
    "    stats_dict = show_evaluate_model(labels_dict[\"labels_test\"],\n",
    "                                     labels_dict[\"labels_pred\"],\n",
    "                                     labels_dict[\"labels_scores\"], verbose=0)\n",
    "stats_dict"
   ]
  },
  {
   "cell_type": "code",
   "execution_count": 31,
   "id": "72e02d0d-de00-4977-a753-9f122de3bdf5",
   "metadata": {
    "execution": {
     "iopub.execute_input": "2023-04-13T11:01:35.818061Z",
     "iopub.status.busy": "2023-04-13T11:01:35.817243Z",
     "iopub.status.idle": "2023-04-13T11:01:36.113392Z",
     "shell.execute_reply": "2023-04-13T11:01:36.112508Z",
     "shell.execute_reply.started": "2023-04-13T11:01:35.818024Z"
    }
   },
   "outputs": [
    {
     "name": "stdout",
     "output_type": "stream",
     "text": [
      "0\n",
      "(0.053405050188302994, 0.4671890303623898)\n",
      "(0.0989183634519577, 0.41625857002938293)\n",
      "1\n",
      "(0.08413390070199966, 0.22048780487804878)\n",
      "(0.14468508958816528, 0.46439024390243905)\n",
      "2\n",
      "(0.1736104041337967, 0.9320866141732284)\n",
      "(0.22912326455116272, 0.9291338582677166)\n",
      "3\n",
      "(0.09050904214382172, 0.39864209505334625)\n",
      "(0.17857201397418976, 0.4713870029097963)\n",
      "4\n",
      "(0.06574883311986923, 0.6758409785932722)\n",
      "(0.151594340801239, 0.20489296636085627)\n",
      "5\n",
      "(0.014080768451094627, 0.6344827586206897)\n",
      "(0.07459704577922821, 0.33497536945812806)\n",
      "6\n",
      "(0.03193271905183792, 0.29354207436399216)\n",
      "(0.11923642456531525, 0.9197651663405088)\n",
      "7\n",
      "(0.018032532185316086, 0.10837438423645321)\n",
      "(0.05254821479320526, 0.042364532019704436)\n",
      "8\n",
      "(0.03979788348078728, 0.6307251908396947)\n",
      "(0.08168257772922516, 0.11354961832061068)\n",
      "9\n",
      "(0.08142661303281784, 0.045714285714285714)\n",
      "(0.1777920424938202, 0.7714285714285715)\n",
      "10\n",
      "(0.13692983984947205, 0.4464110127826942)\n",
      "(0.23591111600399017, 0.9990167158308751)\n",
      "11\n",
      "(0.12419722974300385, 0.501)\n",
      "(0.2793215811252594, 0.182)\n",
      "12\n",
      "(0.014643806964159012, 0.03260869565217391)\n",
      "(0.059195492416620255, 0.023715415019762844)\n",
      "13\n",
      "(0.017811143770813942, 0.016831683168316833)\n",
      "(0.05137181654572487, 0.11386138613861387)\n",
      "14\n",
      "(0.05067932605743408, 0.10845771144278607)\n",
      "(0.11228208243846893, 0.26965174129353237)\n",
      "15\n",
      "(0.09728775173425674, 0.2601787487586892)\n",
      "(0.1544198840856552, 0.3257199602780536)\n",
      "0.36078581679000377\n"
     ]
    }
   ],
   "source": [
    "mins = []\n",
    "for user in range(16):\n",
    "    print(user)\n",
    "    pairs = []\n",
    "    for rep in range(5):\n",
    "        handle1 = f\"complexMix_user={user}_history_rep={rep}\"\n",
    "        handle2 = f\"complexMix_user={user}_rep={rep}\"\n",
    "        with open(f'data/stats/auth/{handle1}.pickle', 'rb') as f:\n",
    "\n",
    "            with suppress_stdout():\n",
    "                history = pickle.load(f)\n",
    "\n",
    "\n",
    "        with open(f'data/stats/auth/{handle2}.pickle', 'rb') as f:\n",
    "            labels_dict = pickle.load(f)\n",
    "            stats_dict = show_evaluate_model(labels_dict[\"labels_test\"],\n",
    "                                             labels_dict[\"labels_pred\"],\n",
    "                                             labels_dict[\"labels_scores\"], verbose=0)\n",
    "        #print(min(history.history[\"val_loss\"]), stats_dict[\"eer\"])\n",
    "        pairs.append((min(history[\"val_loss\"]), stats_dict[\"far\"]))\n",
    "    print(min(pairs))\n",
    "    print(max(pairs))\n",
    "    mins.append(min(pairs)[1])\n",
    "print(np.mean(np.array(mins)))"
   ]
  },
  {
   "cell_type": "code",
   "execution_count": 32,
   "id": "72c273c3-18c5-4e78-b655-4ec5f08844c3",
   "metadata": {
    "execution": {
     "iopub.execute_input": "2023-04-13T11:01:36.453026Z",
     "iopub.status.busy": "2023-04-13T11:01:36.452537Z",
     "iopub.status.idle": "2023-04-13T11:01:36.458626Z",
     "shell.execute_reply": "2023-04-13T11:01:36.457747Z",
     "shell.execute_reply.started": "2023-04-13T11:01:36.452985Z"
    }
   },
   "outputs": [
    {
     "name": "stdout",
     "output_type": "stream",
     "text": [
      "0.36078581679000377\n"
     ]
    }
   ],
   "source": [
    "print(np.mean(np.array(mins)))"
   ]
  },
  {
   "cell_type": "code",
   "execution_count": 61,
   "id": "7784b949-b011-4110-bc0f-90e31e9c7018",
   "metadata": {
    "execution": {
     "iopub.execute_input": "2023-04-13T12:15:30.097684Z",
     "iopub.status.busy": "2023-04-13T12:15:30.097197Z",
     "iopub.status.idle": "2023-04-13T12:15:32.315084Z",
     "shell.execute_reply": "2023-04-13T12:15:32.314136Z",
     "shell.execute_reply.started": "2023-04-13T12:15:30.097639Z"
    }
   },
   "outputs": [],
   "source": [
    "from prettytable import PrettyTable\n",
    "\n",
    "model_names = [\"RF100_weighted\",\"RF1000\", \"MLP\", \"GRU\", \"Conv\", \"simpleMix\", \"complexMix\"]\n",
    "\n",
    "all_stats_user = {}\n",
    "for model_name in model_names:\n",
    "    \n",
    "    \n",
    "    for user in range(16):\n",
    "        stats = {key:[] for key in stats_dict}\n",
    "        all_stats_user[model_name + f\"_{user}\"] = stats\n",
    "        for repetition in range(5):\n",
    "            \n",
    "                \n",
    "            handle = f\"{model_name}_user={user}_rep={repetition}\"\n",
    "            with open(f'data/stats/auth/{handle}.pickle', 'rb') as f:\n",
    "                labels_dict = pickle.load(f)\n",
    "                stats_dict = show_evaluate_model(labels_dict[\"labels_test\"],\n",
    "                                                 labels_dict[\"labels_pred\"],\n",
    "                                                 labels_dict[\"labels_scores\"], verbose=0)\n",
    "                for key in stats_dict:\n",
    "                    stats[key].append(stats_dict[key])"
   ]
  },
  {
   "cell_type": "code",
   "execution_count": 62,
   "id": "6dff7059-1af8-45d1-a328-78d108b4c08d",
   "metadata": {
    "execution": {
     "iopub.execute_input": "2023-04-13T12:15:32.316765Z",
     "iopub.status.busy": "2023-04-13T12:15:32.316526Z",
     "iopub.status.idle": "2023-04-13T12:15:32.328559Z",
     "shell.execute_reply": "2023-04-13T12:15:32.327760Z",
     "shell.execute_reply.started": "2023-04-13T12:15:32.316743Z"
    }
   },
   "outputs": [
    {
     "name": "stdout",
     "output_type": "stream",
     "text": [
      "['user', 'fmeasure', 'auroc', 'eer_theta', 'eer', 'frr_at_eer', 'far_theta', 'far', 'accuracy']\n",
      "+------+----------+--------+-----------+--------+------------+-----------+--------+----------+\n",
      "| user | fmeasure | auroc  | eer_theta |  eer   | frr_at_eer | far_theta |  far   | accuracy |\n",
      "+------+----------+--------+-----------+--------+------------+-----------+--------+----------+\n",
      "|  0   |  0.775   | 0.967  |   0.125   | 0.085  |    0.1     |   0.013   | 0.388  |  0.959   |\n",
      "|  1   |  0.664   | 0.964  |   0.149   | 0.084  |   0.107    |   0.036   | 0.374  |  0.956   |\n",
      "|  2   |  0.512   | 0.811  |   0.061   | 0.276  |   0.287    |   0.005   | 0.796  |  0.938   |\n",
      "|  3   |  0.588   | 0.953  |   0.12    | 0.089  |   0.104    |   0.002   | 0.729  |  0.956   |\n",
      "|  4   |  0.705   | 0.943  |   0.117   | 0.133  |   0.138    |   0.023   | 0.481  |  0.931   |\n",
      "|  5   |  0.688   | 0.991  |   0.173   | 0.039  |   0.043    |   0.127   | 0.061  |  0.952   |\n",
      "|  6   |  0.862   | 0.978  |   0.209   | 0.052  |   0.067    |   0.001   | 0.761  |  0.975   |\n",
      "|  7   |  0.752   | 0.965  |   0.082   | 0.102  |   0.117    |   0.039   | 0.211  |  0.959   |\n",
      "|  8   |  0.537   | 0.944  |   0.083   | 0.112  |   0.141    |   0.021   | 0.338  |  0.964   |\n",
      "|  9   |  0.615   | 0.967  |   0.127   | 0.076  |   0.091    |   0.034   | 0.193  |  0.971   |\n",
      "|  10  |  0.558   | 0.921  |   0.118   | 0.146  |   0.168    |   0.024   | 0.563  |  0.942   |\n",
      "|  11  |  0.868   | 0.989  |   0.239   | 0.027  |   0.047    |   0.062   | 0.27   |  0.968   |\n",
      "|  12  |  0.768   | 0.982  |   0.118   | 0.06   |   0.077    |   0.059   | 0.167  |  0.959   |\n",
      "|  13  |  0.872   | 0.997  |   0.208   | 0.018  |   0.032    |   0.117   | 0.093  |  0.973   |\n",
      "|  14  |  0.498   | 0.977  |   0.14    | 0.063  |   0.077    |   0.08    | 0.142  |  0.928   |\n",
      "|  15  |  0.653   | 0.947  |   0.117   | 0.125  |   0.144    |   0.047   | 0.41   |  0.943   |\n",
      "+------+----------+--------+-----------+--------+------------+-----------+--------+----------+\n"
     ]
    }
   ],
   "source": [
    "x = PrettyTable()\n",
    "\n",
    "model_name = \"RF1000\"\n",
    "\n",
    "x.field_names =  ['user', 'fmeasure', 'auroc', 'eer_theta', 'eer', 'frr_at_eer', 'far_theta', 'far',  'accuracy'] # 'frr_at_zero_frr',\n",
    "print(x.field_names)\n",
    "for user in range(16):\n",
    "    row = [user]\n",
    "    for key in all_stats_user[f\"{model_name}_{user}\"]:\n",
    "        if key not in [\"frr_at_zero_frr\"]:\n",
    "            array = np.array(all_stats_user[f\"{model_name}_{user}\"][key])\n",
    "            mean = round(float(np.mean(array)), 3)\n",
    "            std = round(float(np.std(array)),3)\n",
    "            row.append(f\"{mean} \") # {std}\n",
    "    \n",
    "    x.add_row(row)\n",
    "\n",
    "print(x)"
   ]
  },
  {
   "cell_type": "markdown",
   "id": "97c9b5a2-ccb6-4a5f-832c-30a36ede2390",
   "metadata": {},
   "source": [
    "### Comparison of different models"
   ]
  },
  {
   "cell_type": "code",
   "execution_count": 76,
   "id": "d6963d66-0b7e-4be4-94a0-c21f9066cce2",
   "metadata": {
    "execution": {
     "iopub.execute_input": "2023-04-13T12:22:06.327165Z",
     "iopub.status.busy": "2023-04-13T12:22:06.326270Z",
     "iopub.status.idle": "2023-04-13T12:22:08.422966Z",
     "shell.execute_reply": "2023-04-13T12:22:08.422242Z",
     "shell.execute_reply.started": "2023-04-13T12:22:06.327130Z"
    }
   },
   "outputs": [
    {
     "data": {
      "text/plain": [
       "'\\nmodel_names = [\"RF\", \"MLP\", \"LSTM\", \"simpleConv\", \"complexConv\", \"ConvLSTM\"]\\n\\nall_stats = {}\\nfor model_name in model_names:\\n    stats = {key:[] for key in stats_dict}\\n    all_stats[model_name] = stats\\n    for user in range(16):\\n        for repetition in range(6):\\n            test = []\\n            pred = []\\n            scores = []\\n                \\n            handle = f\"{model_name}_user={user}_rep={repetition}\"\\n            with open(f\\'data/stats/auth/{handle}.pickle\\', \\'rb\\') as f:\\n                labels_dict = pickle.load(f)\\n                stats_dict = show_evaluate_model(labels_dict[\"labels_test\"],\\n                                                 labels_dict[\"labels_pred\"],\\n                                                 labels_dict[\"labels_scores\"], verbose=0)\\n                for key in stats_dict:\\n                    stats[key].append(stats_dict[key])\\n'"
      ]
     },
     "execution_count": 76,
     "metadata": {},
     "output_type": "execute_result"
    }
   ],
   "source": [
    "\n",
    "model_names = [\"RF100\",\"RF1000_weighted\", \"MLP\", \"GRU\", \"Conv\", \"simpleMix\", \"complexMix\"]\n",
    "\n",
    "all_stats = {}\n",
    "for model_name in model_names:\n",
    "    stats = {key:[] for key in stats_dict}\n",
    "    all_stats[model_name] = stats\n",
    "    for user in range(16):\n",
    "        for repetition in range(5):\n",
    "\n",
    "\n",
    "            handle = f\"{model_name}_user={user}_rep={repetition}\"\n",
    "            with open(f'data/stats/auth/{handle}.pickle', 'rb') as f:\n",
    "                labels_dict = pickle.load(f)\n",
    "                stats_dict = show_evaluate_model(labels_dict[\"labels_test\"],\n",
    "                                                 labels_dict[\"labels_pred\"],\n",
    "                                                 labels_dict[\"labels_scores\"], verbose=0)\n",
    "                for key in stats_dict:\n",
    "                    stats[key].append(stats_dict[key])\n",
    "\n",
    "\"\"\"\n",
    "model_names = [\"RF\", \"MLP\", \"LSTM\", \"simpleConv\", \"complexConv\", \"ConvLSTM\"]\n",
    "\n",
    "all_stats = {}\n",
    "for model_name in model_names:\n",
    "    stats = {key:[] for key in stats_dict}\n",
    "    all_stats[model_name] = stats\n",
    "    for user in range(16):\n",
    "        for repetition in range(6):\n",
    "            test = []\n",
    "            pred = []\n",
    "            scores = []\n",
    "                \n",
    "            handle = f\"{model_name}_user={user}_rep={repetition}\"\n",
    "            with open(f'data/stats/auth/{handle}.pickle', 'rb') as f:\n",
    "                labels_dict = pickle.load(f)\n",
    "                stats_dict = show_evaluate_model(labels_dict[\"labels_test\"],\n",
    "                                                 labels_dict[\"labels_pred\"],\n",
    "                                                 labels_dict[\"labels_scores\"], verbose=0)\n",
    "                for key in stats_dict:\n",
    "                    stats[key].append(stats_dict[key])\n",
    "\"\"\""
   ]
  },
  {
   "cell_type": "code",
   "execution_count": 77,
   "id": "e6ebfad2-e03c-4400-80bb-f2dd488373da",
   "metadata": {
    "execution": {
     "iopub.execute_input": "2023-04-13T12:22:08.424370Z",
     "iopub.status.busy": "2023-04-13T12:22:08.424137Z",
     "iopub.status.idle": "2023-04-13T12:22:08.437127Z",
     "shell.execute_reply": "2023-04-13T12:22:08.435617Z",
     "shell.execute_reply.started": "2023-04-13T12:22:08.424349Z"
    }
   },
   "outputs": [
    {
     "name": "stdout",
     "output_type": "stream",
     "text": [
      "['model', 'fmeasure', 'auroc', 'eer_theta', 'eer', 'frr_at_eer', 'far_theta', 'far', 'accuracy']\n",
      "+-----------------+------------+-------------+--------------+--------------+--------------+-----------------+------------+-------------+\n",
      "|      model      |  fmeasure  |    auroc    |  eer_theta   |     eer      |  frr_at_eer  |    far_theta    |    far     |   accuracy  |\n",
      "+-----------------+------------+-------------+--------------+--------------+--------------+-----------------+------------+-------------+\n",
      "|      RF100      | 0.384 0.24 | 0.951 0.045 | 0.137 0.046  | 0.0972 0.055 |  0.12 0.065  |   0.0331 0.034  | 0.525 0.32 | 0.954 0.014 |\n",
      "| RF1000_weighted | 0.462 0.2  | 0.949 0.033 | 0.0758 0.035 | 0.103 0.048  | 0.124 0.047  |  0.0127 0.0096  | 0.421 0.24 | 0.956 0.013 |\n",
      "|       MLP       | 0.613 0.18 | 0.932 0.062 | 0.0316 0.075 | 0.114 0.073  | 0.134 0.075  |  0.00104 0.0044 | 0.488 0.28 | 0.952 0.024 |\n",
      "|       GRU       | 0.565 0.15 |  0.91 0.062 |  0.122 0.22  |  0.137 0.08  | 0.163 0.079  |   0.0081 0.055  | 0.639 0.2  | 0.927 0.051 |\n",
      "|       Conv      | 0.631 0.17 |  0.948 0.05 |  0.0873 0.1  | 0.0972 0.059 | 0.116 0.062  | 0.000968 0.0041 | 0.454 0.27 | 0.946 0.027 |\n",
      "|    simpleMix    | 0.642 0.17 | 0.942 0.075 |  0.071 0.15  | 0.0968 0.08  | 0.116 0.083  |  0.00498 0.0098 | 0.445 0.31 | 0.949 0.027 |\n",
      "|    complexMix   | 0.729 0.15 | 0.956 0.062 | 0.0656 0.17  | 0.0789 0.073 | 0.0949 0.077 |   0.0107 0.015  | 0.392 0.3  |  0.966 0.02 |\n",
      "+-----------------+------------+-------------+--------------+--------------+--------------+-----------------+------------+-------------+\n"
     ]
    }
   ],
   "source": [
    "from math import log10, floor\n",
    "round_sig = lambda x, n: x if x == 0 else round(x, -int(floor(log10(abs(x)))) + (n - 1))\n",
    "\n",
    "from prettytable import PrettyTable\n",
    "\n",
    "x = PrettyTable()\n",
    "x.field_names =  ['model', 'fmeasure', 'auroc', 'eer_theta', 'eer', 'frr_at_eer', 'far_theta', 'far',  'accuracy'] # 'frr_at_zero_frr',\n",
    "print(x.field_names)\n",
    "for model_name in all_stats:\n",
    "    row = [model_name]\n",
    "    for key in all_stats[model_name]:\n",
    "        if key not in [\"frr_at_zero_frr\"]:\n",
    "            array = np.array(all_stats[model_name][key])\n",
    "            mean = round_sig(float(np.mean(array)), 3)\n",
    "            std = round_sig(float(np.std(array)),2)\n",
    "            row.append(f\"{mean} {std}\") # {std}\n",
    "    \n",
    "    x.add_row(row)\n",
    "\n",
    "print(x)\n"
   ]
  },
  {
   "cell_type": "markdown",
   "id": "cd38c2c8-8116-4c84-911f-6951a085501a",
   "metadata": {},
   "source": [
    "## Same thing, limited data"
   ]
  },
  {
   "cell_type": "code",
   "execution_count": 74,
   "id": "893b5581-dfac-4f5c-a1ae-7414ba91e472",
   "metadata": {
    "execution": {
     "iopub.execute_input": "2023-04-13T12:20:34.898971Z",
     "iopub.status.busy": "2023-04-13T12:20:34.898757Z",
     "iopub.status.idle": "2023-04-13T12:20:36.615811Z",
     "shell.execute_reply": "2023-04-13T12:20:36.615032Z",
     "shell.execute_reply.started": "2023-04-13T12:20:34.898952Z"
    }
   },
   "outputs": [
    {
     "data": {
      "text/plain": [
       "'\\nmodel_names = [\"RF\", \"MLP\", \"LSTM\", \"simpleConv\", \"complexConv\", \"ConvLSTM\"]\\n\\nall_stats = {}\\nfor model_name in model_names:\\n    stats = {key:[] for key in stats_dict}\\n    all_stats[model_name] = stats\\n    for user in range(16):\\n        for repetition in range(6):\\n            test = []\\n            pred = []\\n            scores = []\\n                \\n            handle = f\"{model_name}_user={user}_rep={repetition}\"\\n            with open(f\\'data/stats/auth/{handle}.pickle\\', \\'rb\\') as f:\\n                labels_dict = pickle.load(f)\\n                stats_dict = show_evaluate_model(labels_dict[\"labels_test\"],\\n                                                 labels_dict[\"labels_pred\"],\\n                                                 labels_dict[\"labels_scores\"], verbose=0)\\n                for key in stats_dict:\\n                    stats[key].append(stats_dict[key])\\n'"
      ]
     },
     "execution_count": 74,
     "metadata": {},
     "output_type": "execute_result"
    }
   ],
   "source": [
    "\n",
    "model_names = [\"RF100\", \"RF1000\", \"MLP\", \"GRU\", \"Conv\", \"simpleMix\", \"complexMix\"]\n",
    "\n",
    "all_stats = {}\n",
    "for model_name in model_names:\n",
    "    stats = {key:[] for key in stats_dict}\n",
    "    all_stats[model_name] = stats\n",
    "    for user in range(16):\n",
    "        for repetition in [0,1,2,4]:\n",
    "\n",
    "\n",
    "            handle = f\"{model_name}_user={user}_rep={repetition}_limit_10\"\n",
    "            with open(f'data/stats/auth/{handle}.pickle', 'rb') as f:\n",
    "                labels_dict = pickle.load(f)\n",
    "                stats_dict = show_evaluate_model(labels_dict[\"labels_test\"],\n",
    "                                                 labels_dict[\"labels_pred\"],\n",
    "                                                 labels_dict[\"labels_scores\"], verbose=0)\n",
    "                for key in stats_dict:\n",
    "                    stats[key].append(stats_dict[key])\n",
    "\n",
    "\"\"\"\n",
    "model_names = [\"RF\", \"MLP\", \"LSTM\", \"simpleConv\", \"complexConv\", \"ConvLSTM\"]\n",
    "\n",
    "all_stats = {}\n",
    "for model_name in model_names:\n",
    "    stats = {key:[] for key in stats_dict}\n",
    "    all_stats[model_name] = stats\n",
    "    for user in range(16):\n",
    "        for repetition in range(6):\n",
    "            test = []\n",
    "            pred = []\n",
    "            scores = []\n",
    "                \n",
    "            handle = f\"{model_name}_user={user}_rep={repetition}\"\n",
    "            with open(f'data/stats/auth/{handle}.pickle', 'rb') as f:\n",
    "                labels_dict = pickle.load(f)\n",
    "                stats_dict = show_evaluate_model(labels_dict[\"labels_test\"],\n",
    "                                                 labels_dict[\"labels_pred\"],\n",
    "                                                 labels_dict[\"labels_scores\"], verbose=0)\n",
    "                for key in stats_dict:\n",
    "                    stats[key].append(stats_dict[key])\n",
    "\"\"\""
   ]
  },
  {
   "cell_type": "code",
   "execution_count": 75,
   "id": "97855272-9bab-4b1c-bda1-1911afb4eb0c",
   "metadata": {
    "execution": {
     "iopub.execute_input": "2023-04-13T12:20:36.617540Z",
     "iopub.status.busy": "2023-04-13T12:20:36.617301Z",
     "iopub.status.idle": "2023-04-13T12:20:36.629320Z",
     "shell.execute_reply": "2023-04-13T12:20:36.628174Z",
     "shell.execute_reply.started": "2023-04-13T12:20:36.617520Z"
    }
   },
   "outputs": [
    {
     "name": "stdout",
     "output_type": "stream",
     "text": [
      "['model', 'fmeasure', 'auroc', 'eer_theta', 'eer', 'frr_at_eer', 'far_theta', 'far', 'accuracy']\n",
      "+------------+------------+-------------+------------------+-------------+-------------+------------------+------------+-------------+\n",
      "|   model    |  fmeasure  |    auroc    |    eer_theta     |     eer     |  frr_at_eer |    far_theta     |    far     |   accuracy  |\n",
      "+------------+------------+-------------+------------------+-------------+-------------+------------------+------------+-------------+\n",
      "|   RF100    |  0.0 0.0   | 0.792 0.094 |   0.0144 0.005   |  0.165 0.06 |  0.339 0.13 |     0.0 0.0      |  1.0 0.0   | 0.937 0.015 |\n",
      "|   RF1000   |  0.0 0.0   | 0.858 0.083 |  0.00761 0.004   | 0.192 0.066 | 0.229 0.086 | 0.000297 0.0007  | 0.904 0.2  | 0.937 0.015 |\n",
      "|    MLP     | 0.244 0.15 |  0.818 0.1  | 0.000337 0.00041 |  0.24 0.092 | 0.258 0.093 | 1.05e-05 2.4e-05 | 0.779 0.22 | 0.943 0.014 |\n",
      "|    GRU     | 0.205 0.15 |  0.696 0.12 |  0.00424 0.0099  | 0.329 0.098 | 0.359 0.099 | 0.000377 0.0006  | 0.88 0.11  | 0.915 0.039 |\n",
      "|    Conv    | 0.357 0.16 |  0.834 0.11 |  0.00204 0.015   |  0.223 0.11 |  0.243 0.11 | 7.02e-05 0.00056 | 0.719 0.23 | 0.946 0.015 |\n",
      "| simpleMix  | 0.332 0.18 |  0.803 0.13 |  0.00267 0.0024  |  0.229 0.13 |  0.264 0.13 |  0.00222 0.0021  | 0.815 0.2  | 0.945 0.018 |\n",
      "| complexMix | 0.369 0.2  | 0.874 0.079 |  0.0031 0.0021   | 0.172 0.082 | 0.198 0.081 |  0.00283 0.0019  | 0.728 0.25 | 0.951 0.016 |\n",
      "+------------+------------+-------------+------------------+-------------+-------------+------------------+------------+-------------+\n"
     ]
    }
   ],
   "source": [
    "from math import log10, floor\n",
    "round_sig = lambda x, n: x if x == 0 else round(x, -int(floor(log10(abs(x)))) + (n - 1))\n",
    "\n",
    "from prettytable import PrettyTable\n",
    "\n",
    "x = PrettyTable()\n",
    "x.field_names =  ['model', 'fmeasure', 'auroc', 'eer_theta', 'eer', 'frr_at_eer', 'far_theta', 'far',  'accuracy'] # \n",
    "print(x.field_names)\n",
    "for model_name in all_stats:\n",
    "    row = [model_name]\n",
    "    for key in all_stats[model_name]:\n",
    "        if key not in [\"frr_at_zero_frr\"]:\n",
    "            array = np.array(all_stats[model_name][key])\n",
    "            mean = round_sig(float(np.mean(array)), 3)\n",
    "            std = round_sig(float(np.std(array)),2)\n",
    "            row.append(f\"{mean} {std}\") # {std}\n",
    "    \n",
    "    x.add_row(row)\n",
    "\n",
    "print(x)\n",
    "                         "
   ]
  },
  {
   "cell_type": "code",
   "execution_count": null,
   "id": "acdb7959-e503-433d-a5ad-a851fc276dda",
   "metadata": {
    "execution": {
     "iopub.execute_input": "2023-03-08T21:10:41.871824Z",
     "iopub.status.busy": "2023-03-08T21:10:41.871418Z"
    }
   },
   "outputs": [
    {
     "name": "stdout",
     "output_type": "stream",
     "text": [
      "Collecting prettytable\n",
      "  Downloading prettytable-3.6.0-py3-none-any.whl (27 kB)\n",
      "Requirement already satisfied: wcwidth in /usr/local/lib/python3.9/dist-packages (from prettytable) (0.2.5)\n",
      "Installing collected packages: prettytable\n",
      "Successfully installed prettytable-3.6.0\n",
      "\u001b[33mWARNING: Running pip as the 'root' user can result in broken permissions and conflicting behaviour with the system package manager. It is recommended to use a virtual environment instead: https://pip.pypa.io/warnings/venv\u001b[0m\u001b[33m\n",
      "\u001b[0m"
     ]
    }
   ],
   "source": [
    "!pip install prettytable"
   ]
  },
  {
   "cell_type": "code",
   "execution_count": null,
   "id": "6a148e45-7984-46f1-9af0-1a818bf3a4f8",
   "metadata": {},
   "outputs": [],
   "source": []
  }
 ],
 "metadata": {
  "kernelspec": {
   "display_name": "Python 3 (ipykernel)",
   "language": "python",
   "name": "python3"
  },
  "language_info": {
   "codemirror_mode": {
    "name": "ipython",
    "version": 3
   },
   "file_extension": ".py",
   "mimetype": "text/x-python",
   "name": "python",
   "nbconvert_exporter": "python",
   "pygments_lexer": "ipython3",
   "version": "3.9.13"
  }
 },
 "nbformat": 4,
 "nbformat_minor": 5
}
