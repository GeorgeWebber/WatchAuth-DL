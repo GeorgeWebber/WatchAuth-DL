{
 "cells": [
  {
   "cell_type": "markdown",
   "id": "426104e7-d3d5-4882-a27c-a74270f9d975",
   "metadata": {},
   "source": [
    "# Auth model (with 2D CNN)"
   ]
  },
  {
   "cell_type": "markdown",
   "id": "338290cf-f35e-48f6-ab51-5c3a29ef52dc",
   "metadata": {},
   "source": [
    "## Load data"
   ]
  },
  {
   "cell_type": "code",
   "execution_count": 1,
   "id": "b39b4956-a8f4-43bf-90cf-ceec24397ec3",
   "metadata": {
    "execution": {
     "iopub.execute_input": "2022-11-22T11:52:13.496716Z",
     "iopub.status.busy": "2022-11-22T11:52:13.496082Z",
     "iopub.status.idle": "2022-11-22T11:52:13.967505Z",
     "shell.execute_reply": "2022-11-22T11:52:13.966708Z",
     "shell.execute_reply.started": "2022-11-22T11:52:13.496623Z"
    },
    "gather": {
     "logged": 1667906109980
    }
   },
   "outputs": [],
   "source": [
    "import numpy as np\n",
    "import sklearn.metrics\n",
    "from sklearn.utils import class_weight"
   ]
  },
  {
   "cell_type": "code",
   "execution_count": 2,
   "id": "7843943a-aeae-4945-937d-1c382a50e2ee",
   "metadata": {
    "collapsed": false,
    "execution": {
     "iopub.execute_input": "2022-11-22T11:52:13.969150Z",
     "iopub.status.busy": "2022-11-22T11:52:13.968825Z",
     "iopub.status.idle": "2022-11-22T11:52:17.768312Z",
     "shell.execute_reply": "2022-11-22T11:52:17.767174Z",
     "shell.execute_reply.started": "2022-11-22T11:52:13.969128Z"
    },
    "gather": {
     "logged": 1667905083475
    },
    "jupyter": {
     "outputs_hidden": false,
     "source_hidden": false
    },
    "nteract": {
     "transient": {
      "deleting": false
     }
    }
   },
   "outputs": [],
   "source": [
    "from scipy import interpolate\n",
    "import numpy as np\n",
    "import pandas as pd\n",
    "\n",
    "from matplotlib import pyplot as plt\n",
    "\n",
    "import tensorflow as tf\n",
    "from tensorflow import keras\n",
    "from tensorflow.keras import layers\n",
    "\n",
    "from sklearn.decomposition import PCA"
   ]
  },
  {
   "cell_type": "code",
   "execution_count": 3,
   "id": "4364d4a0-cd89-47f4-8e11-55240a7a6183",
   "metadata": {
    "execution": {
     "iopub.execute_input": "2022-11-22T11:52:17.770484Z",
     "iopub.status.busy": "2022-11-22T11:52:17.769940Z",
     "iopub.status.idle": "2022-11-22T11:52:17.776411Z",
     "shell.execute_reply": "2022-11-22T11:52:17.775319Z",
     "shell.execute_reply.started": "2022-11-22T11:52:17.770459Z"
    },
    "gather": {
     "logged": 1667905765084
    }
   },
   "outputs": [],
   "source": [
    "def plot_history(history):\n",
    "    plt.subplot(211)\n",
    "    plt.title('Loss')\n",
    "    plt.plot(history.history['loss'], label='train')\n",
    "    plt.plot(history.history['val_loss'], label='val')\n",
    "    plt.legend()"
   ]
  },
  {
   "cell_type": "code",
   "execution_count": 4,
   "id": "b535126e-8291-446f-af14-7c86f8e4842d",
   "metadata": {
    "collapsed": false,
    "execution": {
     "iopub.execute_input": "2022-11-22T11:52:17.777586Z",
     "iopub.status.busy": "2022-11-22T11:52:17.777372Z",
     "iopub.status.idle": "2022-11-22T11:52:17.784080Z",
     "shell.execute_reply": "2022-11-22T11:52:17.782993Z",
     "shell.execute_reply.started": "2022-11-22T11:52:17.777566Z"
    },
    "gather": {
     "logged": 1667905749746
    },
    "jupyter": {
     "outputs_hidden": false,
     "source_hidden": false
    },
    "nteract": {
     "transient": {
      "deleting": false
     }
    }
   },
   "outputs": [],
   "source": [
    "from matplotlib import pyplot as plt\n",
    "\n",
    "import tensorflow as tf\n",
    "from tensorflow import keras\n",
    "from tensorflow.keras import layers\n",
    "from tensorflow.keras.layers import Dense, Flatten, LSTM, Permute, Conv1D, MaxPooling1D, Conv2D, MaxPooling2D, Reshape, Dropout"
   ]
  },
  {
   "cell_type": "code",
   "execution_count": 5,
   "id": "e8fae387-ff28-490f-9d40-22e3bdc11cb4",
   "metadata": {
    "collapsed": false,
    "execution": {
     "iopub.execute_input": "2022-11-22T11:52:17.786024Z",
     "iopub.status.busy": "2022-11-22T11:52:17.785816Z",
     "iopub.status.idle": "2022-11-22T11:52:17.855965Z",
     "shell.execute_reply": "2022-11-22T11:52:17.854938Z",
     "shell.execute_reply.started": "2022-11-22T11:52:17.786005Z"
    },
    "gather": {
     "logged": 1667905145083
    },
    "jupyter": {
     "outputs_hidden": false,
     "source_hidden": false
    },
    "nteract": {
     "transient": {
      "deleting": false
     }
    }
   },
   "outputs": [
    {
     "data": {
      "text/plain": [
       "[PhysicalDevice(name='/physical_device:GPU:0', device_type='GPU')]"
      ]
     },
     "execution_count": 5,
     "metadata": {},
     "output_type": "execute_result"
    }
   ],
   "source": [
    "tf.config.list_physical_devices('GPU')"
   ]
  },
  {
   "cell_type": "code",
   "execution_count": 15,
   "id": "22712534-1988-4da5-9bc0-a5347b5e1483",
   "metadata": {
    "collapsed": false,
    "execution": {
     "iopub.execute_input": "2022-11-22T13:45:09.229203Z",
     "iopub.status.busy": "2022-11-22T13:45:09.227844Z",
     "iopub.status.idle": "2022-11-22T13:45:09.235376Z",
     "shell.execute_reply": "2022-11-22T13:45:09.234333Z",
     "shell.execute_reply.started": "2022-11-22T13:45:09.229159Z"
    },
    "gather": {
     "logged": 1667905146206
    },
    "jupyter": {
     "outputs_hidden": false,
     "source_hidden": false
    },
    "nteract": {
     "transient": {
      "deleting": false
     }
    }
   },
   "outputs": [],
   "source": [
    "device_name = tf.test.gpu_device_name()"
   ]
  },
  {
   "cell_type": "code",
   "execution_count": 7,
   "id": "7000bbfe-2784-42f2-821b-3039fc949f57",
   "metadata": {
    "execution": {
     "iopub.execute_input": "2022-11-22T11:52:18.836894Z",
     "iopub.status.busy": "2022-11-22T11:52:18.836637Z",
     "iopub.status.idle": "2022-11-22T11:52:19.383535Z",
     "shell.execute_reply": "2022-11-22T11:52:19.382421Z",
     "shell.execute_reply.started": "2022-11-22T11:52:18.836871Z"
    },
    "gather": {
     "logged": 1667907838897
    }
   },
   "outputs": [],
   "source": [
    "file_name = \"general\"\n",
    "\n",
    "x_data = np.load(f\"data/processed/x_{file_name}.npy\")\n",
    "y_user = np.load(f\"data/processed/y_user_{file_name}.npy\")\n",
    "y_intent = np.load(f\"data/processed/y_intent_{file_name}.npy\")\n",
    "y_gesture = np.load(f\"data/processed/y_gesture_type_{file_name}.npy\")\n",
    "\n",
    "x_data_unweighted = x_data\n",
    "y_user_unweighted = y_user\n",
    "y_intent_unweighted = y_intent\n",
    "\n",
    "x_data = x_data[y_intent == 1]\n",
    "y_data = y_user[y_intent == 1]"
   ]
  },
  {
   "cell_type": "code",
   "execution_count": 8,
   "id": "9d0bf976-cddc-474e-aeeb-0de271db082e",
   "metadata": {
    "execution": {
     "iopub.execute_input": "2022-11-22T11:52:19.385385Z",
     "iopub.status.busy": "2022-11-22T11:52:19.385137Z",
     "iopub.status.idle": "2022-11-22T11:52:19.390356Z",
     "shell.execute_reply": "2022-11-22T11:52:19.389614Z",
     "shell.execute_reply.started": "2022-11-22T11:52:19.385364Z"
    },
    "gather": {
     "logged": 1667907839230
    }
   },
   "outputs": [
    {
     "data": {
      "text/plain": [
       "(3484, 200, 16)"
      ]
     },
     "execution_count": 8,
     "metadata": {},
     "output_type": "execute_result"
    }
   ],
   "source": [
    "x_data.shape"
   ]
  },
  {
   "cell_type": "markdown",
   "id": "51390134-b855-462a-ae78-f68968ba7d27",
   "metadata": {},
   "source": [
    "## Split into train/val/test - and reduce to just gesture data"
   ]
  },
  {
   "cell_type": "code",
   "execution_count": 9,
   "id": "04a32a44-b0bb-4744-9988-31d26c18c521",
   "metadata": {
    "collapsed": false,
    "execution": {
     "iopub.execute_input": "2022-11-22T11:52:19.391390Z",
     "iopub.status.busy": "2022-11-22T11:52:19.391182Z",
     "iopub.status.idle": "2022-11-22T11:52:19.395381Z",
     "shell.execute_reply": "2022-11-22T11:52:19.394412Z",
     "shell.execute_reply.started": "2022-11-22T11:52:19.391372Z"
    },
    "gather": {
     "logged": 1667908094507
    },
    "jupyter": {
     "outputs_hidden": false,
     "source_hidden": false
    },
    "nteract": {
     "transient": {
      "deleting": false
     }
    }
   },
   "outputs": [],
   "source": [
    "np.random.seed(1)\n"
   ]
  },
  {
   "cell_type": "code",
   "execution_count": 10,
   "id": "2980918a-86de-41f3-8c56-7bc3aceb98ff",
   "metadata": {
    "execution": {
     "iopub.execute_input": "2022-11-22T11:52:19.413407Z",
     "iopub.status.busy": "2022-11-22T11:52:19.413125Z",
     "iopub.status.idle": "2022-11-22T11:52:19.419454Z",
     "shell.execute_reply": "2022-11-22T11:52:19.418304Z",
     "shell.execute_reply.started": "2022-11-22T11:52:19.413382Z"
    },
    "gather": {
     "logged": 1667908098888
    }
   },
   "outputs": [
    {
     "data": {
      "text/plain": [
       "(200, 16)"
      ]
     },
     "execution_count": 10,
     "metadata": {},
     "output_type": "execute_result"
    }
   ],
   "source": [
    "input_dim = x_data.shape[1:]\n",
    "input_dim"
   ]
  },
  {
   "cell_type": "markdown",
   "id": "3a16a328-0278-46dd-8b38-3fde63ccf72a",
   "metadata": {},
   "source": [
    "### 2D CNN successful model"
   ]
  },
  {
   "cell_type": "code",
   "execution_count": 11,
   "id": "2ae69b2d-2957-404b-95ca-1b1c3b629451",
   "metadata": {
    "collapsed": false,
    "execution": {
     "iopub.execute_input": "2022-11-22T11:52:20.796461Z",
     "iopub.status.busy": "2022-11-22T11:52:20.795623Z",
     "iopub.status.idle": "2022-11-22T11:52:20.804097Z",
     "shell.execute_reply": "2022-11-22T11:52:20.803377Z",
     "shell.execute_reply.started": "2022-11-22T11:52:20.796429Z"
    },
    "gather": {
     "logged": 1667909192808
    },
    "jupyter": {
     "outputs_hidden": false,
     "source_hidden": false
    },
    "nteract": {
     "transient": {
      "deleting": false
     }
    }
   },
   "outputs": [],
   "source": [
    "def get_model(input_dim):\n",
    "    inputs = keras.Input(shape=input_dim)\n",
    "    x = inputs\n",
    "    x = Reshape((200, 16, 1))(x)\n",
    "    x = Conv2D(10,(3, 1), strides=(1,1), padding=\"same\")(x)\n",
    "    x = MaxPooling2D(pool_size=(2,1), strides=None, padding=\"same\")(x)\n",
    "\n",
    "    x = Conv2D(100,(2,16),strides=(1,1))(x)\n",
    "\n",
    "    x = MaxPooling2D(pool_size=(2,1), strides=None, padding=\"same\")(x)\n",
    "    x = Permute((1,3,2))(x)\n",
    "    print(x)\n",
    "    x = Reshape((50,100))(x)\n",
    "\n",
    "    x = layers.SpatialDropout1D(0.2)(x)\n",
    "    x = Conv1D(50, 4, strides=2, padding=\"same\")(x)\n",
    "    x = MaxPooling1D(pool_size=2, strides=None, padding=\"same\")(x)\n",
    "\n",
    "    x = layers.SpatialDropout1D(0.2)(x)\n",
    "    x = Conv1D(50, 4, strides=2, padding=\"same\")(x)\n",
    "    x = MaxPooling1D(pool_size=2, strides=None, padding=\"same\")(x)\n",
    "    print(x)\n",
    "    x = Flatten()(x)\n",
    "\n",
    "    x = Dense(25, activation=\"relu\")(x)\n",
    "    x = Dropout(0.2)(x)\n",
    "    x = Dense(10, activation=\"relu\")(x)\n",
    "    x = Dropout(0.2)(x)\n",
    "    x = Dense(1, activation=\"sigmoid\")(x)\n",
    "    out = x\n",
    "\n",
    "    model = keras.Model(inputs, out, name=\"LSTM_classifier\")\n",
    "    return model"
   ]
  },
  {
   "cell_type": "code",
   "execution_count": 12,
   "id": "bcdc9dee-ed05-48a8-b3b0-ff95fbe918e0",
   "metadata": {
    "execution": {
     "iopub.execute_input": "2022-11-22T11:52:21.273547Z",
     "iopub.status.busy": "2022-11-22T11:52:21.272712Z",
     "iopub.status.idle": "2022-11-22T11:52:21.481725Z",
     "shell.execute_reply": "2022-11-22T11:52:21.481181Z",
     "shell.execute_reply.started": "2022-11-22T11:52:21.273514Z"
    },
    "gather": {
     "logged": 1667909729661
    }
   },
   "outputs": [
    {
     "name": "stdout",
     "output_type": "stream",
     "text": [
      "KerasTensor(type_spec=TensorSpec(shape=(None, 50, 100, 1), dtype=tf.float32, name=None), name='permute/transpose:0', description=\"created by layer 'permute'\")\n",
      "KerasTensor(type_spec=TensorSpec(shape=(None, 4, 50), dtype=tf.float32, name=None), name='max_pooling1d_1/Squeeze:0', description=\"created by layer 'max_pooling1d_1'\")\n",
      "Model: \"LSTM_classifier\"\n",
      "_________________________________________________________________\n",
      " Layer (type)                Output Shape              Param #   \n",
      "=================================================================\n",
      " input_1 (InputLayer)        [(None, 200, 16)]         0         \n",
      "                                                                 \n",
      " reshape (Reshape)           (None, 200, 16, 1)        0         \n",
      "                                                                 \n",
      " conv2d (Conv2D)             (None, 200, 16, 10)       40        \n",
      "                                                                 \n",
      " max_pooling2d (MaxPooling2D  (None, 100, 16, 10)      0         \n",
      " )                                                               \n",
      "                                                                 \n",
      " conv2d_1 (Conv2D)           (None, 99, 1, 100)        32100     \n",
      "                                                                 \n",
      " max_pooling2d_1 (MaxPooling  (None, 50, 1, 100)       0         \n",
      " 2D)                                                             \n",
      "                                                                 \n",
      " permute (Permute)           (None, 50, 100, 1)        0         \n",
      "                                                                 \n",
      " reshape_1 (Reshape)         (None, 50, 100)           0         \n",
      "                                                                 \n",
      " spatial_dropout1d (SpatialD  (None, 50, 100)          0         \n",
      " ropout1D)                                                       \n",
      "                                                                 \n",
      " conv1d (Conv1D)             (None, 25, 50)            20050     \n",
      "                                                                 \n",
      " max_pooling1d (MaxPooling1D  (None, 13, 50)           0         \n",
      " )                                                               \n",
      "                                                                 \n",
      " spatial_dropout1d_1 (Spatia  (None, 13, 50)           0         \n",
      " lDropout1D)                                                     \n",
      "                                                                 \n",
      " conv1d_1 (Conv1D)           (None, 7, 50)             10050     \n",
      "                                                                 \n",
      " max_pooling1d_1 (MaxPooling  (None, 4, 50)            0         \n",
      " 1D)                                                             \n",
      "                                                                 \n",
      " flatten (Flatten)           (None, 200)               0         \n",
      "                                                                 \n",
      " dense (Dense)               (None, 25)                5025      \n",
      "                                                                 \n",
      " dropout (Dropout)           (None, 25)                0         \n",
      "                                                                 \n",
      " dense_1 (Dense)             (None, 10)                260       \n",
      "                                                                 \n",
      " dropout_1 (Dropout)         (None, 10)                0         \n",
      "                                                                 \n",
      " dense_2 (Dense)             (None, 1)                 11        \n",
      "                                                                 \n",
      "=================================================================\n",
      "Total params: 67,536\n",
      "Trainable params: 67,536\n",
      "Non-trainable params: 0\n",
      "_________________________________________________________________\n"
     ]
    }
   ],
   "source": [
    "model = get_model(x_data.shape[1:])\n",
    "model.compile(optimizer=keras.optimizers.Adam(\n",
    "    learning_rate=0.0001), loss=\"categorical_crossentropy\", metrics=[\"accuracy\", \"mse\"])\n",
    "model.summary()"
   ]
  },
  {
   "cell_type": "code",
   "execution_count": 16,
   "id": "d4478fda-6548-4087-a7e4-be92597eec05",
   "metadata": {
    "execution": {
     "iopub.execute_input": "2022-11-22T13:45:16.854865Z",
     "iopub.status.busy": "2022-11-22T13:45:16.853549Z",
     "iopub.status.idle": "2022-11-22T13:45:26.981079Z",
     "shell.execute_reply": "2022-11-22T13:45:26.980141Z",
     "shell.execute_reply.started": "2022-11-22T13:45:16.854816Z"
    },
    "gather": {
     "logged": 1667910334302
    }
   },
   "outputs": [
    {
     "name": "stderr",
     "output_type": "stream",
     "text": [
      "2022-11-22 13:45:26.954387: W tensorflow/core/common_runtime/bfc_allocator.cc:479] Allocator (GPU_0_bfc) ran out of memory trying to allocate 195.9KiB (rounded to 200704)requested by op _EagerConst\n",
      "If the cause is memory fragmentation maybe the environment variable 'TF_GPU_ALLOCATOR=cuda_malloc_async' will improve the situation. \n",
      "Current allocation summary follows.\n",
      "Current allocation summary follows.\n",
      "2022-11-22 13:45:26.954545: W tensorflow/core/common_runtime/bfc_allocator.cc:491] *********************************************************************xxxxxxxxxxxxxxxxxxxxxxxxxxxxxxx\n"
     ]
    },
    {
     "ename": "InternalError",
     "evalue": "Failed copying input tensor from /job:localhost/replica:0/task:0/device:CPU:0 to /job:localhost/replica:0/task:0/device:GPU:0 in order to run _EagerConst: Dst tensor is not initialized.",
     "output_type": "error",
     "traceback": [
      "\u001b[0;31m---------------------------------------------------------------------------\u001b[0m",
      "\u001b[0;31mInternalError\u001b[0m                             Traceback (most recent call last)",
      "Input \u001b[0;32mIn [16]\u001b[0m, in \u001b[0;36m<cell line: 1>\u001b[0;34m()\u001b[0m\n\u001b[0;32m----> 1\u001b[0m history \u001b[38;5;241m=\u001b[39m \u001b[43mmodel\u001b[49m\u001b[38;5;241;43m.\u001b[39;49m\u001b[43mfit\u001b[49m\u001b[43m(\u001b[49m\n\u001b[1;32m      2\u001b[0m \u001b[43m    \u001b[49m\u001b[43mx_data\u001b[49m\u001b[43m,\u001b[49m\n\u001b[1;32m      3\u001b[0m \u001b[43m    \u001b[49m\u001b[43my_data\u001b[49m\u001b[43m,\u001b[49m\n\u001b[1;32m      4\u001b[0m \u001b[43m    \u001b[49m\u001b[43mepochs\u001b[49m\u001b[38;5;241;43m=\u001b[39;49m\u001b[38;5;241;43m200\u001b[39;49m\u001b[43m,\u001b[49m\n\u001b[1;32m      5\u001b[0m \u001b[43m    \u001b[49m\u001b[43mbatch_size\u001b[49m\u001b[38;5;241;43m=\u001b[39;49m\u001b[38;5;241;43m16\u001b[39;49m\u001b[43m,\u001b[49m\n\u001b[1;32m      6\u001b[0m \u001b[43m    \u001b[49m\u001b[43mvalidation_split\u001b[49m\u001b[38;5;241;43m=\u001b[39;49m\u001b[38;5;241;43m0.1\u001b[39;49m\u001b[43m)\u001b[49m\n",
      "File \u001b[0;32m/usr/local/lib/python3.9/dist-packages/keras/utils/traceback_utils.py:67\u001b[0m, in \u001b[0;36mfilter_traceback.<locals>.error_handler\u001b[0;34m(*args, **kwargs)\u001b[0m\n\u001b[1;32m     65\u001b[0m \u001b[38;5;28;01mexcept\u001b[39;00m \u001b[38;5;167;01mException\u001b[39;00m \u001b[38;5;28;01mas\u001b[39;00m e:  \u001b[38;5;66;03m# pylint: disable=broad-except\u001b[39;00m\n\u001b[1;32m     66\u001b[0m   filtered_tb \u001b[38;5;241m=\u001b[39m _process_traceback_frames(e\u001b[38;5;241m.\u001b[39m__traceback__)\n\u001b[0;32m---> 67\u001b[0m   \u001b[38;5;28;01mraise\u001b[39;00m e\u001b[38;5;241m.\u001b[39mwith_traceback(filtered_tb) \u001b[38;5;28;01mfrom\u001b[39;00m \u001b[38;5;28mNone\u001b[39m\n\u001b[1;32m     68\u001b[0m \u001b[38;5;28;01mfinally\u001b[39;00m:\n\u001b[1;32m     69\u001b[0m   \u001b[38;5;28;01mdel\u001b[39;00m filtered_tb\n",
      "File \u001b[0;32m/usr/local/lib/python3.9/dist-packages/tensorflow/python/framework/constant_op.py:102\u001b[0m, in \u001b[0;36mconvert_to_eager_tensor\u001b[0;34m(value, ctx, dtype)\u001b[0m\n\u001b[1;32m    100\u001b[0m     dtype \u001b[38;5;241m=\u001b[39m dtypes\u001b[38;5;241m.\u001b[39mas_dtype(dtype)\u001b[38;5;241m.\u001b[39mas_datatype_enum\n\u001b[1;32m    101\u001b[0m ctx\u001b[38;5;241m.\u001b[39mensure_initialized()\n\u001b[0;32m--> 102\u001b[0m \u001b[38;5;28;01mreturn\u001b[39;00m \u001b[43mops\u001b[49m\u001b[38;5;241;43m.\u001b[39;49m\u001b[43mEagerTensor\u001b[49m\u001b[43m(\u001b[49m\u001b[43mvalue\u001b[49m\u001b[43m,\u001b[49m\u001b[43m \u001b[49m\u001b[43mctx\u001b[49m\u001b[38;5;241;43m.\u001b[39;49m\u001b[43mdevice_name\u001b[49m\u001b[43m,\u001b[49m\u001b[43m \u001b[49m\u001b[43mdtype\u001b[49m\u001b[43m)\u001b[49m\n",
      "\u001b[0;31mInternalError\u001b[0m: Failed copying input tensor from /job:localhost/replica:0/task:0/device:CPU:0 to /job:localhost/replica:0/task:0/device:GPU:0 in order to run _EagerConst: Dst tensor is not initialized."
     ]
    }
   ],
   "source": [
    "\n",
    "history = model.fit(\n",
    "    x_data,\n",
    "    y_data,\n",
    "    epochs=200,\n",
    "    batch_size=16,\n",
    "    validation_split=0.1)"
   ]
  },
  {
   "cell_type": "code",
   "execution_count": 116,
   "id": "3f17ce89-fa9d-4fdd-98c0-0b17b1779d8c",
   "metadata": {
    "gather": {
     "logged": 1667910334748
    }
   },
   "outputs": [
    {
     "data": {
      "image/png": "[encoded data removed]",
      "text/plain": [
       "<Figure size 432x288 with 1 Axes>"
      ]
     },
     "metadata": {
      "needs_background": "light"
     },
     "output_type": "display_data"
    }
   ],
   "source": [
    "plot_history(history)"
   ]
  },
  {
   "cell_type": "code",
   "execution_count": 168,
   "id": "bd0dcd93-e79b-42ef-9f77-a829ad6283cb",
   "metadata": {
    "collapsed": false,
    "gather": {
     "logged": 1667913729820
    },
    "jupyter": {
     "outputs_hidden": false,
     "source_hidden": false
    },
    "nteract": {
     "transient": {
      "deleting": false
     }
    }
   },
   "outputs": [
    {
     "data": {
      "text/plain": [
       "0.8437832093517535"
      ]
     },
     "execution_count": 168,
     "metadata": {},
     "output_type": "execute_result"
    }
   ],
   "source": [
    "r = np.random.choice(range(len(y_data[~test_map])), 5000)\n",
    "y_out = model(x_data[~test_map][r])\n",
    "y_pred = y_out >= 0.5\n",
    "f1 = sklearn.metrics.f1_score(y_data[~test_map][r], y_pred)\n",
    "f1"
   ]
  },
  {
   "cell_type": "code",
   "execution_count": 176,
   "id": "a30d6d67-aaa1-4b34-bd2f-79de48a49860",
   "metadata": {
    "collapsed": false,
    "gather": {
     "logged": 1667913827304
    },
    "jupyter": {
     "outputs_hidden": false
    },
    "nteract": {
     "transient": {
      "deleting": false
     }
    }
   },
   "outputs": [
    {
     "data": {
      "text/plain": [
       "[<matplotlib.lines.Line2D at 0x7fba38981160>]"
      ]
     },
     "execution_count": 176,
     "metadata": {},
     "output_type": "execute_result"
    },
    {
     "data": {
      "image/png": "[encoded data removed]",
      "text/plain": [
       "<Figure size 432x288 with 1 Axes>"
      ]
     },
     "metadata": {
      "needs_background": "light"
     },
     "output_type": "display_data"
    }
   ],
   "source": [
    "roc = sklearn.metrics.precision_recall_curve(y_data[~test_map][r], y_out)\n",
    "plt.plot(roc[0], roc[1])"
   ]
  },
  {
   "cell_type": "code",
   "execution_count": 154,
   "id": "7ea44dc7-b311-43c2-a203-fee6bcb2fee7",
   "metadata": {
    "collapsed": false,
    "gather": {
     "logged": 1667913553992
    },
    "jupyter": {
     "outputs_hidden": false
    },
    "nteract": {
     "transient": {
      "deleting": false
     }
    }
   },
   "outputs": [
    {
     "data": {
      "text/plain": [
       "array([False, False,  True, ..., False,  True, False])"
      ]
     },
     "execution_count": 154,
     "metadata": {},
     "output_type": "execute_result"
    }
   ],
   "source": [
    "rs = np.reshape(y_out > 0.5, len(y_out))\n",
    "\n",
    "rs & (y_data[~test_map][r] == 1)"
   ]
  },
  {
   "cell_type": "code",
   "execution_count": 156,
   "id": "f04cb40d-a548-4c58-b751-e8085293e866",
   "metadata": {
    "collapsed": false,
    "gather": {
     "logged": 1667913573302
    },
    "jupyter": {
     "outputs_hidden": false
    },
    "nteract": {
     "transient": {
      "deleting": false
     }
    }
   },
   "outputs": [
    {
     "data": {
      "text/plain": [
       "(array([False,  True]), array([4586,  414]))"
      ]
     },
     "execution_count": 156,
     "metadata": {},
     "output_type": "execute_result"
    }
   ],
   "source": [
    "np.unique(rs & (y_data[~test_map][r] == 1), return_counts=True)"
   ]
  },
  {
   "cell_type": "code",
   "execution_count": 157,
   "id": "5d7c25f8-1984-484d-8d1b-478c8ca375bb",
   "metadata": {
    "collapsed": false,
    "gather": {
     "logged": 1667913601910
    },
    "jupyter": {
     "outputs_hidden": false
    },
    "nteract": {
     "transient": {
      "deleting": false
     }
    }
   },
   "outputs": [
    {
     "data": {
      "text/plain": [
       "(array([False,  True]), array([4469,  531]))"
      ]
     },
     "execution_count": 157,
     "metadata": {},
     "output_type": "execute_result"
    }
   ],
   "source": [
    "np.unique(rs, return_counts=True)"
   ]
  },
  {
   "cell_type": "code",
   "execution_count": 158,
   "id": "6c24a66d-e3df-4b1f-a89d-d1ddb4b39e1b",
   "metadata": {
    "collapsed": false,
    "gather": {
     "logged": 1667913616742
    },
    "jupyter": {
     "outputs_hidden": false
    },
    "nteract": {
     "transient": {
      "deleting": false
     }
    }
   },
   "outputs": [
    {
     "data": {
      "text/plain": [
       "(array([False,  True]), array([4585,  415]))"
      ]
     },
     "execution_count": 158,
     "metadata": {},
     "output_type": "execute_result"
    }
   ],
   "source": [
    "np.unique(y_data[~test_map][r] == 1, return_counts=True)"
   ]
  },
  {
   "cell_type": "code",
   "execution_count": null,
   "id": "733beadf-11c8-45aa-9cfa-b6486ae19c70",
   "metadata": {
    "collapsed": false,
    "jupyter": {
     "outputs_hidden": false
    },
    "nteract": {
     "transient": {
      "deleting": false
     }
    }
   },
   "outputs": [],
   "source": []
  }
 ],
 "metadata": {
  "kernel_info": {
   "name": "python3"
  },
  "kernelspec": {
   "display_name": "Python 3 (ipykernel)",
   "language": "python",
   "name": "python3"
  },
  "language_info": {
   "codemirror_mode": {
    "name": "ipython",
    "version": 3
   },
   "file_extension": ".py",
   "mimetype": "text/x-python",
   "name": "python",
   "nbconvert_exporter": "python",
   "pygments_lexer": "ipython3",
   "version": "3.9.13"
  },
  "microsoft": {
   "host": {
    "AzureML": {
     "notebookHasBeenCompleted": true
    }
   }
  },
  "nteract": {
   "version": "nteract-front-end@1.0.0"
  }
 },
 "nbformat": 4,
 "nbformat_minor": 5
}
